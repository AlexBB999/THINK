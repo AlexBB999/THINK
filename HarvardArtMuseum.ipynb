{
  "nbformat": 4,
  "nbformat_minor": 0,
  "metadata": {
    "colab": {
      "name": " HarvardArtMuseum.ipynb",
      "provenance": [],
      "collapsed_sections": [],
      "include_colab_link": true
    },
    "kernelspec": {
      "name": "python3",
      "display_name": "Python 3"
    }
  },
  "cells": [
    {
      "cell_type": "markdown",
      "metadata": {
        "id": "view-in-github",
        "colab_type": "text"
      },
      "source": [
        "<a href=\"https://colab.research.google.com/github/AlexBB999/THINK/blob/master/HarvardArtMuseum.ipynb\" target=\"_parent\"><img src=\"https://colab.research.google.com/assets/colab-badge.svg\" alt=\"Open In Colab\"/></a>"
      ]
    },
    {
      "cell_type": "markdown",
      "metadata": {
        "id": "CmtDFwoB7r6d",
        "colab_type": "text"
      },
      "source": [
        "API KEY  d5803660-0e55-11ea-8909-53027204f166\n",
        "\n"
      ]
    },
    {
      "cell_type": "code",
      "metadata": {
        "id": "J0VABLAFulOl",
        "colab_type": "code",
        "colab": {}
      },
      "source": [
        ""
      ],
      "execution_count": 0,
      "outputs": []
    },
    {
      "cell_type": "markdown",
      "metadata": {
        "id": "Z_Pi_GD78B54",
        "colab_type": "text"
      },
      "source": [
        "GET /person will get all people affiliated with the museums.\n",
        "\n",
        "Include one or more of the following parameters to filter the items.\n",
        "\n",
        "Parameter\tValue\n",
        "apikey\tYOUR API KEY required\n",
        "q\tFIELD:VALUE\n",
        "size\t0-9+\n",
        "page\t0-9+\n",
        "sort\tFIELD NAME or \"random\" or \"random:[SEED NUMBER]\"\n",
        "sortorder\tasc or desc\n",
        "fields\tcomma separated list of data fields you want in the output\n",
        "aggregation\tsee Elasticsearch aggregations\n",
        "Examples\n",
        "https://api.harvardartmuseums.org/person?q=culture:Dutch"
      ]
    },
    {
      "cell_type": "markdown",
      "metadata": {
        "id": "rxxfo09zRAmy",
        "colab_type": "text"
      },
      "source": [
        "SOLUTION"
      ]
    },
    {
      "cell_type": "code",
      "metadata": {
        "colab_type": "code",
        "outputId": "9fda99c5-06a8-4f97-9769-78c68ad24140",
        "id": "nsL0Q1S3PQ89",
        "colab": {
          "base_uri": "https://localhost:8080/",
          "height": 72
        }
      },
      "source": [
        "import requests\n",
        "\n",
        "skip = 0\n",
        "limit = 100\n",
        "url = 'https://api.harvardartmuseums.org/person?apikey=d5803660-0e55-11ea-8909-53027204f166'\n",
        "#query = {'q': 'culture:British', 'limit': limit, 'skip': skip}\n",
        "#query = {'q': 'culture:British', 'limit': limit, 'skip': skip,\"page\":0}\n",
        "query = {'q': 'culture:British', 'limit': limit, \"page\":1}\n",
        "response = requests.get(url, query)\n",
        "if response.status_code == 200:\n",
        "    print('Successful connection')\n",
        "    print(response.json())\n",
        "    #json_data = json.loads(response.text)\n",
        "    data=response.json()\n",
        "    name_birth=[]\n",
        "for page in range (1,data[\"info\"][\"pages\"]+1):\n",
        "  query = {'q': 'culture:British', 'limit': limit, \"page\":page}\n",
        "  response = requests.get(url, query)\n",
        "  data=response.json()\n",
        "\n",
        "  name4=[(data[\"records\"][x]['alphasort'],data[\"records\"][x][\"birthplace\"])  for x in range(len(data[\"records\"]))]\n",
        "  name_birth.extend(name4)\n",
        " "
      ],
      "execution_count": 0,
      "outputs": [
        {
          "output_type": "stream",
          "text": [
            "Successful connection\n",
            "{'info': {'totalrecordsperquery': 10, 'totalrecords': 1862, 'pages': 187, 'page': 1, 'next': 'https://api.harvardartmuseums.org/person?apikey=d5803660-0e55-11ea-8909-53027204f166&q=culture%3ABritish&limit=100&page=2'}, 'records': [{'dateend': 1816, 'alphasort': 'Neagle, John', 'displaydate': 'ca. 1760 - after 1816', 'url': 'https://www.harvardartmuseums.org/collections/person/32682', 'deathplace': None, 'id': 32682, 'objectcount': 4, 'lastupdate': '2019-11-27T04:54:21-0500', 'datebegin': 1760, 'birthplace': None, 'personid': 32682, 'gender': 'unknown', 'culture': 'British', 'displayname': 'John Neagle'}, {'dateend': 1858, 'alphasort': 'Redaway, James', 'displaydate': '1757-1858', 'url': 'https://www.harvardartmuseums.org/collections/person/32923', 'deathplace': None, 'id': 32923, 'objectcount': 3, 'lastupdate': '2019-11-27T04:54:21-0500', 'datebegin': 1757, 'birthplace': None, 'personid': 32923, 'gender': 'unknown', 'culture': 'British', 'displayname': 'James Redaway'}, {'dateend': 1882, 'alphasort': 'Simmons, William Henry', 'displaydate': '1811 - 1882', 'url': 'https://www.harvardartmuseums.org/collections/person/33023', 'deathplace': None, 'id': 33023, 'objectcount': 1, 'lastupdate': '2019-11-27T04:54:21-0500', 'datebegin': 1811, 'birthplace': None, 'personid': 33023, 'gender': 'unknown', 'culture': 'British', 'displayname': 'William Henry Simmons'}, {'dateend': 9999, 'alphasort': 'Cook, Barrie', 'displaydate': '1929 - ', 'url': 'https://www.harvardartmuseums.org/collections/person/33310', 'deathplace': None, 'id': 33310, 'objectcount': 1, 'lastupdate': '2019-11-27T04:54:22-0500', 'datebegin': 1929, 'birthplace': 'Birmingham, England', 'personid': 33310, 'gender': 'male', 'culture': 'British', 'displayname': 'Barrie Cook'}, {'dateend': 1872, 'alphasort': 'Vernon, Thomas', 'displaydate': 'c. 1824 - 1872', 'url': 'https://www.harvardartmuseums.org/collections/person/33322', 'deathplace': None, 'id': 33322, 'objectcount': 1, 'lastupdate': '2019-11-27T04:54:23-0500', 'datebegin': 1824, 'birthplace': None, 'personid': 33322, 'gender': 'unknown', 'culture': 'British', 'displayname': 'Thomas Vernon'}, {'dateend': 1827, 'alphasort': 'Scott, John', 'displaydate': '1774 - 1827', 'url': 'https://www.harvardartmuseums.org/collections/person/33597', 'deathplace': None, 'id': 33597, 'objectcount': 3, 'lastupdate': '2019-11-27T04:54:26-0500', 'datebegin': 1774, 'birthplace': None, 'personid': 33597, 'gender': 'unknown', 'culture': 'British', 'displayname': 'John Scott'}, {'dateend': 1875, 'alphasort': 'Bastin, J.', 'displaydate': '19th century', 'url': 'https://www.harvardartmuseums.org/collections/person/31188', 'deathplace': None, 'id': 31188, 'objectcount': 1, 'lastupdate': '2019-11-27T04:54:28-0500', 'datebegin': 1805, 'birthplace': None, 'personid': 31188, 'gender': 'unknown', 'culture': 'British', 'displayname': 'J. Bastin'}, {'dateend': 1950, 'alphasort': 'Gabain, Ethel Leontine', 'displaydate': '1883 - 1950', 'url': 'https://www.harvardartmuseums.org/collections/person/32080', 'deathplace': None, 'id': 32080, 'objectcount': 2, 'lastupdate': '2019-11-27T04:54:29-0500', 'datebegin': 1883, 'birthplace': None, 'personid': 32080, 'gender': 'unknown', 'culture': 'British', 'displayname': 'Ethel Leontine Gabain'}, {'dateend': 1785, 'alphasort': 'Fisher, Edward', 'displaydate': '1730 - c. 1785', 'url': 'https://www.harvardartmuseums.org/collections/person/32004', 'deathplace': None, 'id': 32004, 'objectcount': 4, 'lastupdate': '2019-11-27T04:54:29-0500', 'datebegin': 1730, 'birthplace': None, 'personid': 32004, 'gender': 'unknown', 'culture': 'British', 'displayname': 'Edward Fisher'}, {'dateend': 0, 'alphasort': 'Morphet, Richard', 'displaydate': None, 'url': 'https://www.harvardartmuseums.org/collections/person/51146', 'deathplace': None, 'id': 51146, 'objectcount': 0, 'lastupdate': '2019-11-27T04:54:31-0500', 'datebegin': 0, 'birthplace': None, 'personid': 51146, 'gender': 'male', 'culture': 'British', 'displayname': 'Richard Morphet'}]}\n"
          ],
          "name": "stdout"
        }
      ]
    },
    {
      "cell_type": "code",
      "metadata": {
        "id": "5GKuC0RtM9wA",
        "colab_type": "code",
        "outputId": "4002b5e2-93ac-48ad-de62-07fcb79c7e1e",
        "colab": {
          "base_uri": "https://localhost:8080/",
          "height": 35
        }
      },
      "source": [
        "len(name_birth)"
      ],
      "execution_count": 0,
      "outputs": [
        {
          "output_type": "execute_result",
          "data": {
            "text/plain": [
              "1862"
            ]
          },
          "metadata": {
            "tags": []
          },
          "execution_count": 21
        }
      ]
    },
    {
      "cell_type": "code",
      "metadata": {
        "id": "r_ixAPMGPthD",
        "colab_type": "code",
        "outputId": "25ce738b-9f05-4d61-c12f-5f2370b3946a",
        "colab": {
          "base_uri": "https://localhost:8080/",
          "height": 537
        }
      },
      "source": [
        "name_birth[:30]"
      ],
      "execution_count": 0,
      "outputs": [
        {
          "output_type": "execute_result",
          "data": {
            "text/plain": [
              "[('Neagle, John', None),\n",
              " ('Redaway, James', None),\n",
              " ('Simmons, William Henry', None),\n",
              " ('Cook, Barrie', 'Birmingham, England'),\n",
              " ('Vernon, Thomas', None),\n",
              " ('Scott, John', None),\n",
              " ('Bastin, J.', None),\n",
              " ('Gabain, Ethel Leontine', None),\n",
              " ('Fisher, Edward', None),\n",
              " ('Morphet, Richard', None),\n",
              " ('Turner, Charles', 'Woodstock, England'),\n",
              " ('Lizars, D.', None),\n",
              " ('Way, Thomas R.', None),\n",
              " ('Livick, Stephen', 'Allerton-Bywater, Yorkshire, Great Britain'),\n",
              " ('Toms, William Henry', None),\n",
              " ('Woolnoth, William', None),\n",
              " ('Beaton, Cecil (Walter Hardy) Sir', 'London, England'),\n",
              " ('Hollis, George', 'Oxford'),\n",
              " ('Comte, Benjamin Rodolphe', None),\n",
              " ('Cook, Thomas', None),\n",
              " ('Craig, Edward Gordon', 'Stevenage, England'),\n",
              " ('Corner, John', None),\n",
              " ('Godfrey, James', None),\n",
              " ('Ward, William James', None),\n",
              " ('Dealtry, Thomas', None),\n",
              " ('Le Keux, Henry', None),\n",
              " ('Millar, Fred', None),\n",
              " ('Litten, S. M.', None),\n",
              " ('Stuart, James', 'London'),\n",
              " ('Sickert, Walter R.', 'Munich, Germany')]"
            ]
          },
          "metadata": {
            "tags": []
          },
          "execution_count": 19
        }
      ]
    },
    {
      "cell_type": "code",
      "metadata": {
        "id": "Dpvo-0bWser4",
        "colab_type": "code",
        "outputId": "478b975b-5f88-4ca4-e4ea-1d71afa763cf",
        "colab": {
          "base_uri": "https://localhost:8080/",
          "height": 35
        }
      },
      "source": [
        "list(data)"
      ],
      "execution_count": 0,
      "outputs": [
        {
          "output_type": "execute_result",
          "data": {
            "text/plain": [
              "['info', 'records']"
            ]
          },
          "metadata": {
            "tags": []
          },
          "execution_count": 58
        }
      ]
    },
    {
      "cell_type": "code",
      "metadata": {
        "id": "HQxjtMTwvX-n",
        "colab_type": "code",
        "outputId": "fa8c029d-93e3-4f3c-baea-7f70d94ade31",
        "colab": {
          "base_uri": "https://localhost:8080/",
          "height": 35
        }
      },
      "source": [
        "len(data[\"records\"])"
      ],
      "execution_count": 0,
      "outputs": [
        {
          "output_type": "execute_result",
          "data": {
            "text/plain": [
              "10"
            ]
          },
          "metadata": {
            "tags": []
          },
          "execution_count": 59
        }
      ]
    },
    {
      "cell_type": "code",
      "metadata": {
        "id": "9Mphju6QshKC",
        "colab_type": "code",
        "outputId": "686817d0-c440-4251-9abf-46c1713fdd6b",
        "colab": {
          "base_uri": "https://localhost:8080/",
          "height": 35
        }
      },
      "source": [
        "data['info'][\"pages\"]"
      ],
      "execution_count": 0,
      "outputs": [
        {
          "output_type": "execute_result",
          "data": {
            "text/plain": [
              "187"
            ]
          },
          "metadata": {
            "tags": []
          },
          "execution_count": 17
        }
      ]
    },
    {
      "cell_type": "code",
      "metadata": {
        "id": "f3lTCrX00X-U",
        "colab_type": "code",
        "outputId": "6b0f4489-2027-4079-b69f-80778e73e42e",
        "colab": {
          "base_uri": "https://localhost:8080/",
          "height": 104
        }
      },
      "source": [
        "data[\"info\"]"
      ],
      "execution_count": 0,
      "outputs": [
        {
          "output_type": "execute_result",
          "data": {
            "text/plain": [
              "{'next': 'https://api.harvardartmuseums.org/person?apikey=d5803660-0e55-11ea-8909-53027204f166&q=culture%3ABritish&limit=100&page=2',\n",
              " 'page': 1,\n",
              " 'pages': 187,\n",
              " 'totalrecords': 1862,\n",
              " 'totalrecordsperquery': 10}"
            ]
          },
          "metadata": {
            "tags": []
          },
          "execution_count": 61
        }
      ]
    },
    {
      "cell_type": "code",
      "metadata": {
        "id": "T22-cwEBtCk2",
        "colab_type": "code",
        "outputId": "6e23462f-58f2-4678-c42e-467057005dca",
        "colab": {
          "base_uri": "https://localhost:8080/",
          "height": 35
        }
      },
      "source": [
        "data[\"info\"][\"totalrecordsperquery\"]"
      ],
      "execution_count": 0,
      "outputs": [
        {
          "output_type": "execute_result",
          "data": {
            "text/plain": [
              "10"
            ]
          },
          "metadata": {
            "tags": []
          },
          "execution_count": 47
        }
      ]
    },
    {
      "cell_type": "code",
      "metadata": {
        "id": "FBF2hYbFST2g",
        "colab_type": "code",
        "outputId": "fefbc7c2-c010-4564-9166-7ff66e1db114",
        "colab": {
          "base_uri": "https://localhost:8080/",
          "height": 35
        }
      },
      "source": [
        "data[\"info\"][\"next\"]"
      ],
      "execution_count": 0,
      "outputs": [
        {
          "output_type": "execute_result",
          "data": {
            "text/plain": [
              "'https://api.harvardartmuseums.org/person?apikey=d5803660-0e55-11ea-8909-53027204f166&q=culture%3ABritish&limit=100&skip=0&page=2'"
            ]
          },
          "metadata": {
            "tags": []
          },
          "execution_count": 15
        }
      ]
    },
    {
      "cell_type": "code",
      "metadata": {
        "id": "EX7GvCpNSe0S",
        "colab_type": "code",
        "outputId": "fbffb60d-d528-4b33-f635-f223060b3007",
        "colab": {
          "base_uri": "https://localhost:8080/",
          "height": 35
        }
      },
      "source": [
        "data[\"info\"][\"next\"]"
      ],
      "execution_count": 0,
      "outputs": [
        {
          "output_type": "execute_result",
          "data": {
            "text/plain": [
              "'https://api.harvardartmuseums.org/person?apikey=d5803660-0e55-11ea-8909-53027204f166&q=culture%3ABritish&limit=100&skip=0&page=2'"
            ]
          },
          "metadata": {
            "tags": []
          },
          "execution_count": 16
        }
      ]
    },
    {
      "cell_type": "code",
      "metadata": {
        "id": "5vL0Hkq-sc1K",
        "colab_type": "code",
        "colab": {}
      },
      "source": [
        ""
      ],
      "execution_count": 0,
      "outputs": []
    },
    {
      "cell_type": "markdown",
      "metadata": {
        "id": "p0ed1xpK8qIE",
        "colab_type": "text"
      },
      "source": [
        "All requests to the API begin with:\n",
        "\n",
        "https://api.harvardartmuseums.org\n",
        "And all requests must also specify the resource you want to retrieve:\n",
        "\n",
        "https://api.harvardartmuseums.org/RESOURCE_TYPE\n",
        "And every request must be accompanied by the apikey parameter and an API key. The API uses keys to authenticate requests. API keys take the form 00000000-0000-0000-0000-000000000000. Here is the full structure of a typical request:\n",
        "\n",
        "https://api.harvardartmuseums.org/RESOURCE_TYPE?apikey=YOUR_API_KEY"
      ]
    },
    {
      "cell_type": "code",
      "metadata": {
        "id": "2qZKnxjY88Nl",
        "colab_type": "code",
        "colab": {}
      },
      "source": [
        "url='https://api.harvardartmuseums.org/person?q={culture:DUtch}/ apikey=d5803660-0e55-11ea-8909-53027204f166'\n"
      ],
      "execution_count": 0,
      "outputs": []
    },
    {
      "cell_type": "code",
      "metadata": {
        "id": "bmd0gILPvSE8",
        "colab_type": "code",
        "colab": {}
      },
      "source": [
        "url='https://api.harvardartmuseums.org/apikey=d5803660-0e55-11ea-8909-53027204f16'"
      ],
      "execution_count": 0,
      "outputs": []
    }
  ]
}