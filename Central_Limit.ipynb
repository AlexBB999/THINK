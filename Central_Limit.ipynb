{
  "nbformat": 4,
  "nbformat_minor": 0,
  "metadata": {
    "colab": {
      "name": "Central Limit.ipynb",
      "provenance": [],
      "collapsed_sections": [],
      "include_colab_link": true
    },
    "kernelspec": {
      "name": "python3",
      "display_name": "Python 3"
    }
  },
  "cells": [
    {
      "cell_type": "markdown",
      "metadata": {
        "id": "view-in-github",
        "colab_type": "text"
      },
      "source": [
        "<a href=\"https://colab.research.google.com/github/AlexBB999/THINK/blob/master/Central_Limit.ipynb\" target=\"_parent\"><img src=\"https://colab.research.google.com/assets/colab-badge.svg\" alt=\"Open In Colab\"/></a>"
      ]
    },
    {
      "cell_type": "code",
      "metadata": {
        "id": "G_Uj5GT4Ry9v",
        "colab_type": "code",
        "colab": {}
      },
      "source": [
        "import numpy as np\n",
        "import pandas as pd\n",
        "from matplotlib import pyplot as plt\n",
        "from numpy.random import randint\n",
        "from numpy import mean\n",
        "from scipy import stats\n",
        "from numpy.random import seed\n",
        "%matplotlib inline"
      ],
      "execution_count": 0,
      "outputs": []
    },
    {
      "cell_type": "code",
      "metadata": {
        "id": "-RHQu6mkgP0-",
        "colab_type": "code",
        "colab": {
          "base_uri": "https://localhost:8080/",
          "height": 298
        },
        "outputId": "17c96025-3fec-4566-d29b-5b2266d75ea3"
      },
      "source": [
        "results = []\n",
        "for num_trials in range(1,1000):\n",
        "    trials = np.random.normal(1, 7, num_trials)\n",
        "    mean_of_trials = trials.mean()\n",
        "    results.append(mean_of_trials)\n",
        "\t\n",
        "df = pd.DataFrame({ 'trials' : results})\n",
        "\n",
        "\n",
        "df.plot(title='MEAN OF X SAMPLES')"
      ],
      "execution_count": 19,
      "outputs": [
        {
          "output_type": "execute_result",
          "data": {
            "text/plain": [
              "<matplotlib.axes._subplots.AxesSubplot at 0x7f56dfd35ac8>"
            ]
          },
          "metadata": {
            "tags": []
          },
          "execution_count": 19
        },
        {
          "output_type": "display_data",
          "data": {
            "image/png": "[encoded data removed]",
            "text/plain": [
              "<Figure size 432x288 with 1 Axes>"
            ]
          },
          "metadata": {
            "tags": []
          }
        }
      ]
    },
    {
      "cell_type": "code",
      "metadata": {
        "id": "xH23fK_9ecdH",
        "colab_type": "code",
        "colab": {}
      },
      "source": [
        "norm_means = [np.random.normal(1, 4, 5) for _ in range(1000)]\n"
      ],
      "execution_count": 0,
      "outputs": []
    },
    {
      "cell_type": "code",
      "metadata": {
        "id": "Lh19dDMxet1Z",
        "colab_type": "code",
        "colab": {
          "base_uri": "https://localhost:8080/",
          "height": 334
        },
        "outputId": "453265d3-5feb-4b94-a1c2-303169e457c2"
      },
      "source": [
        "plt.hist(norm_means)\n",
        "plt.title(\"SAMPLE MEANS\")\n",
        "plt.show()\n",
        "\n",
        "print(stats.describe(norm_means))"
      ],
      "execution_count": 13,
      "outputs": [
        {
          "output_type": "display_data",
          "data": {
            "image/png": "[encoded data removed]",
            "text/plain": [
              "<Figure size 432x288 with 1 Axes>"
            ]
          },
          "metadata": {
            "tags": []
          }
        },
        {
          "output_type": "stream",
          "text": [
            "DescribeResult(nobs=1000, minmax=(array([-11.37424522, -11.6767035 , -13.07219229, -10.72199701,\n",
            "       -13.41351038]), array([12.68320761, 13.39514987, 12.24534451, 13.73914151, 14.29304385])), mean=array([1.18460768, 0.9099975 , 0.77342146, 0.69052802, 0.89385553]), variance=array([15.28143146, 15.65641021, 15.16641503, 15.2238517 , 16.75822331]), skewness=array([ 0.0472177 ,  0.00913515, -0.06858768,  0.02001299, -0.0608439 ]), kurtosis=array([-0.01767153, -0.06131971, -0.2526765 , -0.05729904,  0.08281601]))\n"
          ],
          "name": "stdout"
        }
      ]
    }
  ]
}