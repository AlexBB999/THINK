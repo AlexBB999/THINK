{
  "nbformat": 4,
  "nbformat_minor": 0,
  "metadata": {
    "colab": {
      "name": "SQL into Python.ipynb",
      "provenance": [],
      "collapsed_sections": [],
      "include_colab_link": true
    },
    "kernelspec": {
      "name": "python3",
      "display_name": "Python 3"
    }
  },
  "cells": [
    {
      "cell_type": "markdown",
      "metadata": {
        "id": "view-in-github",
        "colab_type": "text"
      },
      "source": [
        "<a href=\"https://colab.research.google.com/github/AlexBB999/THINK/blob/master/SQL_into_Python.ipynb\" target=\"_parent\"><img src=\"https://colab.research.google.com/assets/colab-badge.svg\" alt=\"Open In Colab\"/></a>"
      ]
    },
    {
      "cell_type": "code",
      "metadata": {
        "id": "qzD8WQcPYiCk",
        "colab_type": "code",
        "colab": {}
      },
      "source": [
        "# Import the SQL ALchemy engine\n",
        "from sqlalchemy import create_engine"
      ],
      "execution_count": 0,
      "outputs": []
    },
    {
      "cell_type": "code",
      "metadata": {
        "id": "d30gBUu6X0Qv",
        "colab_type": "code",
        "colab": {}
      },
      "source": [
        "postgres_user = 'dsbc_student'\n",
        "postgres_pw = '7*.8G9QH21'\n",
        "postgres_host = '142.93.121.174'\n",
        "postgres_port = '5432'\n",
        "\n",
        "postgres_db = 'dvdrentals'\n"
      ],
      "execution_count": 0,
      "outputs": []
    },
    {
      "cell_type": "code",
      "metadata": {
        "id": "3zIpMpfkYTgB",
        "colab_type": "code",
        "outputId": "2d3f7be4-eb31-41d7-9903-8722820cc8f4",
        "colab": {
          "base_uri": "https://localhost:8080/",
          "height": 70
        }
      },
      "source": [
        "# use the credentials to start a connection\n",
        "engine = create_engine('postgresql://{}:{}@{}:{}/{}'.format(\n",
        "    postgres_user, postgres_pw, postgres_host, postgres_port, postgres_db))"
      ],
      "execution_count": 3,
      "outputs": [
        {
          "output_type": "stream",
          "text": [
            "/usr/local/lib/python3.6/dist-packages/psycopg2/__init__.py:144: UserWarning: The psycopg2 wheel package will be renamed from release 2.8; in order to keep installing from binary please use \"pip install psycopg2-binary\" instead. For details see: <http://initd.org/psycopg/docs/install.html#binary-install-from-pypi>.\n",
            "  \"\"\")\n"
          ],
          "name": "stderr"
        }
      ]
    },
    {
      "cell_type": "code",
      "metadata": {
        "id": "DVmEd17_Y3EU",
        "colab_type": "code",
        "outputId": "4e3c179e-1c31-4fc3-e66b-eb25150d0db1",
        "colab": {
          "base_uri": "https://localhost:8080/",
          "height": 34
        }
      },
      "source": [
        "'''select count(*),rating\n",
        "From film\n",
        "group by rating'''"
      ],
      "execution_count": 0,
      "outputs": [
        {
          "output_type": "execute_result",
          "data": {
            "text/plain": [
              "'select count(*),rating\\nFrom film\\ngroup by rating'"
            ]
          },
          "metadata": {
            "tags": []
          },
          "execution_count": 6
        }
      ]
    },
    {
      "cell_type": "code",
      "metadata": {
        "id": "rPV_fyo8XNin",
        "colab_type": "code",
        "colab": {}
      },
      "source": [
        "sql=''' Select Count"
      ],
      "execution_count": 0,
      "outputs": []
    },
    {
      "cell_type": "code",
      "metadata": {
        "id": "_hB178t3Yz7Y",
        "colab_type": "code",
        "colab": {}
      },
      "source": [
        "film= engine.execute('SELECT * FROM film' )\n",
        "#count= engine.execute('SELECT count(*) FROM film' )"
      ],
      "execution_count": 0,
      "outputs": []
    },
    {
      "cell_type": "code",
      "metadata": {
        "id": "Uj2UR2jGaq_D",
        "colab_type": "code",
        "colab": {}
      },
      "source": [
        "# dispose the connection\n",
        "engine.dispose()"
      ],
      "execution_count": 0,
      "outputs": []
    },
    {
      "cell_type": "code",
      "metadata": {
        "id": "Rg7n-N3Oqkrm",
        "colab_type": "code",
        "colab": {}
      },
      "source": [
        "# use fetchall() to get a list of rows from the results.\n",
        "rose = film.fetchall()"
      ],
      "execution_count": 0,
      "outputs": []
    },
    {
      "cell_type": "code",
      "metadata": {
        "id": "ZPQK3dC_viGa",
        "colab_type": "code",
        "colab": {}
      },
      "source": [
        "# fetch the first row from the Results\n",
        "ans = film.first()\n",
        "\n",
        "# print the count\n",
        "#print('There are {} rows in the table'.format(ans['count']))"
      ],
      "execution_count": 0,
      "outputs": []
    },
    {
      "cell_type": "code",
      "metadata": {
        "id": "9b4yctPb1Wp6",
        "colab_type": "code",
        "outputId": "d7339028-9b37-44c2-dbc4-9b5d4239b4ee",
        "colab": {
          "base_uri": "https://localhost:8080/",
          "height": 34
        }
      },
      "source": [
        "type(rose)"
      ],
      "execution_count": 8,
      "outputs": [
        {
          "output_type": "execute_result",
          "data": {
            "text/plain": [
              "list"
            ]
          },
          "metadata": {
            "tags": []
          },
          "execution_count": 8
        }
      ]
    },
    {
      "cell_type": "code",
      "metadata": {
        "id": "OyaKaZL4xt4t",
        "colab_type": "code",
        "colab": {}
      },
      "source": [
        "#rose"
      ],
      "execution_count": 0,
      "outputs": []
    },
    {
      "cell_type": "code",
      "metadata": {
        "id": "VmfBjmWe1gcg",
        "colab_type": "code",
        "outputId": "1297c066-6ce0-4a31-9892-c3908a810ed0",
        "colab": {
          "base_uri": "https://localhost:8080/",
          "height": 54
        }
      },
      "source": [
        "rose[0]"
      ],
      "execution_count": 9,
      "outputs": [
        {
          "output_type": "execute_result",
          "data": {
            "text/plain": [
              "(1, 'ACADEMY DINOSAUR', 'A Epic Drama of a Feminist And a Mad Scientist who must Battle a Teacher in The Canadian Rockies', 2006, 1, None, 6, Decimal('0.99'), 86, Decimal('20.99'), 'PG', datetime.datetime(2007, 9, 10, 17, 46, 3, 905795), ['Deleted Scenes', 'Behind the Scenes'], \"'academi':1 'battl':15 'canadian':20 'dinosaur':2 'drama':5 'epic':4 'feminist':8 'mad':11 'must':14 'rocki':21 'scientist':12 'teacher':17\")"
            ]
          },
          "metadata": {
            "tags": []
          },
          "execution_count": 9
        }
      ]
    },
    {
      "cell_type": "code",
      "metadata": {
        "id": "0ltgMmgYgAF2",
        "colab_type": "code",
        "outputId": "c0c18237-2722-485a-8cea-716b6d69d241",
        "colab": {
          "base_uri": "https://localhost:8080/",
          "height": 121
        }
      },
      "source": [
        "# Process the results\n",
        "for i in range(5) :\n",
        "  print(rose[i])"
      ],
      "execution_count": 10,
      "outputs": [
        {
          "output_type": "stream",
          "text": [
            "(1, 'ACADEMY DINOSAUR', 'A Epic Drama of a Feminist And a Mad Scientist who must Battle a Teacher in The Canadian Rockies', 2006, 1, None, 6, Decimal('0.99'), 86, Decimal('20.99'), 'PG', datetime.datetime(2007, 9, 10, 17, 46, 3, 905795), ['Deleted Scenes', 'Behind the Scenes'], \"'academi':1 'battl':15 'canadian':20 'dinosaur':2 'drama':5 'epic':4 'feminist':8 'mad':11 'must':14 'rocki':21 'scientist':12 'teacher':17\")\n",
            "(2, 'ACE GOLDFINGER', 'A Astounding Epistle of a Database Administrator And a Explorer who must Find a Car in Ancient China', 2006, 1, None, 3, Decimal('4.99'), 48, Decimal('12.99'), 'G', datetime.datetime(2007, 9, 10, 17, 46, 3, 905795), ['Trailers', 'Deleted Scenes'], \"'ace':1 'administr':9 'ancient':19 'astound':4 'car':17 'china':20 'databas':8 'epistl':5 'explor':12 'find':15 'goldfing':2 'must':14\")\n",
            "(3, 'ADAPTATION HOLES', 'A Astounding Reflection of a Lumberjack And a Car who must Sink a Lumberjack in A Baloon Factory', 2006, 1, None, 7, Decimal('2.99'), 50, Decimal('18.99'), 'NC-17', datetime.datetime(2007, 9, 10, 17, 46, 3, 905795), ['Trailers', 'Deleted Scenes'], \"'adapt':1 'astound':4 'baloon':19 'car':11 'factori':20 'hole':2 'lumberjack':8,16 'must':13 'reflect':5 'sink':14\")\n",
            "(4, 'AFFAIR PREJUDICE', 'A Fanciful Documentary of a Frisbee And a Lumberjack who must Chase a Monkey in A Shark Tank', 2006, 1, None, 5, Decimal('2.99'), 117, Decimal('26.99'), 'G', datetime.datetime(2007, 9, 10, 17, 46, 3, 905795), ['Commentaries', 'Behind the Scenes'], \"'affair':1 'chase':14 'documentari':5 'fanci':4 'frisbe':8 'lumberjack':11 'monkey':16 'must':13 'prejudic':2 'shark':19 'tank':20\")\n",
            "(5, 'AFRICAN EGG', 'A Fast-Paced Documentary of a Pastry Chef And a Dentist who must Pursue a Forensic Psychologist in The Gulf of Mexico', 2006, 1, None, 6, Decimal('2.99'), 130, Decimal('22.99'), 'G', datetime.datetime(2007, 9, 10, 17, 46, 3, 905795), ['Deleted Scenes'], \"'african':1 'chef':11 'dentist':14 'documentari':7 'egg':2 'fast':5 'fast-pac':4 'forens':19 'gulf':23 'mexico':25 'must':16 'pace':6 'pastri':10 'psychologist':20 'pursu':17\")\n"
          ],
          "name": "stdout"
        }
      ]
    },
    {
      "cell_type": "code",
      "metadata": {
        "id": "JVz0D62PbKe7",
        "colab_type": "code",
        "outputId": "1eabbdeb-ab9d-411d-9b88-8814991f1b17",
        "colab": {
          "base_uri": "https://localhost:8080/",
          "height": 34
        }
      },
      "source": [
        "rose[0]['rating']"
      ],
      "execution_count": 11,
      "outputs": [
        {
          "output_type": "execute_result",
          "data": {
            "text/plain": [
              "'PG'"
            ]
          },
          "metadata": {
            "tags": []
          },
          "execution_count": 11
        }
      ]
    },
    {
      "cell_type": "code",
      "metadata": {
        "id": "285EC-P7bhud",
        "colab_type": "code",
        "colab": {}
      },
      "source": [
        "#PG = [rose[i]['rating'] for i in range(1000) if rose[i]['rating'] ==\"PG\"]\n",
        "rates= [rose[i]['rating'] for i in range(1000)]\n",
        "#rates"
      ],
      "execution_count": 0,
      "outputs": []
    },
    {
      "cell_type": "code",
      "metadata": {
        "id": "vv9-XAdPxdTn",
        "colab_type": "code",
        "outputId": "304ff284-c908-44f3-9eab-fd81bbfdc636",
        "colab": {
          "base_uri": "https://localhost:8080/",
          "height": 34
        }
      },
      "source": [
        "len(rates)"
      ],
      "execution_count": 0,
      "outputs": [
        {
          "output_type": "execute_result",
          "data": {
            "text/plain": [
              "1000"
            ]
          },
          "metadata": {
            "tags": []
          },
          "execution_count": 64
        }
      ]
    },
    {
      "cell_type": "code",
      "metadata": {
        "id": "kpTtD25CP_Tr",
        "colab_type": "code",
        "colab": {}
      },
      "source": [
        "  \n",
        "  #list(map(lambda x: x.upper(), ['cat', 'dog', 'cow']))\n",
        " #list(map(lambda x: x.count(\"PG\")+1, rates))\n",
        "# sum(map(lambda x: x.count(\"PG\"), rates))\n",
        "#sum(map(lambda x: rate_types.count(x) , rates))\n",
        "#sum(map(lambda x: rate_types.count(x) , rates))\n",
        "#"
      ],
      "execution_count": 0,
      "outputs": []
    },
    {
      "cell_type": "code",
      "metadata": {
        "id": "N5Up3fm30DNQ",
        "colab_type": "code",
        "colab": {}
      },
      "source": [
        "rate_types=['PG','R','PG-13','NC-17','G']"
      ],
      "execution_count": 0,
      "outputs": []
    },
    {
      "cell_type": "code",
      "metadata": {
        "id": "10A8yYHNoPFD",
        "colab_type": "code",
        "colab": {}
      },
      "source": [
        "THIS NEXT LION COUNTS THE NUMBER OF FILMS  BY RATING"
      ],
      "execution_count": 0,
      "outputs": []
    },
    {
      "cell_type": "code",
      "metadata": {
        "id": "PtuTyzGVz4bK",
        "colab_type": "code",
        "colab": {}
      },
      "source": [
        "types=[rates.count(x) for x in rate_types]"
      ],
      "execution_count": 0,
      "outputs": []
    },
    {
      "cell_type": "code",
      "metadata": {
        "id": "svFHr7qQbtP7",
        "colab_type": "code",
        "outputId": "450fa57c-0255-4237-e2ba-f74a29720d89",
        "colab": {
          "base_uri": "https://localhost:8080/",
          "height": 34
        }
      },
      "source": [
        "list(zip(rate_types,types))"
      ],
      "execution_count": 16,
      "outputs": [
        {
          "output_type": "execute_result",
          "data": {
            "text/plain": [
              "[('PG', 194), ('R', 195), ('PG-13', 223), ('NC-17', 210), ('G', 178)]"
            ]
          },
          "metadata": {
            "tags": []
          },
          "execution_count": 16
        }
      ]
    },
    {
      "cell_type": "code",
      "metadata": {
        "id": "yb1jaSu9tiso",
        "colab_type": "code",
        "colab": {}
      },
      "source": [
        "thursday 4:30 PM"
      ],
      "execution_count": 0,
      "outputs": []
    },
    {
      "cell_type": "code",
      "metadata": {
        "id": "I4cnJQT4r_PG",
        "colab_type": "code",
        "colab": {}
      },
      "source": [
        "#test=[rose[i] for x in rate_types for i in range(1000) if rose[i]['rating']==x ]\n",
        "#test=[rose[i]  if  rose[i]['rating']==x  for x in rate_types]\n"
      ],
      "execution_count": 0,
      "outputs": []
    },
    {
      "cell_type": "code",
      "metadata": {
        "id": "UGJApQhzsYyf",
        "colab_type": "code",
        "outputId": "19632982-477b-4a06-ba5b-6df5eaffc3f1",
        "colab": {
          "base_uri": "https://localhost:8080/",
          "height": 34
        }
      },
      "source": [
        "rose[0]['rating']"
      ],
      "execution_count": 0,
      "outputs": [
        {
          "output_type": "execute_result",
          "data": {
            "text/plain": [
              "'PG'"
            ]
          },
          "metadata": {
            "tags": []
          },
          "execution_count": 36
        }
      ]
    },
    {
      "cell_type": "code",
      "metadata": {
        "id": "6tb9udI_sc1z",
        "colab_type": "code",
        "outputId": "4fc701f7-e9c4-429a-b68b-b3417d7a5a16",
        "colab": {
          "base_uri": "https://localhost:8080/",
          "height": 54
        }
      },
      "source": [
        "rose[1]"
      ],
      "execution_count": 0,
      "outputs": [
        {
          "output_type": "execute_result",
          "data": {
            "text/plain": [
              "(2, 'ACE GOLDFINGER', 'A Astounding Epistle of a Database Administrator And a Explorer who must Find a Car in Ancient China', 2006, 1, None, 3, Decimal('4.99'), 48, Decimal('12.99'), 'G', datetime.datetime(2007, 9, 10, 17, 46, 3, 905795), ['Trailers', 'Deleted Scenes'], \"'ace':1 'administr':9 'ancient':19 'astound':4 'car':17 'china':20 'databas':8 'epistl':5 'explor':12 'find':15 'goldfing':2 'must':14\")"
            ]
          },
          "metadata": {
            "tags": []
          },
          "execution_count": 35
        }
      ]
    },
    {
      "cell_type": "code",
      "metadata": {
        "id": "BGrHQbw1kGWn",
        "colab_type": "code",
        "colab": {}
      },
      "source": [
        "#WANT TO DIVIDE ROWS BY RATING\n",
        "divs=[rose[i] for i in range(1000)  if rose[i]['rating'] in rate_types]"
      ],
      "execution_count": 0,
      "outputs": []
    },
    {
      "cell_type": "code",
      "metadata": {
        "id": "PQiHE5g6rSIH",
        "colab_type": "code",
        "outputId": "b86355a8-2e99-433a-abbc-c75663031f1c",
        "colab": {
          "base_uri": "https://localhost:8080/",
          "height": 34
        }
      },
      "source": [
        "len(divs)"
      ],
      "execution_count": 0,
      "outputs": [
        {
          "output_type": "execute_result",
          "data": {
            "text/plain": [
              "1000"
            ]
          },
          "metadata": {
            "tags": []
          },
          "execution_count": 31
        }
      ]
    },
    {
      "cell_type": "markdown",
      "metadata": {
        "id": "0X0KVBLerK9J",
        "colab_type": "text"
      },
      "source": [
        "AVERAGE DURATIONS"
      ]
    },
    {
      "cell_type": "code",
      "metadata": {
        "id": "F7hVT9EImBqT",
        "colab_type": "code",
        "colab": {
          "base_uri": "https://localhost:8080/",
          "height": 34
        },
        "outputId": "388a177d-e529-44c1-f7f9-d622f40bcd10"
      },
      "source": [
        "pgs=[rose[i]['rental_duration'] for i in range(1000)  if  rose[i]['rating']=='PG']\n",
        "pg_average_rental_duration=sum(pgs)/len(pgs)\n",
        "pg_average_rental_duration"
      ],
      "execution_count": 28,
      "outputs": [
        {
          "output_type": "execute_result",
          "data": {
            "text/plain": [
              "5.082474226804123"
            ]
          },
          "metadata": {
            "tags": []
          },
          "execution_count": 28
        }
      ]
    },
    {
      "cell_type": "code",
      "metadata": {
        "id": "ZL8JQ1OMqKu7",
        "colab_type": "code",
        "colab": {
          "base_uri": "https://localhost:8080/",
          "height": 34
        },
        "outputId": "ade49a8c-b9c6-4b69-b58c-8fe02f4a0d73"
      },
      "source": [
        "r=[rose[i]['rental_duration'] for i in range(1000)  if  rose[i]['rating']=='R']\n",
        "r_average_rental_duration=sum(r)/len(r)\n",
        "r_average_rental_duration"
      ],
      "execution_count": 29,
      "outputs": [
        {
          "output_type": "execute_result",
          "data": {
            "text/plain": [
              "4.774358974358974"
            ]
          },
          "metadata": {
            "tags": []
          },
          "execution_count": 29
        }
      ]
    },
    {
      "cell_type": "code",
      "metadata": {
        "id": "ZGwL-mQ4qjC_",
        "colab_type": "code",
        "colab": {
          "base_uri": "https://localhost:8080/",
          "height": 34
        },
        "outputId": "f86fe084-1b94-478e-e8a5-ecc578e83bfa"
      },
      "source": [
        "pg13=[rose[i]['rental_duration'] for i in range(1000)  if  rose[i]['rating']=='PG-13']\n",
        "pg13_average_rental_duration=sum(pg13)/len(pg13)\n",
        "pg13_average_rental_duration"
      ],
      "execution_count": 30,
      "outputs": [
        {
          "output_type": "execute_result",
          "data": {
            "text/plain": [
              "5.053811659192825"
            ]
          },
          "metadata": {
            "tags": []
          },
          "execution_count": 30
        }
      ]
    },
    {
      "cell_type": "code",
      "metadata": {
        "id": "Iy-Szp37qs4B",
        "colab_type": "code",
        "colab": {
          "base_uri": "https://localhost:8080/",
          "height": 34
        },
        "outputId": "86dd1ca4-5f2f-4d0c-ad21-c645c704314c"
      },
      "source": [
        "nc17=[rose[i]['rental_duration'] for i in range(1000)  if  rose[i]['rating']=='NC-17']\n",
        "nc17_average_rental_duration=sum(nc17)/len(nc17)\n",
        "nc17_average_rental_duration"
      ],
      "execution_count": 31,
      "outputs": [
        {
          "output_type": "execute_result",
          "data": {
            "text/plain": [
              "5.142857142857143"
            ]
          },
          "metadata": {
            "tags": []
          },
          "execution_count": 31
        }
      ]
    },
    {
      "cell_type": "code",
      "metadata": {
        "id": "7PKZezHVq5lL",
        "colab_type": "code",
        "colab": {
          "base_uri": "https://localhost:8080/",
          "height": 34
        },
        "outputId": "dcfcd802-8060-4511-b991-fb476232b2b6"
      },
      "source": [
        "g=[rose[i]['rental_duration'] for i in range(1000)  if  rose[i]['rating']=='G']\n",
        "g_average_rental_duration=sum(g)/len(g)\n",
        "g_average_rental_duration"
      ],
      "execution_count": 32,
      "outputs": [
        {
          "output_type": "execute_result",
          "data": {
            "text/plain": [
              "4.837078651685394"
            ]
          },
          "metadata": {
            "tags": []
          },
          "execution_count": 32
        }
      ]
    },
    {
      "cell_type": "markdown",
      "metadata": {
        "id": "g6ambFDHrRJp",
        "colab_type": "text"
      },
      "source": [
        "==============================================================="
      ]
    },
    {
      "cell_type": "code",
      "metadata": {
        "id": "GuSk6ro6mVoS",
        "colab_type": "code",
        "outputId": "232d675c-79c3-492f-c2ef-a9a60b5a5fb2",
        "colab": {
          "base_uri": "https://localhost:8080/",
          "height": 34
        }
      },
      "source": [
        "len(pgs)"
      ],
      "execution_count": 18,
      "outputs": [
        {
          "output_type": "execute_result",
          "data": {
            "text/plain": [
              "194"
            ]
          },
          "metadata": {
            "tags": []
          },
          "execution_count": 18
        }
      ]
    },
    {
      "cell_type": "code",
      "metadata": {
        "id": "aomoAi9TmZ2i",
        "colab_type": "code",
        "outputId": "eccf5444-b001-4922-b3be-9c00da300bb6",
        "colab": {
          "base_uri": "https://localhost:8080/",
          "height": 121
        }
      },
      "source": [
        "pgs[:5]"
      ],
      "execution_count": 19,
      "outputs": [
        {
          "output_type": "execute_result",
          "data": {
            "text/plain": [
              "[(1, 'ACADEMY DINOSAUR', 'A Epic Drama of a Feminist And a Mad Scientist who must Battle a Teacher in The Canadian Rockies', 2006, 1, None, 6, Decimal('0.99'), 86, Decimal('20.99'), 'PG', datetime.datetime(2007, 9, 10, 17, 46, 3, 905795), ['Deleted Scenes', 'Behind the Scenes'], \"'academi':1 'battl':15 'canadian':20 'dinosaur':2 'drama':5 'epic':4 'feminist':8 'mad':11 'must':14 'rocki':21 'scientist':12 'teacher':17\"),\n",
              " (6, 'AGENT TRUMAN', 'A Intrepid Panorama of a Robot And a Boy who must Escape a Sumo Wrestler in Ancient China', 2006, 1, None, 3, Decimal('2.99'), 169, Decimal('17.99'), 'PG', datetime.datetime(2007, 9, 10, 17, 46, 3, 905795), ['Deleted Scenes'], \"'agent':1 'ancient':19 'boy':11 'china':20 'escap':14 'intrepid':4 'must':13 'panorama':5 'robot':8 'sumo':16 'truman':2 'wrestler':17\"),\n",
              " (12, 'ALASKA PHANTOM', 'A Fanciful Saga of a Hunter And a Pastry Chef who must Vanquish a Boy in Australia', 2006, 1, None, 6, Decimal('0.99'), 136, Decimal('22.99'), 'PG', datetime.datetime(2007, 9, 10, 17, 46, 3, 905795), ['Commentaries', 'Deleted Scenes'], \"'alaska':1 'australia':19 'boy':17 'chef':12 'fanci':4 'hunter':8 'must':14 'pastri':11 'phantom':2 'saga':5 'vanquish':15\"),\n",
              " (13, 'ALI FOREVER', 'A Action-Packed Drama of a Dentist And a Crocodile who must Battle a Feminist in The Canadian Rockies', 2006, 1, None, 4, Decimal('4.99'), 150, Decimal('21.99'), 'PG', datetime.datetime(2007, 9, 10, 17, 46, 3, 905795), ['Deleted Scenes', 'Behind the Scenes'], \"'action':5 'action-pack':4 'ali':1 'battl':16 'canadian':21 'crocodil':13 'dentist':10 'drama':7 'feminist':18 'forev':2 'must':15 'pack':6 'rocki':22\"),\n",
              " (19, 'AMADEUS HOLY', 'A Emotional Display of a Pioneer And a Technical Writer who must Battle a Man in A Baloon', 2006, 1, None, 6, Decimal('0.99'), 113, Decimal('20.99'), 'PG', datetime.datetime(2007, 9, 10, 17, 46, 3, 905795), ['Commentaries', 'Deleted Scenes', 'Behind the Scenes'], \"'amadeus':1 'baloon':20 'battl':15 'display':5 'emot':4 'holi':2 'man':17 'must':14 'pioneer':8 'technic':11 'writer':12\")]"
            ]
          },
          "metadata": {
            "tags": []
          },
          "execution_count": 19
        }
      ]
    },
    {
      "cell_type": "code",
      "metadata": {
        "id": "eD4z6A6Vq5CF",
        "colab_type": "code",
        "colab": {}
      },
      "source": [
        "first_row=rose[0]"
      ],
      "execution_count": 0,
      "outputs": []
    },
    {
      "cell_type": "code",
      "metadata": {
        "id": "kfDE497HrERc",
        "colab_type": "code",
        "outputId": "4e0be1d3-c78e-44c0-ab1e-f7894fbeae78",
        "colab": {
          "base_uri": "https://localhost:8080/",
          "height": 252
        }
      },
      "source": [
        "first_row.keys()"
      ],
      "execution_count": 0,
      "outputs": [
        {
          "output_type": "execute_result",
          "data": {
            "text/plain": [
              "['film_id',\n",
              " 'title',\n",
              " 'description',\n",
              " 'release_year',\n",
              " 'language_id',\n",
              " 'original_language_id',\n",
              " 'rental_duration',\n",
              " 'rental_rate',\n",
              " 'length',\n",
              " 'replacement_cost',\n",
              " 'rating',\n",
              " 'last_update',\n",
              " 'special_features',\n",
              " 'fulltext']"
            ]
          },
          "metadata": {
            "tags": []
          },
          "execution_count": 40
        }
      ]
    },
    {
      "cell_type": "code",
      "metadata": {
        "id": "no1PzOOKdrPa",
        "colab_type": "code",
        "colab": {}
      },
      "source": [
        "How many movies are released for each rating?\n",
        "What is the average rental duration for each rating?\n",
        "What is the mean movie length? Calculate this by defining a function.\n",
        "What is the median movie length? Calculate this by defining a function.\n",
        "Calculate the standard deviation of the movie lengths. Calculate this by defining a function."
      ],
      "execution_count": 0,
      "outputs": []
    },
    {
      "cell_type": "markdown",
      "metadata": {
        "id": "36IsLOJ2s5cl",
        "colab_type": "text"
      },
      "source": [
        "MEAN LENGTH FUNCTION"
      ]
    },
    {
      "cell_type": "code",
      "metadata": {
        "id": "2WHzBrUmr7cg",
        "colab_type": "code",
        "colab": {}
      },
      "source": [
        "def mean_length(x):\n",
        "  total=0\n",
        "  for i in range(len(x)):\n",
        "    total=total+x[i]['length']\n",
        "  ml=total/len(x)\n",
        "  return ml\n"
      ],
      "execution_count": 0,
      "outputs": []
    },
    {
      "cell_type": "code",
      "metadata": {
        "id": "14WqWAwksuRW",
        "colab_type": "code",
        "colab": {
          "base_uri": "https://localhost:8080/",
          "height": 34
        },
        "outputId": "e49c1cb5-48ba-413b-b430-f38d621ed2ba"
      },
      "source": [
        "mean_length(rose)"
      ],
      "execution_count": 35,
      "outputs": [
        {
          "output_type": "execute_result",
          "data": {
            "text/plain": [
              "115.272"
            ]
          },
          "metadata": {
            "tags": []
          },
          "execution_count": 35
        }
      ]
    },
    {
      "cell_type": "markdown",
      "metadata": {
        "id": "YmcpesRWuAS3",
        "colab_type": "text"
      },
      "source": [
        "MEDIAN FUNCTION"
      ]
    },
    {
      "cell_type": "markdown",
      "metadata": {
        "id": "6HlXFrgZyWCa",
        "colab_type": "text"
      },
      "source": [
        "i did not handle even odd numer of elements cases"
      ]
    },
    {
      "cell_type": "code",
      "metadata": {
        "id": "2QN87gEXtApF",
        "colab_type": "code",
        "colab": {}
      },
      "source": [
        "def median_length(x):\n",
        "  length=[]\n",
        "  for i in range(len(x)):\n",
        "    length.append(x[i]['length'])\n",
        "  length_order=length.sort()\n",
        "  mid=round(len(x)/2)\n",
        "  return x[mid]['length']"
      ],
      "execution_count": 0,
      "outputs": []
    },
    {
      "cell_type": "code",
      "metadata": {
        "id": "tsa-RXgHtt7T",
        "colab_type": "code",
        "colab": {
          "base_uri": "https://localhost:8080/",
          "height": 34
        },
        "outputId": "113edbb7-72fa-48e0-feae-31ca6c054c31"
      },
      "source": [
        "median_length(rose)"
      ],
      "execution_count": 39,
      "outputs": [
        {
          "output_type": "execute_result",
          "data": {
            "text/plain": [
              "141"
            ]
          },
          "metadata": {
            "tags": []
          },
          "execution_count": 39
        }
      ]
    },
    {
      "cell_type": "markdown",
      "metadata": {
        "id": "Zf_PQNTFuFZ7",
        "colab_type": "text"
      },
      "source": [
        "STANDARD DEVIATION FUNCTION"
      ]
    },
    {
      "cell_type": "code",
      "metadata": {
        "id": "bAhMD61-uLfA",
        "colab_type": "code",
        "colab": {}
      },
      "source": [
        "def std_length(x):\n",
        "  total=0\n",
        "  m=mean_length(x)\n",
        "  for i in range(len(x)):\n",
        "    total=total+(x[i]['length']-m)**2\n",
        "  var=total*(1/(len(x)-1))\n",
        "  sd=var**.5\n",
        "  \n",
        "  return sd"
      ],
      "execution_count": 0,
      "outputs": []
    },
    {
      "cell_type": "code",
      "metadata": {
        "id": "oXPeIEsOvvXW",
        "colab_type": "code",
        "colab": {
          "base_uri": "https://localhost:8080/",
          "height": 34
        },
        "outputId": "a1396502-c25f-4d11-be7a-0ccaf56ebf3a"
      },
      "source": [
        "std_length(rose)"
      ],
      "execution_count": 66,
      "outputs": [
        {
          "output_type": "execute_result",
          "data": {
            "text/plain": [
              "40.42633181855987"
            ]
          },
          "metadata": {
            "tags": []
          },
          "execution_count": 66
        }
      ]
    },
    {
      "cell_type": "markdown",
      "metadata": {
        "id": "HbBFCZW0yLtX",
        "colab_type": "text"
      },
      "source": [
        "STOP HERE"
      ]
    },
    {
      "cell_type": "code",
      "metadata": {
        "id": "JH3sF9cyekI-",
        "colab_type": "code",
        "colab": {}
      },
      "source": [
        "\n",
        "#THIS DOES NOT WORK\n",
        "duration=[rates.count(x) for x in rate_types]\n",
        "duration= [rose[i]['rental_duration'] for  i in range(1000)]\n",
        "types=[rates.count(x) for x in rate_types]\n",
        "divs=[rates for x in rate_types]"
      ],
      "execution_count": 0,
      "outputs": []
    },
    {
      "cell_type": "code",
      "metadata": {
        "id": "yv2rLdfdpDWL",
        "colab_type": "code",
        "colab": {}
      },
      "source": [
        "#duration"
      ],
      "execution_count": 0,
      "outputs": []
    },
    {
      "cell_type": "code",
      "metadata": {
        "id": "wVkjl0bDqg9s",
        "colab_type": "code",
        "outputId": "27a24e13-f8ed-4bec-fa08-26d1525af66b",
        "colab": {
          "base_uri": "https://localhost:8080/",
          "height": 34
        }
      },
      "source": [
        "type(divs)"
      ],
      "execution_count": 0,
      "outputs": [
        {
          "output_type": "execute_result",
          "data": {
            "text/plain": [
              "list"
            ]
          },
          "metadata": {
            "tags": []
          },
          "execution_count": 23
        }
      ]
    },
    {
      "cell_type": "code",
      "metadata": {
        "id": "p5fjX8B4qtTp",
        "colab_type": "code",
        "outputId": "30589a9c-8d87-4483-dbe2-96b25dbc186c",
        "colab": {
          "base_uri": "https://localhost:8080/",
          "height": 34
        }
      },
      "source": [
        "len(divs)"
      ],
      "execution_count": 0,
      "outputs": [
        {
          "output_type": "execute_result",
          "data": {
            "text/plain": [
              "6"
            ]
          },
          "metadata": {
            "tags": []
          },
          "execution_count": 24
        }
      ]
    },
    {
      "cell_type": "code",
      "metadata": {
        "id": "JWeTlD6JgHot",
        "colab_type": "code",
        "colab": {}
      },
      "source": [
        "dur=[rose[i]['rental_duration' ] for i in range(1000)]"
      ],
      "execution_count": 0,
      "outputs": []
    },
    {
      "cell_type": "code",
      "metadata": {
        "id": "gPNZzoIZrSIY",
        "colab_type": "code",
        "outputId": "09cbfebf-5eb2-4fe2-b201-febc5fafdb97",
        "colab": {
          "base_uri": "https://localhost:8080/",
          "height": 34
        }
      },
      "source": [
        "type(film)"
      ],
      "execution_count": 0,
      "outputs": [
        {
          "output_type": "execute_result",
          "data": {
            "text/plain": [
              "sqlalchemy.engine.result.ResultProxy"
            ]
          },
          "metadata": {
            "tags": []
          },
          "execution_count": 48
        }
      ]
    },
    {
      "cell_type": "code",
      "metadata": {
        "id": "EaoLnWMQr1HZ",
        "colab_type": "code",
        "outputId": "1ab0c802-72d5-4181-bb06-0efc50429db7",
        "colab": {
          "base_uri": "https://localhost:8080/",
          "height": 34
        }
      },
      "source": [
        "first_row['rating']"
      ],
      "execution_count": 0,
      "outputs": [
        {
          "output_type": "execute_result",
          "data": {
            "text/plain": [
              "'PG'"
            ]
          },
          "metadata": {
            "tags": []
          },
          "execution_count": 52
        }
      ]
    },
    {
      "cell_type": "code",
      "metadata": {
        "id": "cqqBOBCL5F12",
        "colab_type": "code",
        "outputId": "8912e38e-1bb5-4832-9f22-a6b660f2436f",
        "colab": {
          "base_uri": "https://localhost:8080/",
          "height": 286
        }
      },
      "source": [
        "first_row.items()"
      ],
      "execution_count": 0,
      "outputs": [
        {
          "output_type": "execute_result",
          "data": {
            "text/plain": [
              "[('film_id', 1),\n",
              " ('title', 'ACADEMY DINOSAUR'),\n",
              " ('description',\n",
              "  'A Epic Drama of a Feminist And a Mad Scientist who must Battle a Teacher in The Canadian Rockies'),\n",
              " ('release_year', 2006),\n",
              " ('language_id', 1),\n",
              " ('original_language_id', None),\n",
              " ('rental_duration', 6),\n",
              " ('rental_rate', Decimal('0.99')),\n",
              " ('length', 86),\n",
              " ('replacement_cost', Decimal('20.99')),\n",
              " ('rating', 'PG'),\n",
              " ('last_update', datetime.datetime(2007, 9, 10, 17, 46, 3, 905795)),\n",
              " ('special_features', ['Deleted Scenes', 'Behind the Scenes']),\n",
              " ('fulltext',\n",
              "  \"'academi':1 'battl':15 'canadian':20 'dinosaur':2 'drama':5 'epic':4 'feminist':8 'mad':11 'must':14 'rocki':21 'scientist':12 'teacher':17\")]"
            ]
          },
          "metadata": {
            "tags": []
          },
          "execution_count": 85
        }
      ]
    },
    {
      "cell_type": "code",
      "metadata": {
        "id": "as2Va8SU6kvC",
        "colab_type": "code",
        "outputId": "d23c89a6-6eca-4134-81f4-6d269f376be4",
        "colab": {
          "base_uri": "https://localhost:8080/",
          "height": 34
        }
      },
      "source": [
        "# Find the total number of rows in the table\n",
        "row_count = engine.execute('SELECT COUNT(*) FROM film')\n",
        "row_count.first()"
      ],
      "execution_count": 0,
      "outputs": [
        {
          "output_type": "execute_result",
          "data": {
            "text/plain": [
              "(1000,)"
            ]
          },
          "metadata": {
            "tags": []
          },
          "execution_count": 98
        }
      ]
    },
    {
      "cell_type": "markdown",
      "metadata": {
        "id": "cy2MDhsnbv46",
        "colab_type": "text"
      },
      "source": [
        ""
      ]
    },
    {
      "cell_type": "code",
      "metadata": {
        "id": "zCsByVTo8lAP",
        "colab_type": "code",
        "outputId": "6026d57b-208f-4bde-99eb-7ecaa2107207",
        "colab": {
          "base_uri": "https://localhost:8080/",
          "height": 34
        }
      },
      "source": [
        "type(row_count)"
      ],
      "execution_count": 0,
      "outputs": [
        {
          "output_type": "execute_result",
          "data": {
            "text/plain": [
              "sqlalchemy.engine.result.ResultProxy"
            ]
          },
          "metadata": {
            "tags": []
          },
          "execution_count": 99
        }
      ]
    },
    {
      "cell_type": "code",
      "metadata": {
        "id": "_-_yyVMM892e",
        "colab_type": "code",
        "outputId": "64d740d6-dd6d-4c46-bc11-0c9b767f734e",
        "colab": {
          "base_uri": "https://localhost:8080/",
          "height": 34
        }
      },
      "source": [
        "sql = '''\n",
        "SELECT \n",
        "  COUNT(*) \n",
        "FROM \n",
        "  film\n",
        "WHERE \n",
        "  rating = 'PG' '''\n",
        "row_count = engine.execute(sql)\n",
        "engine.dispose()\n",
        "ans = row_count.first()\n",
        "print('There are {} PGs in the table'.format(ans['count']))"
      ],
      "execution_count": 0,
      "outputs": [
        {
          "output_type": "stream",
          "text": [
            "There are 194 PGs in the table\n"
          ],
          "name": "stdout"
        }
      ]
    },
    {
      "cell_type": "code",
      "metadata": {
        "id": "RcSeAp_Q3fQj",
        "colab_type": "code",
        "outputId": "f408ad8a-e2d7-4dd1-a883-6a22736639e5",
        "colab": {
          "base_uri": "https://localhost:8080/",
          "height": 34
        }
      },
      "source": [
        "rows[0][10]"
      ],
      "execution_count": 0,
      "outputs": [
        {
          "output_type": "execute_result",
          "data": {
            "text/plain": [
              "'PG'"
            ]
          },
          "metadata": {
            "tags": []
          },
          "execution_count": 82
        }
      ]
    },
    {
      "cell_type": "code",
      "metadata": {
        "id": "8DoS2F6x4FfJ",
        "colab_type": "code",
        "colab": {}
      },
      "source": [
        "select \n",
        "from rows"
      ],
      "execution_count": 0,
      "outputs": []
    }
  ]
}