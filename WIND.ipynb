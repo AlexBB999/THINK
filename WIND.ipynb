{
  "nbformat": 4,
  "nbformat_minor": 0,
  "metadata": {
    "colab": {
      "name": "WIND.ipynb",
      "provenance": [],
      "collapsed_sections": [],
      "include_colab_link": true
    },
    "kernelspec": {
      "name": "python3",
      "display_name": "Python 3"
    }
  },
  "cells": [
    {
      "cell_type": "markdown",
      "metadata": {
        "id": "view-in-github",
        "colab_type": "text"
      },
      "source": [
        "<a href=\"https://colab.research.google.com/github/AlexBB999/THINK/blob/master/WIND.ipynb\" target=\"_parent\"><img src=\"https://colab.research.google.com/assets/colab-badge.svg\" alt=\"Open In Colab\"/></a>"
      ]
    },
    {
      "cell_type": "code",
      "metadata": {
        "id": "BSKHoV2sMrQV",
        "colab_type": "code",
        "colab": {}
      },
      "source": [
        "%matplotlib inline\n",
        "import pandas as pd\n",
        "import numpy as np\n",
        "import matplotlib.pyplot as plt\n",
        "from scipy import stats\n",
        "from scipy.stats import ks_2samp\n",
        "import random"
      ],
      "execution_count": 0,
      "outputs": []
    },
    {
      "cell_type": "markdown",
      "metadata": {
        "id": "oJPClYxSiLxK",
        "colab_type": "text"
      },
      "source": [
        "READ THE USGS WIND TURBINE DATASET THAT IDENTIFIES EVERY WIND TURBINE IN THE USA + PUERTO RICO + GUAM\n"
      ]
    },
    {
      "cell_type": "code",
      "metadata": {
        "id": "5omg4odtMyre",
        "colab_type": "code",
        "colab": {}
      },
      "source": [
        "wind=pd.read_csv('https://raw.githubusercontent.com/AlexBB999/Thinkful/master/wind_data.csv')"
      ],
      "execution_count": 0,
      "outputs": []
    },
    {
      "cell_type": "code",
      "metadata": {
        "id": "3IjGlqdbQ7XX",
        "colab_type": "code",
        "outputId": "382e168e-b480-4b8a-cb98-d6922b5d3945",
        "colab": {
          "base_uri": "https://localhost:8080/",
          "height": 504
        }
      },
      "source": [
        "wind.info()"
      ],
      "execution_count": 0,
      "outputs": [
        {
          "output_type": "stream",
          "text": [
            "<class 'pandas.core.frame.DataFrame'>\n",
            "RangeIndex: 60576 entries, 0 to 60575\n",
            "Data columns (total 24 columns):\n",
            "case_id       60576 non-null int64\n",
            "faa_ors       53368 non-null object\n",
            "faa_asn       53697 non-null object\n",
            "usgs_pr_id    41397 non-null float64\n",
            "t_state       60576 non-null object\n",
            "t_county      60576 non-null object\n",
            "t_fips        60576 non-null int64\n",
            "p_name        60576 non-null object\n",
            "p_year        60330 non-null float64\n",
            "p_tnum        60576 non-null int64\n",
            "p_cap         56530 non-null float64\n",
            "t_manu        56366 non-null object\n",
            "t_model       56227 non-null object\n",
            "t_cap         56531 non-null float64\n",
            "t_hh          54477 non-null float64\n",
            "t_rd          55408 non-null float64\n",
            "t_rsa         55408 non-null float64\n",
            "t_ttlh        54477 non-null float64\n",
            "t_conf_atr    60576 non-null int64\n",
            "t_conf_loc    60576 non-null int64\n",
            "t_img_date    38467 non-null object\n",
            "t_img_srce    60576 non-null object\n",
            "xlong         60576 non-null float64\n",
            "ylat          60576 non-null float64\n",
            "dtypes: float64(10), int64(5), object(9)\n",
            "memory usage: 11.1+ MB\n"
          ],
          "name": "stdout"
        }
      ]
    },
    {
      "cell_type": "markdown",
      "metadata": {
        "id": "ZKnmvc50i99Z",
        "colab_type": "text"
      },
      "source": [
        "WE HAVE 60,576 ENTRIES AND 24 ATTRIBUTES\n"
      ]
    },
    {
      "cell_type": "code",
      "metadata": {
        "id": "0FJ37WXPk5-H",
        "colab_type": "code",
        "colab": {}
      },
      "source": [
        "c=list(wind)\n",
        "l=range(24)"
      ],
      "execution_count": 0,
      "outputs": []
    },
    {
      "cell_type": "code",
      "metadata": {
        "id": "oDlgIOX-k-PE",
        "colab_type": "code",
        "outputId": "a7cf854b-4e7d-4ffe-a02d-513319543cef",
        "colab": {
          "base_uri": "https://localhost:8080/",
          "height": 420
        }
      },
      "source": [
        "new=zip(l,c)\n",
        "list(new)"
      ],
      "execution_count": 0,
      "outputs": [
        {
          "output_type": "execute_result",
          "data": {
            "text/plain": [
              "[(0, 'case_id'),\n",
              " (1, 'faa_ors'),\n",
              " (2, 'faa_asn'),\n",
              " (3, 'usgs_pr_id'),\n",
              " (4, 't_state'),\n",
              " (5, 't_county'),\n",
              " (6, 't_fips'),\n",
              " (7, 'p_name'),\n",
              " (8, 'p_year'),\n",
              " (9, 'p_tnum'),\n",
              " (10, 'p_cap'),\n",
              " (11, 't_manu'),\n",
              " (12, 't_model'),\n",
              " (13, 't_cap'),\n",
              " (14, 't_hh'),\n",
              " (15, 't_rd'),\n",
              " (16, 't_rsa'),\n",
              " (17, 't_ttlh'),\n",
              " (18, 't_conf_atr'),\n",
              " (19, 't_conf_loc'),\n",
              " (20, 't_img_date'),\n",
              " (21, 't_img_srce'),\n",
              " (22, 'xlong'),\n",
              " (23, 'ylat')]"
            ]
          },
          "metadata": {
            "tags": []
          },
          "execution_count": 57
        }
      ]
    },
    {
      "cell_type": "markdown",
      "metadata": {
        "id": "jJFluuK3OhgP",
        "colab_type": "text"
      },
      "source": [
        "DROP 9 COLUMNS NOT RELEVANT TO THIS PROJECT\n",
        "\n",
        "ADD \"MEAN CAPACITY FACTOR COLUMN\""
      ]
    },
    {
      "cell_type": "code",
      "metadata": {
        "id": "eXRKPdBQhKKz",
        "colab_type": "code",
        "colab": {}
      },
      "source": [
        "wind.drop(wind.columns[[1,2,3,16,17,18,19,20,21]],axis=1,inplace=True)\n",
        "wind['Mean Capacity Factor']=0.0"
      ],
      "execution_count": 0,
      "outputs": []
    },
    {
      "cell_type": "code",
      "metadata": {
        "id": "AorqvjlGkvRS",
        "colab_type": "code",
        "outputId": "0e1453da-4c44-4d7a-f2ad-215bf77954eb",
        "colab": {
          "base_uri": "https://localhost:8080/",
          "height": 34
        }
      },
      "source": [
        "wind.shape"
      ],
      "execution_count": 0,
      "outputs": [
        {
          "output_type": "execute_result",
          "data": {
            "text/plain": [
              "(60576, 16)"
            ]
          },
          "metadata": {
            "tags": []
          },
          "execution_count": 106
        }
      ]
    },
    {
      "cell_type": "markdown",
      "metadata": {
        "id": "ioaRePVVje3O",
        "colab_type": "text"
      },
      "source": [
        "RENAMES COLUMNS SO HUMANS CAN READ THEM"
      ]
    },
    {
      "cell_type": "code",
      "metadata": {
        "id": "5urZx19ik8or",
        "colab_type": "code",
        "colab": {}
      },
      "source": [
        "wind.columns=['CaseID','State','County','LocationID','Project Name', 'Year Built','Number of Turbines',\"Max Project Capacity\",'Turbine Manufacturer','Turbine Model','Max Turbine Capacity','Tower Hub Height','Rotor Diameter','Longitude','Latitude','Mean Capacity Factor']"
      ],
      "execution_count": 0,
      "outputs": []
    },
    {
      "cell_type": "code",
      "metadata": {
        "id": "hFpOd3mAoHPv",
        "colab_type": "code",
        "outputId": "78e0abad-05bc-4b56-87f4-87a2065dbead",
        "colab": {
          "base_uri": "https://localhost:8080/",
          "height": 313
        }
      },
      "source": [
        "wind.head()"
      ],
      "execution_count": 0,
      "outputs": [
        {
          "output_type": "execute_result",
          "data": {
            "text/html": [
              "<div>\n",
              "<style scoped>\n",
              "    .dataframe tbody tr th:only-of-type {\n",
              "        vertical-align: middle;\n",
              "    }\n",
              "\n",
              "    .dataframe tbody tr th {\n",
              "        vertical-align: top;\n",
              "    }\n",
              "\n",
              "    .dataframe thead th {\n",
              "        text-align: right;\n",
              "    }\n",
              "</style>\n",
              "<table border=\"1\" class=\"dataframe\">\n",
              "  <thead>\n",
              "    <tr style=\"text-align: right;\">\n",
              "      <th></th>\n",
              "      <th>CaseID</th>\n",
              "      <th>State</th>\n",
              "      <th>County</th>\n",
              "      <th>LocationID</th>\n",
              "      <th>Project Name</th>\n",
              "      <th>Year Built</th>\n",
              "      <th>Number of Turbines</th>\n",
              "      <th>Max Project Capacity</th>\n",
              "      <th>Turbine Manufacturer</th>\n",
              "      <th>Turbine Model</th>\n",
              "      <th>Max Turbine Capacity</th>\n",
              "      <th>Tower Hub Height</th>\n",
              "      <th>Rotor Diameter</th>\n",
              "      <th>Longitude</th>\n",
              "      <th>Latitude</th>\n",
              "      <th>Mean Capacity Factor</th>\n",
              "    </tr>\n",
              "  </thead>\n",
              "  <tbody>\n",
              "    <tr>\n",
              "      <th>0</th>\n",
              "      <td>3073403</td>\n",
              "      <td>CA</td>\n",
              "      <td>Kern County</td>\n",
              "      <td>6029</td>\n",
              "      <td>251 Wind</td>\n",
              "      <td>1987.0</td>\n",
              "      <td>194</td>\n",
              "      <td>18.43</td>\n",
              "      <td>Vestas - American Wind Technology Inc.</td>\n",
              "      <td>Unknown Vestas</td>\n",
              "      <td>95.0</td>\n",
              "      <td>NaN</td>\n",
              "      <td>NaN</td>\n",
              "      <td>-118.352219</td>\n",
              "      <td>35.088993</td>\n",
              "      <td>0.0</td>\n",
              "    </tr>\n",
              "    <tr>\n",
              "      <th>1</th>\n",
              "      <td>3001002</td>\n",
              "      <td>CA</td>\n",
              "      <td>Kern County</td>\n",
              "      <td>6029</td>\n",
              "      <td>251 Wind</td>\n",
              "      <td>1987.0</td>\n",
              "      <td>194</td>\n",
              "      <td>18.43</td>\n",
              "      <td>Vestas - American Wind Technology Inc.</td>\n",
              "      <td>Unknown Vestas</td>\n",
              "      <td>95.0</td>\n",
              "      <td>NaN</td>\n",
              "      <td>NaN</td>\n",
              "      <td>-118.357185</td>\n",
              "      <td>35.086594</td>\n",
              "      <td>0.0</td>\n",
              "    </tr>\n",
              "    <tr>\n",
              "      <th>2</th>\n",
              "      <td>3005085</td>\n",
              "      <td>CA</td>\n",
              "      <td>Kern County</td>\n",
              "      <td>6029</td>\n",
              "      <td>251 Wind</td>\n",
              "      <td>1987.0</td>\n",
              "      <td>194</td>\n",
              "      <td>18.43</td>\n",
              "      <td>Vestas - American Wind Technology Inc.</td>\n",
              "      <td>Unknown Vestas</td>\n",
              "      <td>95.0</td>\n",
              "      <td>NaN</td>\n",
              "      <td>NaN</td>\n",
              "      <td>-118.353485</td>\n",
              "      <td>35.085896</td>\n",
              "      <td>0.0</td>\n",
              "    </tr>\n",
              "    <tr>\n",
              "      <th>3</th>\n",
              "      <td>3073404</td>\n",
              "      <td>CA</td>\n",
              "      <td>Kern County</td>\n",
              "      <td>6029</td>\n",
              "      <td>251 Wind</td>\n",
              "      <td>1987.0</td>\n",
              "      <td>194</td>\n",
              "      <td>18.43</td>\n",
              "      <td>Vestas - American Wind Technology Inc.</td>\n",
              "      <td>Unknown Vestas</td>\n",
              "      <td>95.0</td>\n",
              "      <td>NaN</td>\n",
              "      <td>NaN</td>\n",
              "      <td>-118.352531</td>\n",
              "      <td>35.087852</td>\n",
              "      <td>0.0</td>\n",
              "    </tr>\n",
              "    <tr>\n",
              "      <th>4</th>\n",
              "      <td>3073401</td>\n",
              "      <td>CA</td>\n",
              "      <td>Kern County</td>\n",
              "      <td>6029</td>\n",
              "      <td>251 Wind</td>\n",
              "      <td>1987.0</td>\n",
              "      <td>194</td>\n",
              "      <td>18.43</td>\n",
              "      <td>Vestas - American Wind Technology Inc.</td>\n",
              "      <td>Unknown Vestas</td>\n",
              "      <td>95.0</td>\n",
              "      <td>NaN</td>\n",
              "      <td>NaN</td>\n",
              "      <td>-118.354652</td>\n",
              "      <td>35.085163</td>\n",
              "      <td>0.0</td>\n",
              "    </tr>\n",
              "  </tbody>\n",
              "</table>\n",
              "</div>"
            ],
            "text/plain": [
              "    CaseID State       County  ...   Longitude   Latitude  Mean Capacity Factor\n",
              "0  3073403    CA  Kern County  ... -118.352219  35.088993                   0.0\n",
              "1  3001002    CA  Kern County  ... -118.357185  35.086594                   0.0\n",
              "2  3005085    CA  Kern County  ... -118.353485  35.085896                   0.0\n",
              "3  3073404    CA  Kern County  ... -118.352531  35.087852                   0.0\n",
              "4  3073401    CA  Kern County  ... -118.354652  35.085163                   0.0\n",
              "\n",
              "[5 rows x 16 columns]"
            ]
          },
          "metadata": {
            "tags": []
          },
          "execution_count": 108
        }
      ]
    },
    {
      "cell_type": "code",
      "metadata": {
        "id": "1oRfVhYWXBPz",
        "colab_type": "code",
        "outputId": "d2acdca1-f88f-4f6d-d717-a97632731b10",
        "colab": {
          "base_uri": "https://localhost:8080/",
          "height": 34
        }
      },
      "source": [
        "wind.shape"
      ],
      "execution_count": 0,
      "outputs": [
        {
          "output_type": "execute_result",
          "data": {
            "text/plain": [
              "(60576, 16)"
            ]
          },
          "metadata": {
            "tags": []
          },
          "execution_count": 109
        }
      ]
    },
    {
      "cell_type": "markdown",
      "metadata": {
        "id": "gxLvYph8PACi",
        "colab_type": "text"
      },
      "source": [
        "GET COUNT OF EACH MANUFACTURER LISTED IN DATABASE"
      ]
    },
    {
      "cell_type": "code",
      "metadata": {
        "id": "lS-TN1lARNsu",
        "colab_type": "code",
        "outputId": "1b7d417a-f563-49c1-b9c4-41981164e7b0",
        "colab": {
          "base_uri": "https://localhost:8080/",
          "height": 218
        }
      },
      "source": [
        "wind['Turbine Manufacturer'].value_counts()\n"
      ],
      "execution_count": 0,
      "outputs": [
        {
          "output_type": "execute_result",
          "data": {
            "text/plain": [
              "GE Wind              23495\n",
              "Vestas               12870\n",
              "Siemens               5251\n",
              "Mitsubishi            2910\n",
              "Gamesa                2717\n",
              "                     ...  \n",
              "Enron Corporation        1\n",
              "Wind World               1\n",
              "Skystream                1\n",
              "Leitner Poma             1\n",
              "Bergey Energy            1\n",
              "Name: Turbine Manufacturer, Length: 71, dtype: int64"
            ]
          },
          "metadata": {
            "tags": []
          },
          "execution_count": 110
        }
      ]
    },
    {
      "cell_type": "markdown",
      "metadata": {
        "id": "o5E4qXLBPOqI",
        "colab_type": "text"
      },
      "source": [
        "HISTOGRAM OF MAX POWER FOR ALL TURBINES"
      ]
    },
    {
      "cell_type": "code",
      "metadata": {
        "id": "SxDulLmMTMbX",
        "colab_type": "code",
        "outputId": "91a28a0b-a3e1-41c9-d4bd-bb2a392cbf9f",
        "colab": {
          "base_uri": "https://localhost:8080/",
          "height": 416
        }
      },
      "source": [
        "plt.hist(wind['Max Turbine Capacity'], alpha = .5,color='b')"
      ],
      "execution_count": 0,
      "outputs": [
        {
          "output_type": "stream",
          "text": [
            "/usr/local/lib/python3.6/dist-packages/numpy/lib/histograms.py:839: RuntimeWarning: invalid value encountered in greater_equal\n",
            "  keep = (tmp_a >= first_edge)\n",
            "/usr/local/lib/python3.6/dist-packages/numpy/lib/histograms.py:840: RuntimeWarning: invalid value encountered in less_equal\n",
            "  keep &= (tmp_a <= last_edge)\n"
          ],
          "name": "stderr"
        },
        {
          "output_type": "execute_result",
          "data": {
            "text/plain": [
              "(array([3.8250e+03, 4.7660e+03, 2.3791e+04, 1.8451e+04, 4.2540e+03,\n",
              "        1.4390e+03, 0.0000e+00, 0.0000e+00, 0.0000e+00, 5.0000e+00]),\n",
              " array([  50.,  645., 1240., 1835., 2430., 3025., 3620., 4215., 4810.,\n",
              "        5405., 6000.]),\n",
              " <a list of 10 Patch objects>)"
            ]
          },
          "metadata": {
            "tags": []
          },
          "execution_count": 111
        },
        {
          "output_type": "display_data",
          "data": {
            "image/png": "[encoded data removed]",
            "text/plain": [
              "<Figure size 432x288 with 1 Axes>"
            ]
          },
          "metadata": {
            "tags": []
          }
        }
      ]
    },
    {
      "cell_type": "markdown",
      "metadata": {
        "id": "foz24H9okyVz",
        "colab_type": "text"
      },
      "source": [
        "CREATING PANDAS SUBSET  --  ONLY TURBINES IN CALIFORNIA"
      ]
    },
    {
      "cell_type": "code",
      "metadata": {
        "id": "JzGqRHFHTzFx",
        "colab_type": "code",
        "colab": {}
      },
      "source": [
        "wind_cali=wind[wind['State']=='CA']"
      ],
      "execution_count": 0,
      "outputs": []
    },
    {
      "cell_type": "code",
      "metadata": {
        "id": "wBG-3HuLp0mM",
        "colab_type": "code",
        "outputId": "3923fbc8-0f9e-4d12-dd0a-50de0748fe8e",
        "colab": {
          "base_uri": "https://localhost:8080/",
          "height": 34
        }
      },
      "source": [
        "wind_cali.shape"
      ],
      "execution_count": 0,
      "outputs": [
        {
          "output_type": "execute_result",
          "data": {
            "text/plain": [
              "(8119, 16)"
            ]
          },
          "metadata": {
            "tags": []
          },
          "execution_count": 113
        }
      ]
    },
    {
      "cell_type": "markdown",
      "metadata": {
        "id": "XRLZAgLHz6KR",
        "colab_type": "text"
      },
      "source": [
        "DROP ROWS WHERE  --> t_CAP=NaN -- NO ENTRY FOR MAX CAPACITY"
      ]
    },
    {
      "cell_type": "code",
      "metadata": {
        "id": "5Kh5K2wju_Ld",
        "colab_type": "code",
        "colab": {}
      },
      "source": [
        "wind_cali = wind_cali.dropna(subset=['Max Turbine Capacity'])"
      ],
      "execution_count": 0,
      "outputs": []
    },
    {
      "cell_type": "code",
      "metadata": {
        "id": "OdoHjheqUKpO",
        "colab_type": "code",
        "outputId": "3b57df1e-47e1-43ff-f912-34ecb042bdf6",
        "colab": {
          "base_uri": "https://localhost:8080/",
          "height": 34
        }
      },
      "source": [
        "wind_cali.shape"
      ],
      "execution_count": 0,
      "outputs": [
        {
          "output_type": "execute_result",
          "data": {
            "text/plain": [
              "(6075, 16)"
            ]
          },
          "metadata": {
            "tags": []
          },
          "execution_count": 115
        }
      ]
    },
    {
      "cell_type": "code",
      "metadata": {
        "id": "ORQzwJz4scI4",
        "colab_type": "code",
        "outputId": "ca6bd479-07e1-4289-c43c-e637b46afa17",
        "colab": {
          "base_uri": "https://localhost:8080/",
          "height": 174
        }
      },
      "source": [
        "wind_cali.head(2)"
      ],
      "execution_count": 0,
      "outputs": [
        {
          "output_type": "execute_result",
          "data": {
            "text/html": [
              "<div>\n",
              "<style scoped>\n",
              "    .dataframe tbody tr th:only-of-type {\n",
              "        vertical-align: middle;\n",
              "    }\n",
              "\n",
              "    .dataframe tbody tr th {\n",
              "        vertical-align: top;\n",
              "    }\n",
              "\n",
              "    .dataframe thead th {\n",
              "        text-align: right;\n",
              "    }\n",
              "</style>\n",
              "<table border=\"1\" class=\"dataframe\">\n",
              "  <thead>\n",
              "    <tr style=\"text-align: right;\">\n",
              "      <th></th>\n",
              "      <th>CaseID</th>\n",
              "      <th>State</th>\n",
              "      <th>County</th>\n",
              "      <th>LocationID</th>\n",
              "      <th>Project Name</th>\n",
              "      <th>Year Built</th>\n",
              "      <th>Number of Turbines</th>\n",
              "      <th>Max Project Capacity</th>\n",
              "      <th>Turbine Manufacturer</th>\n",
              "      <th>Turbine Model</th>\n",
              "      <th>Max Turbine Capacity</th>\n",
              "      <th>Tower Hub Height</th>\n",
              "      <th>Rotor Diameter</th>\n",
              "      <th>Longitude</th>\n",
              "      <th>Latitude</th>\n",
              "      <th>Mean Capacity Factor</th>\n",
              "    </tr>\n",
              "  </thead>\n",
              "  <tbody>\n",
              "    <tr>\n",
              "      <th>0</th>\n",
              "      <td>3073403</td>\n",
              "      <td>CA</td>\n",
              "      <td>Kern County</td>\n",
              "      <td>6029</td>\n",
              "      <td>251 Wind</td>\n",
              "      <td>1987.0</td>\n",
              "      <td>194</td>\n",
              "      <td>18.43</td>\n",
              "      <td>Vestas - American Wind Technology Inc.</td>\n",
              "      <td>Unknown Vestas</td>\n",
              "      <td>95.0</td>\n",
              "      <td>NaN</td>\n",
              "      <td>NaN</td>\n",
              "      <td>-118.352219</td>\n",
              "      <td>35.088993</td>\n",
              "      <td>0.0</td>\n",
              "    </tr>\n",
              "    <tr>\n",
              "      <th>1</th>\n",
              "      <td>3001002</td>\n",
              "      <td>CA</td>\n",
              "      <td>Kern County</td>\n",
              "      <td>6029</td>\n",
              "      <td>251 Wind</td>\n",
              "      <td>1987.0</td>\n",
              "      <td>194</td>\n",
              "      <td>18.43</td>\n",
              "      <td>Vestas - American Wind Technology Inc.</td>\n",
              "      <td>Unknown Vestas</td>\n",
              "      <td>95.0</td>\n",
              "      <td>NaN</td>\n",
              "      <td>NaN</td>\n",
              "      <td>-118.357185</td>\n",
              "      <td>35.086594</td>\n",
              "      <td>0.0</td>\n",
              "    </tr>\n",
              "  </tbody>\n",
              "</table>\n",
              "</div>"
            ],
            "text/plain": [
              "    CaseID State       County  ...   Longitude   Latitude  Mean Capacity Factor\n",
              "0  3073403    CA  Kern County  ... -118.352219  35.088993                   0.0\n",
              "1  3001002    CA  Kern County  ... -118.357185  35.086594                   0.0\n",
              "\n",
              "[2 rows x 16 columns]"
            ]
          },
          "metadata": {
            "tags": []
          },
          "execution_count": 116
        }
      ]
    },
    {
      "cell_type": "markdown",
      "metadata": {
        "id": "e05KVu0RLDWJ",
        "colab_type": "text"
      },
      "source": [
        "FIND MINIMUM LATITUDE FOR CALIFORNIA WIND TURBINES"
      ]
    },
    {
      "cell_type": "code",
      "metadata": {
        "id": "HEdcl-vZ4ltX",
        "colab_type": "code",
        "outputId": "447dc5b7-fc8b-4e3b-b7a5-cfc774b67c9e",
        "colab": {
          "base_uri": "https://localhost:8080/",
          "height": 34
        }
      },
      "source": [
        "wind_cali['Latitude'].min()"
      ],
      "execution_count": 0,
      "outputs": [
        {
          "output_type": "execute_result",
          "data": {
            "text/plain": [
              "32.701496"
            ]
          },
          "metadata": {
            "tags": []
          },
          "execution_count": 117
        }
      ]
    },
    {
      "cell_type": "markdown",
      "metadata": {
        "id": "Adkk8Xj2LPie",
        "colab_type": "text"
      },
      "source": [
        "FIND MAXIMUM LATITUDE FOR CALIFORNIA WIND TURBINES"
      ]
    },
    {
      "cell_type": "code",
      "metadata": {
        "id": "CzXP3Yp-4suz",
        "colab_type": "code",
        "outputId": "60c678ce-06a8-4558-bdbd-df724b596196",
        "colab": {
          "base_uri": "https://localhost:8080/",
          "height": 34
        }
      },
      "source": [
        "wind_cali['Latitude'].max()"
      ],
      "execution_count": 0,
      "outputs": [
        {
          "output_type": "execute_result",
          "data": {
            "text/plain": [
              "40.914696"
            ]
          },
          "metadata": {
            "tags": []
          },
          "execution_count": 118
        }
      ]
    },
    {
      "cell_type": "markdown",
      "metadata": {
        "id": "1RO14tfwjGAZ",
        "colab_type": "text"
      },
      "source": [
        "SELECT  TURBINES BETWEEN LATITUDE 32 AND 34  NORTH --  SOUTHERN CALIFORNIA"
      ]
    },
    {
      "cell_type": "code",
      "metadata": {
        "id": "qNxAoB5b42jv",
        "colab_type": "code",
        "colab": {}
      },
      "source": [
        "cali_south=wind_cali[(wind_cali['Latitude']>32) & (wind_cali['Latitude']<34)]"
      ],
      "execution_count": 0,
      "outputs": []
    },
    {
      "cell_type": "markdown",
      "metadata": {
        "id": "EduV6TQ9jUHW",
        "colab_type": "text"
      },
      "source": [
        "RANDOMLY SELECT 30 TURBINES FROM ABOVE SOUTHERN CALI SUBSET"
      ]
    },
    {
      "cell_type": "code",
      "metadata": {
        "id": "IQJQM2pj9shr",
        "colab_type": "code",
        "colab": {}
      },
      "source": [
        "cs=cali_south.sample(30,random_state=1)"
      ],
      "execution_count": 0,
      "outputs": []
    },
    {
      "cell_type": "code",
      "metadata": {
        "id": "dFo81BIa-lQ-",
        "colab_type": "code",
        "outputId": "c2867ad4-527b-471d-9373-f813e571dda3",
        "colab": {
          "base_uri": "https://localhost:8080/",
          "height": 34
        }
      },
      "source": [
        "cs['Max Turbine Capacity'].sum()"
      ],
      "execution_count": 0,
      "outputs": [
        {
          "output_type": "execute_result",
          "data": {
            "text/plain": [
              "14648.0"
            ]
          },
          "metadata": {
            "tags": []
          },
          "execution_count": 121
        }
      ]
    },
    {
      "cell_type": "code",
      "metadata": {
        "id": "SqQCKhQBhaF5",
        "colab_type": "code",
        "outputId": "c4616cc9-aea0-438c-9c50-2970726e7c65",
        "colab": {
          "base_uri": "https://localhost:8080/",
          "height": 34
        }
      },
      "source": [
        "cs.shape"
      ],
      "execution_count": 0,
      "outputs": [
        {
          "output_type": "execute_result",
          "data": {
            "text/plain": [
              "(30, 17)"
            ]
          },
          "metadata": {
            "tags": []
          },
          "execution_count": 135
        }
      ]
    },
    {
      "cell_type": "code",
      "metadata": {
        "id": "AUp8gbhUCcnb",
        "colab_type": "code",
        "outputId": "1c9f393f-4f12-46fb-fae7-b1d5ffd30b2b",
        "colab": {
          "base_uri": "https://localhost:8080/",
          "height": 1000
        }
      },
      "source": [
        "cs"
      ],
      "execution_count": 0,
      "outputs": [
        {
          "output_type": "execute_result",
          "data": {
            "text/html": [
              "<div>\n",
              "<style scoped>\n",
              "    .dataframe tbody tr th:only-of-type {\n",
              "        vertical-align: middle;\n",
              "    }\n",
              "\n",
              "    .dataframe tbody tr th {\n",
              "        vertical-align: top;\n",
              "    }\n",
              "\n",
              "    .dataframe thead th {\n",
              "        text-align: right;\n",
              "    }\n",
              "</style>\n",
              "<table border=\"1\" class=\"dataframe\">\n",
              "  <thead>\n",
              "    <tr style=\"text-align: right;\">\n",
              "      <th></th>\n",
              "      <th>CaseID</th>\n",
              "      <th>State</th>\n",
              "      <th>County</th>\n",
              "      <th>LocationID</th>\n",
              "      <th>Project Name</th>\n",
              "      <th>Year Built</th>\n",
              "      <th>Number of Turbines</th>\n",
              "      <th>Max Project Capacity</th>\n",
              "      <th>Turbine Manufacturer</th>\n",
              "      <th>Turbine Model</th>\n",
              "      <th>Max Turbine Capacity</th>\n",
              "      <th>Tower Hub Height</th>\n",
              "      <th>Rotor Diameter</th>\n",
              "      <th>Longitude</th>\n",
              "      <th>Latitude</th>\n",
              "      <th>Mean Capacity Factor</th>\n",
              "    </tr>\n",
              "  </thead>\n",
              "  <tbody>\n",
              "    <tr>\n",
              "      <th>24740</th>\n",
              "      <td>3006356</td>\n",
              "      <td>CA</td>\n",
              "      <td>Riverside County</td>\n",
              "      <td>6065</td>\n",
              "      <td>Karen Avenue Windfarm</td>\n",
              "      <td>2004.0</td>\n",
              "      <td>12</td>\n",
              "      <td>11.700</td>\n",
              "      <td>GE Wind</td>\n",
              "      <td>1.5-70.5</td>\n",
              "      <td>1500.0</td>\n",
              "      <td>56.5</td>\n",
              "      <td>77.0</td>\n",
              "      <td>-116.555290</td>\n",
              "      <td>33.921993</td>\n",
              "      <td>16.10</td>\n",
              "    </tr>\n",
              "    <tr>\n",
              "      <th>36806</th>\n",
              "      <td>3067710</td>\n",
              "      <td>CA</td>\n",
              "      <td>Riverside County</td>\n",
              "      <td>6065</td>\n",
              "      <td>Painted Hills</td>\n",
              "      <td>1985.0</td>\n",
              "      <td>169</td>\n",
              "      <td>15.210</td>\n",
              "      <td>Vestas - American Wind Technology Inc.</td>\n",
              "      <td>V17</td>\n",
              "      <td>90.0</td>\n",
              "      <td>NaN</td>\n",
              "      <td>17.0</td>\n",
              "      <td>-116.631630</td>\n",
              "      <td>33.935703</td>\n",
              "      <td>21.50</td>\n",
              "    </tr>\n",
              "    <tr>\n",
              "      <th>36885</th>\n",
              "      <td>3067760</td>\n",
              "      <td>CA</td>\n",
              "      <td>Riverside County</td>\n",
              "      <td>6065</td>\n",
              "      <td>Painted Hills</td>\n",
              "      <td>1985.0</td>\n",
              "      <td>59</td>\n",
              "      <td>3.835</td>\n",
              "      <td>Vestas - American Wind Technology Inc.</td>\n",
              "      <td>V15</td>\n",
              "      <td>65.0</td>\n",
              "      <td>NaN</td>\n",
              "      <td>15.0</td>\n",
              "      <td>-116.618141</td>\n",
              "      <td>33.937469</td>\n",
              "      <td>12.70</td>\n",
              "    </tr>\n",
              "    <tr>\n",
              "      <th>31899</th>\n",
              "      <td>3002834</td>\n",
              "      <td>CA</td>\n",
              "      <td>Riverside County</td>\n",
              "      <td>6065</td>\n",
              "      <td>Mesa Wind Farm</td>\n",
              "      <td>1983.0</td>\n",
              "      <td>460</td>\n",
              "      <td>29.900</td>\n",
              "      <td>Vestas</td>\n",
              "      <td>V15</td>\n",
              "      <td>65.0</td>\n",
              "      <td>22.8</td>\n",
              "      <td>15.3</td>\n",
              "      <td>-116.661087</td>\n",
              "      <td>33.960297</td>\n",
              "      <td>12.70</td>\n",
              "    </tr>\n",
              "    <tr>\n",
              "      <th>31928</th>\n",
              "      <td>3003352</td>\n",
              "      <td>CA</td>\n",
              "      <td>Riverside County</td>\n",
              "      <td>6065</td>\n",
              "      <td>Mesa Wind Farm</td>\n",
              "      <td>1983.0</td>\n",
              "      <td>460</td>\n",
              "      <td>29.900</td>\n",
              "      <td>Vestas</td>\n",
              "      <td>V15</td>\n",
              "      <td>65.0</td>\n",
              "      <td>22.8</td>\n",
              "      <td>15.3</td>\n",
              "      <td>-116.658691</td>\n",
              "      <td>33.954594</td>\n",
              "      <td>12.70</td>\n",
              "    </tr>\n",
              "    <tr>\n",
              "      <th>771</th>\n",
              "      <td>3000119</td>\n",
              "      <td>CA</td>\n",
              "      <td>Riverside County</td>\n",
              "      <td>6065</td>\n",
              "      <td>Alta Mesa 1 and 2</td>\n",
              "      <td>1988.0</td>\n",
              "      <td>115</td>\n",
              "      <td>18.560</td>\n",
              "      <td>Danwin</td>\n",
              "      <td>23_160</td>\n",
              "      <td>160.0</td>\n",
              "      <td>23.0</td>\n",
              "      <td>23.0</td>\n",
              "      <td>-116.660759</td>\n",
              "      <td>33.942959</td>\n",
              "      <td>10.20</td>\n",
              "    </tr>\n",
              "    <tr>\n",
              "      <th>31697</th>\n",
              "      <td>3004362</td>\n",
              "      <td>CA</td>\n",
              "      <td>Riverside County</td>\n",
              "      <td>6065</td>\n",
              "      <td>Mesa Wind Farm</td>\n",
              "      <td>1983.0</td>\n",
              "      <td>460</td>\n",
              "      <td>29.900</td>\n",
              "      <td>Vestas</td>\n",
              "      <td>V15</td>\n",
              "      <td>65.0</td>\n",
              "      <td>22.8</td>\n",
              "      <td>15.3</td>\n",
              "      <td>-116.658806</td>\n",
              "      <td>33.955647</td>\n",
              "      <td>16.10</td>\n",
              "    </tr>\n",
              "    <tr>\n",
              "      <th>826</th>\n",
              "      <td>3008467</td>\n",
              "      <td>CA</td>\n",
              "      <td>Riverside County</td>\n",
              "      <td>6065</td>\n",
              "      <td>Alta Mesa 1 and 2</td>\n",
              "      <td>1988.0</td>\n",
              "      <td>115</td>\n",
              "      <td>18.560</td>\n",
              "      <td>Danwin</td>\n",
              "      <td>23_160</td>\n",
              "      <td>160.0</td>\n",
              "      <td>23.0</td>\n",
              "      <td>23.0</td>\n",
              "      <td>-116.666092</td>\n",
              "      <td>33.945309</td>\n",
              "      <td>9.23</td>\n",
              "    </tr>\n",
              "    <tr>\n",
              "      <th>31884</th>\n",
              "      <td>3009485</td>\n",
              "      <td>CA</td>\n",
              "      <td>Riverside County</td>\n",
              "      <td>6065</td>\n",
              "      <td>Mesa Wind Farm</td>\n",
              "      <td>1983.0</td>\n",
              "      <td>460</td>\n",
              "      <td>29.900</td>\n",
              "      <td>Vestas</td>\n",
              "      <td>V15</td>\n",
              "      <td>65.0</td>\n",
              "      <td>22.8</td>\n",
              "      <td>15.3</td>\n",
              "      <td>-116.652290</td>\n",
              "      <td>33.953796</td>\n",
              "      <td>12.70</td>\n",
              "    </tr>\n",
              "    <tr>\n",
              "      <th>44514</th>\n",
              "      <td>3008744</td>\n",
              "      <td>CA</td>\n",
              "      <td>Riverside County</td>\n",
              "      <td>6065</td>\n",
              "      <td>San Gorgonio Westwinds II LLC</td>\n",
              "      <td>1999.0</td>\n",
              "      <td>48</td>\n",
              "      <td>33.600</td>\n",
              "      <td>NEG Micon</td>\n",
              "      <td>NM48</td>\n",
              "      <td>700.0</td>\n",
              "      <td>50.0</td>\n",
              "      <td>48.0</td>\n",
              "      <td>-116.588890</td>\n",
              "      <td>33.895195</td>\n",
              "      <td>14.40</td>\n",
              "    </tr>\n",
              "    <tr>\n",
              "      <th>44431</th>\n",
              "      <td>3071642</td>\n",
              "      <td>CA</td>\n",
              "      <td>Riverside County</td>\n",
              "      <td>6065</td>\n",
              "      <td>San Gorgonio Farms Wind Farm</td>\n",
              "      <td>1986.0</td>\n",
              "      <td>112</td>\n",
              "      <td>31.000</td>\n",
              "      <td>Bonus</td>\n",
              "      <td>120</td>\n",
              "      <td>120.0</td>\n",
              "      <td>24.0</td>\n",
              "      <td>19.4</td>\n",
              "      <td>-116.613251</td>\n",
              "      <td>33.931149</td>\n",
              "      <td>13.10</td>\n",
              "    </tr>\n",
              "    <tr>\n",
              "      <th>13638</th>\n",
              "      <td>3002348</td>\n",
              "      <td>CA</td>\n",
              "      <td>Riverside County</td>\n",
              "      <td>6065</td>\n",
              "      <td>DifWind Farms Ltd. V</td>\n",
              "      <td>1985.0</td>\n",
              "      <td>109</td>\n",
              "      <td>11.772</td>\n",
              "      <td>Micon</td>\n",
              "      <td>M108</td>\n",
              "      <td>108.0</td>\n",
              "      <td>NaN</td>\n",
              "      <td>NaN</td>\n",
              "      <td>-116.551285</td>\n",
              "      <td>33.892796</td>\n",
              "      <td>17.20</td>\n",
              "    </tr>\n",
              "    <tr>\n",
              "      <th>33343</th>\n",
              "      <td>3083673</td>\n",
              "      <td>CA</td>\n",
              "      <td>Riverside County</td>\n",
              "      <td>6065</td>\n",
              "      <td>Mountain View Power Partners I &amp; II</td>\n",
              "      <td>2001.0</td>\n",
              "      <td>111</td>\n",
              "      <td>66.600</td>\n",
              "      <td>Mitsubishi</td>\n",
              "      <td>MWT600</td>\n",
              "      <td>600.0</td>\n",
              "      <td>55.0</td>\n",
              "      <td>45.0</td>\n",
              "      <td>-116.608932</td>\n",
              "      <td>33.904209</td>\n",
              "      <td>13.20</td>\n",
              "    </tr>\n",
              "    <tr>\n",
              "      <th>44519</th>\n",
              "      <td>3008562</td>\n",
              "      <td>CA</td>\n",
              "      <td>Riverside County</td>\n",
              "      <td>6065</td>\n",
              "      <td>San Jacinto Power Company</td>\n",
              "      <td>1985.0</td>\n",
              "      <td>53</td>\n",
              "      <td>4.645</td>\n",
              "      <td>Windmatic</td>\n",
              "      <td>Windmatic 15S</td>\n",
              "      <td>65.0</td>\n",
              "      <td>NaN</td>\n",
              "      <td>11.0</td>\n",
              "      <td>-116.561989</td>\n",
              "      <td>33.889896</td>\n",
              "      <td>18.30</td>\n",
              "    </tr>\n",
              "    <tr>\n",
              "      <th>44428</th>\n",
              "      <td>3067734</td>\n",
              "      <td>CA</td>\n",
              "      <td>Riverside County</td>\n",
              "      <td>6065</td>\n",
              "      <td>San Gorgonio Farms Wind Farm</td>\n",
              "      <td>1984.0</td>\n",
              "      <td>112</td>\n",
              "      <td>31.000</td>\n",
              "      <td>Bonus</td>\n",
              "      <td>65</td>\n",
              "      <td>65.0</td>\n",
              "      <td>24.0</td>\n",
              "      <td>15.3</td>\n",
              "      <td>-116.620285</td>\n",
              "      <td>33.920486</td>\n",
              "      <td>14.20</td>\n",
              "    </tr>\n",
              "    <tr>\n",
              "      <th>55048</th>\n",
              "      <td>3074000</td>\n",
              "      <td>CA</td>\n",
              "      <td>Riverside County</td>\n",
              "      <td>6065</td>\n",
              "      <td>Whitewater Hill</td>\n",
              "      <td>2002.0</td>\n",
              "      <td>41</td>\n",
              "      <td>61.500</td>\n",
              "      <td>GE Wind</td>\n",
              "      <td>GE1.5-65</td>\n",
              "      <td>1500.0</td>\n",
              "      <td>65.0</td>\n",
              "      <td>65.0</td>\n",
              "      <td>-116.626045</td>\n",
              "      <td>33.924664</td>\n",
              "      <td>119.50</td>\n",
              "    </tr>\n",
              "    <tr>\n",
              "      <th>36845</th>\n",
              "      <td>3002030</td>\n",
              "      <td>CA</td>\n",
              "      <td>Riverside County</td>\n",
              "      <td>6065</td>\n",
              "      <td>Painted Hills</td>\n",
              "      <td>1985.0</td>\n",
              "      <td>169</td>\n",
              "      <td>15.210</td>\n",
              "      <td>Vestas - American Wind Technology Inc.</td>\n",
              "      <td>V17</td>\n",
              "      <td>90.0</td>\n",
              "      <td>NaN</td>\n",
              "      <td>17.0</td>\n",
              "      <td>-116.626686</td>\n",
              "      <td>33.934696</td>\n",
              "      <td>18.40</td>\n",
              "    </tr>\n",
              "    <tr>\n",
              "      <th>33408</th>\n",
              "      <td>3075097</td>\n",
              "      <td>CA</td>\n",
              "      <td>Riverside County</td>\n",
              "      <td>6065</td>\n",
              "      <td>Mountain View Power Partners I &amp; II</td>\n",
              "      <td>2001.0</td>\n",
              "      <td>111</td>\n",
              "      <td>66.600</td>\n",
              "      <td>Mitsubishi</td>\n",
              "      <td>MWT600</td>\n",
              "      <td>600.0</td>\n",
              "      <td>55.0</td>\n",
              "      <td>45.0</td>\n",
              "      <td>-116.619507</td>\n",
              "      <td>33.909706</td>\n",
              "      <td>14.80</td>\n",
              "    </tr>\n",
              "    <tr>\n",
              "      <th>35882</th>\n",
              "      <td>3039791</td>\n",
              "      <td>CA</td>\n",
              "      <td>Imperial County</td>\n",
              "      <td>6025</td>\n",
              "      <td>Ocotillo Wind I</td>\n",
              "      <td>2012.0</td>\n",
              "      <td>94</td>\n",
              "      <td>222.780</td>\n",
              "      <td>Siemens</td>\n",
              "      <td>SWT-2.37-108</td>\n",
              "      <td>2370.0</td>\n",
              "      <td>80.0</td>\n",
              "      <td>108.0</td>\n",
              "      <td>-116.053688</td>\n",
              "      <td>32.734596</td>\n",
              "      <td>25.60</td>\n",
              "    </tr>\n",
              "    <tr>\n",
              "      <th>36809</th>\n",
              "      <td>3067764</td>\n",
              "      <td>CA</td>\n",
              "      <td>Riverside County</td>\n",
              "      <td>6065</td>\n",
              "      <td>Painted Hills</td>\n",
              "      <td>1985.0</td>\n",
              "      <td>169</td>\n",
              "      <td>15.210</td>\n",
              "      <td>Vestas - American Wind Technology Inc.</td>\n",
              "      <td>V17</td>\n",
              "      <td>90.0</td>\n",
              "      <td>NaN</td>\n",
              "      <td>17.0</td>\n",
              "      <td>-116.628838</td>\n",
              "      <td>33.938614</td>\n",
              "      <td>13.50</td>\n",
              "    </tr>\n",
              "    <tr>\n",
              "      <th>33402</th>\n",
              "      <td>3071939</td>\n",
              "      <td>CA</td>\n",
              "      <td>Riverside County</td>\n",
              "      <td>6065</td>\n",
              "      <td>Mountain View Power Partners I &amp; II</td>\n",
              "      <td>2001.0</td>\n",
              "      <td>111</td>\n",
              "      <td>66.600</td>\n",
              "      <td>Mitsubishi</td>\n",
              "      <td>MWT600</td>\n",
              "      <td>600.0</td>\n",
              "      <td>55.0</td>\n",
              "      <td>45.0</td>\n",
              "      <td>-116.580833</td>\n",
              "      <td>33.891487</td>\n",
              "      <td>13.60</td>\n",
              "    </tr>\n",
              "    <tr>\n",
              "      <th>44530</th>\n",
              "      <td>3071832</td>\n",
              "      <td>CA</td>\n",
              "      <td>Riverside County</td>\n",
              "      <td>6065</td>\n",
              "      <td>San Jacinto Power Company</td>\n",
              "      <td>1985.0</td>\n",
              "      <td>53</td>\n",
              "      <td>4.645</td>\n",
              "      <td>Vanguard</td>\n",
              "      <td>95T</td>\n",
              "      <td>95.0</td>\n",
              "      <td>NaN</td>\n",
              "      <td>NaN</td>\n",
              "      <td>-116.562035</td>\n",
              "      <td>33.893578</td>\n",
              "      <td>15.90</td>\n",
              "    </tr>\n",
              "    <tr>\n",
              "      <th>33425</th>\n",
              "      <td>3074375</td>\n",
              "      <td>CA</td>\n",
              "      <td>Riverside County</td>\n",
              "      <td>6065</td>\n",
              "      <td>Mountain View Power Partners III</td>\n",
              "      <td>2003.0</td>\n",
              "      <td>34</td>\n",
              "      <td>22.440</td>\n",
              "      <td>Vestas</td>\n",
              "      <td>V47-0.66</td>\n",
              "      <td>660.0</td>\n",
              "      <td>60.0</td>\n",
              "      <td>47.0</td>\n",
              "      <td>-116.587029</td>\n",
              "      <td>33.915722</td>\n",
              "      <td>15.50</td>\n",
              "    </tr>\n",
              "    <tr>\n",
              "      <th>33301</th>\n",
              "      <td>3036738</td>\n",
              "      <td>CA</td>\n",
              "      <td>Riverside County</td>\n",
              "      <td>6065</td>\n",
              "      <td>Mountain View IV</td>\n",
              "      <td>2012.0</td>\n",
              "      <td>49</td>\n",
              "      <td>49.000</td>\n",
              "      <td>Mitsubishi</td>\n",
              "      <td>MWT62/1.0</td>\n",
              "      <td>1000.0</td>\n",
              "      <td>60.0</td>\n",
              "      <td>61.4</td>\n",
              "      <td>-116.569489</td>\n",
              "      <td>33.881596</td>\n",
              "      <td>17.30</td>\n",
              "    </tr>\n",
              "    <tr>\n",
              "      <th>33399</th>\n",
              "      <td>3002034</td>\n",
              "      <td>CA</td>\n",
              "      <td>Riverside County</td>\n",
              "      <td>6065</td>\n",
              "      <td>Mountain View Power Partners I &amp; II</td>\n",
              "      <td>2001.0</td>\n",
              "      <td>111</td>\n",
              "      <td>66.600</td>\n",
              "      <td>Mitsubishi</td>\n",
              "      <td>MWT600</td>\n",
              "      <td>600.0</td>\n",
              "      <td>55.0</td>\n",
              "      <td>45.0</td>\n",
              "      <td>-116.604675</td>\n",
              "      <td>33.905792</td>\n",
              "      <td>16.10</td>\n",
              "    </tr>\n",
              "    <tr>\n",
              "      <th>44534</th>\n",
              "      <td>3071801</td>\n",
              "      <td>CA</td>\n",
              "      <td>Riverside County</td>\n",
              "      <td>6065</td>\n",
              "      <td>San Jacinto Power Company</td>\n",
              "      <td>1985.0</td>\n",
              "      <td>53</td>\n",
              "      <td>4.645</td>\n",
              "      <td>Windmatic</td>\n",
              "      <td>Windmatic 15S</td>\n",
              "      <td>65.0</td>\n",
              "      <td>NaN</td>\n",
              "      <td>11.0</td>\n",
              "      <td>-116.562027</td>\n",
              "      <td>33.889465</td>\n",
              "      <td>15.90</td>\n",
              "    </tr>\n",
              "    <tr>\n",
              "      <th>33310</th>\n",
              "      <td>3007002</td>\n",
              "      <td>CA</td>\n",
              "      <td>Riverside County</td>\n",
              "      <td>6065</td>\n",
              "      <td>Mountain View Power Partners I &amp; II</td>\n",
              "      <td>2001.0</td>\n",
              "      <td>111</td>\n",
              "      <td>66.600</td>\n",
              "      <td>Mitsubishi</td>\n",
              "      <td>MWT600</td>\n",
              "      <td>600.0</td>\n",
              "      <td>55.0</td>\n",
              "      <td>45.0</td>\n",
              "      <td>-116.600571</td>\n",
              "      <td>33.902992</td>\n",
              "      <td>13.60</td>\n",
              "    </tr>\n",
              "    <tr>\n",
              "      <th>31894</th>\n",
              "      <td>3010259</td>\n",
              "      <td>CA</td>\n",
              "      <td>Riverside County</td>\n",
              "      <td>6065</td>\n",
              "      <td>Mesa Wind Farm</td>\n",
              "      <td>1983.0</td>\n",
              "      <td>460</td>\n",
              "      <td>29.900</td>\n",
              "      <td>Vestas</td>\n",
              "      <td>V15</td>\n",
              "      <td>65.0</td>\n",
              "      <td>22.8</td>\n",
              "      <td>15.3</td>\n",
              "      <td>-116.661240</td>\n",
              "      <td>33.953812</td>\n",
              "      <td>13.80</td>\n",
              "    </tr>\n",
              "    <tr>\n",
              "      <th>52153</th>\n",
              "      <td>3082054</td>\n",
              "      <td>CA</td>\n",
              "      <td>San Diego County</td>\n",
              "      <td>6073</td>\n",
              "      <td>Tule</td>\n",
              "      <td>2018.0</td>\n",
              "      <td>57</td>\n",
              "      <td>131.100</td>\n",
              "      <td>GE Wind</td>\n",
              "      <td>GE2.3-107</td>\n",
              "      <td>2300.0</td>\n",
              "      <td>80.0</td>\n",
              "      <td>107.0</td>\n",
              "      <td>-116.300552</td>\n",
              "      <td>32.778614</td>\n",
              "      <td>25.90</td>\n",
              "    </tr>\n",
              "    <tr>\n",
              "      <th>44441</th>\n",
              "      <td>3009639</td>\n",
              "      <td>CA</td>\n",
              "      <td>Riverside County</td>\n",
              "      <td>6065</td>\n",
              "      <td>San Gorgonio Farms Wind Farm</td>\n",
              "      <td>1986.0</td>\n",
              "      <td>112</td>\n",
              "      <td>31.000</td>\n",
              "      <td>Bonus</td>\n",
              "      <td>120</td>\n",
              "      <td>120.0</td>\n",
              "      <td>24.0</td>\n",
              "      <td>19.4</td>\n",
              "      <td>-116.613190</td>\n",
              "      <td>33.926895</td>\n",
              "      <td>14.20</td>\n",
              "    </tr>\n",
              "  </tbody>\n",
              "</table>\n",
              "</div>"
            ],
            "text/plain": [
              "        CaseID State  ...   Latitude  Mean Capacity Factor\n",
              "24740  3006356    CA  ...  33.921993                 16.10\n",
              "36806  3067710    CA  ...  33.935703                 21.50\n",
              "36885  3067760    CA  ...  33.937469                 12.70\n",
              "31899  3002834    CA  ...  33.960297                 12.70\n",
              "31928  3003352    CA  ...  33.954594                 12.70\n",
              "771    3000119    CA  ...  33.942959                 10.20\n",
              "31697  3004362    CA  ...  33.955647                 16.10\n",
              "826    3008467    CA  ...  33.945309                  9.23\n",
              "31884  3009485    CA  ...  33.953796                 12.70\n",
              "44514  3008744    CA  ...  33.895195                 14.40\n",
              "44431  3071642    CA  ...  33.931149                 13.10\n",
              "13638  3002348    CA  ...  33.892796                 17.20\n",
              "33343  3083673    CA  ...  33.904209                 13.20\n",
              "44519  3008562    CA  ...  33.889896                 18.30\n",
              "44428  3067734    CA  ...  33.920486                 14.20\n",
              "55048  3074000    CA  ...  33.924664                119.50\n",
              "36845  3002030    CA  ...  33.934696                 18.40\n",
              "33408  3075097    CA  ...  33.909706                 14.80\n",
              "35882  3039791    CA  ...  32.734596                 25.60\n",
              "36809  3067764    CA  ...  33.938614                 13.50\n",
              "33402  3071939    CA  ...  33.891487                 13.60\n",
              "44530  3071832    CA  ...  33.893578                 15.90\n",
              "33425  3074375    CA  ...  33.915722                 15.50\n",
              "33301  3036738    CA  ...  33.881596                 17.30\n",
              "33399  3002034    CA  ...  33.905792                 16.10\n",
              "44534  3071801    CA  ...  33.889465                 15.90\n",
              "33310  3007002    CA  ...  33.902992                 13.60\n",
              "31894  3010259    CA  ...  33.953812                 13.80\n",
              "52153  3082054    CA  ...  32.778614                 25.90\n",
              "44441  3009639    CA  ...  33.926895                 14.20\n",
              "\n",
              "[30 rows x 16 columns]"
            ]
          },
          "metadata": {
            "tags": []
          },
          "execution_count": 141
        }
      ]
    },
    {
      "cell_type": "code",
      "metadata": {
        "id": "3oRh2FvSsoMr",
        "colab_type": "code",
        "outputId": "93368458-7b71-433d-e777-18e073e0d65a",
        "colab": {
          "base_uri": "https://localhost:8080/",
          "height": 34
        }
      },
      "source": [
        "cn['Max Turbine Capacity'].sum()"
      ],
      "execution_count": 0,
      "outputs": [
        {
          "output_type": "execute_result",
          "data": {
            "text/plain": [
              "41585.0"
            ]
          },
          "metadata": {
            "tags": []
          },
          "execution_count": 123
        }
      ]
    },
    {
      "cell_type": "code",
      "metadata": {
        "id": "kQY779KBDMFI",
        "colab_type": "code",
        "outputId": "490bff7c-1481-4ddd-a3b8-9f6dc919329b",
        "colab": {
          "base_uri": "https://localhost:8080/",
          "height": 1000
        }
      },
      "source": [
        "cs[['t_manu','t_model','t_cap','t_hh','ylat','xlong','mean capacity factor']]"
      ],
      "execution_count": 0,
      "outputs": [
        {
          "output_type": "execute_result",
          "data": {
            "text/html": [
              "<div>\n",
              "<style scoped>\n",
              "    .dataframe tbody tr th:only-of-type {\n",
              "        vertical-align: middle;\n",
              "    }\n",
              "\n",
              "    .dataframe tbody tr th {\n",
              "        vertical-align: top;\n",
              "    }\n",
              "\n",
              "    .dataframe thead th {\n",
              "        text-align: right;\n",
              "    }\n",
              "</style>\n",
              "<table border=\"1\" class=\"dataframe\">\n",
              "  <thead>\n",
              "    <tr style=\"text-align: right;\">\n",
              "      <th></th>\n",
              "      <th>t_manu</th>\n",
              "      <th>t_model</th>\n",
              "      <th>t_cap</th>\n",
              "      <th>t_hh</th>\n",
              "      <th>ylat</th>\n",
              "      <th>xlong</th>\n",
              "      <th>mean capacity factor</th>\n",
              "    </tr>\n",
              "  </thead>\n",
              "  <tbody>\n",
              "    <tr>\n",
              "      <th>24740</th>\n",
              "      <td>GE Wind</td>\n",
              "      <td>1.5-70.5</td>\n",
              "      <td>1500.0</td>\n",
              "      <td>56.5</td>\n",
              "      <td>33.921993</td>\n",
              "      <td>-116.555290</td>\n",
              "      <td>16.10</td>\n",
              "    </tr>\n",
              "    <tr>\n",
              "      <th>36806</th>\n",
              "      <td>Vestas - American Wind Technology Inc.</td>\n",
              "      <td>V17</td>\n",
              "      <td>90.0</td>\n",
              "      <td>NaN</td>\n",
              "      <td>33.935703</td>\n",
              "      <td>-116.631630</td>\n",
              "      <td>21.50</td>\n",
              "    </tr>\n",
              "    <tr>\n",
              "      <th>36885</th>\n",
              "      <td>Vestas - American Wind Technology Inc.</td>\n",
              "      <td>V15</td>\n",
              "      <td>65.0</td>\n",
              "      <td>NaN</td>\n",
              "      <td>33.937469</td>\n",
              "      <td>-116.618141</td>\n",
              "      <td>12.70</td>\n",
              "    </tr>\n",
              "    <tr>\n",
              "      <th>31899</th>\n",
              "      <td>Vestas</td>\n",
              "      <td>V15</td>\n",
              "      <td>65.0</td>\n",
              "      <td>22.8</td>\n",
              "      <td>33.960297</td>\n",
              "      <td>-116.661087</td>\n",
              "      <td>12.70</td>\n",
              "    </tr>\n",
              "    <tr>\n",
              "      <th>31928</th>\n",
              "      <td>Vestas</td>\n",
              "      <td>V15</td>\n",
              "      <td>65.0</td>\n",
              "      <td>22.8</td>\n",
              "      <td>33.954594</td>\n",
              "      <td>-116.658691</td>\n",
              "      <td>12.70</td>\n",
              "    </tr>\n",
              "    <tr>\n",
              "      <th>771</th>\n",
              "      <td>Danwin</td>\n",
              "      <td>23_160</td>\n",
              "      <td>160.0</td>\n",
              "      <td>23.0</td>\n",
              "      <td>33.942959</td>\n",
              "      <td>-116.660759</td>\n",
              "      <td>10.20</td>\n",
              "    </tr>\n",
              "    <tr>\n",
              "      <th>31697</th>\n",
              "      <td>Vestas</td>\n",
              "      <td>V15</td>\n",
              "      <td>65.0</td>\n",
              "      <td>22.8</td>\n",
              "      <td>33.955647</td>\n",
              "      <td>-116.658806</td>\n",
              "      <td>16.10</td>\n",
              "    </tr>\n",
              "    <tr>\n",
              "      <th>826</th>\n",
              "      <td>Danwin</td>\n",
              "      <td>23_160</td>\n",
              "      <td>160.0</td>\n",
              "      <td>23.0</td>\n",
              "      <td>33.945309</td>\n",
              "      <td>-116.666092</td>\n",
              "      <td>9.23</td>\n",
              "    </tr>\n",
              "    <tr>\n",
              "      <th>31884</th>\n",
              "      <td>Vestas</td>\n",
              "      <td>V15</td>\n",
              "      <td>65.0</td>\n",
              "      <td>22.8</td>\n",
              "      <td>33.953796</td>\n",
              "      <td>-116.652290</td>\n",
              "      <td>12.70</td>\n",
              "    </tr>\n",
              "    <tr>\n",
              "      <th>44514</th>\n",
              "      <td>NEG Micon</td>\n",
              "      <td>NM48</td>\n",
              "      <td>700.0</td>\n",
              "      <td>50.0</td>\n",
              "      <td>33.895195</td>\n",
              "      <td>-116.588890</td>\n",
              "      <td>14.40</td>\n",
              "    </tr>\n",
              "    <tr>\n",
              "      <th>44431</th>\n",
              "      <td>Bonus</td>\n",
              "      <td>120</td>\n",
              "      <td>120.0</td>\n",
              "      <td>24.0</td>\n",
              "      <td>33.931149</td>\n",
              "      <td>-116.613251</td>\n",
              "      <td>13.10</td>\n",
              "    </tr>\n",
              "    <tr>\n",
              "      <th>13638</th>\n",
              "      <td>Micon</td>\n",
              "      <td>M108</td>\n",
              "      <td>108.0</td>\n",
              "      <td>NaN</td>\n",
              "      <td>33.892796</td>\n",
              "      <td>-116.551285</td>\n",
              "      <td>17.20</td>\n",
              "    </tr>\n",
              "    <tr>\n",
              "      <th>33343</th>\n",
              "      <td>Mitsubishi</td>\n",
              "      <td>MWT600</td>\n",
              "      <td>600.0</td>\n",
              "      <td>55.0</td>\n",
              "      <td>33.904209</td>\n",
              "      <td>-116.608932</td>\n",
              "      <td>13.20</td>\n",
              "    </tr>\n",
              "    <tr>\n",
              "      <th>44519</th>\n",
              "      <td>Windmatic</td>\n",
              "      <td>Windmatic 15S</td>\n",
              "      <td>65.0</td>\n",
              "      <td>NaN</td>\n",
              "      <td>33.889896</td>\n",
              "      <td>-116.561989</td>\n",
              "      <td>18.30</td>\n",
              "    </tr>\n",
              "    <tr>\n",
              "      <th>44428</th>\n",
              "      <td>Bonus</td>\n",
              "      <td>65</td>\n",
              "      <td>65.0</td>\n",
              "      <td>24.0</td>\n",
              "      <td>33.920486</td>\n",
              "      <td>-116.620285</td>\n",
              "      <td>14.20</td>\n",
              "    </tr>\n",
              "    <tr>\n",
              "      <th>55048</th>\n",
              "      <td>GE Wind</td>\n",
              "      <td>GE1.5-65</td>\n",
              "      <td>1500.0</td>\n",
              "      <td>65.0</td>\n",
              "      <td>33.924664</td>\n",
              "      <td>-116.626045</td>\n",
              "      <td>119.50</td>\n",
              "    </tr>\n",
              "    <tr>\n",
              "      <th>36845</th>\n",
              "      <td>Vestas - American Wind Technology Inc.</td>\n",
              "      <td>V17</td>\n",
              "      <td>90.0</td>\n",
              "      <td>NaN</td>\n",
              "      <td>33.934696</td>\n",
              "      <td>-116.626686</td>\n",
              "      <td>18.40</td>\n",
              "    </tr>\n",
              "    <tr>\n",
              "      <th>33408</th>\n",
              "      <td>Mitsubishi</td>\n",
              "      <td>MWT600</td>\n",
              "      <td>600.0</td>\n",
              "      <td>55.0</td>\n",
              "      <td>33.909706</td>\n",
              "      <td>-116.619507</td>\n",
              "      <td>14.80</td>\n",
              "    </tr>\n",
              "    <tr>\n",
              "      <th>35882</th>\n",
              "      <td>Siemens</td>\n",
              "      <td>SWT-2.37-108</td>\n",
              "      <td>2370.0</td>\n",
              "      <td>80.0</td>\n",
              "      <td>32.734596</td>\n",
              "      <td>-116.053688</td>\n",
              "      <td>25.60</td>\n",
              "    </tr>\n",
              "    <tr>\n",
              "      <th>36809</th>\n",
              "      <td>Vestas - American Wind Technology Inc.</td>\n",
              "      <td>V17</td>\n",
              "      <td>90.0</td>\n",
              "      <td>NaN</td>\n",
              "      <td>33.938614</td>\n",
              "      <td>-116.628838</td>\n",
              "      <td>13.50</td>\n",
              "    </tr>\n",
              "    <tr>\n",
              "      <th>33402</th>\n",
              "      <td>Mitsubishi</td>\n",
              "      <td>MWT600</td>\n",
              "      <td>600.0</td>\n",
              "      <td>55.0</td>\n",
              "      <td>33.891487</td>\n",
              "      <td>-116.580833</td>\n",
              "      <td>13.60</td>\n",
              "    </tr>\n",
              "    <tr>\n",
              "      <th>44530</th>\n",
              "      <td>Vanguard</td>\n",
              "      <td>95T</td>\n",
              "      <td>95.0</td>\n",
              "      <td>NaN</td>\n",
              "      <td>33.893578</td>\n",
              "      <td>-116.562035</td>\n",
              "      <td>15.90</td>\n",
              "    </tr>\n",
              "    <tr>\n",
              "      <th>33425</th>\n",
              "      <td>Vestas</td>\n",
              "      <td>V47-0.66</td>\n",
              "      <td>660.0</td>\n",
              "      <td>60.0</td>\n",
              "      <td>33.915722</td>\n",
              "      <td>-116.587029</td>\n",
              "      <td>15.50</td>\n",
              "    </tr>\n",
              "    <tr>\n",
              "      <th>33301</th>\n",
              "      <td>Mitsubishi</td>\n",
              "      <td>MWT62/1.0</td>\n",
              "      <td>1000.0</td>\n",
              "      <td>60.0</td>\n",
              "      <td>33.881596</td>\n",
              "      <td>-116.569489</td>\n",
              "      <td>17.30</td>\n",
              "    </tr>\n",
              "    <tr>\n",
              "      <th>33399</th>\n",
              "      <td>Mitsubishi</td>\n",
              "      <td>MWT600</td>\n",
              "      <td>600.0</td>\n",
              "      <td>55.0</td>\n",
              "      <td>33.905792</td>\n",
              "      <td>-116.604675</td>\n",
              "      <td>16.10</td>\n",
              "    </tr>\n",
              "    <tr>\n",
              "      <th>44534</th>\n",
              "      <td>Windmatic</td>\n",
              "      <td>Windmatic 15S</td>\n",
              "      <td>65.0</td>\n",
              "      <td>NaN</td>\n",
              "      <td>33.889465</td>\n",
              "      <td>-116.562027</td>\n",
              "      <td>15.90</td>\n",
              "    </tr>\n",
              "    <tr>\n",
              "      <th>33310</th>\n",
              "      <td>Mitsubishi</td>\n",
              "      <td>MWT600</td>\n",
              "      <td>600.0</td>\n",
              "      <td>55.0</td>\n",
              "      <td>33.902992</td>\n",
              "      <td>-116.600571</td>\n",
              "      <td>13.60</td>\n",
              "    </tr>\n",
              "    <tr>\n",
              "      <th>31894</th>\n",
              "      <td>Vestas</td>\n",
              "      <td>V15</td>\n",
              "      <td>65.0</td>\n",
              "      <td>22.8</td>\n",
              "      <td>33.953812</td>\n",
              "      <td>-116.661240</td>\n",
              "      <td>13.80</td>\n",
              "    </tr>\n",
              "    <tr>\n",
              "      <th>52153</th>\n",
              "      <td>GE Wind</td>\n",
              "      <td>GE2.3-107</td>\n",
              "      <td>2300.0</td>\n",
              "      <td>80.0</td>\n",
              "      <td>32.778614</td>\n",
              "      <td>-116.300552</td>\n",
              "      <td>25.90</td>\n",
              "    </tr>\n",
              "    <tr>\n",
              "      <th>44441</th>\n",
              "      <td>Bonus</td>\n",
              "      <td>120</td>\n",
              "      <td>120.0</td>\n",
              "      <td>24.0</td>\n",
              "      <td>33.926895</td>\n",
              "      <td>-116.613190</td>\n",
              "      <td>14.20</td>\n",
              "    </tr>\n",
              "  </tbody>\n",
              "</table>\n",
              "</div>"
            ],
            "text/plain": [
              "                                       t_manu  ... mean capacity factor\n",
              "24740                                 GE Wind  ...                16.10\n",
              "36806  Vestas - American Wind Technology Inc.  ...                21.50\n",
              "36885  Vestas - American Wind Technology Inc.  ...                12.70\n",
              "31899                                  Vestas  ...                12.70\n",
              "31928                                  Vestas  ...                12.70\n",
              "771                                    Danwin  ...                10.20\n",
              "31697                                  Vestas  ...                16.10\n",
              "826                                    Danwin  ...                 9.23\n",
              "31884                                  Vestas  ...                12.70\n",
              "44514                               NEG Micon  ...                14.40\n",
              "44431                                   Bonus  ...                13.10\n",
              "13638                                   Micon  ...                17.20\n",
              "33343                              Mitsubishi  ...                13.20\n",
              "44519                               Windmatic  ...                18.30\n",
              "44428                                   Bonus  ...                14.20\n",
              "55048                                 GE Wind  ...               119.50\n",
              "36845  Vestas - American Wind Technology Inc.  ...                18.40\n",
              "33408                              Mitsubishi  ...                14.80\n",
              "35882                                 Siemens  ...                25.60\n",
              "36809  Vestas - American Wind Technology Inc.  ...                13.50\n",
              "33402                              Mitsubishi  ...                13.60\n",
              "44530                                Vanguard  ...                15.90\n",
              "33425                                  Vestas  ...                15.50\n",
              "33301                              Mitsubishi  ...                17.30\n",
              "33399                              Mitsubishi  ...                16.10\n",
              "44534                               Windmatic  ...                15.90\n",
              "33310                              Mitsubishi  ...                13.60\n",
              "31894                                  Vestas  ...                13.80\n",
              "52153                                 GE Wind  ...                25.90\n",
              "44441                                   Bonus  ...                14.20\n",
              "\n",
              "[30 rows x 7 columns]"
            ]
          },
          "metadata": {
            "tags": []
          },
          "execution_count": 102
        }
      ]
    },
    {
      "cell_type": "code",
      "metadata": {
        "id": "C_iUtYWYMl9G",
        "colab_type": "code",
        "colab": {}
      },
      "source": [
        "cs.at[24740,'Mean Capacity Factor']=16.1\n",
        "cs.at[36806,'Mean Capacity Factor']=21.5\n",
        "cs.at[36885,'Mean Capacity Factor']=12.7\n",
        "cs.at[31899,'Mean Capacity Factor']=12.7\n",
        "cs.at[31928,'Mean Capacity Factor']=12.7\n",
        "cs.at[771,'Mean Capacity Factor']=10.2\n",
        "cs.at[31697,'Mean Capacity Factor']=16.1\n",
        "cs.at[826,'Mean Capacity Factor']=9.23\n",
        "cs.at[31884,'Mean Capacity Factor']=12.7\n",
        "cs.at[44514,'Mean Capacity Factor']=14.4\n",
        "cs.at[44431,'Mean Capacity Factor']=13.1\n",
        "cs.at[13638,'Mean Capacity Factor']=17.2\n",
        "cs.at[33343,'Mean Capacity Factor']=13.2\n",
        "cs.at[44519,'Mean Capacity Factor']=18.3\n",
        "cs.at[44428,'Mean Capacity Factor']=14.2\n",
        "cs.at[55048,'Mean Capacity Factor']=119.5\n",
        "cs.at[36845,'Mean Capacity Factor']=18.4\n",
        "cs.at[33408,'Mean Capacity Factor']=14.8\n",
        "cs.at[35882,'Mean Capacity Factor']=25.6\n",
        "cs.at[36809,'Mean Capacity Factor']=13.5\n",
        "cs.at[33402,'Mean Capacity Factor']=13.6\n",
        "cs.at[44530,'Mean Capacity Factor']=15.9\n",
        "cs.at[33425,'Mean Capacity Factor']=15.5\n",
        "cs.at[33301,'Mean Capacity Factor']=17.3\n",
        "cs.at[33399,'Mean Capacity Factor']=16.1\n",
        "cs.at[44534,'Mean Capacity Factor']=15.9\n",
        "cs.at[33310,'Mean Capacity Factor']=13.6\n",
        "cs.at[31894,'Mean Capacity Factor']=13.8\n",
        "cs.at[52153,'Mean Capacity Factor']=25.9\n",
        "cs.at[44441,'Mean Capacity Factor']=14.2"
      ],
      "execution_count": 0,
      "outputs": []
    },
    {
      "cell_type": "code",
      "metadata": {
        "id": "5CVhdYPlD-Vi",
        "colab_type": "code",
        "outputId": "a6f51500-a6bb-4dd4-ed2c-e608f304cb06",
        "colab": {
          "base_uri": "https://localhost:8080/",
          "height": 34
        }
      },
      "source": [
        "cs['Mean Capacity Factor'].mean()"
      ],
      "execution_count": 0,
      "outputs": [
        {
          "output_type": "execute_result",
          "data": {
            "text/plain": [
              "18.930999999999997"
            ]
          },
          "metadata": {
            "tags": []
          },
          "execution_count": 140
        }
      ]
    },
    {
      "cell_type": "code",
      "metadata": {
        "id": "LGCB0TTAEOhx",
        "colab_type": "code",
        "outputId": "e05d5fad-0877-48f3-b2ec-40f9998ce7be",
        "colab": {
          "base_uri": "https://localhost:8080/",
          "height": 54
        }
      },
      "source": [
        "stats.describe(cs['mean capacity factor'])"
      ],
      "execution_count": 0,
      "outputs": [
        {
          "output_type": "execute_result",
          "data": {
            "text/plain": [
              "DescribeResult(nobs=30, minmax=(9.23, 119.5), mean=18.930999999999997, variance=374.54483, skewness=4.904944172237025, kurtosis=23.02034622752321)"
            ]
          },
          "metadata": {
            "tags": []
          },
          "execution_count": 105
        }
      ]
    },
    {
      "cell_type": "markdown",
      "metadata": {
        "id": "4GA9AEhpP3Jh",
        "colab_type": "text"
      },
      "source": [
        "HITOGRAM OF MEAN CAPACITY FACTOR FOR EACH TURBINE -- CLEARLY NOT NORMAL"
      ]
    },
    {
      "cell_type": "code",
      "metadata": {
        "id": "sElbOlYIErDL",
        "colab_type": "code",
        "outputId": "4631dae3-def8-4395-a529-020cee2f9d69",
        "colab": {
          "base_uri": "https://localhost:8080/",
          "height": 332
        }
      },
      "source": [
        "plt.hist(cs['mean capacity factor'], alpha = .5,color='b')"
      ],
      "execution_count": 0,
      "outputs": [
        {
          "output_type": "execute_result",
          "data": {
            "text/plain": [
              "(array([26.,  3.,  0.,  0.,  0.,  0.,  0.,  0.,  0.,  1.]),\n",
              " array([  9.23 ,  20.257,  31.284,  42.311,  53.338,  64.365,  75.392,\n",
              "         86.419,  97.446, 108.473, 119.5  ]),\n",
              " <a list of 10 Patch objects>)"
            ]
          },
          "metadata": {
            "tags": []
          },
          "execution_count": 106
        },
        {
          "output_type": "display_data",
          "data": {
            "image/png": "[encoded data removed]",
            "text/plain": [
              "<Figure size 432x288 with 1 Axes>"
            ]
          },
          "metadata": {
            "tags": []
          }
        }
      ]
    },
    {
      "cell_type": "markdown",
      "metadata": {
        "id": "E8NFwqydCSsc",
        "colab_type": "text"
      },
      "source": [
        "////////////////////////////////////////////////////////////////////////////////////////////////////////////////////////////////////////////////////////////////////////////////////////////////////////////"
      ]
    },
    {
      "cell_type": "markdown",
      "metadata": {
        "id": "K3g5QY9PMVUa",
        "colab_type": "text"
      },
      "source": [
        "NORTHEN CALIFORNIA"
      ]
    },
    {
      "cell_type": "markdown",
      "metadata": {
        "id": "NqdqIwdGjjol",
        "colab_type": "text"
      },
      "source": [
        "SELECTING TURBINES BETWEEN LATITUDE 37 AND 40.92     --   NORTHERN CALIFORNIA"
      ]
    },
    {
      "cell_type": "code",
      "metadata": {
        "id": "L9TGvOWs_fgN",
        "colab_type": "code",
        "colab": {}
      },
      "source": [
        "cali_north=wind_cali[(wind_cali['Latitude']>37) & (wind_cali['Latitude']<40.92)]"
      ],
      "execution_count": 0,
      "outputs": []
    },
    {
      "cell_type": "code",
      "metadata": {
        "id": "7PZDMONH_oDM",
        "colab_type": "code",
        "outputId": "1737e8e4-721f-42f0-9e31-dd87b00ca017",
        "colab": {
          "base_uri": "https://localhost:8080/",
          "height": 34
        }
      },
      "source": [
        "cali_north.shape"
      ],
      "execution_count": 0,
      "outputs": [
        {
          "output_type": "execute_result",
          "data": {
            "text/plain": [
              "(1191, 16)"
            ]
          },
          "metadata": {
            "tags": []
          },
          "execution_count": 125
        }
      ]
    },
    {
      "cell_type": "markdown",
      "metadata": {
        "id": "62q0Iq4hj5eQ",
        "colab_type": "text"
      },
      "source": [
        "RANDOMLY SELECT 30 TURBINES FROM NORTHERN CALI SUBSET"
      ]
    },
    {
      "cell_type": "code",
      "metadata": {
        "id": "5dpPdm7U_17a",
        "colab_type": "code",
        "colab": {}
      },
      "source": [
        "cn=cali_north.sample(30,random_state=1)"
      ],
      "execution_count": 0,
      "outputs": []
    },
    {
      "cell_type": "code",
      "metadata": {
        "id": "J1oMSjPBiWg6",
        "colab_type": "code",
        "outputId": "763ed66e-3689-420e-f21b-d4153c49f751",
        "colab": {
          "base_uri": "https://localhost:8080/",
          "height": 34
        }
      },
      "source": [
        "cn.shape"
      ],
      "execution_count": 0,
      "outputs": [
        {
          "output_type": "execute_result",
          "data": {
            "text/plain": [
              "(30, 16)"
            ]
          },
          "metadata": {
            "tags": []
          },
          "execution_count": 127
        }
      ]
    },
    {
      "cell_type": "markdown",
      "metadata": {
        "id": "4ZbsSW9mIgzb",
        "colab_type": "text"
      },
      "source": [
        "///////////////////////////////////////////////////////////////////////////////////////////////"
      ]
    },
    {
      "cell_type": "code",
      "metadata": {
        "id": "vg90NWeGgAaB",
        "colab_type": "code",
        "colab": {}
      },
      "source": [
        "##wind_cali = wind_cali.dropna(subset=['t_cap'])\n",
        "cn2 = cn.dropna(subset=['p_name'])"
      ],
      "execution_count": 0,
      "outputs": []
    },
    {
      "cell_type": "code",
      "metadata": {
        "id": "HceGzm40giEZ",
        "colab_type": "code",
        "outputId": "fd83853a-82c3-4d91-ce13-0d54a9c2586e",
        "colab": {
          "base_uri": "https://localhost:8080/",
          "height": 34
        }
      },
      "source": [
        "cn2.shape"
      ],
      "execution_count": 0,
      "outputs": [
        {
          "output_type": "execute_result",
          "data": {
            "text/plain": [
              "(30, 17)"
            ]
          },
          "metadata": {
            "tags": []
          },
          "execution_count": 133
        }
      ]
    },
    {
      "cell_type": "markdown",
      "metadata": {
        "id": "E0J7kBcv01ho",
        "colab_type": "text"
      },
      "source": [
        "CORRELATION"
      ]
    },
    {
      "cell_type": "code",
      "metadata": {
        "id": "x0I8p_KjxGvc",
        "colab_type": "code",
        "outputId": "b0d8eff4-6a31-42c5-8b43-547f24183c45",
        "colab": {
          "base_uri": "https://localhost:8080/",
          "height": 136
        }
      },
      "source": [
        "cn_sub=cn[['Max Turbine Capacity','Tower Hub Height','Mean Capacity Factor']]\n",
        "cn_sub.corr()"
      ],
      "execution_count": 0,
      "outputs": [
        {
          "output_type": "execute_result",
          "data": {
            "text/html": [
              "<div>\n",
              "<style scoped>\n",
              "    .dataframe tbody tr th:only-of-type {\n",
              "        vertical-align: middle;\n",
              "    }\n",
              "\n",
              "    .dataframe tbody tr th {\n",
              "        vertical-align: top;\n",
              "    }\n",
              "\n",
              "    .dataframe thead th {\n",
              "        text-align: right;\n",
              "    }\n",
              "</style>\n",
              "<table border=\"1\" class=\"dataframe\">\n",
              "  <thead>\n",
              "    <tr style=\"text-align: right;\">\n",
              "      <th></th>\n",
              "      <th>Max Turbine Capacity</th>\n",
              "      <th>Tower Hub Height</th>\n",
              "      <th>Mean Capacity Factor</th>\n",
              "    </tr>\n",
              "  </thead>\n",
              "  <tbody>\n",
              "    <tr>\n",
              "      <th>Max Turbine Capacity</th>\n",
              "      <td>1.000000</td>\n",
              "      <td>0.827288</td>\n",
              "      <td>0.437994</td>\n",
              "    </tr>\n",
              "    <tr>\n",
              "      <th>Tower Hub Height</th>\n",
              "      <td>0.827288</td>\n",
              "      <td>1.000000</td>\n",
              "      <td>0.546270</td>\n",
              "    </tr>\n",
              "    <tr>\n",
              "      <th>Mean Capacity Factor</th>\n",
              "      <td>0.437994</td>\n",
              "      <td>0.546270</td>\n",
              "      <td>1.000000</td>\n",
              "    </tr>\n",
              "  </tbody>\n",
              "</table>\n",
              "</div>"
            ],
            "text/plain": [
              "                      Max Turbine Capacity  ...  Mean Capacity Factor\n",
              "Max Turbine Capacity              1.000000  ...              0.437994\n",
              "Tower Hub Height                  0.827288  ...              0.546270\n",
              "Mean Capacity Factor              0.437994  ...              1.000000\n",
              "\n",
              "[3 rows x 3 columns]"
            ]
          },
          "metadata": {
            "tags": []
          },
          "execution_count": 138
        }
      ]
    },
    {
      "cell_type": "code",
      "metadata": {
        "id": "niqVuT5rzJPJ",
        "colab_type": "code",
        "outputId": "b3851238-9dae-4bb2-e623-64c987f57ff9",
        "colab": {
          "base_uri": "https://localhost:8080/",
          "height": 136
        }
      },
      "source": [
        "cs_sub=cs[['Max Turbine Capacity','Tower Hub Height','Mean Capacity Factor']]\n",
        "cs_sub.corr()"
      ],
      "execution_count": 0,
      "outputs": [
        {
          "output_type": "execute_result",
          "data": {
            "text/html": [
              "<div>\n",
              "<style scoped>\n",
              "    .dataframe tbody tr th:only-of-type {\n",
              "        vertical-align: middle;\n",
              "    }\n",
              "\n",
              "    .dataframe tbody tr th {\n",
              "        vertical-align: top;\n",
              "    }\n",
              "\n",
              "    .dataframe thead th {\n",
              "        text-align: right;\n",
              "    }\n",
              "</style>\n",
              "<table border=\"1\" class=\"dataframe\">\n",
              "  <thead>\n",
              "    <tr style=\"text-align: right;\">\n",
              "      <th></th>\n",
              "      <th>Max Turbine Capacity</th>\n",
              "      <th>Tower Hub Height</th>\n",
              "      <th>Mean Capacity Factor</th>\n",
              "    </tr>\n",
              "  </thead>\n",
              "  <tbody>\n",
              "    <tr>\n",
              "      <th>Max Turbine Capacity</th>\n",
              "      <td>1.000000</td>\n",
              "      <td>0.896134</td>\n",
              "      <td>0.412141</td>\n",
              "    </tr>\n",
              "    <tr>\n",
              "      <th>Tower Hub Height</th>\n",
              "      <td>0.896134</td>\n",
              "      <td>1.000000</td>\n",
              "      <td>0.359305</td>\n",
              "    </tr>\n",
              "    <tr>\n",
              "      <th>Mean Capacity Factor</th>\n",
              "      <td>0.412141</td>\n",
              "      <td>0.359305</td>\n",
              "      <td>1.000000</td>\n",
              "    </tr>\n",
              "  </tbody>\n",
              "</table>\n",
              "</div>"
            ],
            "text/plain": [
              "                      Max Turbine Capacity  ...  Mean Capacity Factor\n",
              "Max Turbine Capacity              1.000000  ...              0.412141\n",
              "Tower Hub Height                  0.896134  ...              0.359305\n",
              "Mean Capacity Factor              0.412141  ...              1.000000\n",
              "\n",
              "[3 rows x 3 columns]"
            ]
          },
          "metadata": {
            "tags": []
          },
          "execution_count": 142
        }
      ]
    },
    {
      "cell_type": "code",
      "metadata": {
        "id": "pZozaKP3gqNb",
        "colab_type": "code",
        "colab": {}
      },
      "source": [
        "#cn=cn2"
      ],
      "execution_count": 0,
      "outputs": []
    },
    {
      "cell_type": "code",
      "metadata": {
        "id": "WLQ1ylrOAqUi",
        "colab_type": "code",
        "outputId": "f95e98ad-3f19-407e-a551-410339aaa911",
        "colab": {
          "base_uri": "https://localhost:8080/",
          "height": 1000
        }
      },
      "source": [
        "cn"
      ],
      "execution_count": 0,
      "outputs": [
        {
          "output_type": "execute_result",
          "data": {
            "text/html": [
              "<div>\n",
              "<style scoped>\n",
              "    .dataframe tbody tr th:only-of-type {\n",
              "        vertical-align: middle;\n",
              "    }\n",
              "\n",
              "    .dataframe tbody tr th {\n",
              "        vertical-align: top;\n",
              "    }\n",
              "\n",
              "    .dataframe thead th {\n",
              "        text-align: right;\n",
              "    }\n",
              "</style>\n",
              "<table border=\"1\" class=\"dataframe\">\n",
              "  <thead>\n",
              "    <tr style=\"text-align: right;\">\n",
              "      <th></th>\n",
              "      <th>CaseID</th>\n",
              "      <th>State</th>\n",
              "      <th>County</th>\n",
              "      <th>LocationID</th>\n",
              "      <th>Project Name</th>\n",
              "      <th>Year Built</th>\n",
              "      <th>Number of Turbines</th>\n",
              "      <th>Max Project Capacity</th>\n",
              "      <th>Turbine Manufacturer</th>\n",
              "      <th>Turbine Model</th>\n",
              "      <th>Max Turbine Capacity</th>\n",
              "      <th>Tower Hub Height</th>\n",
              "      <th>Rotor Diameter</th>\n",
              "      <th>Longitude</th>\n",
              "      <th>Latitude</th>\n",
              "      <th>Mean Capacity Factor</th>\n",
              "    </tr>\n",
              "  </thead>\n",
              "  <tbody>\n",
              "    <tr>\n",
              "      <th>13366</th>\n",
              "      <td>3020543</td>\n",
              "      <td>CA</td>\n",
              "      <td>Alameda County</td>\n",
              "      <td>6001</td>\n",
              "      <td>Diablo Winds</td>\n",
              "      <td>2004.0</td>\n",
              "      <td>31</td>\n",
              "      <td>20.460</td>\n",
              "      <td>Vestas</td>\n",
              "      <td>V47-0.66</td>\n",
              "      <td>660.0</td>\n",
              "      <td>60.0</td>\n",
              "      <td>47.0</td>\n",
              "      <td>-121.625084</td>\n",
              "      <td>37.745895</td>\n",
              "      <td>30.10</td>\n",
              "    </tr>\n",
              "    <tr>\n",
              "      <th>45928</th>\n",
              "      <td>3028682</td>\n",
              "      <td>CA</td>\n",
              "      <td>Solano County</td>\n",
              "      <td>6095</td>\n",
              "      <td>Shiloh II</td>\n",
              "      <td>2009.0</td>\n",
              "      <td>33</td>\n",
              "      <td>66.000</td>\n",
              "      <td>REpower</td>\n",
              "      <td>MM92</td>\n",
              "      <td>2000.0</td>\n",
              "      <td>68.5</td>\n",
              "      <td>92.5</td>\n",
              "      <td>-121.840691</td>\n",
              "      <td>38.173996</td>\n",
              "      <td>39.90</td>\n",
              "    </tr>\n",
              "    <tr>\n",
              "      <th>23633</th>\n",
              "      <td>3004156</td>\n",
              "      <td>CA</td>\n",
              "      <td>Merced County</td>\n",
              "      <td>6047</td>\n",
              "      <td>International Turbine Research Center</td>\n",
              "      <td>1988.0</td>\n",
              "      <td>161</td>\n",
              "      <td>17.430</td>\n",
              "      <td>NaN</td>\n",
              "      <td>NaN</td>\n",
              "      <td>105.0</td>\n",
              "      <td>NaN</td>\n",
              "      <td>NaN</td>\n",
              "      <td>-121.194290</td>\n",
              "      <td>37.046196</td>\n",
              "      <td>23.20</td>\n",
              "    </tr>\n",
              "    <tr>\n",
              "      <th>46170</th>\n",
              "      <td>3016948</td>\n",
              "      <td>CA</td>\n",
              "      <td>Solano County</td>\n",
              "      <td>6095</td>\n",
              "      <td>Shiloh Wind Project</td>\n",
              "      <td>2006.0</td>\n",
              "      <td>76</td>\n",
              "      <td>114.000</td>\n",
              "      <td>GE Wind</td>\n",
              "      <td>GE1.5-77</td>\n",
              "      <td>1500.0</td>\n",
              "      <td>80.0</td>\n",
              "      <td>77.0</td>\n",
              "      <td>-121.827583</td>\n",
              "      <td>38.162395</td>\n",
              "      <td>36.30</td>\n",
              "    </tr>\n",
              "    <tr>\n",
              "      <th>45958</th>\n",
              "      <td>3028700</td>\n",
              "      <td>CA</td>\n",
              "      <td>Solano County</td>\n",
              "      <td>6095</td>\n",
              "      <td>Shiloh II</td>\n",
              "      <td>2009.0</td>\n",
              "      <td>42</td>\n",
              "      <td>84.000</td>\n",
              "      <td>REpower</td>\n",
              "      <td>MM92</td>\n",
              "      <td>2000.0</td>\n",
              "      <td>80.0</td>\n",
              "      <td>92.5</td>\n",
              "      <td>-121.769989</td>\n",
              "      <td>38.163994</td>\n",
              "      <td>40.50</td>\n",
              "    </tr>\n",
              "    <tr>\n",
              "      <th>33053</th>\n",
              "      <td>3036696</td>\n",
              "      <td>CA</td>\n",
              "      <td>Solano County</td>\n",
              "      <td>6095</td>\n",
              "      <td>Montezuma</td>\n",
              "      <td>2010.0</td>\n",
              "      <td>16</td>\n",
              "      <td>36.800</td>\n",
              "      <td>Siemens</td>\n",
              "      <td>SWT-2.3-93</td>\n",
              "      <td>2300.0</td>\n",
              "      <td>80.0</td>\n",
              "      <td>93.0</td>\n",
              "      <td>-121.792885</td>\n",
              "      <td>38.152195</td>\n",
              "      <td>17.80</td>\n",
              "    </tr>\n",
              "    <tr>\n",
              "      <th>21699</th>\n",
              "      <td>3071498</td>\n",
              "      <td>CA</td>\n",
              "      <td>Solano County</td>\n",
              "      <td>6095</td>\n",
              "      <td>High Winds</td>\n",
              "      <td>2003.0</td>\n",
              "      <td>90</td>\n",
              "      <td>162.000</td>\n",
              "      <td>Vestas</td>\n",
              "      <td>V80-1.8</td>\n",
              "      <td>1800.0</td>\n",
              "      <td>60.0</td>\n",
              "      <td>80.0</td>\n",
              "      <td>-121.801735</td>\n",
              "      <td>38.100502</td>\n",
              "      <td>12.60</td>\n",
              "    </tr>\n",
              "    <tr>\n",
              "      <th>47069</th>\n",
              "      <td>3025436</td>\n",
              "      <td>CA</td>\n",
              "      <td>Solano County</td>\n",
              "      <td>6095</td>\n",
              "      <td>Solano Wind Project</td>\n",
              "      <td>2007.0</td>\n",
              "      <td>21</td>\n",
              "      <td>63.000</td>\n",
              "      <td>Vestas</td>\n",
              "      <td>V90-3.0</td>\n",
              "      <td>3000.0</td>\n",
              "      <td>80.0</td>\n",
              "      <td>90.0</td>\n",
              "      <td>-121.760490</td>\n",
              "      <td>38.108395</td>\n",
              "      <td>39.30</td>\n",
              "    </tr>\n",
              "    <tr>\n",
              "      <th>33079</th>\n",
              "      <td>3040370</td>\n",
              "      <td>CA</td>\n",
              "      <td>Solano County</td>\n",
              "      <td>6095</td>\n",
              "      <td>Montezuma Winds II</td>\n",
              "      <td>2012.0</td>\n",
              "      <td>34</td>\n",
              "      <td>78.200</td>\n",
              "      <td>Siemens</td>\n",
              "      <td>SWT-2.3-93</td>\n",
              "      <td>2300.0</td>\n",
              "      <td>80.0</td>\n",
              "      <td>93.0</td>\n",
              "      <td>-121.809586</td>\n",
              "      <td>38.116894</td>\n",
              "      <td>36.40</td>\n",
              "    </tr>\n",
              "    <tr>\n",
              "      <th>21650</th>\n",
              "      <td>3011420</td>\n",
              "      <td>CA</td>\n",
              "      <td>Solano County</td>\n",
              "      <td>6095</td>\n",
              "      <td>High Winds</td>\n",
              "      <td>2003.0</td>\n",
              "      <td>90</td>\n",
              "      <td>162.000</td>\n",
              "      <td>Vestas</td>\n",
              "      <td>V80-1.8</td>\n",
              "      <td>1800.0</td>\n",
              "      <td>60.0</td>\n",
              "      <td>80.0</td>\n",
              "      <td>-121.789688</td>\n",
              "      <td>38.142094</td>\n",
              "      <td>17.50</td>\n",
              "    </tr>\n",
              "    <tr>\n",
              "      <th>14250</th>\n",
              "      <td>3071464</td>\n",
              "      <td>CA</td>\n",
              "      <td>Solano County</td>\n",
              "      <td>6095</td>\n",
              "      <td>EDF Renewable V</td>\n",
              "      <td>1990.0</td>\n",
              "      <td>78</td>\n",
              "      <td>16.200</td>\n",
              "      <td>Kenetech</td>\n",
              "      <td>KCS56-100</td>\n",
              "      <td>100.0</td>\n",
              "      <td>NaN</td>\n",
              "      <td>17.0</td>\n",
              "      <td>-121.809723</td>\n",
              "      <td>38.082649</td>\n",
              "      <td>34.20</td>\n",
              "    </tr>\n",
              "    <tr>\n",
              "      <th>21724</th>\n",
              "      <td>3071191</td>\n",
              "      <td>CA</td>\n",
              "      <td>Solano County</td>\n",
              "      <td>6095</td>\n",
              "      <td>High Winds</td>\n",
              "      <td>2003.0</td>\n",
              "      <td>90</td>\n",
              "      <td>162.000</td>\n",
              "      <td>Vestas</td>\n",
              "      <td>V80-1.8</td>\n",
              "      <td>1800.0</td>\n",
              "      <td>60.0</td>\n",
              "      <td>80.0</td>\n",
              "      <td>-121.784126</td>\n",
              "      <td>38.142296</td>\n",
              "      <td>34.40</td>\n",
              "    </tr>\n",
              "    <tr>\n",
              "      <th>46062</th>\n",
              "      <td>3043783</td>\n",
              "      <td>CA</td>\n",
              "      <td>Solano County</td>\n",
              "      <td>6095</td>\n",
              "      <td>Shiloh IV</td>\n",
              "      <td>2012.0</td>\n",
              "      <td>5</td>\n",
              "      <td>10.250</td>\n",
              "      <td>REpower</td>\n",
              "      <td>MM92</td>\n",
              "      <td>2050.0</td>\n",
              "      <td>68.5</td>\n",
              "      <td>92.5</td>\n",
              "      <td>-121.872688</td>\n",
              "      <td>38.145294</td>\n",
              "      <td>40.10</td>\n",
              "    </tr>\n",
              "    <tr>\n",
              "      <th>45984</th>\n",
              "      <td>3029536</td>\n",
              "      <td>CA</td>\n",
              "      <td>Solano County</td>\n",
              "      <td>6095</td>\n",
              "      <td>Shiloh II</td>\n",
              "      <td>2009.0</td>\n",
              "      <td>42</td>\n",
              "      <td>84.000</td>\n",
              "      <td>REpower</td>\n",
              "      <td>MM92</td>\n",
              "      <td>2000.0</td>\n",
              "      <td>80.0</td>\n",
              "      <td>92.5</td>\n",
              "      <td>-121.763985</td>\n",
              "      <td>38.132793</td>\n",
              "      <td>40.50</td>\n",
              "    </tr>\n",
              "    <tr>\n",
              "      <th>46194</th>\n",
              "      <td>3017001</td>\n",
              "      <td>CA</td>\n",
              "      <td>Solano County</td>\n",
              "      <td>6095</td>\n",
              "      <td>Shiloh Wind Project</td>\n",
              "      <td>2006.0</td>\n",
              "      <td>76</td>\n",
              "      <td>114.000</td>\n",
              "      <td>GE Wind</td>\n",
              "      <td>GE1.5-77</td>\n",
              "      <td>1500.0</td>\n",
              "      <td>80.0</td>\n",
              "      <td>77.0</td>\n",
              "      <td>-121.862083</td>\n",
              "      <td>38.164097</td>\n",
              "      <td>34.50</td>\n",
              "    </tr>\n",
              "    <tr>\n",
              "      <th>46124</th>\n",
              "      <td>3016928</td>\n",
              "      <td>CA</td>\n",
              "      <td>Solano County</td>\n",
              "      <td>6095</td>\n",
              "      <td>Shiloh Wind Project</td>\n",
              "      <td>2006.0</td>\n",
              "      <td>76</td>\n",
              "      <td>114.000</td>\n",
              "      <td>GE Wind</td>\n",
              "      <td>GE1.5-77</td>\n",
              "      <td>1500.0</td>\n",
              "      <td>80.0</td>\n",
              "      <td>77.0</td>\n",
              "      <td>-121.882988</td>\n",
              "      <td>38.144096</td>\n",
              "      <td>34.50</td>\n",
              "    </tr>\n",
              "    <tr>\n",
              "      <th>18066</th>\n",
              "      <td>3055811</td>\n",
              "      <td>CA</td>\n",
              "      <td>Alameda County</td>\n",
              "      <td>6001</td>\n",
              "      <td>Golden Hills</td>\n",
              "      <td>2015.0</td>\n",
              "      <td>48</td>\n",
              "      <td>85.900</td>\n",
              "      <td>GE Wind</td>\n",
              "      <td>GE1.7-100</td>\n",
              "      <td>1700.0</td>\n",
              "      <td>80.0</td>\n",
              "      <td>100.0</td>\n",
              "      <td>-121.604820</td>\n",
              "      <td>37.726204</td>\n",
              "      <td>47.80</td>\n",
              "    </tr>\n",
              "    <tr>\n",
              "      <th>38010</th>\n",
              "      <td>3011432</td>\n",
              "      <td>CA</td>\n",
              "      <td>Alameda County</td>\n",
              "      <td>6001</td>\n",
              "      <td>Patterson Pass</td>\n",
              "      <td>1985.0</td>\n",
              "      <td>201</td>\n",
              "      <td>13.065</td>\n",
              "      <td>Bonus</td>\n",
              "      <td>NaN</td>\n",
              "      <td>65.0</td>\n",
              "      <td>24.6</td>\n",
              "      <td>16.0</td>\n",
              "      <td>-121.613609</td>\n",
              "      <td>37.688629</td>\n",
              "      <td>30.00</td>\n",
              "    </tr>\n",
              "    <tr>\n",
              "      <th>47087</th>\n",
              "      <td>3013678</td>\n",
              "      <td>CA</td>\n",
              "      <td>Solano County</td>\n",
              "      <td>6095</td>\n",
              "      <td>Solano Wind Project, Phase I</td>\n",
              "      <td>2003.0</td>\n",
              "      <td>15</td>\n",
              "      <td>9.900</td>\n",
              "      <td>Vestas</td>\n",
              "      <td>V47-0.66</td>\n",
              "      <td>660.0</td>\n",
              "      <td>50.0</td>\n",
              "      <td>47.0</td>\n",
              "      <td>-121.767586</td>\n",
              "      <td>38.124393</td>\n",
              "      <td>14.90</td>\n",
              "    </tr>\n",
              "    <tr>\n",
              "      <th>47072</th>\n",
              "      <td>3025435</td>\n",
              "      <td>CA</td>\n",
              "      <td>Solano County</td>\n",
              "      <td>6095</td>\n",
              "      <td>Solano Wind Project</td>\n",
              "      <td>2007.0</td>\n",
              "      <td>21</td>\n",
              "      <td>63.000</td>\n",
              "      <td>Vestas</td>\n",
              "      <td>V90-3.0</td>\n",
              "      <td>3000.0</td>\n",
              "      <td>80.0</td>\n",
              "      <td>90.0</td>\n",
              "      <td>-121.760788</td>\n",
              "      <td>38.110294</td>\n",
              "      <td>30.40</td>\n",
              "    </tr>\n",
              "    <tr>\n",
              "      <th>23632</th>\n",
              "      <td>3011352</td>\n",
              "      <td>CA</td>\n",
              "      <td>Merced County</td>\n",
              "      <td>6047</td>\n",
              "      <td>International Turbine Research Center</td>\n",
              "      <td>1988.0</td>\n",
              "      <td>161</td>\n",
              "      <td>17.430</td>\n",
              "      <td>NaN</td>\n",
              "      <td>NaN</td>\n",
              "      <td>105.0</td>\n",
              "      <td>NaN</td>\n",
              "      <td>NaN</td>\n",
              "      <td>-121.177086</td>\n",
              "      <td>37.033295</td>\n",
              "      <td>24.40</td>\n",
              "    </tr>\n",
              "    <tr>\n",
              "      <th>23625</th>\n",
              "      <td>3005796</td>\n",
              "      <td>CA</td>\n",
              "      <td>Merced County</td>\n",
              "      <td>6047</td>\n",
              "      <td>International Turbine Research Center</td>\n",
              "      <td>1988.0</td>\n",
              "      <td>161</td>\n",
              "      <td>17.430</td>\n",
              "      <td>NaN</td>\n",
              "      <td>NaN</td>\n",
              "      <td>105.0</td>\n",
              "      <td>NaN</td>\n",
              "      <td>NaN</td>\n",
              "      <td>-121.176613</td>\n",
              "      <td>37.045204</td>\n",
              "      <td>24.50</td>\n",
              "    </tr>\n",
              "    <tr>\n",
              "      <th>23645</th>\n",
              "      <td>3002043</td>\n",
              "      <td>CA</td>\n",
              "      <td>Merced County</td>\n",
              "      <td>6047</td>\n",
              "      <td>International Turbine Research Center</td>\n",
              "      <td>1988.0</td>\n",
              "      <td>161</td>\n",
              "      <td>17.430</td>\n",
              "      <td>NaN</td>\n",
              "      <td>NaN</td>\n",
              "      <td>105.0</td>\n",
              "      <td>NaN</td>\n",
              "      <td>NaN</td>\n",
              "      <td>-121.178139</td>\n",
              "      <td>37.050671</td>\n",
              "      <td>24.50</td>\n",
              "    </tr>\n",
              "    <tr>\n",
              "      <th>46157</th>\n",
              "      <td>3016955</td>\n",
              "      <td>CA</td>\n",
              "      <td>Solano County</td>\n",
              "      <td>6095</td>\n",
              "      <td>Shiloh Wind Project</td>\n",
              "      <td>2006.0</td>\n",
              "      <td>24</td>\n",
              "      <td>36.000</td>\n",
              "      <td>GE Wind</td>\n",
              "      <td>GE1.5-77</td>\n",
              "      <td>1500.0</td>\n",
              "      <td>65.0</td>\n",
              "      <td>77.0</td>\n",
              "      <td>-121.836990</td>\n",
              "      <td>38.161797</td>\n",
              "      <td>33.20</td>\n",
              "    </tr>\n",
              "    <tr>\n",
              "      <th>45966</th>\n",
              "      <td>3028678</td>\n",
              "      <td>CA</td>\n",
              "      <td>Solano County</td>\n",
              "      <td>6095</td>\n",
              "      <td>Shiloh II</td>\n",
              "      <td>2009.0</td>\n",
              "      <td>33</td>\n",
              "      <td>66.000</td>\n",
              "      <td>REpower</td>\n",
              "      <td>MM92</td>\n",
              "      <td>2000.0</td>\n",
              "      <td>68.5</td>\n",
              "      <td>92.5</td>\n",
              "      <td>-121.862984</td>\n",
              "      <td>38.188793</td>\n",
              "      <td>40.70</td>\n",
              "    </tr>\n",
              "    <tr>\n",
              "      <th>18024</th>\n",
              "      <td>3053985</td>\n",
              "      <td>CA</td>\n",
              "      <td>Alameda County</td>\n",
              "      <td>6001</td>\n",
              "      <td>Golden Hills</td>\n",
              "      <td>2015.0</td>\n",
              "      <td>48</td>\n",
              "      <td>85.900</td>\n",
              "      <td>GE Wind</td>\n",
              "      <td>GE1.7-100</td>\n",
              "      <td>1700.0</td>\n",
              "      <td>80.0</td>\n",
              "      <td>100.0</td>\n",
              "      <td>-121.624817</td>\n",
              "      <td>37.719265</td>\n",
              "      <td>47.90</td>\n",
              "    </tr>\n",
              "    <tr>\n",
              "      <th>38091</th>\n",
              "      <td>3006005</td>\n",
              "      <td>CA</td>\n",
              "      <td>Alameda County</td>\n",
              "      <td>6001</td>\n",
              "      <td>Patterson Pass</td>\n",
              "      <td>1985.0</td>\n",
              "      <td>201</td>\n",
              "      <td>13.065</td>\n",
              "      <td>Bonus</td>\n",
              "      <td>NaN</td>\n",
              "      <td>65.0</td>\n",
              "      <td>24.6</td>\n",
              "      <td>16.0</td>\n",
              "      <td>-121.613556</td>\n",
              "      <td>37.689518</td>\n",
              "      <td>30.00</td>\n",
              "    </tr>\n",
              "    <tr>\n",
              "      <th>21686</th>\n",
              "      <td>3073736</td>\n",
              "      <td>CA</td>\n",
              "      <td>Solano County</td>\n",
              "      <td>6095</td>\n",
              "      <td>High Winds</td>\n",
              "      <td>2003.0</td>\n",
              "      <td>90</td>\n",
              "      <td>162.000</td>\n",
              "      <td>Vestas</td>\n",
              "      <td>V80-1.8</td>\n",
              "      <td>1800.0</td>\n",
              "      <td>60.0</td>\n",
              "      <td>80.0</td>\n",
              "      <td>-121.800484</td>\n",
              "      <td>38.102596</td>\n",
              "      <td>35.30</td>\n",
              "    </tr>\n",
              "    <tr>\n",
              "      <th>18077</th>\n",
              "      <td>3077475</td>\n",
              "      <td>CA</td>\n",
              "      <td>Alameda County</td>\n",
              "      <td>6001</td>\n",
              "      <td>Golden Hills North</td>\n",
              "      <td>2017.0</td>\n",
              "      <td>20</td>\n",
              "      <td>46.000</td>\n",
              "      <td>GE Wind</td>\n",
              "      <td>GE2.3-116</td>\n",
              "      <td>2300.0</td>\n",
              "      <td>80.0</td>\n",
              "      <td>116.0</td>\n",
              "      <td>-121.621140</td>\n",
              "      <td>37.756844</td>\n",
              "      <td>36.10</td>\n",
              "    </tr>\n",
              "    <tr>\n",
              "      <th>38136</th>\n",
              "      <td>3008868</td>\n",
              "      <td>CA</td>\n",
              "      <td>Alameda County</td>\n",
              "      <td>6001</td>\n",
              "      <td>Patterson Pass</td>\n",
              "      <td>1985.0</td>\n",
              "      <td>201</td>\n",
              "      <td>13.065</td>\n",
              "      <td>Bonus</td>\n",
              "      <td>NaN</td>\n",
              "      <td>65.0</td>\n",
              "      <td>24.6</td>\n",
              "      <td>16.0</td>\n",
              "      <td>-121.622330</td>\n",
              "      <td>37.698853</td>\n",
              "      <td>6.56</td>\n",
              "    </tr>\n",
              "  </tbody>\n",
              "</table>\n",
              "</div>"
            ],
            "text/plain": [
              "        CaseID State  ...   Latitude  Mean Capacity Factor\n",
              "13366  3020543    CA  ...  37.745895                 30.10\n",
              "45928  3028682    CA  ...  38.173996                 39.90\n",
              "23633  3004156    CA  ...  37.046196                 23.20\n",
              "46170  3016948    CA  ...  38.162395                 36.30\n",
              "45958  3028700    CA  ...  38.163994                 40.50\n",
              "33053  3036696    CA  ...  38.152195                 17.80\n",
              "21699  3071498    CA  ...  38.100502                 12.60\n",
              "47069  3025436    CA  ...  38.108395                 39.30\n",
              "33079  3040370    CA  ...  38.116894                 36.40\n",
              "21650  3011420    CA  ...  38.142094                 17.50\n",
              "14250  3071464    CA  ...  38.082649                 34.20\n",
              "21724  3071191    CA  ...  38.142296                 34.40\n",
              "46062  3043783    CA  ...  38.145294                 40.10\n",
              "45984  3029536    CA  ...  38.132793                 40.50\n",
              "46194  3017001    CA  ...  38.164097                 34.50\n",
              "46124  3016928    CA  ...  38.144096                 34.50\n",
              "18066  3055811    CA  ...  37.726204                 47.80\n",
              "38010  3011432    CA  ...  37.688629                 30.00\n",
              "47087  3013678    CA  ...  38.124393                 14.90\n",
              "47072  3025435    CA  ...  38.110294                 30.40\n",
              "23632  3011352    CA  ...  37.033295                 24.40\n",
              "23625  3005796    CA  ...  37.045204                 24.50\n",
              "23645  3002043    CA  ...  37.050671                 24.50\n",
              "46157  3016955    CA  ...  38.161797                 33.20\n",
              "45966  3028678    CA  ...  38.188793                 40.70\n",
              "18024  3053985    CA  ...  37.719265                 47.90\n",
              "38091  3006005    CA  ...  37.689518                 30.00\n",
              "21686  3073736    CA  ...  38.102596                 35.30\n",
              "18077  3077475    CA  ...  37.756844                 36.10\n",
              "38136  3008868    CA  ...  37.698853                  6.56\n",
              "\n",
              "[30 rows x 16 columns]"
            ]
          },
          "metadata": {
            "tags": []
          },
          "execution_count": 134
        }
      ]
    },
    {
      "cell_type": "code",
      "metadata": {
        "id": "5IOHV_CzgmxJ",
        "colab_type": "code",
        "colab": {}
      },
      "source": [
        ""
      ],
      "execution_count": 0,
      "outputs": []
    },
    {
      "cell_type": "code",
      "metadata": {
        "id": "c2PIE1Bd_9y4",
        "colab_type": "code",
        "outputId": "8d377574-0a69-4c9e-8d06-d808d7fc4bd8",
        "colab": {
          "base_uri": "https://localhost:8080/",
          "height": 34
        }
      },
      "source": [
        "cn['Max Turbine Capacity'].sum()"
      ],
      "execution_count": 0,
      "outputs": [
        {
          "output_type": "execute_result",
          "data": {
            "text/plain": [
              "41585.0"
            ]
          },
          "metadata": {
            "tags": []
          },
          "execution_count": 94
        }
      ]
    },
    {
      "cell_type": "code",
      "metadata": {
        "id": "7tWJDWwUUXD0",
        "colab_type": "code",
        "outputId": "da981904-f86a-4008-b139-4a3fd651e431",
        "colab": {
          "base_uri": "https://localhost:8080/",
          "height": 34
        }
      },
      "source": [
        "stats.describe(cn['Mean Capacity Factor'])"
      ],
      "execution_count": 0,
      "outputs": [
        {
          "output_type": "execute_result",
          "data": {
            "text/plain": [
              "DescribeResult(nobs=30, minmax=(0.0, 0.0), mean=0.0, variance=0.0, skewness=0.0, kurtosis=-3.0)"
            ]
          },
          "metadata": {
            "tags": []
          },
          "execution_count": 95
        }
      ]
    },
    {
      "cell_type": "markdown",
      "metadata": {
        "id": "tPOFZk_8bJiU",
        "colab_type": "text"
      },
      "source": [
        "USING XANT M-21 (100kW)  for NTK65 (65kW)  --- and for  KENETECH KCS56-100 (100kW)\n",
        "\n",
        "BECAUSE THOSE MANFACTURERS OR MODELS NOT IN RENEWABLES.NINJA DATABASE\n",
        "\n",
        "ALSO USING XANT FOR MISSING INFO WITH (105kW) TURBINES\n",
        "\n",
        "\n"
      ]
    },
    {
      "cell_type": "code",
      "metadata": {
        "id": "LXZl7BaS4nFi",
        "colab_type": "code",
        "colab": {}
      },
      "source": [
        "cn.at[13366,'Mean Capacity Factor']=30.1\n",
        "cn.at[45928,'Mean Capacity Factor']=39.9\n",
        "cn.at[23633,'Mean Capacity Factor']=23.2\n",
        "cn.at[46170,'Mean Capacity Factor']=36.3\n",
        "cn.at[45958,'Mean Capacity Factor']=40.5\n",
        "cn.at[33053,'Mean Capacity Factor']=17.8\n",
        "cn.at[21699,'Mean Capacity Factor']=12.6\n",
        "cn.at[47069,'Mean Capacity Factor']=39.3\n",
        "cn.at[33079,'Mean Capacity Factor']=36.4\n",
        "cn.at[21650,'Mean Capacity Factor']=17.5\n",
        "cn.at[14250,'Mean Capacity Factor']=34.2\n",
        "cn.at[21724,'Mean Capacity Factor']=34.4\n",
        "cn.at[46062,'Mean Capacity Factor']=40.1\n",
        "cn.at[45984,'Mean Capacity Factor']=40.5\n",
        "cn.at[46194,'Mean Capacity Factor']=34.5\n",
        "cn.at[46124,'Mean Capacity Factor']=34.5\n",
        "cn.at[18066,'Mean Capacity Factor']=47.8\n",
        "cn.at[38010,'Mean Capacity Factor']=30.0\n",
        "cn.at[47087,'Mean Capacity Factor']=14.9\n",
        "cn.at[47072,'Mean Capacity Factor']=30.4\n",
        "cn.at[23632,'Mean Capacity Factor']=24.4\n",
        "cn.at[23625,'Mean Capacity Factor']=24.5\n",
        "cn.at[23645,'Mean Capacity Factor']=24.5\n",
        "cn.at[46157,'Mean Capacity Factor']=33.2\n",
        "cn.at[45966,'Mean Capacity Factor']=40.7\n",
        "cn.at[18024,'Mean Capacity Factor']=47.9\n",
        "cn.at[38091,'Mean Capacity Factor']=30.0\n",
        "cn.at[21686,'Mean Capacity Factor']=35.3\n",
        "cn.at[18077,'Mean Capacity Factor']=36.1\n",
        "cn.at[38136,'Mean Capacity Factor']=6.56"
      ],
      "execution_count": 0,
      "outputs": []
    },
    {
      "cell_type": "code",
      "metadata": {
        "id": "rGwKptKOpNwk",
        "colab_type": "code",
        "outputId": "bed042a2-8145-457e-c5a1-0780f236048f",
        "colab": {
          "base_uri": "https://localhost:8080/",
          "height": 34
        }
      },
      "source": [
        "stats.describe(cn['Mean Capacity Factor'])"
      ],
      "execution_count": 0,
      "outputs": [
        {
          "output_type": "execute_result",
          "data": {
            "text/plain": [
              "DescribeResult(nobs=30, minmax=(6.56, 47.9), mean=31.268666666666665, variance=102.33510850574713, skewness=-0.62862314835081, kurtosis=-0.1473689141080743)"
            ]
          },
          "metadata": {
            "tags": []
          },
          "execution_count": 135
        }
      ]
    },
    {
      "cell_type": "code",
      "metadata": {
        "id": "VJqdrrN7pc4B",
        "colab_type": "code",
        "outputId": "173cdc8a-dd78-475f-c630-bbffefdc2de4",
        "colab": {
          "base_uri": "https://localhost:8080/",
          "height": 332
        }
      },
      "source": [
        "plt.hist(cn['Mean Capacity Factor'], alpha = .5,color='b')"
      ],
      "execution_count": 0,
      "outputs": [
        {
          "output_type": "execute_result",
          "data": {
            "text/plain": [
              "(array([1., 1., 3., 0., 4., 4., 6., 4., 5., 2.]),\n",
              " array([ 6.56 , 10.694, 14.828, 18.962, 23.096, 27.23 , 31.364, 35.498,\n",
              "        39.632, 43.766, 47.9  ]),\n",
              " <a list of 10 Patch objects>)"
            ]
          },
          "metadata": {
            "tags": []
          },
          "execution_count": 136
        },
        {
          "output_type": "display_data",
          "data": {
            "image/png": "[encoded data removed]",
            "text/plain": [
              "<Figure size 432x288 with 1 Axes>"
            ]
          },
          "metadata": {
            "tags": []
          }
        }
      ]
    },
    {
      "cell_type": "code",
      "metadata": {
        "id": "5fyi3uvTv5hP",
        "colab_type": "code",
        "outputId": "233e23ed-ec2e-4e9f-98d1-a1ef74075724",
        "colab": {
          "base_uri": "https://localhost:8080/",
          "height": 34
        }
      },
      "source": [
        " stats.shapiro(cn['Mean Capacity Factor'])"
      ],
      "execution_count": 0,
      "outputs": [
        {
          "output_type": "execute_result",
          "data": {
            "text/plain": [
              "(0.9473797082901001, 0.14377719163894653)"
            ]
          },
          "metadata": {
            "tags": []
          },
          "execution_count": 137
        }
      ]
    },
    {
      "cell_type": "code",
      "metadata": {
        "id": "f4DAWtfWwtZS",
        "colab_type": "code",
        "outputId": "2757e031-dfa7-414e-94a8-1fe0e54949c6",
        "colab": {
          "base_uri": "https://localhost:8080/",
          "height": 34
        }
      },
      "source": [
        "stats.shapiro(cs['Mean Capacity Factor'])"
      ],
      "execution_count": 0,
      "outputs": [
        {
          "output_type": "execute_result",
          "data": {
            "text/plain": [
              "(0.3288383483886719, 1.2441145336161696e-10)"
            ]
          },
          "metadata": {
            "tags": []
          },
          "execution_count": 166
        }
      ]
    },
    {
      "cell_type": "code",
      "metadata": {
        "id": "ZD2-SghMstGJ",
        "colab_type": "code",
        "outputId": "abc0b49a-d6b8-412a-ab1c-6e5f275df5d4",
        "colab": {
          "base_uri": "https://localhost:8080/",
          "height": 34
        }
      },
      "source": [
        "ks_2samp(cn['Mean Capacity Factor'],cs['Mean Capacity Factor'])"
      ],
      "execution_count": 0,
      "outputs": [
        {
          "output_type": "execute_result",
          "data": {
            "text/plain": [
              "Ks_2sampResult(statistic=0.7333333333333333, pvalue=4.326943555111202e-08)"
            ]
          },
          "metadata": {
            "tags": []
          },
          "execution_count": 164
        }
      ]
    },
    {
      "cell_type": "code",
      "metadata": {
        "id": "78VZCf6lGNl2",
        "colab_type": "code",
        "colab": {}
      },
      "source": [
        "#pd.concat([s1, s2], axis=1)"
      ],
      "execution_count": 0,
      "outputs": []
    },
    {
      "cell_type": "code",
      "metadata": {
        "id": "hr_LMXe9G-vG",
        "colab_type": "code",
        "outputId": "3112ca64-9e98-4d82-edad-30761305c09e",
        "colab": {
          "base_uri": "https://localhost:8080/",
          "height": 34
        }
      },
      "source": [
        "x[0]"
      ],
      "execution_count": 0,
      "outputs": [
        {
          "output_type": "execute_result",
          "data": {
            "text/plain": [
              "45960"
            ]
          },
          "metadata": {
            "tags": []
          },
          "execution_count": 75
        }
      ]
    },
    {
      "cell_type": "code",
      "metadata": {
        "id": "-5WQ5VX4HDqr",
        "colab_type": "code",
        "outputId": "8089dcff-65a3-4036-a988-f8c5b53f941f",
        "colab": {
          "base_uri": "https://localhost:8080/",
          "height": 34
        }
      },
      "source": [
        "x[1]"
      ],
      "execution_count": 0,
      "outputs": [
        {
          "output_type": "execute_result",
          "data": {
            "text/plain": [
              "'mean capacity factor'"
            ]
          },
          "metadata": {
            "tags": []
          },
          "execution_count": 76
        }
      ]
    },
    {
      "cell_type": "code",
      "metadata": {
        "id": "oOBextTbUsV2",
        "colab_type": "code",
        "colab": {}
      },
      "source": [
        "#wind_cali_county.first()"
      ],
      "execution_count": 0,
      "outputs": []
    },
    {
      "cell_type": "markdown",
      "metadata": {
        "id": "nIUg7BvOTvxy",
        "colab_type": "text"
      },
      "source": [
        "/////////////////////////////////////////////////////////////////////"
      ]
    },
    {
      "cell_type": "code",
      "metadata": {
        "id": "pXE0rgDOWZJ1",
        "colab_type": "code",
        "colab": {}
      },
      "source": [
        "wind_cali_county_cap=wind.groupby(['t_county','t_cap'])"
      ],
      "execution_count": 0,
      "outputs": []
    },
    {
      "cell_type": "code",
      "metadata": {
        "id": "QW_3do_gqdO-",
        "colab_type": "code",
        "colab": {}
      },
      "source": [
        "#wind_north=wind_cali[wind_cali['t_county'].isin(['Monterey County','Yolo County'])]"
      ],
      "execution_count": 0,
      "outputs": []
    },
    {
      "cell_type": "code",
      "metadata": {
        "id": "EnUpItPqrlVe",
        "colab_type": "code",
        "colab": {}
      },
      "source": [
        "wind_north=wind_cali[wind_cali['t_county']=='Yolo County']"
      ],
      "execution_count": 0,
      "outputs": []
    },
    {
      "cell_type": "code",
      "metadata": {
        "id": "4JRRq5VjOF9n",
        "colab_type": "code",
        "outputId": "cc4e2110-bb8e-47c9-9d25-9ce8bed76031",
        "colab": {
          "base_uri": "https://localhost:8080/",
          "height": 178
        }
      },
      "source": [
        "cn.to_pickle('cn.pickle')\n",
        "\n"
      ],
      "execution_count": 0,
      "outputs": [
        {
          "output_type": "error",
          "ename": "NameError",
          "evalue": "ignored",
          "traceback": [
            "\u001b[0;31m---------------------------------------------------------------------------\u001b[0m",
            "\u001b[0;31mNameError\u001b[0m                                 Traceback (most recent call last)",
            "\u001b[0;32m<ipython-input-6-ffdd0954b175>\u001b[0m in \u001b[0;36m<module>\u001b[0;34m()\u001b[0m\n\u001b[0;32m----> 1\u001b[0;31m \u001b[0mcn\u001b[0m\u001b[0;34m.\u001b[0m\u001b[0mto_pickle\u001b[0m\u001b[0;34m(\u001b[0m\u001b[0;34m'cn.pickle'\u001b[0m\u001b[0;34m)\u001b[0m\u001b[0;34m\u001b[0m\u001b[0;34m\u001b[0m\u001b[0m\n\u001b[0m\u001b[1;32m      2\u001b[0m \u001b[0;34m\u001b[0m\u001b[0m\n",
            "\u001b[0;31mNameError\u001b[0m: name 'cn' is not defined"
          ]
        }
      ]
    },
    {
      "cell_type": "code",
      "metadata": {
        "id": "KvN2S5GeOHlg",
        "colab_type": "code",
        "outputId": "621c9e13-fcac-460e-cba6-303c07d02448",
        "colab": {
          "base_uri": "https://localhost:8080/",
          "height": 337
        }
      },
      "source": [
        "cn2 = pd.read_pickle('cn.pickle')\n",
        "\n",
        "cn2"
      ],
      "execution_count": 0,
      "outputs": [
        {
          "output_type": "error",
          "ename": "FileNotFoundError",
          "evalue": "ignored",
          "traceback": [
            "\u001b[0;31m---------------------------------------------------------------------------\u001b[0m",
            "\u001b[0;31mFileNotFoundError\u001b[0m                         Traceback (most recent call last)",
            "\u001b[0;32m<ipython-input-5-4feeb53f254e>\u001b[0m in \u001b[0;36m<module>\u001b[0;34m()\u001b[0m\n\u001b[0;32m----> 1\u001b[0;31m \u001b[0mcn2\u001b[0m \u001b[0;34m=\u001b[0m \u001b[0mpd\u001b[0m\u001b[0;34m.\u001b[0m\u001b[0mread_pickle\u001b[0m\u001b[0;34m(\u001b[0m\u001b[0;34m'cn.pickle'\u001b[0m\u001b[0;34m)\u001b[0m\u001b[0;34m\u001b[0m\u001b[0;34m\u001b[0m\u001b[0m\n\u001b[0m\u001b[1;32m      2\u001b[0m \u001b[0;34m\u001b[0m\u001b[0m\n\u001b[1;32m      3\u001b[0m \u001b[0mcn2\u001b[0m\u001b[0;34m\u001b[0m\u001b[0;34m\u001b[0m\u001b[0m\n",
            "\u001b[0;32m/usr/local/lib/python3.6/dist-packages/pandas/io/pickle.py\u001b[0m in \u001b[0;36mread_pickle\u001b[0;34m(path, compression)\u001b[0m\n\u001b[1;32m    143\u001b[0m     \"\"\"\n\u001b[1;32m    144\u001b[0m     \u001b[0mpath\u001b[0m \u001b[0;34m=\u001b[0m \u001b[0m_stringify_path\u001b[0m\u001b[0;34m(\u001b[0m\u001b[0mpath\u001b[0m\u001b[0;34m)\u001b[0m\u001b[0;34m\u001b[0m\u001b[0;34m\u001b[0m\u001b[0m\n\u001b[0;32m--> 145\u001b[0;31m     \u001b[0mf\u001b[0m\u001b[0;34m,\u001b[0m \u001b[0mfh\u001b[0m \u001b[0;34m=\u001b[0m \u001b[0m_get_handle\u001b[0m\u001b[0;34m(\u001b[0m\u001b[0mpath\u001b[0m\u001b[0;34m,\u001b[0m \u001b[0;34m\"rb\"\u001b[0m\u001b[0;34m,\u001b[0m \u001b[0mcompression\u001b[0m\u001b[0;34m=\u001b[0m\u001b[0mcompression\u001b[0m\u001b[0;34m,\u001b[0m \u001b[0mis_text\u001b[0m\u001b[0;34m=\u001b[0m\u001b[0;32mFalse\u001b[0m\u001b[0;34m)\u001b[0m\u001b[0;34m\u001b[0m\u001b[0;34m\u001b[0m\u001b[0m\n\u001b[0m\u001b[1;32m    146\u001b[0m \u001b[0;34m\u001b[0m\u001b[0m\n\u001b[1;32m    147\u001b[0m     \u001b[0;31m# 1) try standard libary Pickle\u001b[0m\u001b[0;34m\u001b[0m\u001b[0;34m\u001b[0m\u001b[0;34m\u001b[0m\u001b[0m\n",
            "\u001b[0;32m/usr/local/lib/python3.6/dist-packages/pandas/io/common.py\u001b[0m in \u001b[0;36m_get_handle\u001b[0;34m(path_or_buf, mode, encoding, compression, memory_map, is_text)\u001b[0m\n\u001b[1;32m    403\u001b[0m         \u001b[0;32melse\u001b[0m\u001b[0;34m:\u001b[0m\u001b[0;34m\u001b[0m\u001b[0;34m\u001b[0m\u001b[0m\n\u001b[1;32m    404\u001b[0m             \u001b[0;31m# Binary mode\u001b[0m\u001b[0;34m\u001b[0m\u001b[0;34m\u001b[0m\u001b[0;34m\u001b[0m\u001b[0m\n\u001b[0;32m--> 405\u001b[0;31m             \u001b[0mf\u001b[0m \u001b[0;34m=\u001b[0m \u001b[0mopen\u001b[0m\u001b[0;34m(\u001b[0m\u001b[0mpath_or_buf\u001b[0m\u001b[0;34m,\u001b[0m \u001b[0mmode\u001b[0m\u001b[0;34m)\u001b[0m\u001b[0;34m\u001b[0m\u001b[0;34m\u001b[0m\u001b[0m\n\u001b[0m\u001b[1;32m    406\u001b[0m         \u001b[0mhandles\u001b[0m\u001b[0;34m.\u001b[0m\u001b[0mappend\u001b[0m\u001b[0;34m(\u001b[0m\u001b[0mf\u001b[0m\u001b[0;34m)\u001b[0m\u001b[0;34m\u001b[0m\u001b[0;34m\u001b[0m\u001b[0m\n\u001b[1;32m    407\u001b[0m \u001b[0;34m\u001b[0m\u001b[0m\n",
            "\u001b[0;31mFileNotFoundError\u001b[0m: [Errno 2] No such file or directory: 'cn.pickle'"
          ]
        }
      ]
    },
    {
      "cell_type": "code",
      "metadata": {
        "id": "KWR8On0dvLMt",
        "colab_type": "code",
        "colab": {}
      },
      "source": [
        "Mean Capacity Factor"
      ],
      "execution_count": 0,
      "outputs": []
    }
  ]
}