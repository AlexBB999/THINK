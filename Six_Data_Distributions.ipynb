{
  "nbformat": 4,
  "nbformat_minor": 0,
  "metadata": {
    "colab": {
      "name": "Six Data Distributions.ipynb",
      "provenance": [],
      "collapsed_sections": [],
      "include_colab_link": true
    },
    "kernelspec": {
      "name": "python3",
      "display_name": "Python 3"
    }
  },
  "cells": [
    {
      "cell_type": "markdown",
      "metadata": {
        "id": "view-in-github",
        "colab_type": "text"
      },
      "source": [
        "<a href=\"https://colab.research.google.com/github/AlexBB999/THINK/blob/master/Six_Data_Distributions.ipynb\" target=\"_parent\"><img src=\"https://colab.research.google.com/assets/colab-badge.svg\" alt=\"Open In Colab\"/></a>"
      ]
    },
    {
      "cell_type": "markdown",
      "metadata": {
        "id": "_UtcOw7StMd6",
        "colab_type": "text"
      },
      "source": [
        "WHEN CREATING WITH MULTIPLE DATA POINTS RAN INTO SEVERAL ERRORS\n",
        "\n",
        "MOSTLY THIS ONE-->ValueError: p < 0, p > 1 or p contains NaNs"
      ]
    },
    {
      "cell_type": "code",
      "metadata": {
        "id": "B6zUlcOoU6S5",
        "colab_type": "code",
        "colab": {}
      },
      "source": [
        "import numpy as np\n",
        "import pandas as pd\n",
        "import matplotlib.pyplot as plt\n",
        "%matplotlib inline"
      ],
      "execution_count": 0,
      "outputs": []
    },
    {
      "cell_type": "code",
      "metadata": {
        "id": "P-Ol_35yNlYY",
        "colab_type": "code",
        "colab": {}
      },
      "source": [
        "from astropy.visualization import hist"
      ],
      "execution_count": 0,
      "outputs": []
    },
    {
      "cell_type": "markdown",
      "metadata": {
        "id": "VqZkMMX5aRIw",
        "colab_type": "text"
      },
      "source": [
        "distributionvar = np.random.distributionname([arguments], 100)"
      ]
    },
    {
      "cell_type": "code",
      "metadata": {
        "id": "GJHIeCkxYbdO",
        "colab_type": "code",
        "outputId": "e36f9f28-1f97-4ba4-a1cc-bd7f33eb31e0",
        "colab": {
          "base_uri": "https://localhost:8080/",
          "height": 34
        }
      },
      "source": [
        "np.__version__ "
      ],
      "execution_count": 0,
      "outputs": [
        {
          "output_type": "execute_result",
          "data": {
            "text/plain": [
              "'1.17.4'"
            ]
          },
          "metadata": {
            "tags": []
          },
          "execution_count": 17
        }
      ]
    },
    {
      "cell_type": "markdown",
      "metadata": {
        "id": "ZtGBvG20RJXT",
        "colab_type": "text"
      },
      "source": [
        "=========================================\n",
        "\n",
        "GAMMA"
      ]
    },
    {
      "cell_type": "code",
      "metadata": {
        "id": "RnNfF2b7UugT",
        "colab_type": "code",
        "colab": {}
      },
      "source": [
        "gamma=np.random.gamma([5,2,1000],100)"
      ],
      "execution_count": 0,
      "outputs": []
    },
    {
      "cell_type": "code",
      "metadata": {
        "id": "JUg0oQTEQbyH",
        "colab_type": "code",
        "colab": {}
      },
      "source": [
        ""
      ],
      "execution_count": 0,
      "outputs": []
    },
    {
      "cell_type": "code",
      "metadata": {
        "colab_type": "code",
        "id": "SrGwYOdIQft2",
        "colab": {}
      },
      "source": [
        "gamma=np.random.gamma(5,1,1000)"
      ],
      "execution_count": 0,
      "outputs": []
    },
    {
      "cell_type": "code",
      "metadata": {
        "id": "ig489uMYH2eu",
        "colab_type": "code",
        "colab": {}
      },
      "source": [
        "gamma=np.random.gamma([5,1,100],100)"
      ],
      "execution_count": 0,
      "outputs": []
    },
    {
      "cell_type": "code",
      "metadata": {
        "id": "lXnKrEK8VZmI",
        "colab_type": "code",
        "outputId": "43233671-c78c-437a-d29e-bed95e734bf5",
        "colab": {
          "base_uri": "https://localhost:8080/",
          "height": 34
        }
      },
      "source": [
        "gamma.shape"
      ],
      "execution_count": 0,
      "outputs": [
        {
          "output_type": "execute_result",
          "data": {
            "text/plain": [
              "(3,)"
            ]
          },
          "metadata": {
            "tags": []
          },
          "execution_count": 44
        }
      ]
    },
    {
      "cell_type": "code",
      "metadata": {
        "id": "afDbk_KYZ04F",
        "colab_type": "code",
        "outputId": "4f9cf8d5-f1b2-4533-a7c9-5d360d87da03",
        "colab": {
          "base_uri": "https://localhost:8080/",
          "height": 34
        }
      },
      "source": [
        "m=gamma.mean()\n",
        "m"
      ],
      "execution_count": 0,
      "outputs": [
        {
          "output_type": "execute_result",
          "data": {
            "text/plain": [
              "3724.7315800788656"
            ]
          },
          "metadata": {
            "tags": []
          },
          "execution_count": 45
        }
      ]
    },
    {
      "cell_type": "code",
      "metadata": {
        "id": "IOlDYw7wbEZt",
        "colab_type": "code",
        "outputId": "f9679697-f495-4be8-b6e1-b582c3557864",
        "colab": {
          "base_uri": "https://localhost:8080/",
          "height": 34
        }
      },
      "source": [
        "sd=gamma.std()\n",
        "sd"
      ],
      "execution_count": 0,
      "outputs": [
        {
          "output_type": "execute_result",
          "data": {
            "text/plain": [
              "4820.6956327870175"
            ]
          },
          "metadata": {
            "tags": []
          },
          "execution_count": 51
        }
      ]
    },
    {
      "cell_type": "code",
      "metadata": {
        "id": "rfBXGydP1tZk",
        "colab_type": "code",
        "colab": {}
      },
      "source": [
        "from matplotlib.pyplot import text"
      ],
      "execution_count": 0,
      "outputs": []
    },
    {
      "cell_type": "code",
      "metadata": {
        "id": "JrpBoJ6-amVV",
        "colab_type": "code",
        "outputId": "f1ed3033-33a2-4dac-e7ba-137b10853b71",
        "colab": {
          "base_uri": "https://localhost:8080/",
          "height": 265
        }
      },
      "source": [
        "plt.hist(gamma,bins=\"auto\")\n",
        "text(m,1,s=\"mean\" , verticalalignment='center',rotation=90 )\n",
        "text(sd+m,1,s=\"Standard Deviation\" , verticalalignment='center',rotation=90 )\n",
        "#plt.legend(loc='upper right');\n",
        "plt.axvline(m, color='y', linestyle='solid', linewidth=2, label=\"mean\")\n",
        "plt.axvline(m+sd, color='y', linestyle='dashed', linewidth=2)\n",
        "plt.axvline(m-sd, color='y', linestyle='dashed', linewidth=2)\n",
        "plt.show()"
      ],
      "execution_count": 0,
      "outputs": [
        {
          "output_type": "display_data",
          "data": {
            "image/png": "[encoded data removed]",
            "text/plain": [
              "<Figure size 432x288 with 1 Axes>"
            ]
          },
          "metadata": {
            "tags": []
          }
        }
      ]
    },
    {
      "cell_type": "markdown",
      "metadata": {
        "id": "tIctR_lM3iJd",
        "colab_type": "text"
      },
      "source": [
        "============================================================\n",
        "\n",
        "BINOMIAL\n"
      ]
    },
    {
      "cell_type": "markdown",
      "metadata": {
        "id": "6RpMCLjHQDqq",
        "colab_type": "text"
      },
      "source": [
        "1\n",
        "\n",
        "I know the question is old but since I faced the same problem just now, it seems to me it's still valid. Here's the solution I've found for it:\n",
        "\n",
        "a = np.asarray(a).astype('float64')\n",
        "a = a / np.sum(a)\n",
        "b = np.random.multinomial(1, a, 1)\n",
        "I've made the important part bold. If you omit that part the problem you've mentioned will happen from time to time. But if you change the type of array into float64, it will never happen.\n",
        "\n",
        "shareimprove this answer"
      ]
    },
    {
      "cell_type": "code",
      "metadata": {
        "id": "V3WzJ81N3nlY",
        "colab_type": "code",
        "outputId": "8a70763a-00c4-4318-bcd1-e636da8423cd",
        "colab": {
          "base_uri": "https://localhost:8080/",
          "height": 229
        }
      },
      "source": [
        "bi=np.random.binomial([20,.5,1000],100 )\n"
      ],
      "execution_count": 0,
      "outputs": [
        {
          "output_type": "error",
          "ename": "ValueError",
          "evalue": "ignored",
          "traceback": [
            "\u001b[0;31m---------------------------------------------------------------------------\u001b[0m",
            "\u001b[0;31mValueError\u001b[0m                                Traceback (most recent call last)",
            "\u001b[0;32m<ipython-input-78-99ec7b5de871>\u001b[0m in \u001b[0;36m<module>\u001b[0;34m()\u001b[0m\n\u001b[0;32m----> 1\u001b[0;31m \u001b[0mbi\u001b[0m\u001b[0;34m=\u001b[0m\u001b[0mnp\u001b[0m\u001b[0;34m.\u001b[0m\u001b[0mrandom\u001b[0m\u001b[0;34m.\u001b[0m\u001b[0mbinomial\u001b[0m\u001b[0;34m(\u001b[0m\u001b[0;34m[\u001b[0m\u001b[0;36m20\u001b[0m\u001b[0;34m,\u001b[0m\u001b[0;36m.5\u001b[0m\u001b[0;34m,\u001b[0m\u001b[0;36m1000\u001b[0m\u001b[0;34m]\u001b[0m\u001b[0;34m,\u001b[0m\u001b[0;36m100\u001b[0m \u001b[0;34m)\u001b[0m\u001b[0;34m\u001b[0m\u001b[0;34m\u001b[0m\u001b[0m\n\u001b[0m",
            "\u001b[0;32mmtrand.pyx\u001b[0m in \u001b[0;36mnumpy.random.mtrand.RandomState.binomial\u001b[0;34m()\u001b[0m\n",
            "\u001b[0;32mcommon.pyx\u001b[0m in \u001b[0;36mnumpy.random.common.check_array_constraint\u001b[0;34m()\u001b[0m\n",
            "\u001b[0;31mValueError\u001b[0m: p < 0, p > 1 or p contains NaNs"
          ]
        }
      ]
    },
    {
      "cell_type": "code",
      "metadata": {
        "id": "Xlb0HNheJcz3",
        "colab_type": "code",
        "outputId": "136a0a27-7499-4733-9b70-ed0c772d5d93",
        "colab": {
          "base_uri": "https://localhost:8080/",
          "height": 34
        }
      },
      "source": [
        "bi=np.random.binomial(20,.5,1000)\n",
        "\n",
        "mb=bi.mean()\n",
        "mb"
      ],
      "execution_count": 0,
      "outputs": [
        {
          "output_type": "execute_result",
          "data": {
            "text/plain": [
              "9.961"
            ]
          },
          "metadata": {
            "tags": []
          },
          "execution_count": 66
        }
      ]
    },
    {
      "cell_type": "code",
      "metadata": {
        "id": "4pJCiqRjKeET",
        "colab_type": "code",
        "outputId": "de809e03-44e3-48fb-c0e9-3c3426c7842c",
        "colab": {
          "base_uri": "https://localhost:8080/",
          "height": 34
        }
      },
      "source": [
        "bs=bi.std()\n",
        "bs"
      ],
      "execution_count": 0,
      "outputs": [
        {
          "output_type": "execute_result",
          "data": {
            "text/plain": [
              "2.2652768042780114"
            ]
          },
          "metadata": {
            "tags": []
          },
          "execution_count": 67
        }
      ]
    },
    {
      "cell_type": "code",
      "metadata": {
        "id": "FmX98p1675pW",
        "colab_type": "code",
        "outputId": "18d6f012-d171-4e53-ad33-b97cec0908af",
        "colab": {
          "base_uri": "https://localhost:8080/",
          "height": 281
        }
      },
      "source": [
        "plt.hist(bi)\n",
        "\n",
        "\n",
        "text(mb,200,s=\"MEAN\" , verticalalignment='center',rotation=-90 )\n",
        "#plt.legend(loc='upper right');\n",
        "plt.axvline(mb, color='r', linestyle='solid', linewidth=2, label=\"mean\")\n",
        "plt.axvline(mb+.5*bs, color='y', linestyle='dashed', linewidth=2)\n",
        "plt.axvline(mb-.5*bs, color='y', linestyle='dashed', linewidth=2)\n",
        "plt.title(\"BINOMIAL\")\n",
        "\n",
        "plt.show()"
      ],
      "execution_count": 0,
      "outputs": [
        {
          "output_type": "display_data",
          "data": {
            "image/png": "[encoded data removed]",
            "text/plain": [
              "<Figure size 432x288 with 1 Axes>"
            ]
          },
          "metadata": {
            "tags": []
          }
        }
      ]
    },
    {
      "cell_type": "markdown",
      "metadata": {
        "id": "fi6_1hhI5s-a",
        "colab_type": "text"
      },
      "source": [
        "=============================================\n",
        "\n",
        "NORMAL"
      ]
    },
    {
      "cell_type": "code",
      "metadata": {
        "id": "nxyI3mt25yMn",
        "colab_type": "code",
        "colab": {}
      },
      "source": [
        "n=np.random.normal([20,3,100],100)\n"
      ],
      "execution_count": 0,
      "outputs": []
    },
    {
      "cell_type": "code",
      "metadata": {
        "colab_type": "code",
        "id": "flebvDw8SEZm",
        "colab": {}
      },
      "source": [
        "n=np.random.normal(0,.1,100)\n"
      ],
      "execution_count": 0,
      "outputs": []
    },
    {
      "cell_type": "code",
      "metadata": {
        "id": "qfbrUDX_TGWj",
        "colab_type": "code",
        "outputId": "fee0326a-35bf-403a-9c43-7cdd4aa6934a",
        "colab": {
          "base_uri": "https://localhost:8080/",
          "height": 34
        }
      },
      "source": [
        "mn=n.mean()\n",
        "mn"
      ],
      "execution_count": 0,
      "outputs": [
        {
          "output_type": "execute_result",
          "data": {
            "text/plain": [
              "0.008071289362098883"
            ]
          },
          "metadata": {
            "tags": []
          },
          "execution_count": 94
        }
      ]
    },
    {
      "cell_type": "code",
      "metadata": {
        "id": "YbLOXq7JTK8l",
        "colab_type": "code",
        "colab": {}
      },
      "source": [
        "sn=n.std()\n",
        "sn"
      ],
      "execution_count": 0,
      "outputs": []
    },
    {
      "cell_type": "code",
      "metadata": {
        "id": "i8Lx2ZQNTc-r",
        "colab_type": "code",
        "outputId": "a84b7e57-9b85-4f66-c436-59181786dd42",
        "colab": {
          "base_uri": "https://localhost:8080/",
          "height": 281
        }
      },
      "source": [
        "plt.hist(n,bins=\"auto\")\n",
        "text(mn,10,s=\"MEAN\" , verticalalignment='center',rotation=-90 )\n",
        "#plt.legend(loc='upper right');\n",
        "plt.axvline(mn, color='r', linestyle='solid', linewidth=2, label=\"mean\")\n",
        "plt.axvline(mn+.5*sn, color='y', linestyle='dashed', linewidth=2)\n",
        "plt.axvline(mn-.5*sn, color='y', linestyle='dashed', linewidth=2)\n",
        "plt.title(\"NORMAL\")\n",
        "\n",
        "plt.show()"
      ],
      "execution_count": 0,
      "outputs": [
        {
          "output_type": "display_data",
          "data": {
            "image/png": "[encoded data removed]",
            "text/plain": [
              "<Figure size 432x288 with 1 Axes>"
            ]
          },
          "metadata": {
            "tags": []
          }
        }
      ]
    },
    {
      "cell_type": "markdown",
      "metadata": {
        "id": "ewK_hUnmULjY",
        "colab_type": "text"
      },
      "source": [
        "POISSON"
      ]
    },
    {
      "cell_type": "code",
      "metadata": {
        "id": "GWL2ds5SUyQs",
        "colab_type": "code",
        "outputId": "15a47d8d-243f-4251-bca6-4d491b803979",
        "colab": {
          "base_uri": "https://localhost:8080/",
          "height": 296
        }
      },
      "source": [
        "p = np.random.poisson([3, 1000],10)\n"
      ],
      "execution_count": 0,
      "outputs": [
        {
          "output_type": "error",
          "ename": "ValueError",
          "evalue": "ignored",
          "traceback": [
            "\u001b[0;31m---------------------------------------------------------------------------\u001b[0m",
            "\u001b[0;31mValueError\u001b[0m                                Traceback (most recent call last)",
            "\u001b[0;32m<ipython-input-110-aeb8e4b2d1de>\u001b[0m in \u001b[0;36m<module>\u001b[0;34m()\u001b[0m\n\u001b[0;32m----> 1\u001b[0;31m \u001b[0mp\u001b[0m \u001b[0;34m=\u001b[0m \u001b[0mnp\u001b[0m\u001b[0;34m.\u001b[0m\u001b[0mrandom\u001b[0m\u001b[0;34m.\u001b[0m\u001b[0mpoisson\u001b[0m\u001b[0;34m(\u001b[0m\u001b[0;34m[\u001b[0m\u001b[0;36m3\u001b[0m\u001b[0;34m,\u001b[0m \u001b[0;36m1000\u001b[0m\u001b[0;34m]\u001b[0m\u001b[0;34m,\u001b[0m\u001b[0;36m10\u001b[0m\u001b[0;34m)\u001b[0m\u001b[0;34m\u001b[0m\u001b[0;34m\u001b[0m\u001b[0m\n\u001b[0m",
            "\u001b[0;32mmtrand.pyx\u001b[0m in \u001b[0;36mnumpy.random.mtrand.RandomState.poisson\u001b[0;34m()\u001b[0m\n",
            "\u001b[0;32mcommon.pyx\u001b[0m in \u001b[0;36mnumpy.random.common.disc\u001b[0;34m()\u001b[0m\n",
            "\u001b[0;32mcommon.pyx\u001b[0m in \u001b[0;36mnumpy.random.common.discrete_broadcast_d\u001b[0;34m()\u001b[0m\n",
            "\u001b[0;32m__init__.pxd\u001b[0m in \u001b[0;36mnumpy.PyArray_MultiIterNew2\u001b[0;34m()\u001b[0m\n",
            "\u001b[0;31mValueError\u001b[0m: shape mismatch: objects cannot be broadcast to a single shape"
          ]
        }
      ]
    },
    {
      "cell_type": "code",
      "metadata": {
        "id": "o1WQUuteU28f",
        "colab_type": "code",
        "outputId": "dc3d6937-609c-4d6b-faae-838169421f31",
        "colab": {
          "base_uri": "https://localhost:8080/",
          "height": 34
        }
      },
      "source": [
        "mp=p.mean()\n",
        "mp"
      ],
      "execution_count": 0,
      "outputs": [
        {
          "output_type": "execute_result",
          "data": {
            "text/plain": [
              "3.041"
            ]
          },
          "metadata": {
            "tags": []
          },
          "execution_count": 103
        }
      ]
    },
    {
      "cell_type": "code",
      "metadata": {
        "id": "G_rpaRPjU9Vv",
        "colab_type": "code",
        "outputId": "3e88639f-381b-4707-cbe1-b36850f615e2",
        "colab": {
          "base_uri": "https://localhost:8080/",
          "height": 34
        }
      },
      "source": [
        "sp=p.std()\n",
        "sp"
      ],
      "execution_count": 0,
      "outputs": [
        {
          "output_type": "execute_result",
          "data": {
            "text/plain": [
              "1.7387693924152217"
            ]
          },
          "metadata": {
            "tags": []
          },
          "execution_count": 104
        }
      ]
    },
    {
      "cell_type": "code",
      "metadata": {
        "id": "I87bEGUvVRUC",
        "colab_type": "code",
        "outputId": "70c40998-becb-47e2-af28-4ccffca7bcc0",
        "colab": {
          "base_uri": "https://localhost:8080/",
          "height": 281
        }
      },
      "source": [
        "plt.hist(p)\n",
        "text(mp,150,s=\"MEAN\" , verticalalignment='center',rotation=-90 )\n",
        "#plt.legend(loc='upper right');\n",
        "plt.axvline(mp, color='r', linestyle='solid', linewidth=2, label=\"mean\")\n",
        "plt.axvline(mp+.5*sp, color='y', linestyle='dashed', linewidth=2)\n",
        "plt.axvline(mp-.5*sp, color='y', linestyle='dashed', linewidth=2)\n",
        "plt.title(\"POISSON\")\n",
        "\n",
        "plt.show()"
      ],
      "execution_count": 0,
      "outputs": [
        {
          "output_type": "display_data",
          "data": {
            "image/png": "[encoded data removed]",
            "text/plain": [
              "<Figure size 432x288 with 1 Axes>"
            ]
          },
          "metadata": {
            "tags": []
          }
        }
      ]
    },
    {
      "cell_type": "markdown",
      "metadata": {
        "id": "3QCNOsBdWOo8",
        "colab_type": "text"
      },
      "source": [
        "LOGISTIC\n"
      ]
    },
    {
      "cell_type": "code",
      "metadata": {
        "id": "FIetEAPcWmiq",
        "colab_type": "code",
        "colab": {}
      },
      "source": [
        "lgs= np.random.logistic(10,1, 1000)"
      ],
      "execution_count": 0,
      "outputs": []
    },
    {
      "cell_type": "code",
      "metadata": {
        "id": "eHQ12o4TW-aq",
        "colab_type": "code",
        "colab": {}
      },
      "source": [
        "lgs= np.random.logistic([10,1,1000],100)"
      ],
      "execution_count": 0,
      "outputs": []
    },
    {
      "cell_type": "code",
      "metadata": {
        "id": "PCDJhY9OXSA1",
        "colab_type": "code",
        "outputId": "e544f3ca-709e-40d2-f965-898917a3aec5",
        "colab": {
          "base_uri": "https://localhost:8080/",
          "height": 34
        }
      },
      "source": [
        "ml=lgs.mean()\n",
        "ml"
      ],
      "execution_count": 0,
      "outputs": [
        {
          "output_type": "execute_result",
          "data": {
            "text/plain": [
              "9.951695729011618"
            ]
          },
          "metadata": {
            "tags": []
          },
          "execution_count": 117
        }
      ]
    },
    {
      "cell_type": "code",
      "metadata": {
        "id": "tHjI2Mj2XaFH",
        "colab_type": "code",
        "outputId": "10273b2f-e38d-4d1b-8e8d-b8a196abce06",
        "colab": {
          "base_uri": "https://localhost:8080/",
          "height": 34
        }
      },
      "source": [
        "sl=lgs.std()\n",
        "sl"
      ],
      "execution_count": 0,
      "outputs": [
        {
          "output_type": "execute_result",
          "data": {
            "text/plain": [
              "1.7313873624694125"
            ]
          },
          "metadata": {
            "tags": []
          },
          "execution_count": 118
        }
      ]
    },
    {
      "cell_type": "code",
      "metadata": {
        "colab_type": "code",
        "outputId": "6e5096ff-f2cf-4b9f-c845-b90b290c7056",
        "id": "3YZMOvNpXSr8",
        "colab": {
          "base_uri": "https://localhost:8080/",
          "height": 281
        }
      },
      "source": [
        "plt.hist(lgs)\n",
        "text(ml,150,s=\"MEAN\" , verticalalignment='center',rotation=-90 )\n",
        "#plt.legend(loc='upper right');\n",
        "plt.axvline(ml, color='r', linestyle='solid', linewidth=2, label=\"mean\")\n",
        "plt.axvline(mp+.5*sl, color='y', linestyle='dashed', linewidth=2)\n",
        "plt.axvline(ml-.5*sl, color='y', linestyle='dashed', linewidth=2)\n",
        "plt.title(\"LOGISTIC\")\n",
        "\n",
        "plt.show()"
      ],
      "execution_count": 0,
      "outputs": [
        {
          "output_type": "display_data",
          "data": {
            "image/png": "[encoded data removed]",
            "text/plain": [
              "<Figure size 432x288 with 1 Axes>"
            ]
          },
          "metadata": {
            "tags": []
          }
        }
      ]
    },
    {
      "cell_type": "markdown",
      "metadata": {
        "id": "WJnD7tPAnhmB",
        "colab_type": "text"
      },
      "source": [
        "POWER"
      ]
    },
    {
      "cell_type": "code",
      "metadata": {
        "id": "rpUQETKYmVQt",
        "colab_type": "code",
        "colab": {}
      },
      "source": [
        "pw=np.random.power(5,1000)"
      ],
      "execution_count": 0,
      "outputs": []
    },
    {
      "cell_type": "code",
      "metadata": {
        "id": "ZXvwQVqXoEZM",
        "colab_type": "code",
        "outputId": "d044b380-2b20-4168-d176-8a295414ecf3",
        "colab": {
          "base_uri": "https://localhost:8080/",
          "height": 34
        }
      },
      "source": [
        "pwm=pw.mean()\n",
        "pwm"
      ],
      "execution_count": 0,
      "outputs": [
        {
          "output_type": "execute_result",
          "data": {
            "text/plain": [
              "0.8353088221545344"
            ]
          },
          "metadata": {
            "tags": []
          },
          "execution_count": 149
        }
      ]
    },
    {
      "cell_type": "code",
      "metadata": {
        "id": "oGWt9KWSoJ-k",
        "colab_type": "code",
        "outputId": "ea532dab-070d-41b1-ec6a-40753d5af1d4",
        "colab": {
          "base_uri": "https://localhost:8080/",
          "height": 34
        }
      },
      "source": [
        "pws=pw.std()\n",
        "pws"
      ],
      "execution_count": 0,
      "outputs": [
        {
          "output_type": "execute_result",
          "data": {
            "text/plain": [
              "0.13740044503605797"
            ]
          },
          "metadata": {
            "tags": []
          },
          "execution_count": 150
        }
      ]
    },
    {
      "cell_type": "code",
      "metadata": {
        "colab_type": "code",
        "outputId": "0e7250f6-b6a8-4c68-e55a-98be585dcbfd",
        "id": "Dz_WsUC-oVxY",
        "colab": {
          "base_uri": "https://localhost:8080/",
          "height": 281
        }
      },
      "source": [
        "plt.hist(pw)\n",
        "text(pwm,300,s=\"MEAN\" , verticalalignment='center',rotation=-90 )\n",
        "#plt.legend(loc='upper right');\n",
        "plt.axvline(pwm, color='r', linestyle='solid', linewidth=2, label=\"mean\")\n",
        "plt.axvline(pwm+.5*pws, color='y', linestyle='dashed', linewidth=2)\n",
        "plt.axvline(pwm-.5*pws, color='y', linestyle='dashed', linewidth=2)\n",
        "plt.title(\"POWER\")\n",
        "plt.show()"
      ],
      "execution_count": 0,
      "outputs": [
        {
          "output_type": "display_data",
          "data": {
            "image/png": "[encoded data removed]",
            "text/plain": [
              "<Figure size 432x288 with 1 Axes>"
            ]
          },
          "metadata": {
            "tags": []
          }
        }
      ]
    },
    {
      "cell_type": "markdown",
      "metadata": {
        "id": "keSaPVUPqBEl",
        "colab_type": "text"
      },
      "source": [
        "ADDITIONALLY"
      ]
    },
    {
      "cell_type": "markdown",
      "metadata": {
        "id": "x81fg0pJqJ9n",
        "colab_type": "text"
      },
      "source": [
        "Generate two normally-distributed variables, one with a mean of 5 and standard deviation of 0.5, and the other with a mean of 10 and a standard deviation of 1.\n",
        "\n",
        "Add them together to create a third variable.\n",
        "\n",
        "Graph the third variable using a histogram.\n",
        "\n",
        "Compute the mean and standard deviation and plot them as vertical lines on the histogram.\n",
        "\n",
        "Evaluate the descriptive statistics against the dat"
      ]
    },
    {
      "cell_type": "code",
      "metadata": {
        "id": "uosqAUwKqO6p",
        "colab_type": "code",
        "colab": {}
      },
      "source": [
        "n5=np.random.normal(5,.5,100)\n",
        "n10=np.random.normal(10,1,100)"
      ],
      "execution_count": 0,
      "outputs": []
    },
    {
      "cell_type": "code",
      "metadata": {
        "id": "WoO3y9pDslfZ",
        "colab_type": "code",
        "outputId": "d8e5c6c5-6514-4e87-9e6a-219a2f08c253",
        "colab": {
          "base_uri": "https://localhost:8080/",
          "height": 34
        }
      },
      "source": [
        "n5.mean()+n10.mean()"
      ],
      "execution_count": 0,
      "outputs": [
        {
          "output_type": "execute_result",
          "data": {
            "text/plain": [
              "15.194339749965629"
            ]
          },
          "metadata": {
            "tags": []
          },
          "execution_count": 178
        }
      ]
    },
    {
      "cell_type": "code",
      "metadata": {
        "id": "M1pl6nkAswt0",
        "colab_type": "code",
        "outputId": "dc71b2f7-9834-4bdc-8293-80632d64b908",
        "colab": {
          "base_uri": "https://localhost:8080/",
          "height": 34
        }
      },
      "source": [
        "n5.std()+n10.std()"
      ],
      "execution_count": 0,
      "outputs": [
        {
          "output_type": "execute_result",
          "data": {
            "text/plain": [
              "1.562617319026111"
            ]
          },
          "metadata": {
            "tags": []
          },
          "execution_count": 179
        }
      ]
    },
    {
      "cell_type": "code",
      "metadata": {
        "id": "I0uJM5VTql2G",
        "colab_type": "code",
        "colab": {}
      },
      "source": [
        "nsum=n5+n10"
      ],
      "execution_count": 0,
      "outputs": []
    },
    {
      "cell_type": "code",
      "metadata": {
        "id": "f6Vw73AUq3_D",
        "colab_type": "code",
        "outputId": "2c624bc8-ea95-4734-8ddf-612017dd6687",
        "colab": {
          "base_uri": "https://localhost:8080/",
          "height": 34
        }
      },
      "source": [
        "mn=nsum.mean()\n",
        "mn"
      ],
      "execution_count": 0,
      "outputs": [
        {
          "output_type": "execute_result",
          "data": {
            "text/plain": [
              "15.194339749965627"
            ]
          },
          "metadata": {
            "tags": []
          },
          "execution_count": 166
        }
      ]
    },
    {
      "cell_type": "code",
      "metadata": {
        "id": "MIzdUCEWrCF5",
        "colab_type": "code",
        "outputId": "1fd1fc81-eb8b-4a16-9777-6b1aca844fb9",
        "colab": {
          "base_uri": "https://localhost:8080/",
          "height": 34
        }
      },
      "source": [
        "sn=nsum.std()\n",
        "sn"
      ],
      "execution_count": 0,
      "outputs": [
        {
          "output_type": "execute_result",
          "data": {
            "text/plain": [
              "1.1318531463188286"
            ]
          },
          "metadata": {
            "tags": []
          },
          "execution_count": 167
        }
      ]
    },
    {
      "cell_type": "code",
      "metadata": {
        "id": "gZHEm6ZxquaV",
        "colab_type": "code",
        "outputId": "481adcfd-b749-4f8f-af41-a5c5354ae013",
        "colab": {
          "base_uri": "https://localhost:8080/",
          "height": 281
        }
      },
      "source": [
        "plt.hist(nsum)\n",
        "text(mn,10,s=\"MEAN\" , verticalalignment='center',rotation=-90 )\n",
        "#plt.legend(loc='upper right');\n",
        "plt.axvline(mn, color='r', linestyle='solid', linewidth=2, label=\"mean\")\n",
        "plt.axvline(mn+.5*sn, color='y', linestyle='dashed', linewidth=2)\n",
        "plt.axvline(mn-.5*sn, color='y', linestyle='dashed', linewidth=2)\n",
        "plt.title(\"NORMAL SUM\")\n",
        "plt.show()"
      ],
      "execution_count": 0,
      "outputs": [
        {
          "output_type": "display_data",
          "data": {
            "image/png": "[encoded data removed]",
            "text/plain": [
              "<Figure size 432x288 with 1 Axes>"
            ]
          },
          "metadata": {
            "tags": []
          }
        }
      ]
    }
  ]
}