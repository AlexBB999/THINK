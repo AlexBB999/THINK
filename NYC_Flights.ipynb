{
  "nbformat": 4,
  "nbformat_minor": 0,
  "metadata": {
    "colab": {
      "name": "NYC_Flights.ipynb",
      "provenance": [],
      "collapsed_sections": [],
      "include_colab_link": true
    },
    "kernelspec": {
      "name": "python3",
      "display_name": "Python 3"
    }
  },
  "cells": [
    {
      "cell_type": "markdown",
      "metadata": {
        "id": "view-in-github",
        "colab_type": "text"
      },
      "source": [
        "<a href=\"https://colab.research.google.com/github/AlexBB999/THINK/blob/master/NYC_Flights.ipynb\" target=\"_parent\"><img src=\"https://colab.research.google.com/assets/colab-badge.svg\" alt=\"Open In Colab\"/></a>"
      ]
    },
    {
      "cell_type": "code",
      "metadata": {
        "id": "A8szSMadK_Bt",
        "colab_type": "code",
        "colab": {}
      },
      "source": [
        "import pandas as pd\n"
      ],
      "execution_count": 0,
      "outputs": []
    },
    {
      "cell_type": "markdown",
      "metadata": {
        "id": "eBKvFRnmaEkL",
        "colab_type": "text"
      },
      "source": [
        "AIRLINE PROBLEM"
      ]
    },
    {
      "cell_type": "code",
      "metadata": {
        "id": "wT9TpelxqgAW",
        "colab_type": "code",
        "outputId": "e0d8326e-d341-49f6-8fb6-cc57bc78cd97",
        "colab": {
          "base_uri": "https://localhost:8080/",
          "height": 121
        }
      },
      "source": [
        "\n",
        "# Load the Drive helper and mount\n",
        "from google.colab import drive\n",
        "drive.mount('/content/drive')"
      ],
      "execution_count": 0,
      "outputs": [
        {
          "output_type": "stream",
          "text": [
            "Go to this URL in a browser: https://accounts.google.com/o/oauth2/auth?client_id=947318989803-6bn6qk8qdgf4n4g3pfee6491hc0brc4i.apps.googleusercontent.com&redirect_uri=urn%3aietf%3awg%3aoauth%3a2.0%3aoob&response_type=code&scope=email%20https%3a%2f%2fwww.googleapis.com%2fauth%2fdocs.test%20https%3a%2f%2fwww.googleapis.com%2fauth%2fdrive%20https%3a%2f%2fwww.googleapis.com%2fauth%2fdrive.photos.readonly%20https%3a%2f%2fwww.googleapis.com%2fauth%2fpeopleapi.readonly\n",
            "\n",
            "Enter your authorization code:\n",
            "··········\n",
            "Mounted at /content/drive\n"
          ],
          "name": "stdout"
        }
      ]
    },
    {
      "cell_type": "code",
      "metadata": {
        "id": "ZRT7riMVKrgN",
        "colab_type": "code",
        "colab": {}
      },
      "source": [
        "df_flights =pd.read_csv('/content/drive/My Drive/flights.csv')"
      ],
      "execution_count": 0,
      "outputs": []
    },
    {
      "cell_type": "code",
      "metadata": {
        "id": "zC8pG5ngLFwL",
        "colab_type": "code",
        "colab": {}
      },
      "source": [
        "df_flights.head()"
      ],
      "execution_count": 0,
      "outputs": []
    },
    {
      "cell_type": "code",
      "metadata": {
        "id": "zkEKTjALmF35",
        "colab_type": "code",
        "colab": {}
      },
      "source": [
        "df_airlines=pd.read_csv('https://raw.githubusercontent.com/AlexBB999/Thinkful/master/airlines.csv')"
      ],
      "execution_count": 0,
      "outputs": []
    },
    {
      "cell_type": "code",
      "metadata": {
        "id": "Pj2U3imnmP9U",
        "colab_type": "code",
        "colab": {}
      },
      "source": [
        "df_airlines"
      ],
      "execution_count": 0,
      "outputs": []
    },
    {
      "cell_type": "markdown",
      "metadata": {
        "id": "B9RnC1LuZ126",
        "colab_type": "text"
      },
      "source": [
        "MERGE FILES"
      ]
    },
    {
      "cell_type": "code",
      "metadata": {
        "id": "HeTg2bfymxOg",
        "colab_type": "code",
        "colab": {}
      },
      "source": [
        "df_merged = pd.merge(df_flights, df_airlines)"
      ],
      "execution_count": 0,
      "outputs": []
    },
    {
      "cell_type": "code",
      "metadata": {
        "id": "zi-MwTaGnAj4",
        "colab_type": "code",
        "colab": {}
      },
      "source": [
        "df_merged.head()"
      ],
      "execution_count": 0,
      "outputs": []
    },
    {
      "cell_type": "code",
      "metadata": {
        "id": "QkUCCtUssXmA",
        "colab_type": "code",
        "colab": {}
      },
      "source": [
        "df_merged.shape"
      ],
      "execution_count": 0,
      "outputs": []
    },
    {
      "cell_type": "code",
      "metadata": {
        "id": "u4Aa1MFOsl5X",
        "colab_type": "code",
        "colab": {}
      },
      "source": [
        "df_merged.describe()"
      ],
      "execution_count": 0,
      "outputs": []
    },
    {
      "cell_type": "code",
      "metadata": {
        "id": "Wk-nh36utKFm",
        "colab_type": "code",
        "colab": {}
      },
      "source": [
        "df_merged.info()"
      ],
      "execution_count": 0,
      "outputs": []
    },
    {
      "cell_type": "code",
      "metadata": {
        "id": "4WAhxk2OtmAB",
        "colab_type": "code",
        "colab": {}
      },
      "source": [
        "df_merged.isnull().values.any()"
      ],
      "execution_count": 0,
      "outputs": []
    },
    {
      "cell_type": "markdown",
      "metadata": {
        "id": "yrofqqo8qfkZ",
        "colab_type": "text"
      },
      "source": [
        "dep_time, dep_delay,arr_time,tailnum,air_time all have missing values"
      ]
    },
    {
      "cell_type": "code",
      "metadata": {
        "id": "9OhZkucZvfR4",
        "colab_type": "code",
        "colab": {}
      },
      "source": [
        "df_merged=df_merged.dropna()"
      ],
      "execution_count": 0,
      "outputs": []
    },
    {
      "cell_type": "code",
      "metadata": {
        "id": "43uVCJnbvq7e",
        "colab_type": "code",
        "colab": {}
      },
      "source": [
        "df_merged.isnull().values.any()"
      ],
      "execution_count": 0,
      "outputs": []
    },
    {
      "cell_type": "markdown",
      "metadata": {
        "id": "_KmlZZZOaN6K",
        "colab_type": "text"
      },
      "source": [
        ""
      ]
    },
    {
      "cell_type": "markdown",
      "metadata": {
        "id": "y_C3k7rMaOQE",
        "colab_type": "text"
      },
      "source": [
        "CENSUS PROBLEM ======================================================================"
      ]
    },
    {
      "cell_type": "markdown",
      "metadata": {
        "id": "SQRNf0QEVvz0",
        "colab_type": "text"
      },
      "source": [
        ""
      ]
    },
    {
      "cell_type": "code",
      "metadata": {
        "id": "hDFif-FmbG55",
        "colab_type": "code",
        "colab": {}
      },
      "source": [
        "df_census_states=pd.read_csv('https://raw.githubusercontent.com/AlexBB999/Thinkful/master/state-populations.csv')"
      ],
      "execution_count": 0,
      "outputs": []
    },
    {
      "cell_type": "code",
      "metadata": {
        "id": "F5oosq5obxQe",
        "colab_type": "code",
        "colab": {}
      },
      "source": [
        "df_census_states.head()"
      ],
      "execution_count": 0,
      "outputs": []
    },
    {
      "cell_type": "code",
      "metadata": {
        "id": "cnCphmCLcoNa",
        "colab_type": "code",
        "colab": {}
      },
      "source": [
        "df_census_regions=pd.read_csv(\"https://raw.githubusercontent.com/AlexBB999/Thinkful/master/census-divisions.csv\")"
      ],
      "execution_count": 0,
      "outputs": []
    },
    {
      "cell_type": "code",
      "metadata": {
        "id": "I_vA_OP4cy-p",
        "colab_type": "code",
        "colab": {}
      },
      "source": [
        "df_census_regions.head()"
      ],
      "execution_count": 0,
      "outputs": []
    },
    {
      "cell_type": "markdown",
      "metadata": {
        "id": "TzKaYxVCc-xf",
        "colab_type": "text"
      },
      "source": [
        "#1   MERGE FILES"
      ]
    },
    {
      "cell_type": "code",
      "metadata": {
        "id": "b196JwGQdCmk",
        "colab_type": "code",
        "colab": {}
      },
      "source": [
        "df_census=pd.merge(df_census_states,df_census_regions)"
      ],
      "execution_count": 0,
      "outputs": []
    },
    {
      "cell_type": "code",
      "metadata": {
        "id": "oYBRNqq1dNsc",
        "colab_type": "code",
        "colab": {}
      },
      "source": [
        "df_census.head()"
      ],
      "execution_count": 0,
      "outputs": []
    },
    {
      "cell_type": "code",
      "metadata": {
        "id": "NabbjXUguNef",
        "colab_type": "code",
        "colab": {}
      },
      "source": [
        "df_census.shape"
      ],
      "execution_count": 0,
      "outputs": []
    },
    {
      "cell_type": "code",
      "metadata": {
        "id": "pP0SDWqvCMz4",
        "colab_type": "code",
        "colab": {}
      },
      "source": [
        "df_census.info()"
      ],
      "execution_count": 0,
      "outputs": []
    },
    {
      "cell_type": "code",
      "metadata": {
        "id": "6uXIVUqeEsMs",
        "colab_type": "code",
        "colab": {}
      },
      "source": [
        "list(df_census)"
      ],
      "execution_count": 0,
      "outputs": []
    },
    {
      "cell_type": "markdown",
      "metadata": {
        "id": "uvK63vJqs_uJ",
        "colab_type": "text"
      },
      "source": [
        "2 Re-shape census so that one column contains all population measures, and another the year attributes."
      ]
    },
    {
      "cell_type": "code",
      "metadata": {
        "id": "33kpN28ooEk3",
        "colab_type": "code",
        "colab": {}
      },
      "source": [
        "census_melt=pd.melt(frame=df_census, id_vars=[\"state\", 'region','division'],var_name='year',value_name=\"population\")"
      ],
      "execution_count": 0,
      "outputs": []
    },
    {
      "cell_type": "code",
      "metadata": {
        "id": "Gjy-wE1UoRrZ",
        "colab_type": "code",
        "colab": {
          "base_uri": "https://localhost:8080/",
          "height": 402
        },
        "outputId": "a6e345b8-34be-4b0c-d54f-ab0e72d54673"
      },
      "source": [
        "census_melt"
      ],
      "execution_count": 11,
      "outputs": [
        {
          "output_type": "execute_result",
          "data": {
            "text/html": [
              "<div>\n",
              "<style scoped>\n",
              "    .dataframe tbody tr th:only-of-type {\n",
              "        vertical-align: middle;\n",
              "    }\n",
              "\n",
              "    .dataframe tbody tr th {\n",
              "        vertical-align: top;\n",
              "    }\n",
              "\n",
              "    .dataframe thead th {\n",
              "        text-align: right;\n",
              "    }\n",
              "</style>\n",
              "<table border=\"1\" class=\"dataframe\">\n",
              "  <thead>\n",
              "    <tr style=\"text-align: right;\">\n",
              "      <th></th>\n",
              "      <th>state</th>\n",
              "      <th>region</th>\n",
              "      <th>division</th>\n",
              "      <th>year</th>\n",
              "      <th>population</th>\n",
              "    </tr>\n",
              "  </thead>\n",
              "  <tbody>\n",
              "    <tr>\n",
              "      <th>0</th>\n",
              "      <td>Alabama</td>\n",
              "      <td>South</td>\n",
              "      <td>East South Central</td>\n",
              "      <td>2010</td>\n",
              "      <td>4785492</td>\n",
              "    </tr>\n",
              "    <tr>\n",
              "      <th>1</th>\n",
              "      <td>Alaska</td>\n",
              "      <td>West</td>\n",
              "      <td>Pacific</td>\n",
              "      <td>2010</td>\n",
              "      <td>714031</td>\n",
              "    </tr>\n",
              "    <tr>\n",
              "      <th>2</th>\n",
              "      <td>Arizona</td>\n",
              "      <td>West</td>\n",
              "      <td>Mountain</td>\n",
              "      <td>2010</td>\n",
              "      <td>6408312</td>\n",
              "    </tr>\n",
              "    <tr>\n",
              "      <th>3</th>\n",
              "      <td>Arkansas</td>\n",
              "      <td>South</td>\n",
              "      <td>West South Central</td>\n",
              "      <td>2010</td>\n",
              "      <td>2921995</td>\n",
              "    </tr>\n",
              "    <tr>\n",
              "      <th>4</th>\n",
              "      <td>California</td>\n",
              "      <td>West</td>\n",
              "      <td>Pacific</td>\n",
              "      <td>2010</td>\n",
              "      <td>37332685</td>\n",
              "    </tr>\n",
              "    <tr>\n",
              "      <th>...</th>\n",
              "      <td>...</td>\n",
              "      <td>...</td>\n",
              "      <td>...</td>\n",
              "      <td>...</td>\n",
              "      <td>...</td>\n",
              "    </tr>\n",
              "    <tr>\n",
              "      <th>352</th>\n",
              "      <td>Virginia</td>\n",
              "      <td>South</td>\n",
              "      <td>South Atlantic</td>\n",
              "      <td>2016</td>\n",
              "      <td>8411808</td>\n",
              "    </tr>\n",
              "    <tr>\n",
              "      <th>353</th>\n",
              "      <td>Washington</td>\n",
              "      <td>West</td>\n",
              "      <td>Pacific</td>\n",
              "      <td>2016</td>\n",
              "      <td>7288000</td>\n",
              "    </tr>\n",
              "    <tr>\n",
              "      <th>354</th>\n",
              "      <td>West Virginia</td>\n",
              "      <td>South</td>\n",
              "      <td>South Atlantic</td>\n",
              "      <td>2016</td>\n",
              "      <td>1831102</td>\n",
              "    </tr>\n",
              "    <tr>\n",
              "      <th>355</th>\n",
              "      <td>Wisconsin</td>\n",
              "      <td>Midwest</td>\n",
              "      <td>East North Central</td>\n",
              "      <td>2016</td>\n",
              "      <td>5778708</td>\n",
              "    </tr>\n",
              "    <tr>\n",
              "      <th>356</th>\n",
              "      <td>Wyoming</td>\n",
              "      <td>West</td>\n",
              "      <td>Mountain</td>\n",
              "      <td>2016</td>\n",
              "      <td>585501</td>\n",
              "    </tr>\n",
              "  </tbody>\n",
              "</table>\n",
              "<p>357 rows × 5 columns</p>\n",
              "</div>"
            ],
            "text/plain": [
              "             state   region            division  year  population\n",
              "0          Alabama    South  East South Central  2010     4785492\n",
              "1           Alaska     West             Pacific  2010      714031\n",
              "2          Arizona     West            Mountain  2010     6408312\n",
              "3         Arkansas    South  West South Central  2010     2921995\n",
              "4       California     West             Pacific  2010    37332685\n",
              "..             ...      ...                 ...   ...         ...\n",
              "352       Virginia    South      South Atlantic  2016     8411808\n",
              "353     Washington     West             Pacific  2016     7288000\n",
              "354  West Virginia    South      South Atlantic  2016     1831102\n",
              "355      Wisconsin  Midwest  East North Central  2016     5778708\n",
              "356        Wyoming     West            Mountain  2016      585501\n",
              "\n",
              "[357 rows x 5 columns]"
            ]
          },
          "metadata": {
            "tags": []
          },
          "execution_count": 11
        }
      ]
    },
    {
      "cell_type": "markdown",
      "metadata": {
        "id": "ZkRFZj8jpQG2",
        "colab_type": "text"
      },
      "source": [
        "(min, max, average, mean, median, standard deviation)"
      ]
    },
    {
      "cell_type": "markdown",
      "metadata": {
        "id": "Aw59Em2UqH6u",
        "colab_type": "text"
      },
      "source": [
        "3   GROUP DATA BY YEAR AND SUMMARIZE IT"
      ]
    },
    {
      "cell_type": "code",
      "metadata": {
        "id": "sZhx6XYZjpWF",
        "colab_type": "code",
        "outputId": "9c1c421b-34dc-45ef-cfd7-92a95876f48c",
        "colab": {
          "base_uri": "https://localhost:8080/",
          "height": 314
        }
      },
      "source": [
        "census_melt.groupby(\"year\").agg({\"population\":['max','min', \"mean\",\"median\",'std']})"
      ],
      "execution_count": 24,
      "outputs": [
        {
          "output_type": "execute_result",
          "data": {
            "text/html": [
              "<div>\n",
              "<style scoped>\n",
              "    .dataframe tbody tr th:only-of-type {\n",
              "        vertical-align: middle;\n",
              "    }\n",
              "\n",
              "    .dataframe tbody tr th {\n",
              "        vertical-align: top;\n",
              "    }\n",
              "\n",
              "    .dataframe thead tr th {\n",
              "        text-align: left;\n",
              "    }\n",
              "\n",
              "    .dataframe thead tr:last-of-type th {\n",
              "        text-align: right;\n",
              "    }\n",
              "</style>\n",
              "<table border=\"1\" class=\"dataframe\">\n",
              "  <thead>\n",
              "    <tr>\n",
              "      <th></th>\n",
              "      <th colspan=\"5\" halign=\"left\">population</th>\n",
              "    </tr>\n",
              "    <tr>\n",
              "      <th></th>\n",
              "      <th>max</th>\n",
              "      <th>min</th>\n",
              "      <th>mean</th>\n",
              "      <th>median</th>\n",
              "      <th>std</th>\n",
              "    </tr>\n",
              "    <tr>\n",
              "      <th>year</th>\n",
              "      <th></th>\n",
              "      <th></th>\n",
              "      <th></th>\n",
              "      <th></th>\n",
              "      <th></th>\n",
              "    </tr>\n",
              "  </thead>\n",
              "  <tbody>\n",
              "    <tr>\n",
              "      <th>2010</th>\n",
              "      <td>37332685</td>\n",
              "      <td>564513</td>\n",
              "      <td>6.065651e+06</td>\n",
              "      <td>4348662</td>\n",
              "      <td>6.839536e+06</td>\n",
              "    </tr>\n",
              "    <tr>\n",
              "      <th>2011</th>\n",
              "      <td>37676861</td>\n",
              "      <td>567725</td>\n",
              "      <td>6.111046e+06</td>\n",
              "      <td>4369354</td>\n",
              "      <td>6.907730e+06</td>\n",
              "    </tr>\n",
              "    <tr>\n",
              "      <th>2012</th>\n",
              "      <td>38011074</td>\n",
              "      <td>576765</td>\n",
              "      <td>6.156831e+06</td>\n",
              "      <td>4384799</td>\n",
              "      <td>6.974942e+06</td>\n",
              "    </tr>\n",
              "    <tr>\n",
              "      <th>2013</th>\n",
              "      <td>38335203</td>\n",
              "      <td>582684</td>\n",
              "      <td>6.200096e+06</td>\n",
              "      <td>4400477</td>\n",
              "      <td>7.038774e+06</td>\n",
              "    </tr>\n",
              "    <tr>\n",
              "      <th>2014</th>\n",
              "      <td>38680810</td>\n",
              "      <td>583642</td>\n",
              "      <td>6.246342e+06</td>\n",
              "      <td>4413057</td>\n",
              "      <td>7.110811e+06</td>\n",
              "    </tr>\n",
              "    <tr>\n",
              "      <th>2015</th>\n",
              "      <td>38993940</td>\n",
              "      <td>586555</td>\n",
              "      <td>6.292091e+06</td>\n",
              "      <td>4424611</td>\n",
              "      <td>7.181603e+06</td>\n",
              "    </tr>\n",
              "    <tr>\n",
              "      <th>2016</th>\n",
              "      <td>39250017</td>\n",
              "      <td>585501</td>\n",
              "      <td>6.335834e+06</td>\n",
              "      <td>4436974</td>\n",
              "      <td>7.243849e+06</td>\n",
              "    </tr>\n",
              "  </tbody>\n",
              "</table>\n",
              "</div>"
            ],
            "text/plain": [
              "     population                                             \n",
              "            max     min          mean   median           std\n",
              "year                                                        \n",
              "2010   37332685  564513  6.065651e+06  4348662  6.839536e+06\n",
              "2011   37676861  567725  6.111046e+06  4369354  6.907730e+06\n",
              "2012   38011074  576765  6.156831e+06  4384799  6.974942e+06\n",
              "2013   38335203  582684  6.200096e+06  4400477  7.038774e+06\n",
              "2014   38680810  583642  6.246342e+06  4413057  7.110811e+06\n",
              "2015   38993940  586555  6.292091e+06  4424611  7.181603e+06\n",
              "2016   39250017  585501  6.335834e+06  4436974  7.243849e+06"
            ]
          },
          "metadata": {
            "tags": []
          },
          "execution_count": 24
        }
      ]
    },
    {
      "cell_type": "markdown",
      "metadata": {
        "id": "uFjyoPBvr0jf",
        "colab_type": "text"
      },
      "source": [
        "#4 Group the data by region, division and year and summarize it."
      ]
    },
    {
      "cell_type": "code",
      "metadata": {
        "id": "636dctbgrYmw",
        "colab_type": "code",
        "colab": {
          "base_uri": "https://localhost:8080/",
          "height": 461
        },
        "outputId": "c4fa2813-a2c0-42d4-b8d4-cebede4da892"
      },
      "source": [
        "census_melt.groupby([\"division\",\"region\",'year']).agg({\"population\":['max','min', \"mean\",\"median\",'std']})"
      ],
      "execution_count": 27,
      "outputs": [
        {
          "output_type": "execute_result",
          "data": {
            "text/html": [
              "<div>\n",
              "<style scoped>\n",
              "    .dataframe tbody tr th:only-of-type {\n",
              "        vertical-align: middle;\n",
              "    }\n",
              "\n",
              "    .dataframe tbody tr th {\n",
              "        vertical-align: top;\n",
              "    }\n",
              "\n",
              "    .dataframe thead tr th {\n",
              "        text-align: left;\n",
              "    }\n",
              "\n",
              "    .dataframe thead tr:last-of-type th {\n",
              "        text-align: right;\n",
              "    }\n",
              "</style>\n",
              "<table border=\"1\" class=\"dataframe\">\n",
              "  <thead>\n",
              "    <tr>\n",
              "      <th></th>\n",
              "      <th></th>\n",
              "      <th></th>\n",
              "      <th colspan=\"5\" halign=\"left\">population</th>\n",
              "    </tr>\n",
              "    <tr>\n",
              "      <th></th>\n",
              "      <th></th>\n",
              "      <th></th>\n",
              "      <th>max</th>\n",
              "      <th>min</th>\n",
              "      <th>mean</th>\n",
              "      <th>median</th>\n",
              "      <th>std</th>\n",
              "    </tr>\n",
              "    <tr>\n",
              "      <th>division</th>\n",
              "      <th>region</th>\n",
              "      <th>year</th>\n",
              "      <th></th>\n",
              "      <th></th>\n",
              "      <th></th>\n",
              "      <th></th>\n",
              "      <th></th>\n",
              "    </tr>\n",
              "  </thead>\n",
              "  <tbody>\n",
              "    <tr>\n",
              "      <th rowspan=\"5\" valign=\"top\">East North Central</th>\n",
              "      <th rowspan=\"5\" valign=\"top\">Midwest</th>\n",
              "      <th>2010</th>\n",
              "      <td>12841578</td>\n",
              "      <td>5690263</td>\n",
              "      <td>9288169.40</td>\n",
              "      <td>9877495.0</td>\n",
              "      <td>3.115322e+06</td>\n",
              "    </tr>\n",
              "    <tr>\n",
              "      <th>2011</th>\n",
              "      <td>12860012</td>\n",
              "      <td>5709640</td>\n",
              "      <td>9301433.80</td>\n",
              "      <td>9876213.0</td>\n",
              "      <td>3.109807e+06</td>\n",
              "    </tr>\n",
              "    <tr>\n",
              "      <th>2012</th>\n",
              "      <td>12870798</td>\n",
              "      <td>5726177</td>\n",
              "      <td>9314559.00</td>\n",
              "      <td>9887238.0</td>\n",
              "      <td>3.104953e+06</td>\n",
              "    </tr>\n",
              "    <tr>\n",
              "      <th>2013</th>\n",
              "      <td>12879505</td>\n",
              "      <td>5742854</td>\n",
              "      <td>9332093.00</td>\n",
              "      <td>9898982.0</td>\n",
              "      <td>3.099620e+06</td>\n",
              "    </tr>\n",
              "    <tr>\n",
              "      <th>2014</th>\n",
              "      <td>12867544</td>\n",
              "      <td>5758377</td>\n",
              "      <td>9346265.80</td>\n",
              "      <td>9915767.0</td>\n",
              "      <td>3.091076e+06</td>\n",
              "    </tr>\n",
              "    <tr>\n",
              "      <th>...</th>\n",
              "      <th>...</th>\n",
              "      <th>...</th>\n",
              "      <td>...</td>\n",
              "      <td>...</td>\n",
              "      <td>...</td>\n",
              "      <td>...</td>\n",
              "      <td>...</td>\n",
              "    </tr>\n",
              "    <tr>\n",
              "      <th rowspan=\"5\" valign=\"top\">West South Central</th>\n",
              "      <th rowspan=\"5\" valign=\"top\">South</th>\n",
              "      <th>2012</th>\n",
              "      <td>26071655</td>\n",
              "      <td>2950685</td>\n",
              "      <td>9360705.75</td>\n",
              "      <td>4210241.5</td>\n",
              "      <td>1.116106e+07</td>\n",
              "    </tr>\n",
              "    <tr>\n",
              "      <th>2013</th>\n",
              "      <td>26473525</td>\n",
              "      <td>2958663</td>\n",
              "      <td>9477751.25</td>\n",
              "      <td>4239408.5</td>\n",
              "      <td>1.135099e+07</td>\n",
              "    </tr>\n",
              "    <tr>\n",
              "      <th>2014</th>\n",
              "      <td>26944751</td>\n",
              "      <td>2966912</td>\n",
              "      <td>9609260.50</td>\n",
              "      <td>4262689.5</td>\n",
              "      <td>1.157740e+07</td>\n",
              "    </tr>\n",
              "    <tr>\n",
              "      <th>2015</th>\n",
              "      <td>27429639</td>\n",
              "      <td>2977853</td>\n",
              "      <td>9745966.50</td>\n",
              "      <td>4288187.0</td>\n",
              "      <td>1.180938e+07</td>\n",
              "    </tr>\n",
              "    <tr>\n",
              "      <th>2016</th>\n",
              "      <td>27862596</td>\n",
              "      <td>2988248</td>\n",
              "      <td>9864017.75</td>\n",
              "      <td>4302613.5</td>\n",
              "      <td>1.201902e+07</td>\n",
              "    </tr>\n",
              "  </tbody>\n",
              "</table>\n",
              "<p>63 rows × 5 columns</p>\n",
              "</div>"
            ],
            "text/plain": [
              "                                population           ...                         \n",
              "                                       max      min  ...     median           std\n",
              "division           region  year                      ...                         \n",
              "East North Central Midwest 2010   12841578  5690263  ...  9877495.0  3.115322e+06\n",
              "                           2011   12860012  5709640  ...  9876213.0  3.109807e+06\n",
              "                           2012   12870798  5726177  ...  9887238.0  3.104953e+06\n",
              "                           2013   12879505  5742854  ...  9898982.0  3.099620e+06\n",
              "                           2014   12867544  5758377  ...  9915767.0  3.091076e+06\n",
              "...                                    ...      ...  ...        ...           ...\n",
              "West South Central South   2012   26071655  2950685  ...  4210241.5  1.116106e+07\n",
              "                           2013   26473525  2958663  ...  4239408.5  1.135099e+07\n",
              "                           2014   26944751  2966912  ...  4262689.5  1.157740e+07\n",
              "                           2015   27429639  2977853  ...  4288187.0  1.180938e+07\n",
              "                           2016   27862596  2988248  ...  4302613.5  1.201902e+07\n",
              "\n",
              "[63 rows x 5 columns]"
            ]
          },
          "metadata": {
            "tags": []
          },
          "execution_count": 27
        }
      ]
    },
    {
      "cell_type": "markdown",
      "metadata": {
        "id": "lAeFEqUKwlRx",
        "colab_type": "text"
      },
      "source": [
        "4 Group the data by region, division and year and summarize it."
      ]
    }
  ]
}