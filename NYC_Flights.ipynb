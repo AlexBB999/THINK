{
  "nbformat": 4,
  "nbformat_minor": 0,
  "metadata": {
    "colab": {
      "name": "NYC_Flights.ipynb",
      "provenance": [],
      "collapsed_sections": [],
      "include_colab_link": true
    },
    "kernelspec": {
      "name": "python3",
      "display_name": "Python 3"
    }
  },
  "cells": [
    {
      "cell_type": "markdown",
      "metadata": {
        "id": "view-in-github",
        "colab_type": "text"
      },
      "source": [
        "<a href=\"https://colab.research.google.com/github/AlexBB999/THINK/blob/master/NYC_Flights.ipynb\" target=\"_parent\"><img src=\"https://colab.research.google.com/assets/colab-badge.svg\" alt=\"Open In Colab\"/></a>"
      ]
    },
    {
      "cell_type": "code",
      "metadata": {
        "id": "A8szSMadK_Bt",
        "colab_type": "code",
        "colab": {}
      },
      "source": [
        "import pandas as pd\n"
      ],
      "execution_count": 0,
      "outputs": []
    },
    {
      "cell_type": "markdown",
      "metadata": {
        "id": "eBKvFRnmaEkL",
        "colab_type": "text"
      },
      "source": [
        "AIRLINE PROBLEM"
      ]
    },
    {
      "cell_type": "code",
      "metadata": {
        "id": "wT9TpelxqgAW",
        "colab_type": "code",
        "outputId": "098ce304-228b-4373-c0b4-75a12ae105d9",
        "colab": {
          "base_uri": "https://localhost:8080/",
          "height": 522
        }
      },
      "source": [
        "\n",
        "# Load the Drive helper and mount\n",
        "from google.colab import drive\n",
        "drive.mount('/content/drive')"
      ],
      "execution_count": 0,
      "outputs": [
        {
          "output_type": "error",
          "ename": "KeyboardInterrupt",
          "evalue": "ignored",
          "traceback": [
            "\u001b[0;31m---------------------------------------------------------------------------\u001b[0m",
            "\u001b[0;31mKeyboardInterrupt\u001b[0m                         Traceback (most recent call last)",
            "\u001b[0;32m/usr/local/lib/python3.6/dist-packages/ipykernel/kernelbase.py\u001b[0m in \u001b[0;36m_input_request\u001b[0;34m(self, prompt, ident, parent, password)\u001b[0m\n\u001b[1;32m    729\u001b[0m             \u001b[0;32mtry\u001b[0m\u001b[0;34m:\u001b[0m\u001b[0;34m\u001b[0m\u001b[0;34m\u001b[0m\u001b[0m\n\u001b[0;32m--> 730\u001b[0;31m                 \u001b[0mident\u001b[0m\u001b[0;34m,\u001b[0m \u001b[0mreply\u001b[0m \u001b[0;34m=\u001b[0m \u001b[0mself\u001b[0m\u001b[0;34m.\u001b[0m\u001b[0msession\u001b[0m\u001b[0;34m.\u001b[0m\u001b[0mrecv\u001b[0m\u001b[0;34m(\u001b[0m\u001b[0mself\u001b[0m\u001b[0;34m.\u001b[0m\u001b[0mstdin_socket\u001b[0m\u001b[0;34m,\u001b[0m \u001b[0;36m0\u001b[0m\u001b[0;34m)\u001b[0m\u001b[0;34m\u001b[0m\u001b[0;34m\u001b[0m\u001b[0m\n\u001b[0m\u001b[1;32m    731\u001b[0m             \u001b[0;32mexcept\u001b[0m \u001b[0mException\u001b[0m\u001b[0;34m:\u001b[0m\u001b[0;34m\u001b[0m\u001b[0;34m\u001b[0m\u001b[0m\n",
            "\u001b[0;32m/usr/local/lib/python3.6/dist-packages/jupyter_client/session.py\u001b[0m in \u001b[0;36mrecv\u001b[0;34m(self, socket, mode, content, copy)\u001b[0m\n\u001b[1;32m    802\u001b[0m         \u001b[0;32mtry\u001b[0m\u001b[0;34m:\u001b[0m\u001b[0;34m\u001b[0m\u001b[0;34m\u001b[0m\u001b[0m\n\u001b[0;32m--> 803\u001b[0;31m             \u001b[0mmsg_list\u001b[0m \u001b[0;34m=\u001b[0m \u001b[0msocket\u001b[0m\u001b[0;34m.\u001b[0m\u001b[0mrecv_multipart\u001b[0m\u001b[0;34m(\u001b[0m\u001b[0mmode\u001b[0m\u001b[0;34m,\u001b[0m \u001b[0mcopy\u001b[0m\u001b[0;34m=\u001b[0m\u001b[0mcopy\u001b[0m\u001b[0;34m)\u001b[0m\u001b[0;34m\u001b[0m\u001b[0;34m\u001b[0m\u001b[0m\n\u001b[0m\u001b[1;32m    804\u001b[0m         \u001b[0;32mexcept\u001b[0m \u001b[0mzmq\u001b[0m\u001b[0;34m.\u001b[0m\u001b[0mZMQError\u001b[0m \u001b[0;32mas\u001b[0m \u001b[0me\u001b[0m\u001b[0;34m:\u001b[0m\u001b[0;34m\u001b[0m\u001b[0;34m\u001b[0m\u001b[0m\n",
            "\u001b[0;32m/usr/local/lib/python3.6/dist-packages/zmq/sugar/socket.py\u001b[0m in \u001b[0;36mrecv_multipart\u001b[0;34m(self, flags, copy, track)\u001b[0m\n\u001b[1;32m    465\u001b[0m         \"\"\"\n\u001b[0;32m--> 466\u001b[0;31m         \u001b[0mparts\u001b[0m \u001b[0;34m=\u001b[0m \u001b[0;34m[\u001b[0m\u001b[0mself\u001b[0m\u001b[0;34m.\u001b[0m\u001b[0mrecv\u001b[0m\u001b[0;34m(\u001b[0m\u001b[0mflags\u001b[0m\u001b[0;34m,\u001b[0m \u001b[0mcopy\u001b[0m\u001b[0;34m=\u001b[0m\u001b[0mcopy\u001b[0m\u001b[0;34m,\u001b[0m \u001b[0mtrack\u001b[0m\u001b[0;34m=\u001b[0m\u001b[0mtrack\u001b[0m\u001b[0;34m)\u001b[0m\u001b[0;34m]\u001b[0m\u001b[0;34m\u001b[0m\u001b[0;34m\u001b[0m\u001b[0m\n\u001b[0m\u001b[1;32m    467\u001b[0m         \u001b[0;31m# have first part already, only loop while more to receive\u001b[0m\u001b[0;34m\u001b[0m\u001b[0;34m\u001b[0m\u001b[0;34m\u001b[0m\u001b[0m\n",
            "\u001b[0;32mzmq/backend/cython/socket.pyx\u001b[0m in \u001b[0;36mzmq.backend.cython.socket.Socket.recv\u001b[0;34m()\u001b[0m\n",
            "\u001b[0;32mzmq/backend/cython/socket.pyx\u001b[0m in \u001b[0;36mzmq.backend.cython.socket.Socket.recv\u001b[0;34m()\u001b[0m\n",
            "\u001b[0;32mzmq/backend/cython/socket.pyx\u001b[0m in \u001b[0;36mzmq.backend.cython.socket._recv_copy\u001b[0;34m()\u001b[0m\n",
            "\u001b[0;32m/usr/local/lib/python3.6/dist-packages/zmq/backend/cython/checkrc.pxd\u001b[0m in \u001b[0;36mzmq.backend.cython.checkrc._check_rc\u001b[0;34m()\u001b[0m\n",
            "\u001b[0;31mKeyboardInterrupt\u001b[0m: ",
            "\nDuring handling of the above exception, another exception occurred:\n",
            "\u001b[0;31mKeyboardInterrupt\u001b[0m                         Traceback (most recent call last)",
            "\u001b[0;32m<ipython-input-161-d5df0069828e>\u001b[0m in \u001b[0;36m<module>\u001b[0;34m()\u001b[0m\n\u001b[1;32m      1\u001b[0m \u001b[0;32mfrom\u001b[0m \u001b[0mgoogle\u001b[0m\u001b[0;34m.\u001b[0m\u001b[0mcolab\u001b[0m \u001b[0;32mimport\u001b[0m \u001b[0mdrive\u001b[0m\u001b[0;34m\u001b[0m\u001b[0;34m\u001b[0m\u001b[0m\n\u001b[0;32m----> 2\u001b[0;31m \u001b[0mdrive\u001b[0m\u001b[0;34m.\u001b[0m\u001b[0mmount\u001b[0m\u001b[0;34m(\u001b[0m\u001b[0;34m'/content/drive'\u001b[0m\u001b[0;34m)\u001b[0m\u001b[0;34m\u001b[0m\u001b[0;34m\u001b[0m\u001b[0m\n\u001b[0m",
            "\u001b[0;32m/usr/local/lib/python3.6/dist-packages/google/colab/drive.py\u001b[0m in \u001b[0;36mmount\u001b[0;34m(mountpoint, force_remount, timeout_ms, use_metadata_server)\u001b[0m\n\u001b[1;32m    235\u001b[0m       \u001b[0mauth_prompt\u001b[0m \u001b[0;34m=\u001b[0m \u001b[0md\u001b[0m\u001b[0;34m.\u001b[0m\u001b[0mmatch\u001b[0m\u001b[0;34m.\u001b[0m\u001b[0mgroup\u001b[0m\u001b[0;34m(\u001b[0m\u001b[0;36m1\u001b[0m\u001b[0;34m)\u001b[0m \u001b[0;34m+\u001b[0m \u001b[0;34m'\\nEnter your authorization code:\\n'\u001b[0m\u001b[0;34m\u001b[0m\u001b[0;34m\u001b[0m\u001b[0m\n\u001b[1;32m    236\u001b[0m       \u001b[0;32mwith\u001b[0m \u001b[0mopen\u001b[0m\u001b[0;34m(\u001b[0m\u001b[0mfifo\u001b[0m\u001b[0;34m,\u001b[0m \u001b[0;34m'w'\u001b[0m\u001b[0;34m)\u001b[0m \u001b[0;32mas\u001b[0m \u001b[0mfifo_file\u001b[0m\u001b[0;34m:\u001b[0m\u001b[0;34m\u001b[0m\u001b[0;34m\u001b[0m\u001b[0m\n\u001b[0;32m--> 237\u001b[0;31m         \u001b[0mfifo_file\u001b[0m\u001b[0;34m.\u001b[0m\u001b[0mwrite\u001b[0m\u001b[0;34m(\u001b[0m\u001b[0m_getpass\u001b[0m\u001b[0;34m.\u001b[0m\u001b[0mgetpass\u001b[0m\u001b[0;34m(\u001b[0m\u001b[0mauth_prompt\u001b[0m\u001b[0;34m)\u001b[0m \u001b[0;34m+\u001b[0m \u001b[0;34m'\\n'\u001b[0m\u001b[0;34m)\u001b[0m\u001b[0;34m\u001b[0m\u001b[0;34m\u001b[0m\u001b[0m\n\u001b[0m\u001b[1;32m    238\u001b[0m       \u001b[0mwrote_to_fifo\u001b[0m \u001b[0;34m=\u001b[0m \u001b[0;32mTrue\u001b[0m\u001b[0;34m\u001b[0m\u001b[0;34m\u001b[0m\u001b[0m\n\u001b[1;32m    239\u001b[0m   \u001b[0;32mif\u001b[0m \u001b[0;32mnot\u001b[0m \u001b[0mwrote_to_fifo\u001b[0m\u001b[0;34m:\u001b[0m\u001b[0;34m\u001b[0m\u001b[0;34m\u001b[0m\u001b[0m\n",
            "\u001b[0;32m/usr/local/lib/python3.6/dist-packages/ipykernel/kernelbase.py\u001b[0m in \u001b[0;36mgetpass\u001b[0;34m(self, prompt, stream)\u001b[0m\n\u001b[1;32m    686\u001b[0m             \u001b[0mself\u001b[0m\u001b[0;34m.\u001b[0m\u001b[0m_parent_ident\u001b[0m\u001b[0;34m,\u001b[0m\u001b[0;34m\u001b[0m\u001b[0;34m\u001b[0m\u001b[0m\n\u001b[1;32m    687\u001b[0m             \u001b[0mself\u001b[0m\u001b[0;34m.\u001b[0m\u001b[0m_parent_header\u001b[0m\u001b[0;34m,\u001b[0m\u001b[0;34m\u001b[0m\u001b[0;34m\u001b[0m\u001b[0m\n\u001b[0;32m--> 688\u001b[0;31m             \u001b[0mpassword\u001b[0m\u001b[0;34m=\u001b[0m\u001b[0;32mTrue\u001b[0m\u001b[0;34m,\u001b[0m\u001b[0;34m\u001b[0m\u001b[0;34m\u001b[0m\u001b[0m\n\u001b[0m\u001b[1;32m    689\u001b[0m         )\n\u001b[1;32m    690\u001b[0m \u001b[0;34m\u001b[0m\u001b[0m\n",
            "\u001b[0;32m/usr/local/lib/python3.6/dist-packages/ipykernel/kernelbase.py\u001b[0m in \u001b[0;36m_input_request\u001b[0;34m(self, prompt, ident, parent, password)\u001b[0m\n\u001b[1;32m    733\u001b[0m             \u001b[0;32mexcept\u001b[0m \u001b[0mKeyboardInterrupt\u001b[0m\u001b[0;34m:\u001b[0m\u001b[0;34m\u001b[0m\u001b[0;34m\u001b[0m\u001b[0m\n\u001b[1;32m    734\u001b[0m                 \u001b[0;31m# re-raise KeyboardInterrupt, to truncate traceback\u001b[0m\u001b[0;34m\u001b[0m\u001b[0;34m\u001b[0m\u001b[0;34m\u001b[0m\u001b[0m\n\u001b[0;32m--> 735\u001b[0;31m                 \u001b[0;32mraise\u001b[0m \u001b[0mKeyboardInterrupt\u001b[0m\u001b[0;34m\u001b[0m\u001b[0;34m\u001b[0m\u001b[0m\n\u001b[0m\u001b[1;32m    736\u001b[0m             \u001b[0;32melse\u001b[0m\u001b[0;34m:\u001b[0m\u001b[0;34m\u001b[0m\u001b[0;34m\u001b[0m\u001b[0m\n\u001b[1;32m    737\u001b[0m                 \u001b[0;32mbreak\u001b[0m\u001b[0;34m\u001b[0m\u001b[0;34m\u001b[0m\u001b[0m\n",
            "\u001b[0;31mKeyboardInterrupt\u001b[0m: "
          ]
        }
      ]
    },
    {
      "cell_type": "code",
      "metadata": {
        "id": "ZRT7riMVKrgN",
        "colab_type": "code",
        "colab": {}
      },
      "source": [
        "df_flights =pd.read_csv('/content/drive/My Drive/flights.csv')"
      ],
      "execution_count": 0,
      "outputs": []
    },
    {
      "cell_type": "code",
      "metadata": {
        "id": "zC8pG5ngLFwL",
        "colab_type": "code",
        "colab": {}
      },
      "source": [
        "df_flights.head()"
      ],
      "execution_count": 0,
      "outputs": []
    },
    {
      "cell_type": "code",
      "metadata": {
        "id": "zkEKTjALmF35",
        "colab_type": "code",
        "colab": {}
      },
      "source": [
        "df_airlines=pd.read_csv('https://raw.githubusercontent.com/AlexBB999/Thinkful/master/airlines.csv')"
      ],
      "execution_count": 0,
      "outputs": []
    },
    {
      "cell_type": "code",
      "metadata": {
        "id": "Pj2U3imnmP9U",
        "colab_type": "code",
        "colab": {}
      },
      "source": [
        "df_airlines"
      ],
      "execution_count": 0,
      "outputs": []
    },
    {
      "cell_type": "markdown",
      "metadata": {
        "id": "B9RnC1LuZ126",
        "colab_type": "text"
      },
      "source": [
        "MERGE FILES"
      ]
    },
    {
      "cell_type": "code",
      "metadata": {
        "id": "HeTg2bfymxOg",
        "colab_type": "code",
        "colab": {}
      },
      "source": [
        "df_merged = pd.merge(df_flights, df_airlines)"
      ],
      "execution_count": 0,
      "outputs": []
    },
    {
      "cell_type": "code",
      "metadata": {
        "id": "zi-MwTaGnAj4",
        "colab_type": "code",
        "colab": {}
      },
      "source": [
        "df_merged.head()"
      ],
      "execution_count": 0,
      "outputs": []
    },
    {
      "cell_type": "code",
      "metadata": {
        "id": "QkUCCtUssXmA",
        "colab_type": "code",
        "colab": {}
      },
      "source": [
        "df_merged.shape"
      ],
      "execution_count": 0,
      "outputs": []
    },
    {
      "cell_type": "code",
      "metadata": {
        "id": "u4Aa1MFOsl5X",
        "colab_type": "code",
        "colab": {}
      },
      "source": [
        "df_merged.describe()"
      ],
      "execution_count": 0,
      "outputs": []
    },
    {
      "cell_type": "code",
      "metadata": {
        "id": "Wk-nh36utKFm",
        "colab_type": "code",
        "colab": {}
      },
      "source": [
        "df_merged.info()"
      ],
      "execution_count": 0,
      "outputs": []
    },
    {
      "cell_type": "code",
      "metadata": {
        "id": "4WAhxk2OtmAB",
        "colab_type": "code",
        "colab": {}
      },
      "source": [
        "df_merged.isnull().values.any()"
      ],
      "execution_count": 0,
      "outputs": []
    },
    {
      "cell_type": "markdown",
      "metadata": {
        "id": "yrofqqo8qfkZ",
        "colab_type": "text"
      },
      "source": [
        "dep_time, dep_delay,arr_time,tailnum,air_time all have missing values"
      ]
    },
    {
      "cell_type": "code",
      "metadata": {
        "id": "9OhZkucZvfR4",
        "colab_type": "code",
        "colab": {}
      },
      "source": [
        "df_merged=df_merged.dropna()"
      ],
      "execution_count": 0,
      "outputs": []
    },
    {
      "cell_type": "code",
      "metadata": {
        "id": "43uVCJnbvq7e",
        "colab_type": "code",
        "colab": {}
      },
      "source": [
        "df_merged.isnull().values.any()"
      ],
      "execution_count": 0,
      "outputs": []
    },
    {
      "cell_type": "markdown",
      "metadata": {
        "id": "_KmlZZZOaN6K",
        "colab_type": "text"
      },
      "source": [
        ""
      ]
    },
    {
      "cell_type": "markdown",
      "metadata": {
        "id": "y_C3k7rMaOQE",
        "colab_type": "text"
      },
      "source": [
        "CENSUS PROBLEM ======================================================================"
      ]
    },
    {
      "cell_type": "markdown",
      "metadata": {
        "id": "SQRNf0QEVvz0",
        "colab_type": "text"
      },
      "source": [
        ""
      ]
    },
    {
      "cell_type": "code",
      "metadata": {
        "id": "hDFif-FmbG55",
        "colab_type": "code",
        "colab": {}
      },
      "source": [
        "df_census_states=pd.read_csv('https://raw.githubusercontent.com/AlexBB999/Thinkful/master/state-populations.csv')"
      ],
      "execution_count": 0,
      "outputs": []
    },
    {
      "cell_type": "code",
      "metadata": {
        "id": "F5oosq5obxQe",
        "colab_type": "code",
        "colab": {}
      },
      "source": [
        "df_census_states.head()"
      ],
      "execution_count": 0,
      "outputs": []
    },
    {
      "cell_type": "code",
      "metadata": {
        "id": "cnCphmCLcoNa",
        "colab_type": "code",
        "colab": {}
      },
      "source": [
        "df_census_regions=pd.read_csv(\"https://raw.githubusercontent.com/AlexBB999/Thinkful/master/census-divisions.csv\")"
      ],
      "execution_count": 0,
      "outputs": []
    },
    {
      "cell_type": "code",
      "metadata": {
        "id": "I_vA_OP4cy-p",
        "colab_type": "code",
        "colab": {}
      },
      "source": [
        "df_census_regions.head()"
      ],
      "execution_count": 0,
      "outputs": []
    },
    {
      "cell_type": "markdown",
      "metadata": {
        "id": "TzKaYxVCc-xf",
        "colab_type": "text"
      },
      "source": [
        "#1   MERGE FILES"
      ]
    },
    {
      "cell_type": "code",
      "metadata": {
        "id": "b196JwGQdCmk",
        "colab_type": "code",
        "colab": {}
      },
      "source": [
        "df_census=pd.merge(df_census_states,df_census_regions)"
      ],
      "execution_count": 0,
      "outputs": []
    },
    {
      "cell_type": "code",
      "metadata": {
        "id": "oYBRNqq1dNsc",
        "colab_type": "code",
        "colab": {}
      },
      "source": [
        "df_census.head()"
      ],
      "execution_count": 0,
      "outputs": []
    },
    {
      "cell_type": "code",
      "metadata": {
        "id": "NabbjXUguNef",
        "colab_type": "code",
        "colab": {}
      },
      "source": [
        "df_census.shape"
      ],
      "execution_count": 0,
      "outputs": []
    },
    {
      "cell_type": "code",
      "metadata": {
        "id": "pP0SDWqvCMz4",
        "colab_type": "code",
        "colab": {}
      },
      "source": [
        "df_census.info()"
      ],
      "execution_count": 0,
      "outputs": []
    },
    {
      "cell_type": "code",
      "metadata": {
        "id": "6uXIVUqeEsMs",
        "colab_type": "code",
        "colab": {}
      },
      "source": [
        "list(df_census)"
      ],
      "execution_count": 0,
      "outputs": []
    },
    {
      "cell_type": "markdown",
      "metadata": {
        "colab_type": "text",
        "id": "w31f9qPzMU1v"
      },
      "source": [
        "2 Re-shape census so that one column contains all population measures, and another the year attributes."
      ]
    },
    {
      "cell_type": "code",
      "metadata": {
        "id": "v9n7qQkZw0id",
        "colab_type": "code",
        "colab": {}
      },
      "source": [
        "#$pd.melt(frame=dft_census[0:356], var_name='state',value_name=\"population\").head(50)\n"
      ],
      "execution_count": 0,
      "outputs": []
    },
    {
      "cell_type": "code",
      "metadata": {
        "id": "pJe8ynwiVF_J",
        "colab_type": "code",
        "colab": {}
      },
      "source": [
        "census_melt=pd.melt(frame=df_census, id_vars=[\"state\"],var_name='year',value_name=\"population\")\n"
      ],
      "execution_count": 0,
      "outputs": []
    },
    {
      "cell_type": "code",
      "metadata": {
        "id": "gijCpBRokKwO",
        "colab_type": "code",
        "outputId": "b749d5ca-04e8-49b7-e2db-c0062687f4f2",
        "colab": {
          "base_uri": "https://localhost:8080/",
          "height": 402
        }
      },
      "source": [
        "census_melt[:357]"
      ],
      "execution_count": 0,
      "outputs": [
        {
          "output_type": "execute_result",
          "data": {
            "text/html": [
              "<div>\n",
              "<style scoped>\n",
              "    .dataframe tbody tr th:only-of-type {\n",
              "        vertical-align: middle;\n",
              "    }\n",
              "\n",
              "    .dataframe tbody tr th {\n",
              "        vertical-align: top;\n",
              "    }\n",
              "\n",
              "    .dataframe thead th {\n",
              "        text-align: right;\n",
              "    }\n",
              "</style>\n",
              "<table border=\"1\" class=\"dataframe\">\n",
              "  <thead>\n",
              "    <tr style=\"text-align: right;\">\n",
              "      <th></th>\n",
              "      <th>state</th>\n",
              "      <th>year</th>\n",
              "      <th>population</th>\n",
              "    </tr>\n",
              "  </thead>\n",
              "  <tbody>\n",
              "    <tr>\n",
              "      <th>0</th>\n",
              "      <td>Alabama</td>\n",
              "      <td>2010</td>\n",
              "      <td>4785492</td>\n",
              "    </tr>\n",
              "    <tr>\n",
              "      <th>1</th>\n",
              "      <td>Alaska</td>\n",
              "      <td>2010</td>\n",
              "      <td>714031</td>\n",
              "    </tr>\n",
              "    <tr>\n",
              "      <th>2</th>\n",
              "      <td>Arizona</td>\n",
              "      <td>2010</td>\n",
              "      <td>6408312</td>\n",
              "    </tr>\n",
              "    <tr>\n",
              "      <th>3</th>\n",
              "      <td>Arkansas</td>\n",
              "      <td>2010</td>\n",
              "      <td>2921995</td>\n",
              "    </tr>\n",
              "    <tr>\n",
              "      <th>4</th>\n",
              "      <td>California</td>\n",
              "      <td>2010</td>\n",
              "      <td>37332685</td>\n",
              "    </tr>\n",
              "    <tr>\n",
              "      <th>...</th>\n",
              "      <td>...</td>\n",
              "      <td>...</td>\n",
              "      <td>...</td>\n",
              "    </tr>\n",
              "    <tr>\n",
              "      <th>352</th>\n",
              "      <td>Virginia</td>\n",
              "      <td>2016</td>\n",
              "      <td>8411808</td>\n",
              "    </tr>\n",
              "    <tr>\n",
              "      <th>353</th>\n",
              "      <td>Washington</td>\n",
              "      <td>2016</td>\n",
              "      <td>7288000</td>\n",
              "    </tr>\n",
              "    <tr>\n",
              "      <th>354</th>\n",
              "      <td>West Virginia</td>\n",
              "      <td>2016</td>\n",
              "      <td>1831102</td>\n",
              "    </tr>\n",
              "    <tr>\n",
              "      <th>355</th>\n",
              "      <td>Wisconsin</td>\n",
              "      <td>2016</td>\n",
              "      <td>5778708</td>\n",
              "    </tr>\n",
              "    <tr>\n",
              "      <th>356</th>\n",
              "      <td>Wyoming</td>\n",
              "      <td>2016</td>\n",
              "      <td>585501</td>\n",
              "    </tr>\n",
              "  </tbody>\n",
              "</table>\n",
              "<p>357 rows × 3 columns</p>\n",
              "</div>"
            ],
            "text/plain": [
              "             state  year population\n",
              "0          Alabama  2010    4785492\n",
              "1           Alaska  2010     714031\n",
              "2          Arizona  2010    6408312\n",
              "3         Arkansas  2010    2921995\n",
              "4       California  2010   37332685\n",
              "..             ...   ...        ...\n",
              "352       Virginia  2016    8411808\n",
              "353     Washington  2016    7288000\n",
              "354  West Virginia  2016    1831102\n",
              "355      Wisconsin  2016    5778708\n",
              "356        Wyoming  2016     585501\n",
              "\n",
              "[357 rows x 3 columns]"
            ]
          },
          "metadata": {
            "tags": []
          },
          "execution_count": 170
        }
      ]
    },
    {
      "cell_type": "markdown",
      "metadata": {
        "id": "Aw59Em2UqH6u",
        "colab_type": "text"
      },
      "source": [
        "3   GROUP DATA BY YEAR AND SUMMARIZE IT"
      ]
    },
    {
      "cell_type": "code",
      "metadata": {
        "id": "sZhx6XYZjpWF",
        "colab_type": "code",
        "outputId": "f0aaad44-20c6-400f-e237-524bde660854",
        "colab": {
          "base_uri": "https://localhost:8080/",
          "height": 314
        }
      },
      "source": [
        "census_melt[:357].groupby(\"year\").agg({\"population\": ['sum','max','min', 'std']})"
      ],
      "execution_count": 0,
      "outputs": [
        {
          "output_type": "execute_result",
          "data": {
            "text/html": [
              "<div>\n",
              "<style scoped>\n",
              "    .dataframe tbody tr th:only-of-type {\n",
              "        vertical-align: middle;\n",
              "    }\n",
              "\n",
              "    .dataframe tbody tr th {\n",
              "        vertical-align: top;\n",
              "    }\n",
              "\n",
              "    .dataframe thead tr th {\n",
              "        text-align: left;\n",
              "    }\n",
              "\n",
              "    .dataframe thead tr:last-of-type th {\n",
              "        text-align: right;\n",
              "    }\n",
              "</style>\n",
              "<table border=\"1\" class=\"dataframe\">\n",
              "  <thead>\n",
              "    <tr>\n",
              "      <th></th>\n",
              "      <th colspan=\"4\" halign=\"left\">population</th>\n",
              "    </tr>\n",
              "    <tr>\n",
              "      <th></th>\n",
              "      <th>sum</th>\n",
              "      <th>max</th>\n",
              "      <th>min</th>\n",
              "      <th>std</th>\n",
              "    </tr>\n",
              "    <tr>\n",
              "      <th>year</th>\n",
              "      <th></th>\n",
              "      <th></th>\n",
              "      <th></th>\n",
              "      <th></th>\n",
              "    </tr>\n",
              "  </thead>\n",
              "  <tbody>\n",
              "    <tr>\n",
              "      <th>2010</th>\n",
              "      <td>309348193</td>\n",
              "      <td>37332685</td>\n",
              "      <td>564513</td>\n",
              "      <td>6.839536e+06</td>\n",
              "    </tr>\n",
              "    <tr>\n",
              "      <th>2011</th>\n",
              "      <td>311663358</td>\n",
              "      <td>37676861</td>\n",
              "      <td>567725</td>\n",
              "      <td>6.907730e+06</td>\n",
              "    </tr>\n",
              "    <tr>\n",
              "      <th>2012</th>\n",
              "      <td>313998379</td>\n",
              "      <td>38011074</td>\n",
              "      <td>576765</td>\n",
              "      <td>6.974942e+06</td>\n",
              "    </tr>\n",
              "    <tr>\n",
              "      <th>2013</th>\n",
              "      <td>316204908</td>\n",
              "      <td>38335203</td>\n",
              "      <td>582684</td>\n",
              "      <td>7.038774e+06</td>\n",
              "    </tr>\n",
              "    <tr>\n",
              "      <th>2014</th>\n",
              "      <td>318563456</td>\n",
              "      <td>38680810</td>\n",
              "      <td>583642</td>\n",
              "      <td>7.110811e+06</td>\n",
              "    </tr>\n",
              "    <tr>\n",
              "      <th>2015</th>\n",
              "      <td>320896618</td>\n",
              "      <td>38993940</td>\n",
              "      <td>586555</td>\n",
              "      <td>7.181603e+06</td>\n",
              "    </tr>\n",
              "    <tr>\n",
              "      <th>2016</th>\n",
              "      <td>323127513</td>\n",
              "      <td>39250017</td>\n",
              "      <td>585501</td>\n",
              "      <td>7.243849e+06</td>\n",
              "    </tr>\n",
              "  </tbody>\n",
              "</table>\n",
              "</div>"
            ],
            "text/plain": [
              "     population                                \n",
              "            sum       max     min           std\n",
              "year                                           \n",
              "2010  309348193  37332685  564513  6.839536e+06\n",
              "2011  311663358  37676861  567725  6.907730e+06\n",
              "2012  313998379  38011074  576765  6.974942e+06\n",
              "2013  316204908  38335203  582684  7.038774e+06\n",
              "2014  318563456  38680810  583642  7.110811e+06\n",
              "2015  320896618  38993940  586555  7.181603e+06\n",
              "2016  323127513  39250017  585501  7.243849e+06"
            ]
          },
          "metadata": {
            "tags": []
          },
          "execution_count": 171
        }
      ]
    },
    {
      "cell_type": "code",
      "metadata": {
        "id": "QW8mdeIpvDzZ",
        "colab_type": "code",
        "colab": {}
      },
      "source": [
        "df_census.groupby(\"2010\",\"2011\",\"2012\",\"2013\",\"2014\",\"2015\",\"2016\").describe()"
      ],
      "execution_count": 0,
      "outputs": []
    },
    {
      "cell_type": "markdown",
      "metadata": {
        "id": "lAeFEqUKwlRx",
        "colab_type": "text"
      },
      "source": [
        "4 Group the data by region, division and year and summarize it."
      ]
    },
    {
      "cell_type": "code",
      "metadata": {
        "id": "0sq57aEiwEc9",
        "colab_type": "code",
        "outputId": "ff2e61bb-1b4c-4c4f-f054-a0f361565e63",
        "colab": {
          "base_uri": "https://localhost:8080/",
          "height": 578
        }
      },
      "source": [
        "df_census.groupby([\"division\",'region']).describe()"
      ],
      "execution_count": 0,
      "outputs": [
        {
          "output_type": "execute_result",
          "data": {
            "text/html": [
              "<div>\n",
              "<style scoped>\n",
              "    .dataframe tbody tr th:only-of-type {\n",
              "        vertical-align: middle;\n",
              "    }\n",
              "\n",
              "    .dataframe tbody tr th {\n",
              "        vertical-align: top;\n",
              "    }\n",
              "\n",
              "    .dataframe thead tr th {\n",
              "        text-align: left;\n",
              "    }\n",
              "\n",
              "    .dataframe thead tr:last-of-type th {\n",
              "        text-align: right;\n",
              "    }\n",
              "</style>\n",
              "<table border=\"1\" class=\"dataframe\">\n",
              "  <thead>\n",
              "    <tr>\n",
              "      <th></th>\n",
              "      <th></th>\n",
              "      <th colspan=\"8\" halign=\"left\">2010</th>\n",
              "      <th colspan=\"8\" halign=\"left\">2011</th>\n",
              "      <th colspan=\"8\" halign=\"left\">2012</th>\n",
              "      <th colspan=\"8\" halign=\"left\">2013</th>\n",
              "      <th colspan=\"8\" halign=\"left\">2014</th>\n",
              "      <th colspan=\"8\" halign=\"left\">2015</th>\n",
              "      <th colspan=\"8\" halign=\"left\">2016</th>\n",
              "    </tr>\n",
              "    <tr>\n",
              "      <th></th>\n",
              "      <th></th>\n",
              "      <th>count</th>\n",
              "      <th>mean</th>\n",
              "      <th>std</th>\n",
              "      <th>min</th>\n",
              "      <th>25%</th>\n",
              "      <th>50%</th>\n",
              "      <th>75%</th>\n",
              "      <th>max</th>\n",
              "      <th>count</th>\n",
              "      <th>mean</th>\n",
              "      <th>std</th>\n",
              "      <th>min</th>\n",
              "      <th>25%</th>\n",
              "      <th>50%</th>\n",
              "      <th>75%</th>\n",
              "      <th>max</th>\n",
              "      <th>count</th>\n",
              "      <th>mean</th>\n",
              "      <th>std</th>\n",
              "      <th>min</th>\n",
              "      <th>25%</th>\n",
              "      <th>50%</th>\n",
              "      <th>75%</th>\n",
              "      <th>max</th>\n",
              "      <th>count</th>\n",
              "      <th>mean</th>\n",
              "      <th>std</th>\n",
              "      <th>min</th>\n",
              "      <th>25%</th>\n",
              "      <th>50%</th>\n",
              "      <th>75%</th>\n",
              "      <th>max</th>\n",
              "      <th>count</th>\n",
              "      <th>mean</th>\n",
              "      <th>std</th>\n",
              "      <th>min</th>\n",
              "      <th>25%</th>\n",
              "      <th>50%</th>\n",
              "      <th>75%</th>\n",
              "      <th>max</th>\n",
              "      <th>count</th>\n",
              "      <th>mean</th>\n",
              "      <th>std</th>\n",
              "      <th>min</th>\n",
              "      <th>25%</th>\n",
              "      <th>50%</th>\n",
              "      <th>75%</th>\n",
              "      <th>max</th>\n",
              "      <th>count</th>\n",
              "      <th>mean</th>\n",
              "      <th>std</th>\n",
              "      <th>min</th>\n",
              "      <th>25%</th>\n",
              "      <th>50%</th>\n",
              "      <th>75%</th>\n",
              "      <th>max</th>\n",
              "    </tr>\n",
              "    <tr>\n",
              "      <th>division</th>\n",
              "      <th>region</th>\n",
              "      <th></th>\n",
              "      <th></th>\n",
              "      <th></th>\n",
              "      <th></th>\n",
              "      <th></th>\n",
              "      <th></th>\n",
              "      <th></th>\n",
              "      <th></th>\n",
              "      <th></th>\n",
              "      <th></th>\n",
              "      <th></th>\n",
              "      <th></th>\n",
              "      <th></th>\n",
              "      <th></th>\n",
              "      <th></th>\n",
              "      <th></th>\n",
              "      <th></th>\n",
              "      <th></th>\n",
              "      <th></th>\n",
              "      <th></th>\n",
              "      <th></th>\n",
              "      <th></th>\n",
              "      <th></th>\n",
              "      <th></th>\n",
              "      <th></th>\n",
              "      <th></th>\n",
              "      <th></th>\n",
              "      <th></th>\n",
              "      <th></th>\n",
              "      <th></th>\n",
              "      <th></th>\n",
              "      <th></th>\n",
              "      <th></th>\n",
              "      <th></th>\n",
              "      <th></th>\n",
              "      <th></th>\n",
              "      <th></th>\n",
              "      <th></th>\n",
              "      <th></th>\n",
              "      <th></th>\n",
              "      <th></th>\n",
              "      <th></th>\n",
              "      <th></th>\n",
              "      <th></th>\n",
              "      <th></th>\n",
              "      <th></th>\n",
              "      <th></th>\n",
              "      <th></th>\n",
              "      <th></th>\n",
              "      <th></th>\n",
              "      <th></th>\n",
              "      <th></th>\n",
              "      <th></th>\n",
              "      <th></th>\n",
              "      <th></th>\n",
              "      <th></th>\n",
              "    </tr>\n",
              "  </thead>\n",
              "  <tbody>\n",
              "    <tr>\n",
              "      <th>East North Central</th>\n",
              "      <th>Midwest</th>\n",
              "      <td>5.0</td>\n",
              "      <td>9.288169e+06</td>\n",
              "      <td>3.115322e+06</td>\n",
              "      <td>5690263.0</td>\n",
              "      <td>6490528.00</td>\n",
              "      <td>9877495.0</td>\n",
              "      <td>11540983.00</td>\n",
              "      <td>12841578.0</td>\n",
              "      <td>5.0</td>\n",
              "      <td>9.301434e+06</td>\n",
              "      <td>3.109807e+06</td>\n",
              "      <td>5709640.0</td>\n",
              "      <td>6516480.00</td>\n",
              "      <td>9876213.0</td>\n",
              "      <td>11544824.00</td>\n",
              "      <td>12860012.0</td>\n",
              "      <td>5.0</td>\n",
              "      <td>9.314559e+06</td>\n",
              "      <td>3.104953e+06</td>\n",
              "      <td>5726177.0</td>\n",
              "      <td>6537743.00</td>\n",
              "      <td>9887238.0</td>\n",
              "      <td>11550839.00</td>\n",
              "      <td>12870798.0</td>\n",
              "      <td>5.0</td>\n",
              "      <td>9.332093e+06</td>\n",
              "      <td>3.099620e+06</td>\n",
              "      <td>5742854.0</td>\n",
              "      <td>6569102.00</td>\n",
              "      <td>9898982.0</td>\n",
              "      <td>11570022.00</td>\n",
              "      <td>12879505.0</td>\n",
              "      <td>5.0</td>\n",
              "      <td>9.346266e+06</td>\n",
              "      <td>3.091076e+06</td>\n",
              "      <td>5758377.0</td>\n",
              "      <td>6595233.00</td>\n",
              "      <td>9915767.0</td>\n",
              "      <td>11594408.00</td>\n",
              "      <td>12867544.0</td>\n",
              "      <td>5.0</td>\n",
              "      <td>9.348502e+06</td>\n",
              "      <td>3.078356e+06</td>\n",
              "      <td>5767891.0</td>\n",
              "      <td>6612768.00</td>\n",
              "      <td>9917715.0</td>\n",
              "      <td>11605090.00</td>\n",
              "      <td>12839047.0</td>\n",
              "      <td>5.0</td>\n",
              "      <td>9.351195e+06</td>\n",
              "      <td>3.062305e+06</td>\n",
              "      <td>5778708.0</td>\n",
              "      <td>6633053.00</td>\n",
              "      <td>9928300.0</td>\n",
              "      <td>11614373.00</td>\n",
              "      <td>12801539.0</td>\n",
              "    </tr>\n",
              "    <tr>\n",
              "      <th>East South Central</th>\n",
              "      <th>South</th>\n",
              "      <td>4.0</td>\n",
              "      <td>4.615287e+06</td>\n",
              "      <td>1.395037e+06</td>\n",
              "      <td>2970322.0</td>\n",
              "      <td>4004077.00</td>\n",
              "      <td>4567077.0</td>\n",
              "      <td>5178286.75</td>\n",
              "      <td>6356671.0</td>\n",
              "      <td>4.0</td>\n",
              "      <td>4.636267e+06</td>\n",
              "      <td>1.408279e+06</td>\n",
              "      <td>2978162.0</td>\n",
              "      <td>4021556.00</td>\n",
              "      <td>4584636.0</td>\n",
              "      <td>5199347.00</td>\n",
              "      <td>6397634.0</td>\n",
              "      <td>4.0</td>\n",
              "      <td>4.660002e+06</td>\n",
              "      <td>1.428916e+06</td>\n",
              "      <td>2984945.0</td>\n",
              "      <td>4034835.50</td>\n",
              "      <td>4600379.5</td>\n",
              "      <td>5225546.50</td>\n",
              "      <td>6454306.0</td>\n",
              "      <td>4.0</td>\n",
              "      <td>4.678815e+06</td>\n",
              "      <td>1.443205e+06</td>\n",
              "      <td>2990482.0</td>\n",
              "      <td>4047978.25</td>\n",
              "      <td>4614978.0</td>\n",
              "      <td>5245814.50</td>\n",
              "      <td>6494821.0</td>\n",
              "      <td>4.0</td>\n",
              "      <td>4.698334e+06</td>\n",
              "      <td>1.463046e+06</td>\n",
              "      <td>2992400.0</td>\n",
              "      <td>4057892.75</td>\n",
              "      <td>4628135.5</td>\n",
              "      <td>5268576.25</td>\n",
              "      <td>6544663.0</td>\n",
              "      <td>4.0</td>\n",
              "      <td>4.715733e+06</td>\n",
              "      <td>1.485031e+06</td>\n",
              "      <td>2989390.0</td>\n",
              "      <td>4065805.75</td>\n",
              "      <td>4639243.0</td>\n",
              "      <td>5289170.25</td>\n",
              "      <td>6595056.0</td>\n",
              "      <td>4.0</td>\n",
              "      <td>4.735048e+06</td>\n",
              "      <td>1.508482e+06</td>\n",
              "      <td>2988726.0</td>\n",
              "      <td>4074912.00</td>\n",
              "      <td>4650137.0</td>\n",
              "      <td>5310273.50</td>\n",
              "      <td>6651194.0</td>\n",
              "    </tr>\n",
              "    <tr>\n",
              "      <th>Middle Atlantic</th>\n",
              "      <th>Northeast</th>\n",
              "      <td>3.0</td>\n",
              "      <td>1.363957e+07</td>\n",
              "      <td>5.359948e+06</td>\n",
              "      <td>8803729.0</td>\n",
              "      <td>10758036.00</td>\n",
              "      <td>12712343.0</td>\n",
              "      <td>16057491.50</td>\n",
              "      <td>19402640.0</td>\n",
              "      <td>3.0</td>\n",
              "      <td>1.370169e+07</td>\n",
              "      <td>5.403138e+06</td>\n",
              "      <td>8841243.0</td>\n",
              "      <td>10792768.00</td>\n",
              "      <td>12744293.0</td>\n",
              "      <td>16131911.00</td>\n",
              "      <td>19519529.0</td>\n",
              "      <td>3.0</td>\n",
              "      <td>1.374928e+07</td>\n",
              "      <td>5.431148e+06</td>\n",
              "      <td>8873211.0</td>\n",
              "      <td>10822532.50</td>\n",
              "      <td>12771854.0</td>\n",
              "      <td>16187311.50</td>\n",
              "      <td>19602769.0</td>\n",
              "      <td>3.0</td>\n",
              "      <td>1.378468e+07</td>\n",
              "      <td>5.456818e+06</td>\n",
              "      <td>8899162.0</td>\n",
              "      <td>10840250.00</td>\n",
              "      <td>12781338.0</td>\n",
              "      <td>16227442.00</td>\n",
              "      <td>19673546.0</td>\n",
              "      <td>3.0</td>\n",
              "      <td>1.381136e+07</td>\n",
              "      <td>5.468684e+06</td>\n",
              "      <td>8925001.0</td>\n",
              "      <td>10857783.00</td>\n",
              "      <td>12790565.0</td>\n",
              "      <td>16254540.00</td>\n",
              "      <td>19718515.0</td>\n",
              "      <td>3.0</td>\n",
              "      <td>1.382484e+07</td>\n",
              "      <td>5.479394e+06</td>\n",
              "      <td>8935421.0</td>\n",
              "      <td>10863662.50</td>\n",
              "      <td>12791904.0</td>\n",
              "      <td>16269543.50</td>\n",
              "      <td>19747183.0</td>\n",
              "      <td>3.0</td>\n",
              "      <td>1.382466e+07</td>\n",
              "      <td>5.475062e+06</td>\n",
              "      <td>8944469.0</td>\n",
              "      <td>10864348.00</td>\n",
              "      <td>12784227.0</td>\n",
              "      <td>16264758.00</td>\n",
              "      <td>19745289.0</td>\n",
              "    </tr>\n",
              "    <tr>\n",
              "      <th>Mountain</th>\n",
              "      <th>West</th>\n",
              "      <td>8.0</td>\n",
              "      <td>2.765811e+06</td>\n",
              "      <td>2.014203e+06</td>\n",
              "      <td>564513.0</td>\n",
              "      <td>1425917.75</td>\n",
              "      <td>2384020.0</td>\n",
              "      <td>3343655.50</td>\n",
              "      <td>6408312.0</td>\n",
              "      <td>8.0</td>\n",
              "      <td>2.793434e+06</td>\n",
              "      <td>2.037516e+06</td>\n",
              "      <td>567725.0</td>\n",
              "      <td>1437562.50</td>\n",
              "      <td>2398067.5</td>\n",
              "      <td>3391683.00</td>\n",
              "      <td>6467163.0</td>\n",
              "      <td>8.0</td>\n",
              "      <td>2.826188e+06</td>\n",
              "      <td>2.066674e+06</td>\n",
              "      <td>576765.0</td>\n",
              "      <td>1448232.25</td>\n",
              "      <td>2418174.5</td>\n",
              "      <td>3439303.25</td>\n",
              "      <td>6549634.0</td>\n",
              "      <td>8.0</td>\n",
              "      <td>2.859444e+06</td>\n",
              "      <td>2.095118e+06</td>\n",
              "      <td>582684.0</td>\n",
              "      <td>1462586.75</td>\n",
              "      <td>2435828.5</td>\n",
              "      <td>3493898.00</td>\n",
              "      <td>6624617.0</td>\n",
              "      <td>8.0</td>\n",
              "      <td>2.895944e+06</td>\n",
              "      <td>2.130049e+06</td>\n",
              "      <td>583642.0</td>\n",
              "      <td>1480865.75</td>\n",
              "      <td>2458018.5</td>\n",
              "      <td>3543789.00</td>\n",
              "      <td>6719993.0</td>\n",
              "      <td>8.0</td>\n",
              "      <td>2.936570e+06</td>\n",
              "      <td>2.168280e+06</td>\n",
              "      <td>586555.0</td>\n",
              "      <td>1497639.25</td>\n",
              "      <td>2482043.0</td>\n",
              "      <td>3605178.75</td>\n",
              "      <td>6817565.0</td>\n",
              "      <td>8.0</td>\n",
              "      <td>2.981883e+06</td>\n",
              "      <td>2.208796e+06</td>\n",
              "      <td>585501.0</td>\n",
              "      <td>1522985.00</td>\n",
              "      <td>2510536.5</td>\n",
              "      <td>3673549.00</td>\n",
              "      <td>6931071.0</td>\n",
              "    </tr>\n",
              "    <tr>\n",
              "      <th>New England</th>\n",
              "      <th>Northeast</th>\n",
              "      <td>6.0</td>\n",
              "      <td>2.411557e+06</td>\n",
              "      <td>2.281514e+06</td>\n",
              "      <td>625982.0</td>\n",
              "      <td>1119220.75</td>\n",
              "      <td>1322301.0</td>\n",
              "      <td>3016856.75</td>\n",
              "      <td>6565524.0</td>\n",
              "      <td>6.0</td>\n",
              "      <td>2.421284e+06</td>\n",
              "      <td>2.299225e+06</td>\n",
              "      <td>626730.0</td>\n",
              "      <td>1118956.50</td>\n",
              "      <td>1323352.0</td>\n",
              "      <td>3024477.50</td>\n",
              "      <td>6611923.0</td>\n",
              "      <td>6.0</td>\n",
              "      <td>2.430204e+06</td>\n",
              "      <td>2.316100e+06</td>\n",
              "      <td>626444.0</td>\n",
              "      <td>1119971.25</td>\n",
              "      <td>1325038.5</td>\n",
              "      <td>3027570.00</td>\n",
              "      <td>6658008.0</td>\n",
              "      <td>6.0</td>\n",
              "      <td>2.439121e+06</td>\n",
              "      <td>2.333859e+06</td>\n",
              "      <td>627140.0</td>\n",
              "      <td>1120446.50</td>\n",
              "      <td>1325881.5</td>\n",
              "      <td>3029271.25</td>\n",
              "      <td>6706786.0</td>\n",
              "      <td>6.0</td>\n",
              "      <td>2.447118e+06</td>\n",
              "      <td>2.348358e+06</td>\n",
              "      <td>626984.0</td>\n",
              "      <td>1123045.75</td>\n",
              "      <td>1329731.0</td>\n",
              "      <td>3026584.50</td>\n",
              "      <td>6749911.0</td>\n",
              "      <td>6.0</td>\n",
              "      <td>2.451705e+06</td>\n",
              "      <td>2.360254e+06</td>\n",
              "      <td>626088.0</td>\n",
              "      <td>1124068.50</td>\n",
              "      <td>1329782.0</td>\n",
              "      <td>3021075.25</td>\n",
              "      <td>6784240.0</td>\n",
              "      <td>6.0</td>\n",
              "      <td>2.455921e+06</td>\n",
              "      <td>2.369081e+06</td>\n",
              "      <td>624594.0</td>\n",
              "      <td>1125189.25</td>\n",
              "      <td>1333137.0</td>\n",
              "      <td>3016037.75</td>\n",
              "      <td>6811779.0</td>\n",
              "    </tr>\n",
              "    <tr>\n",
              "      <th>Pacific</th>\n",
              "      <th>West</th>\n",
              "      <td>5.0</td>\n",
              "      <td>9.998387e+06</td>\n",
              "      <td>1.546336e+07</td>\n",
              "      <td>714031.0</td>\n",
              "      <td>1363945.00</td>\n",
              "      <td>3838048.0</td>\n",
              "      <td>6743226.00</td>\n",
              "      <td>37332685.0</td>\n",
              "      <td>5.0</td>\n",
              "      <td>1.009360e+07</td>\n",
              "      <td>1.560506e+07</td>\n",
              "      <td>722713.0</td>\n",
              "      <td>1377864.00</td>\n",
              "      <td>3868031.0</td>\n",
              "      <td>6822520.00</td>\n",
              "      <td>37676861.0</td>\n",
              "      <td>5.0</td>\n",
              "      <td>1.018566e+07</td>\n",
              "      <td>1.574263e+07</td>\n",
              "      <td>731089.0</td>\n",
              "      <td>1391820.00</td>\n",
              "      <td>3899116.0</td>\n",
              "      <td>6895226.00</td>\n",
              "      <td>38011074.0</td>\n",
              "      <td>5.0</td>\n",
              "      <td>1.027446e+07</td>\n",
              "      <td>1.587648e+07</td>\n",
              "      <td>736879.0</td>\n",
              "      <td>1406481.00</td>\n",
              "      <td>3925751.0</td>\n",
              "      <td>6968006.00</td>\n",
              "      <td>38335203.0</td>\n",
              "      <td>5.0</td>\n",
              "      <td>1.037129e+07</td>\n",
              "      <td>1.601909e+07</td>\n",
              "      <td>736705.0</td>\n",
              "      <td>1416349.00</td>\n",
              "      <td>3968371.0</td>\n",
              "      <td>7054196.00</td>\n",
              "      <td>38680810.0</td>\n",
              "      <td>5.0</td>\n",
              "      <td>1.046835e+07</td>\n",
              "      <td>1.614496e+07</td>\n",
              "      <td>737709.0</td>\n",
              "      <td>1425157.00</td>\n",
              "      <td>4024634.0</td>\n",
              "      <td>7160290.00</td>\n",
              "      <td>38993940.0</td>\n",
              "      <td>5.0</td>\n",
              "      <td>1.056039e+07</td>\n",
              "      <td>1.624360e+07</td>\n",
              "      <td>741894.0</td>\n",
              "      <td>1428557.00</td>\n",
              "      <td>4093465.0</td>\n",
              "      <td>7288000.00</td>\n",
              "      <td>39250017.0</td>\n",
              "    </tr>\n",
              "    <tr>\n",
              "      <th>South Atlantic</th>\n",
              "      <th>South</th>\n",
              "      <td>9.0</td>\n",
              "      <td>6.659007e+06</td>\n",
              "      <td>5.765840e+06</td>\n",
              "      <td>605183.0</td>\n",
              "      <td>1854230.00</td>\n",
              "      <td>5788584.0</td>\n",
              "      <td>9558915.00</td>\n",
              "      <td>18849098.0</td>\n",
              "      <td>9.0</td>\n",
              "      <td>6.729908e+06</td>\n",
              "      <td>5.840393e+06</td>\n",
              "      <td>620477.0</td>\n",
              "      <td>1854972.00</td>\n",
              "      <td>5843603.0</td>\n",
              "      <td>9650963.00</td>\n",
              "      <td>19096952.0</td>\n",
              "      <td>9.0</td>\n",
              "      <td>6.801815e+06</td>\n",
              "      <td>5.914783e+06</td>\n",
              "      <td>635327.0</td>\n",
              "      <td>1856560.00</td>\n",
              "      <td>5889651.0</td>\n",
              "      <td>9746175.00</td>\n",
              "      <td>19344156.0</td>\n",
              "      <td>9.0</td>\n",
              "      <td>6.866451e+06</td>\n",
              "      <td>5.985123e+06</td>\n",
              "      <td>649165.0</td>\n",
              "      <td>1853231.00</td>\n",
              "      <td>5931129.0</td>\n",
              "      <td>9841590.00</td>\n",
              "      <td>19582022.0</td>\n",
              "      <td>9.0</td>\n",
              "      <td>6.940659e+06</td>\n",
              "      <td>6.075341e+06</td>\n",
              "      <td>659005.0</td>\n",
              "      <td>1848514.00</td>\n",
              "      <td>5967295.0</td>\n",
              "      <td>9934399.00</td>\n",
              "      <td>19888741.0</td>\n",
              "      <td>9.0</td>\n",
              "      <td>7.021379e+06</td>\n",
              "      <td>6.179981e+06</td>\n",
              "      <td>670377.0</td>\n",
              "      <td>1841053.00</td>\n",
              "      <td>5994983.0</td>\n",
              "      <td>10035186.00</td>\n",
              "      <td>20244914.0</td>\n",
              "      <td>9.0</td>\n",
              "      <td>7.102590e+06</td>\n",
              "      <td>6.288927e+06</td>\n",
              "      <td>681170.0</td>\n",
              "      <td>1831102.00</td>\n",
              "      <td>6016447.0</td>\n",
              "      <td>10146788.00</td>\n",
              "      <td>20612439.0</td>\n",
              "    </tr>\n",
              "    <tr>\n",
              "      <th>West North Central</th>\n",
              "      <th>Midwest</th>\n",
              "      <td>7.0</td>\n",
              "      <td>2.933965e+06</td>\n",
              "      <td>2.075859e+06</td>\n",
              "      <td>674526.0</td>\n",
              "      <td>1323188.00</td>\n",
              "      <td>2858850.0</td>\n",
              "      <td>4180942.50</td>\n",
              "      <td>5996118.0</td>\n",
              "      <td>7.0</td>\n",
              "      <td>2.949452e+06</td>\n",
              "      <td>2.082232e+06</td>\n",
              "      <td>685476.0</td>\n",
              "      <td>1333340.50</td>\n",
              "      <td>2869503.0</td>\n",
              "      <td>4206892.50</td>\n",
              "      <td>6010717.0</td>\n",
              "      <td>7.0</td>\n",
              "      <td>2.965646e+06</td>\n",
              "      <td>2.086026e+06</td>\n",
              "      <td>702087.0</td>\n",
              "      <td>1345083.00</td>\n",
              "      <td>2885262.0</td>\n",
              "      <td>4228297.50</td>\n",
              "      <td>6025415.0</td>\n",
              "      <td>7.0</td>\n",
              "      <td>2.983355e+06</td>\n",
              "      <td>2.090851e+06</td>\n",
              "      <td>724019.0</td>\n",
              "      <td>1356740.50</td>\n",
              "      <td>2892821.0</td>\n",
              "      <td>4255225.50</td>\n",
              "      <td>6042711.0</td>\n",
              "      <td>7.0</td>\n",
              "      <td>2.999291e+06</td>\n",
              "      <td>2.096831e+06</td>\n",
              "      <td>739904.0</td>\n",
              "      <td>1366853.00</td>\n",
              "      <td>2899360.0</td>\n",
              "      <td>4280569.50</td>\n",
              "      <td>6060930.0</td>\n",
              "      <td>7.0</td>\n",
              "      <td>3.013697e+06</td>\n",
              "      <td>2.101263e+06</td>\n",
              "      <td>756835.0</td>\n",
              "      <td>1375842.00</td>\n",
              "      <td>2906721.0</td>\n",
              "      <td>4302216.00</td>\n",
              "      <td>6076204.0</td>\n",
              "      <td>7.0</td>\n",
              "      <td>3.026494e+06</td>\n",
              "      <td>2.110138e+06</td>\n",
              "      <td>757952.0</td>\n",
              "      <td>1386285.00</td>\n",
              "      <td>2907289.0</td>\n",
              "      <td>4327322.50</td>\n",
              "      <td>6093000.0</td>\n",
              "    </tr>\n",
              "    <tr>\n",
              "      <th>West South Central</th>\n",
              "      <th>South</th>\n",
              "      <td>4.0</td>\n",
              "      <td>9.117726e+06</td>\n",
              "      <td>1.077146e+07</td>\n",
              "      <td>2921995.0</td>\n",
              "      <td>3550201.00</td>\n",
              "      <td>4152299.5</td>\n",
              "      <td>9719824.50</td>\n",
              "      <td>25244310.0</td>\n",
              "      <td>4.0</td>\n",
              "      <td>9.236890e+06</td>\n",
              "      <td>1.096004e+07</td>\n",
              "      <td>2939493.0</td>\n",
              "      <td>3574578.75</td>\n",
              "      <td>4180839.0</td>\n",
              "      <td>9843150.25</td>\n",
              "      <td>25646389.0</td>\n",
              "      <td>4.0</td>\n",
              "      <td>9.360706e+06</td>\n",
              "      <td>1.116106e+07</td>\n",
              "      <td>2950685.0</td>\n",
              "      <td>3600461.75</td>\n",
              "      <td>4210241.5</td>\n",
              "      <td>9970485.50</td>\n",
              "      <td>26071655.0</td>\n",
              "      <td>4.0</td>\n",
              "      <td>9.477751e+06</td>\n",
              "      <td>1.135099e+07</td>\n",
              "      <td>2958663.0</td>\n",
              "      <td>3628977.00</td>\n",
              "      <td>4239408.5</td>\n",
              "      <td>10088182.75</td>\n",
              "      <td>26473525.0</td>\n",
              "      <td>4.0</td>\n",
              "      <td>9.609260e+06</td>\n",
              "      <td>1.157740e+07</td>\n",
              "      <td>2966912.0</td>\n",
              "      <td>3649852.25</td>\n",
              "      <td>4262689.5</td>\n",
              "      <td>10222097.75</td>\n",
              "      <td>26944751.0</td>\n",
              "      <td>4.0</td>\n",
              "      <td>9.745966e+06</td>\n",
              "      <td>1.180938e+07</td>\n",
              "      <td>2977853.0</td>\n",
              "      <td>3675023.75</td>\n",
              "      <td>4288187.0</td>\n",
              "      <td>10359129.75</td>\n",
              "      <td>27429639.0</td>\n",
              "      <td>4.0</td>\n",
              "      <td>9.864018e+06</td>\n",
              "      <td>1.201902e+07</td>\n",
              "      <td>2988248.0</td>\n",
              "      <td>3689732.75</td>\n",
              "      <td>4302613.5</td>\n",
              "      <td>10476898.50</td>\n",
              "      <td>27862596.0</td>\n",
              "    </tr>\n",
              "  </tbody>\n",
              "</table>\n",
              "</div>"
            ],
            "text/plain": [
              "                              2010                ...         2016            \n",
              "                             count          mean  ...          75%         max\n",
              "division           region                         ...                         \n",
              "East North Central Midwest     5.0  9.288169e+06  ...  11614373.00  12801539.0\n",
              "East South Central South       4.0  4.615287e+06  ...   5310273.50   6651194.0\n",
              "Middle Atlantic    Northeast   3.0  1.363957e+07  ...  16264758.00  19745289.0\n",
              "Mountain           West        8.0  2.765811e+06  ...   3673549.00   6931071.0\n",
              "New England        Northeast   6.0  2.411557e+06  ...   3016037.75   6811779.0\n",
              "Pacific            West        5.0  9.998387e+06  ...   7288000.00  39250017.0\n",
              "South Atlantic     South       9.0  6.659007e+06  ...  10146788.00  20612439.0\n",
              "West North Central Midwest     7.0  2.933965e+06  ...   4327322.50   6093000.0\n",
              "West South Central South       4.0  9.117726e+06  ...  10476898.50  27862596.0\n",
              "\n",
              "[9 rows x 56 columns]"
            ]
          },
          "metadata": {
            "tags": []
          },
          "execution_count": 174
        }
      ]
    },
    {
      "cell_type": "code",
      "metadata": {
        "id": "kilsQep0tzpV",
        "colab_type": "code",
        "colab": {}
      },
      "source": [
        ""
      ],
      "execution_count": 0,
      "outputs": []
    }
  ]
}