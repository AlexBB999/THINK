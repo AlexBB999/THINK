{
  "nbformat": 4,
  "nbformat_minor": 0,
  "metadata": {
    "colab": {
      "name": "Beyond A/B-1.ipynb",
      "provenance": [],
      "collapsed_sections": [],
      "include_colab_link": true
    },
    "kernelspec": {
      "name": "python3",
      "display_name": "Python 3"
    }
  },
  "cells": [
    {
      "cell_type": "markdown",
      "metadata": {
        "id": "view-in-github",
        "colab_type": "text"
      },
      "source": [
        "<a href=\"https://colab.research.google.com/github/AlexBB999/THINK/blob/master/Beyond_A_B_1.ipynb\" target=\"_parent\"><img src=\"https://colab.research.google.com/assets/colab-badge.svg\" alt=\"Open In Colab\"/></a>"
      ]
    },
    {
      "cell_type": "markdown",
      "metadata": {
        "id": "iSEsyhuaF91y",
        "colab_type": "text"
      },
      "source": [
        "I CHECKED AGAINST TEXT ANSWER\n",
        "\n",
        "THEY USED DIFFERENT COUNTRIES SO NOT EASY TO COMPARE \n",
        "\n",
        "BUT PRETTY MUCH THE SAME ANALYSIS"
      ]
    },
    {
      "cell_type": "code",
      "metadata": {
        "id": "OFwN5XZsO7M-",
        "colab_type": "code",
        "colab": {}
      },
      "source": [
        "%matplotlib inline\n",
        "import pandas as pd\n",
        "import numpy as np\n",
        "import matplotlib.pyplot as plt\n",
        "from scipy import stats"
      ],
      "execution_count": 0,
      "outputs": []
    },
    {
      "cell_type": "code",
      "metadata": {
        "id": "KbeZiLjCGQpW",
        "colab_type": "code",
        "colab": {}
      },
      "source": [
        ""
      ],
      "execution_count": 0,
      "outputs": []
    },
    {
      "cell_type": "code",
      "metadata": {
        "id": "VGE3BVnZO8MJ",
        "colab_type": "code",
        "colab": {}
      },
      "source": [
        "ess=pd.read_csv('https://raw.githubusercontent.com/AlexBB999/Thinkful/master/ess_combined_2012_2014.csv')"
      ],
      "execution_count": 0,
      "outputs": []
    },
    {
      "cell_type": "code",
      "metadata": {
        "id": "tnoeWE1YQMlh",
        "colab_type": "code",
        "outputId": "c6b91ea6-7e29-4b0a-85ae-e229206ac9c8",
        "colab": {
          "base_uri": "https://localhost:8080/",
          "height": 357
        }
      },
      "source": [
        "ess.head(10)"
      ],
      "execution_count": 0,
      "outputs": [
        {
          "output_type": "execute_result",
          "data": {
            "text/html": [
              "<div>\n",
              "<style scoped>\n",
              "    .dataframe tbody tr th:only-of-type {\n",
              "        vertical-align: middle;\n",
              "    }\n",
              "\n",
              "    .dataframe tbody tr th {\n",
              "        vertical-align: top;\n",
              "    }\n",
              "\n",
              "    .dataframe thead th {\n",
              "        text-align: right;\n",
              "    }\n",
              "</style>\n",
              "<table border=\"1\" class=\"dataframe\">\n",
              "  <thead>\n",
              "    <tr style=\"text-align: right;\">\n",
              "      <th></th>\n",
              "      <th>cntry</th>\n",
              "      <th>idno</th>\n",
              "      <th>year</th>\n",
              "      <th>tvtot</th>\n",
              "      <th>ppltrst</th>\n",
              "      <th>pplfair</th>\n",
              "      <th>pplhlp</th>\n",
              "      <th>happy</th>\n",
              "      <th>sclmeet</th>\n",
              "      <th>sclact</th>\n",
              "      <th>gndr</th>\n",
              "      <th>agea</th>\n",
              "      <th>partner</th>\n",
              "    </tr>\n",
              "  </thead>\n",
              "  <tbody>\n",
              "    <tr>\n",
              "      <th>0</th>\n",
              "      <td>CH</td>\n",
              "      <td>5</td>\n",
              "      <td>6</td>\n",
              "      <td>3</td>\n",
              "      <td>3</td>\n",
              "      <td>10</td>\n",
              "      <td>5</td>\n",
              "      <td>8</td>\n",
              "      <td>5</td>\n",
              "      <td>4</td>\n",
              "      <td>2</td>\n",
              "      <td>60</td>\n",
              "      <td>1</td>\n",
              "    </tr>\n",
              "    <tr>\n",
              "      <th>1</th>\n",
              "      <td>CH</td>\n",
              "      <td>25</td>\n",
              "      <td>6</td>\n",
              "      <td>6</td>\n",
              "      <td>5</td>\n",
              "      <td>7</td>\n",
              "      <td>5</td>\n",
              "      <td>9</td>\n",
              "      <td>3</td>\n",
              "      <td>2</td>\n",
              "      <td>2</td>\n",
              "      <td>59</td>\n",
              "      <td>1</td>\n",
              "    </tr>\n",
              "    <tr>\n",
              "      <th>2</th>\n",
              "      <td>CH</td>\n",
              "      <td>26</td>\n",
              "      <td>6</td>\n",
              "      <td>1</td>\n",
              "      <td>8</td>\n",
              "      <td>8</td>\n",
              "      <td>8</td>\n",
              "      <td>7</td>\n",
              "      <td>6</td>\n",
              "      <td>3</td>\n",
              "      <td>1</td>\n",
              "      <td>24</td>\n",
              "      <td>2</td>\n",
              "    </tr>\n",
              "    <tr>\n",
              "      <th>3</th>\n",
              "      <td>CH</td>\n",
              "      <td>28</td>\n",
              "      <td>6</td>\n",
              "      <td>4</td>\n",
              "      <td>6</td>\n",
              "      <td>6</td>\n",
              "      <td>7</td>\n",
              "      <td>10</td>\n",
              "      <td>6</td>\n",
              "      <td>2</td>\n",
              "      <td>2</td>\n",
              "      <td>64</td>\n",
              "      <td>1</td>\n",
              "    </tr>\n",
              "    <tr>\n",
              "      <th>4</th>\n",
              "      <td>CH</td>\n",
              "      <td>29</td>\n",
              "      <td>6</td>\n",
              "      <td>5</td>\n",
              "      <td>6</td>\n",
              "      <td>7</td>\n",
              "      <td>5</td>\n",
              "      <td>8</td>\n",
              "      <td>7</td>\n",
              "      <td>2</td>\n",
              "      <td>2</td>\n",
              "      <td>55</td>\n",
              "      <td>1</td>\n",
              "    </tr>\n",
              "    <tr>\n",
              "      <th>5</th>\n",
              "      <td>CH</td>\n",
              "      <td>40</td>\n",
              "      <td>6</td>\n",
              "      <td>3</td>\n",
              "      <td>0</td>\n",
              "      <td>5</td>\n",
              "      <td>2</td>\n",
              "      <td>0</td>\n",
              "      <td>2</td>\n",
              "      <td>2</td>\n",
              "      <td>1</td>\n",
              "      <td>76</td>\n",
              "      <td>1</td>\n",
              "    </tr>\n",
              "    <tr>\n",
              "      <th>6</th>\n",
              "      <td>CH</td>\n",
              "      <td>41</td>\n",
              "      <td>6</td>\n",
              "      <td>2</td>\n",
              "      <td>4</td>\n",
              "      <td>5</td>\n",
              "      <td>3</td>\n",
              "      <td>10</td>\n",
              "      <td>5</td>\n",
              "      <td>2</td>\n",
              "      <td>2</td>\n",
              "      <td>30</td>\n",
              "      <td>1</td>\n",
              "    </tr>\n",
              "    <tr>\n",
              "      <th>7</th>\n",
              "      <td>CH</td>\n",
              "      <td>51</td>\n",
              "      <td>6</td>\n",
              "      <td>2</td>\n",
              "      <td>8</td>\n",
              "      <td>8</td>\n",
              "      <td>8</td>\n",
              "      <td>9</td>\n",
              "      <td>6</td>\n",
              "      <td>4</td>\n",
              "      <td>2</td>\n",
              "      <td>84</td>\n",
              "      <td>2</td>\n",
              "    </tr>\n",
              "    <tr>\n",
              "      <th>8</th>\n",
              "      <td>CH</td>\n",
              "      <td>53</td>\n",
              "      <td>6</td>\n",
              "      <td>4</td>\n",
              "      <td>4</td>\n",
              "      <td>4</td>\n",
              "      <td>8</td>\n",
              "      <td>7</td>\n",
              "      <td>4</td>\n",
              "      <td>2</td>\n",
              "      <td>2</td>\n",
              "      <td>62</td>\n",
              "      <td>1</td>\n",
              "    </tr>\n",
              "    <tr>\n",
              "      <th>9</th>\n",
              "      <td>CH</td>\n",
              "      <td>55</td>\n",
              "      <td>6</td>\n",
              "      <td>1</td>\n",
              "      <td>6</td>\n",
              "      <td>7</td>\n",
              "      <td>7</td>\n",
              "      <td>9</td>\n",
              "      <td>5</td>\n",
              "      <td>2</td>\n",
              "      <td>2</td>\n",
              "      <td>33</td>\n",
              "      <td>1</td>\n",
              "    </tr>\n",
              "  </tbody>\n",
              "</table>\n",
              "</div>"
            ],
            "text/plain": [
              "  cntry  idno  year  tvtot  ppltrst  ...  sclmeet  sclact  gndr  agea  partner\n",
              "0    CH     5     6      3        3  ...        5       4     2    60        1\n",
              "1    CH    25     6      6        5  ...        3       2     2    59        1\n",
              "2    CH    26     6      1        8  ...        6       3     1    24        2\n",
              "3    CH    28     6      4        6  ...        6       2     2    64        1\n",
              "4    CH    29     6      5        6  ...        7       2     2    55        1\n",
              "5    CH    40     6      3        0  ...        2       2     1    76        1\n",
              "6    CH    41     6      2        4  ...        5       2     2    30        1\n",
              "7    CH    51     6      2        8  ...        6       4     2    84        2\n",
              "8    CH    53     6      4        4  ...        4       2     2    62        1\n",
              "9    CH    55     6      1        6  ...        5       2     2    33        1\n",
              "\n",
              "[10 rows x 13 columns]"
            ]
          },
          "metadata": {
            "tags": []
          },
          "execution_count": 3
        }
      ]
    },
    {
      "cell_type": "code",
      "metadata": {
        "id": "BVdqnKHJQQHV",
        "colab_type": "code",
        "outputId": "280bcaf0-feb0-49a1-b37e-dc811ccf8cd0",
        "colab": {
          "base_uri": "https://localhost:8080/",
          "height": 34
        }
      },
      "source": [
        "ess.shape"
      ],
      "execution_count": 0,
      "outputs": [
        {
          "output_type": "execute_result",
          "data": {
            "text/plain": [
              "(8147, 13)"
            ]
          },
          "metadata": {
            "tags": []
          },
          "execution_count": 4
        }
      ]
    },
    {
      "cell_type": "code",
      "metadata": {
        "id": "NyxCFbBuQTGU",
        "colab_type": "code",
        "outputId": "7e1be183-813a-4342-88ba-8583df2eae4a",
        "colab": {
          "base_uri": "https://localhost:8080/",
          "height": 326
        }
      },
      "source": [
        "ess.info()"
      ],
      "execution_count": 0,
      "outputs": [
        {
          "output_type": "stream",
          "text": [
            "<class 'pandas.core.frame.DataFrame'>\n",
            "RangeIndex: 8147 entries, 0 to 8146\n",
            "Data columns (total 13 columns):\n",
            "cntry      8147 non-null object\n",
            "idno       8147 non-null int64\n",
            "year       8147 non-null int64\n",
            "tvtot      8147 non-null int64\n",
            "ppltrst    8147 non-null int64\n",
            "pplfair    8147 non-null int64\n",
            "pplhlp     8147 non-null int64\n",
            "happy      8147 non-null int64\n",
            "sclmeet    8147 non-null int64\n",
            "sclact     8147 non-null int64\n",
            "gndr       8147 non-null int64\n",
            "agea       8147 non-null int64\n",
            "partner    8147 non-null int64\n",
            "dtypes: int64(12), object(1)\n",
            "memory usage: 827.6+ KB\n"
          ],
          "name": "stdout"
        }
      ]
    },
    {
      "cell_type": "markdown",
      "metadata": {
        "id": "oT16YeSS-QeV",
        "colab_type": "text"
      },
      "source": [
        "1.\tDID PEOPLE BECOME LESS TRUSTING FROM 2012 TO 2014?"
      ]
    },
    {
      "cell_type": "markdown",
      "metadata": {
        "id": "gni2R2qi9RL9",
        "colab_type": "text"
      },
      "source": [
        "relevant columns:\n",
        "\n",
        "ppltrst: \n",
        "\n",
        " Most people can be trusted or you can't be too careful\n",
        "All rounds: Using this card, generally speaking, would you say that most people can be trusted, or that you can't be too careful in dealing with people? Please tell me on a score of 0 to 10, where 0 means you can't be too careful and 10 means that most people can be trusted.\n",
        "\n",
        "\n",
        "pplfair: '\n",
        "\n",
        " Most people try to take advantage of you, or try to be fair\n",
        "All rounds: Using this card, do you think that most people would try to take advantage of you if they got the chance, or would they try to be fair?\n",
        "\n",
        "\n",
        "pplhlp:\n",
        "\n",
        " Most of the time people helpful or mostly looking out for themselves\n",
        "All rounds: Would you say that most of the time people try to be helpful or that they are mostly looking out for themselves?"
      ]
    },
    {
      "cell_type": "code",
      "metadata": {
        "id": "RLUuup5k9La2",
        "colab_type": "code",
        "outputId": "c41b3752-82b9-4db0-fc91-def86e1fd8c8",
        "colab": {
          "base_uri": "https://localhost:8080/",
          "height": 336
        }
      },
      "source": [
        "plt.hist(ess['ppltrst'], alpha = .5,color='b')\n",
        "plt.hist(ess['pplfair'], alpha = .5)\n",
        "plt.hist(ess['pplhlp'], alpha = .5)\n",
        "#plt.hist(virginica['sepal_width'], alpha = .5)\n",
        "plt.show()\n",
        "\n",
        "print(stats.describe(ess['ppltrst']))\n",
        "print(stats.describe(ess['pplfair']))\n",
        "print(stats.describe(ess['pplhlp']))\n",
        "#print(stats.describe(virginica['sepal_width'])"
      ],
      "execution_count": 0,
      "outputs": [
        {
          "output_type": "display_data",
          "data": {
            "image/png": "[encoded data removed]",
            "text/plain": [
              "<Figure size 432x288 with 1 Axes>"
            ]
          },
          "metadata": {
            "tags": []
          }
        },
        {
          "output_type": "stream",
          "text": [
            "DescribeResult(nobs=8147, minmax=(0, 10), mean=5.57493555910151, variance=4.909526373823782, skewness=-0.5014227391108446, kurtosis=-0.18628323603565722)\n",
            "DescribeResult(nobs=8147, minmax=(0, 10), mean=6.005155271879219, variance=4.494940274807399, skewness=-0.6159880328754428, kurtosis=0.09112181100955796)\n",
            "DescribeResult(nobs=8147, minmax=(0, 10), mean=5.321468025039892, variance=4.692496346970357, skewness=-0.29324206776774125, kurtosis=-0.32131447053151163)\n"
          ],
          "name": "stdout"
        }
      ]
    },
    {
      "cell_type": "markdown",
      "metadata": {
        "id": "6ROFoftI_tsp",
        "colab_type": "text"
      },
      "source": [
        "all 3 seem to follow a normal distribution"
      ]
    },
    {
      "cell_type": "markdown",
      "metadata": {
        "id": "4aIqlu_yBmRg",
        "colab_type": "text"
      },
      "source": [
        "DIVIDE TABLE INTO TWO GROUPS BY YEAR"
      ]
    },
    {
      "cell_type": "code",
      "metadata": {
        "id": "QExRFpD1Bz6o",
        "colab_type": "code",
        "colab": {}
      },
      "source": [
        "ess2012=ess[ess['year']==6]\n",
        "ess2012.shape"
      ],
      "execution_count": 0,
      "outputs": []
    },
    {
      "cell_type": "code",
      "metadata": {
        "id": "l5je0K2JCHEH",
        "colab_type": "code",
        "outputId": "0556f3be-b6eb-4ff1-bced-ba487ab42d0f",
        "colab": {
          "base_uri": "https://localhost:8080/",
          "height": 34
        }
      },
      "source": [
        "ess2014=ess[ess['year']==7]\n",
        "ess2014.shape"
      ],
      "execution_count": 0,
      "outputs": [
        {
          "output_type": "execute_result",
          "data": {
            "text/plain": [
              "(4076, 13)"
            ]
          },
          "metadata": {
            "tags": []
          },
          "execution_count": 9
        }
      ]
    },
    {
      "cell_type": "code",
      "metadata": {
        "id": "8URxYiOLCd8z",
        "colab_type": "code",
        "outputId": "96f94c39-dd12-4d82-e3b8-58e14a6d73a7",
        "colab": {
          "base_uri": "https://localhost:8080/",
          "height": 88
        }
      },
      "source": [
        "print(stats.describe(ess2012['ppltrst']))\n",
        "print(stats.describe(ess2012['pplfair']))\n",
        "print(stats.describe(ess2012['pplhlp']))"
      ],
      "execution_count": 0,
      "outputs": [
        {
          "output_type": "stream",
          "text": [
            "DescribeResult(nobs=4071, minmax=(0, 10), mean=5.578481945467944, variance=4.893040545067073, skewness=-0.5431086926347095, kurtosis=-0.1210956960964813)\n",
            "DescribeResult(nobs=4071, minmax=(0, 10), mean=5.996069761729305, variance=4.487945237392548, skewness=-0.640264986726372, kurtosis=0.16318058394164314)\n",
            "DescribeResult(nobs=4071, minmax=(0, 10), mean=5.392778187177598, variance=4.675417120074452, skewness=-0.3033043673049985, kurtosis=-0.2575107918553905)\n"
          ],
          "name": "stdout"
        }
      ]
    },
    {
      "cell_type": "code",
      "metadata": {
        "id": "5qu8sfXkCoYM",
        "colab_type": "code",
        "outputId": "42066405-f828-4160-f0b5-2e3818751de8",
        "colab": {
          "base_uri": "https://localhost:8080/",
          "height": 88
        }
      },
      "source": [
        "print(stats.describe(ess2014['ppltrst']))\n",
        "print(stats.describe(ess2014['pplfair']))\n",
        "print(stats.describe(ess2014['pplhlp']))"
      ],
      "execution_count": 0,
      "outputs": [
        {
          "output_type": "stream",
          "text": [
            "DescribeResult(nobs=4076, minmax=(0, 10), mean=5.5713935230618254, variance=4.927171652708959, skewness=-0.4601859476512641, kurtosis=-0.25006786100787215)\n",
            "DescribeResult(nobs=4076, minmax=(0, 10), mean=6.0142296368989205, variance=4.502864952407329, skewness=-0.5919363234563058, kurtosis=0.018844935901231263)\n",
            "DescribeResult(nobs=4076, minmax=(0, 10), mean=5.250245338567223, variance=4.70055208703348, skewness=-0.28369322889564, kurtosis=-0.38352098897051246)\n"
          ],
          "name": "stdout"
        }
      ]
    },
    {
      "cell_type": "code",
      "metadata": {
        "id": "lLA57RALINDs",
        "colab_type": "code",
        "outputId": "b8f4fea1-da75-4a48-f3ed-45639ec4b5ff",
        "colab": {
          "base_uri": "https://localhost:8080/",
          "height": 471
        }
      },
      "source": [
        "# ppltrst  is normally distributed\n",
        "#Create a boxplot\n",
        "ess.boxplot('ppltrst', by='year', figsize=(10, 6))\n",
        "plt.xticks([1,2], ['2012', '2014'])\n",
        "\n",
        "# Sepal width is normally distributed\n",
        "#Create a boxplot\n",
        "#iri.boxplot('sepal_width', by='species', figsize=(10, 6)"
      ],
      "execution_count": 0,
      "outputs": [
        {
          "output_type": "execute_result",
          "data": {
            "text/plain": [
              "([<matplotlib.axis.XTick at 0x7f18cd8757f0>,\n",
              "  <matplotlib.axis.XTick at 0x7f18cd8d4c50>],\n",
              " <a list of 2 Text xticklabel objects>)"
            ]
          },
          "metadata": {
            "tags": []
          },
          "execution_count": 11
        },
        {
          "output_type": "display_data",
          "data": {
            "image/png": "[encoded data removed]",
            "text/plain": [
              "<Figure size 720x432 with 1 Axes>"
            ]
          },
          "metadata": {
            "tags": []
          }
        }
      ]
    },
    {
      "cell_type": "code",
      "metadata": {
        "id": "xjXoA-8IL5Vs",
        "colab_type": "code",
        "outputId": "23eaf64b-b156-4558-9ec4-41b8ce12fc50",
        "colab": {
          "base_uri": "https://localhost:8080/",
          "height": 34
        }
      },
      "source": [
        "#stats.ttest_ind(control_group['is_signed_up'],test_group['is_signed_up'])\n",
        "stats.ttest_ind(ess2012['ppltrst'],ess2014['ppltrst'])"
      ],
      "execution_count": 0,
      "outputs": [
        {
          "output_type": "execute_result",
          "data": {
            "text/plain": [
              "Ttest_indResult(statistic=0.1443685081969842, pvalue=0.8852130548889106)"
            ]
          },
          "metadata": {
            "tags": []
          },
          "execution_count": 12
        }
      ]
    },
    {
      "cell_type": "markdown",
      "metadata": {
        "id": "Nr6wLp3YM1NT",
        "colab_type": "text"
      },
      "source": [
        "pvalue=.88 so accept null -- no signifucant change in trust"
      ]
    },
    {
      "cell_type": "markdown",
      "metadata": {
        "id": "p_bqEGqZNVRR",
        "colab_type": "text"
      },
      "source": [
        "2.\tDID PEOPLE BECOME HAPPIER FROM 2012 TO 2014?"
      ]
    },
    {
      "cell_type": "code",
      "metadata": {
        "id": "EllVwgUTNYMa",
        "colab_type": "code",
        "outputId": "41da58e3-46af-4046-80c2-46e922b2fc35",
        "colab": {
          "base_uri": "https://localhost:8080/",
          "height": 34
        }
      },
      "source": [
        "stats.ttest_ind(ess2012['happy'],ess2014['happy'])"
      ],
      "execution_count": 0,
      "outputs": [
        {
          "output_type": "execute_result",
          "data": {
            "text/plain": [
              "Ttest_indResult(statistic=1.2074597686358974, pvalue=0.2272901912283969)"
            ]
          },
          "metadata": {
            "tags": []
          },
          "execution_count": 13
        }
      ]
    },
    {
      "cell_type": "markdown",
      "metadata": {
        "id": "uAFVWqMlQUdT",
        "colab_type": "text"
      },
      "source": [
        "pvlaue=.22 so accept null"
      ]
    },
    {
      "cell_type": "code",
      "metadata": {
        "colab_type": "code",
        "outputId": "efbd8547-cf4d-401a-d336-c6c15a5abbb0",
        "id": "Qm3PDiYYPtVO",
        "colab": {
          "base_uri": "https://localhost:8080/",
          "height": 71
        }
      },
      "source": [
        "print(stats.describe(ess2012['happy']))\n",
        "print(stats.describe(ess2014['happy']))\n"
      ],
      "execution_count": 0,
      "outputs": [
        {
          "output_type": "stream",
          "text": [
            "DescribeResult(nobs=4071, minmax=(0, 10), mean=7.731515598133137, variance=3.0819524689826823, skewness=-1.1505518232802756, kurtosis=1.9055890346061979)\n",
            "DescribeResult(nobs=4076, minmax=(0, 10), mean=7.6854759568204125, variance=2.840436853164115, skewness=-1.0296465664009635, kurtosis=1.5218046596567287)\n"
          ],
          "name": "stdout"
        }
      ]
    },
    {
      "cell_type": "code",
      "metadata": {
        "id": "M__RIBQYQIiq",
        "colab_type": "code",
        "outputId": "feaebc3a-7e82-421d-bdc0-5dcd4144c997",
        "colab": {
          "base_uri": "https://localhost:8080/",
          "height": 265
        }
      },
      "source": [
        "plt.hist(ess2012['happy'], alpha = .5,color='b')\n",
        "plt.hist(ess2014['happy'], alpha = .5)\n",
        "\n",
        "plt.show()"
      ],
      "execution_count": 0,
      "outputs": [
        {
          "output_type": "display_data",
          "data": {
            "image/png": "[encoded data removed]",
            "text/plain": [
              "<Figure size 432x288 with 1 Axes>"
            ]
          },
          "metadata": {
            "tags": []
          }
        }
      ]
    },
    {
      "cell_type": "markdown",
      "metadata": {
        "id": "-yoPxr3lcnJT",
        "colab_type": "text"
      },
      "source": [
        "3 - PICK THREE OR FOUR OF THE COUNTRIES IN THE SAMPLE AND COMPARE HOW OFTEN PEOPLE MET SOCIALLY IN 2014.\n",
        "\n",
        "ARE THERE DIFFERENCES,\n",
        "\n",
        "AND IF SO, WHICH COUNTRIES STAND OUT?"
      ]
    },
    {
      "cell_type": "code",
      "metadata": {
        "id": "mD1O-ECbco8M",
        "colab_type": "code",
        "outputId": "0d4f3fe1-472d-439e-a376-09d1c14abf62",
        "colab": {
          "base_uri": "https://localhost:8080/",
          "height": 264
        }
      },
      "source": [
        "ess.groupby(['cntry']).count()"
      ],
      "execution_count": 0,
      "outputs": [
        {
          "output_type": "execute_result",
          "data": {
            "text/html": [
              "<div>\n",
              "<style scoped>\n",
              "    .dataframe tbody tr th:only-of-type {\n",
              "        vertical-align: middle;\n",
              "    }\n",
              "\n",
              "    .dataframe tbody tr th {\n",
              "        vertical-align: top;\n",
              "    }\n",
              "\n",
              "    .dataframe thead th {\n",
              "        text-align: right;\n",
              "    }\n",
              "</style>\n",
              "<table border=\"1\" class=\"dataframe\">\n",
              "  <thead>\n",
              "    <tr style=\"text-align: right;\">\n",
              "      <th></th>\n",
              "      <th>idno</th>\n",
              "      <th>year</th>\n",
              "      <th>tvtot</th>\n",
              "      <th>ppltrst</th>\n",
              "      <th>pplfair</th>\n",
              "      <th>pplhlp</th>\n",
              "      <th>happy</th>\n",
              "      <th>sclmeet</th>\n",
              "      <th>sclact</th>\n",
              "      <th>gndr</th>\n",
              "      <th>agea</th>\n",
              "      <th>partner</th>\n",
              "    </tr>\n",
              "    <tr>\n",
              "      <th>cntry</th>\n",
              "      <th></th>\n",
              "      <th></th>\n",
              "      <th></th>\n",
              "      <th></th>\n",
              "      <th></th>\n",
              "      <th></th>\n",
              "      <th></th>\n",
              "      <th></th>\n",
              "      <th></th>\n",
              "      <th></th>\n",
              "      <th></th>\n",
              "      <th></th>\n",
              "    </tr>\n",
              "  </thead>\n",
              "  <tbody>\n",
              "    <tr>\n",
              "      <th>CH</th>\n",
              "      <td>1475</td>\n",
              "      <td>1475</td>\n",
              "      <td>1475</td>\n",
              "      <td>1475</td>\n",
              "      <td>1475</td>\n",
              "      <td>1475</td>\n",
              "      <td>1475</td>\n",
              "      <td>1475</td>\n",
              "      <td>1475</td>\n",
              "      <td>1475</td>\n",
              "      <td>1475</td>\n",
              "      <td>1475</td>\n",
              "    </tr>\n",
              "    <tr>\n",
              "      <th>CZ</th>\n",
              "      <td>1207</td>\n",
              "      <td>1207</td>\n",
              "      <td>1207</td>\n",
              "      <td>1207</td>\n",
              "      <td>1207</td>\n",
              "      <td>1207</td>\n",
              "      <td>1207</td>\n",
              "      <td>1207</td>\n",
              "      <td>1207</td>\n",
              "      <td>1207</td>\n",
              "      <td>1207</td>\n",
              "      <td>1207</td>\n",
              "    </tr>\n",
              "    <tr>\n",
              "      <th>DE</th>\n",
              "      <td>27</td>\n",
              "      <td>27</td>\n",
              "      <td>27</td>\n",
              "      <td>27</td>\n",
              "      <td>27</td>\n",
              "      <td>27</td>\n",
              "      <td>27</td>\n",
              "      <td>27</td>\n",
              "      <td>27</td>\n",
              "      <td>27</td>\n",
              "      <td>27</td>\n",
              "      <td>27</td>\n",
              "    </tr>\n",
              "    <tr>\n",
              "      <th>ES</th>\n",
              "      <td>2292</td>\n",
              "      <td>2292</td>\n",
              "      <td>2292</td>\n",
              "      <td>2292</td>\n",
              "      <td>2292</td>\n",
              "      <td>2292</td>\n",
              "      <td>2292</td>\n",
              "      <td>2292</td>\n",
              "      <td>2292</td>\n",
              "      <td>2292</td>\n",
              "      <td>2292</td>\n",
              "      <td>2292</td>\n",
              "    </tr>\n",
              "    <tr>\n",
              "      <th>NO</th>\n",
              "      <td>1420</td>\n",
              "      <td>1420</td>\n",
              "      <td>1420</td>\n",
              "      <td>1420</td>\n",
              "      <td>1420</td>\n",
              "      <td>1420</td>\n",
              "      <td>1420</td>\n",
              "      <td>1420</td>\n",
              "      <td>1420</td>\n",
              "      <td>1420</td>\n",
              "      <td>1420</td>\n",
              "      <td>1420</td>\n",
              "    </tr>\n",
              "    <tr>\n",
              "      <th>SE</th>\n",
              "      <td>1726</td>\n",
              "      <td>1726</td>\n",
              "      <td>1726</td>\n",
              "      <td>1726</td>\n",
              "      <td>1726</td>\n",
              "      <td>1726</td>\n",
              "      <td>1726</td>\n",
              "      <td>1726</td>\n",
              "      <td>1726</td>\n",
              "      <td>1726</td>\n",
              "      <td>1726</td>\n",
              "      <td>1726</td>\n",
              "    </tr>\n",
              "  </tbody>\n",
              "</table>\n",
              "</div>"
            ],
            "text/plain": [
              "       idno  year  tvtot  ppltrst  ...  sclact  gndr  agea  partner\n",
              "cntry                              ...                             \n",
              "CH     1475  1475   1475     1475  ...    1475  1475  1475     1475\n",
              "CZ     1207  1207   1207     1207  ...    1207  1207  1207     1207\n",
              "DE       27    27     27       27  ...      27    27    27       27\n",
              "ES     2292  2292   2292     2292  ...    2292  2292  2292     2292\n",
              "NO     1420  1420   1420     1420  ...    1420  1420  1420     1420\n",
              "SE     1726  1726   1726     1726  ...    1726  1726  1726     1726\n",
              "\n",
              "[6 rows x 12 columns]"
            ]
          },
          "metadata": {
            "tags": []
          },
          "execution_count": 16
        }
      ]
    },
    {
      "cell_type": "code",
      "metadata": {
        "id": "wcmrjkaxFfCL",
        "colab_type": "code",
        "outputId": "1cdbdba8-f3db-4629-f671-8907516f164d",
        "colab": {
          "base_uri": "https://localhost:8080/",
          "height": 137
        }
      },
      "source": [
        "ess.cntry.value_counts()"
      ],
      "execution_count": 0,
      "outputs": [
        {
          "output_type": "execute_result",
          "data": {
            "text/plain": [
              "ES    2292\n",
              "SE    1726\n",
              "CH    1475\n",
              "NO    1420\n",
              "CZ    1207\n",
              "DE      27\n",
              "Name: cntry, dtype: int64"
            ]
          },
          "metadata": {
            "tags": []
          },
          "execution_count": 17
        }
      ]
    },
    {
      "cell_type": "code",
      "metadata": {
        "id": "eSST05kSfjmq",
        "colab_type": "code",
        "outputId": "e23d0dd5-8615-46c1-89e4-ab700444aef7",
        "colab": {
          "base_uri": "https://localhost:8080/",
          "height": 34
        }
      },
      "source": [
        "ess[ess['cntry']=='DE'].sclmeet.mean()"
      ],
      "execution_count": 0,
      "outputs": [
        {
          "output_type": "execute_result",
          "data": {
            "text/plain": [
              "4.666666666666667"
            ]
          },
          "metadata": {
            "tags": []
          },
          "execution_count": 18
        }
      ]
    },
    {
      "cell_type": "code",
      "metadata": {
        "id": "S6tIfATaHo-D",
        "colab_type": "code",
        "outputId": "9fbb52f7-a736-4f7f-e2ae-88063a5d6990",
        "colab": {
          "base_uri": "https://localhost:8080/",
          "height": 34
        }
      },
      "source": [
        "ess[ess['cntry']=='CH'].sclmeet.mean()"
      ],
      "execution_count": 0,
      "outputs": [
        {
          "output_type": "execute_result",
          "data": {
            "text/plain": [
              "5.149830508474576"
            ]
          },
          "metadata": {
            "tags": []
          },
          "execution_count": 19
        }
      ]
    },
    {
      "cell_type": "code",
      "metadata": {
        "id": "sqyFT2fIH1sR",
        "colab_type": "code",
        "outputId": "03f00b45-0dc2-434c-b41f-5804af5be3cb",
        "colab": {
          "base_uri": "https://localhost:8080/",
          "height": 154
        }
      },
      "source": [
        "ess.groupby('cntry').sclmeet.mean()"
      ],
      "execution_count": 0,
      "outputs": [
        {
          "output_type": "execute_result",
          "data": {
            "text/plain": [
              "cntry\n",
              "CH    5.149831\n",
              "CZ    4.613090\n",
              "DE    4.666667\n",
              "ES    5.242583\n",
              "NO    5.436620\n",
              "SE    5.485516\n",
              "Name: sclmeet, dtype: float64"
            ]
          },
          "metadata": {
            "tags": []
          },
          "execution_count": 20
        }
      ]
    },
    {
      "cell_type": "markdown",
      "metadata": {
        "id": "BTssSvumIlzy",
        "colab_type": "text"
      },
      "source": [
        "lets pick China, Denmark, Norway and check for normality of scheduled meetings"
      ]
    },
    {
      "cell_type": "code",
      "metadata": {
        "id": "w3gRRpZ7IlgN",
        "colab_type": "code",
        "colab": {}
      },
      "source": [
        "#plt.hist(ess[ess['cntry'==\"DE\"]['schmeet']], alpha = .5,color='b')"
      ],
      "execution_count": 0,
      "outputs": []
    },
    {
      "cell_type": "code",
      "metadata": {
        "id": "1v88ggncKZtz",
        "colab_type": "code",
        "colab": {}
      },
      "source": [
        "ch=ess[ess['cntry']=='CH']\n",
        "de=ess[ess['cntry']=='DE']\n",
        "no=ess[ess['cntry']=='NO']"
      ],
      "execution_count": 0,
      "outputs": []
    },
    {
      "cell_type": "code",
      "metadata": {
        "id": "uGUASIHwM0NX",
        "colab_type": "code",
        "colab": {}
      },
      "source": [
        "#ch.sclmeet"
      ],
      "execution_count": 0,
      "outputs": []
    },
    {
      "cell_type": "code",
      "metadata": {
        "id": "_JPli7QRNOOB",
        "colab_type": "code",
        "outputId": "1fc6c71d-ab02-434c-d9e7-15fe0865b8d1",
        "colab": {
          "base_uri": "https://localhost:8080/",
          "height": 320
        }
      },
      "source": [
        "plt.hist(ch.sclmeet, alpha = .5,color='b')\n",
        "plt.hist(de.sclmeet, alpha = .5,color='r')\n",
        "plt.hist(no.sclmeet, alpha = .5,color='y')"
      ],
      "execution_count": 0,
      "outputs": [
        {
          "output_type": "execute_result",
          "data": {
            "text/plain": [
              "(array([  6.,  32.,   0.,  76.,   0., 266., 184.,   0., 554., 302.]),\n",
              " array([1. , 1.6, 2.2, 2.8, 3.4, 4. , 4.6, 5.2, 5.8, 6.4, 7. ]),\n",
              " <a list of 10 Patch objects>)"
            ]
          },
          "metadata": {
            "tags": []
          },
          "execution_count": 23
        },
        {
          "output_type": "display_data",
          "data": {
            "image/png": "[encoded data removed]",
            "text/plain": [
              "<Figure size 432x288 with 1 Axes>"
            ]
          },
          "metadata": {
            "tags": []
          }
        }
      ]
    },
    {
      "cell_type": "code",
      "metadata": {
        "id": "c91ga-oeOGkr",
        "colab_type": "code",
        "outputId": "45c2fd9f-465c-4518-b298-a93a2d37c821",
        "colab": {
          "base_uri": "https://localhost:8080/",
          "height": 123
        }
      },
      "source": [
        "print(stats.describe(ch.sclmeet))\n",
        "print(' ')\n",
        "print(stats.describe(de.sclmeet))\n",
        "print(' ')\n",
        "print(stats.describe(no.sclmeet))\n"
      ],
      "execution_count": 0,
      "outputs": [
        {
          "output_type": "stream",
          "text": [
            "DescribeResult(nobs=1475, minmax=(1, 7), mean=5.149830508474576, variance=1.721768967182577, skewness=-0.6923180814068393, kurtosis=-0.11779963915157321)\n",
            " \n",
            "DescribeResult(nobs=27, minmax=(3, 6), mean=4.666666666666667, variance=0.8461538461538463, skewness=0.1007112198921804, kurtosis=-0.9545454545454555)\n",
            " \n",
            "DescribeResult(nobs=1420, minmax=(1, 7), mean=5.436619718309859, variance=1.7232528362564392, skewness=-0.7707334041246922, kurtosis=-0.03939822373927404)\n"
          ],
          "name": "stdout"
        }
      ]
    },
    {
      "cell_type": "code",
      "metadata": {
        "id": "Crpdc0fWQn6K",
        "colab_type": "code",
        "outputId": "f49f2336-54fa-4be1-936f-b15fd352c7ac",
        "colab": {
          "base_uri": "https://localhost:8080/",
          "height": 34
        }
      },
      "source": [
        "stats.f_oneway(ch.sclmeet, de.sclmeet, no.sclmeet)"
      ],
      "execution_count": 0,
      "outputs": [
        {
          "output_type": "execute_result",
          "data": {
            "text/plain": [
              "F_onewayResult(statistic=20.387350250434462, pvalue=1.6112268606310804e-09)"
            ]
          },
          "metadata": {
            "tags": []
          },
          "execution_count": 25
        }
      ]
    },
    {
      "cell_type": "markdown",
      "metadata": {
        "id": "Q2JNrl9oS_bs",
        "colab_type": "text"
      },
      "source": [
        "TUKEY"
      ]
    },
    {
      "cell_type": "code",
      "metadata": {
        "id": "f_SbK3AvUPDt",
        "colab_type": "code",
        "colab": {}
      },
      "source": [
        "#chdeno=ess[ess['cntry']==['CH','DE','NO']]\n",
        "#chdeno=ess[ess['cntry']==('CH','DE','NO')]\n",
        "##de=ess[ess['cntry']=='DE']\n",
        "#no=ess[ess['cntry']=='NO']\n",
        "#ess.loc[(ess.cntry=='CH) | (ess.cntry=='DE')|(ess.cntry=='NO')]\n",
        "triple=ess.loc[(ess.cntry=='CH')|(ess.cntry=='DE')|(ess.cntry=='NO')]"
      ],
      "execution_count": 0,
      "outputs": []
    },
    {
      "cell_type": "code",
      "metadata": {
        "id": "wjiz2AZGU44d",
        "colab_type": "code",
        "colab": {}
      },
      "source": [
        "#chdeno.shape"
      ],
      "execution_count": 0,
      "outputs": []
    },
    {
      "cell_type": "code",
      "metadata": {
        "id": "KB5eEJypTiQI",
        "colab_type": "code",
        "colab": {}
      },
      "source": [
        "from statsmodels.stats.multicomp import pairwise_tukeyhsd"
      ],
      "execution_count": 0,
      "outputs": []
    },
    {
      "cell_type": "code",
      "metadata": {
        "id": "xzl9a3olTftC",
        "colab_type": "code",
        "colab": {}
      },
      "source": [
        "tukey = pairwise_tukeyhsd(endog = triple['sclmeet'],      # Data\n",
        "                          groups = triple['cntry'],   # Groups\n",
        "                          alpha=0.05)         # S"
      ],
      "execution_count": 0,
      "outputs": []
    },
    {
      "cell_type": "code",
      "metadata": {
        "id": "Xg--5Dn0T7nM",
        "colab_type": "code",
        "outputId": "738653a0-7ba2-43f9-f40a-73d376773e2f",
        "colab": {
          "base_uri": "https://localhost:8080/",
          "height": 133
        }
      },
      "source": [
        "tukey.summary()"
      ],
      "execution_count": 0,
      "outputs": [
        {
          "output_type": "execute_result",
          "data": {
            "text/html": [
              "<table class=\"simpletable\">\n",
              "<caption>Multiple Comparison of Means - Tukey HSD, FWER=0.05</caption>\n",
              "<tr>\n",
              "  <th>group1</th> <th>group2</th> <th>meandiff</th>  <th>p-adj</th>  <th>lower</th>   <th>upper</th> <th>reject</th>\n",
              "</tr>\n",
              "<tr>\n",
              "    <td>CH</td>     <td>DE</td>    <td>-0.4832</td> <td>0.1389</td> <td>-1.0795</td> <td>0.1132</td>  <td>False</td>\n",
              "</tr>\n",
              "<tr>\n",
              "    <td>CH</td>     <td>NO</td>    <td>0.2868</td>   <td>0.001</td> <td>0.1726</td>  <td>0.4009</td>  <td>True</td> \n",
              "</tr>\n",
              "<tr>\n",
              "    <td>DE</td>     <td>NO</td>     <td>0.77</td>    <td>0.007</td> <td>0.1734</td>  <td>1.3665</td>  <td>True</td> \n",
              "</tr>\n",
              "</table>"
            ],
            "text/plain": [
              "<class 'statsmodels.iolib.table.SimpleTable'>"
            ]
          },
          "metadata": {
            "tags": []
          },
          "execution_count": 32
        }
      ]
    },
    {
      "cell_type": "markdown",
      "metadata": {
        "id": "RiyDYbIquTuT",
        "colab_type": "text"
      },
      "source": [
        "DENMARK IS THE ODD COUNTRY"
      ]
    },
    {
      "cell_type": "markdown",
      "metadata": {
        "id": "lZ8doS370Nkk",
        "colab_type": "text"
      },
      "source": [
        "4 - Pick three or four of the countries in the sample and compare how often people took part in social activities, relative to others their age, in 2014. \n",
        "\n",
        "Are there differences, and if so, which countries stand out?"
      ]
    },
    {
      "cell_type": "code",
      "metadata": {
        "id": "DmNzyMsR0vLO",
        "colab_type": "code",
        "colab": {}
      },
      "source": [
        "#de.groupby('agea')['sclact'].sum()"
      ],
      "execution_count": 0,
      "outputs": []
    },
    {
      "cell_type": "code",
      "metadata": {
        "id": "JOnZjiOw4pIs",
        "colab_type": "code",
        "outputId": "fb54556d-9e01-4614-9c84-0ce55c3268c5",
        "colab": {
          "base_uri": "https://localhost:8080/",
          "height": 882
        }
      },
      "source": [
        "de.sort_values(by=['agea'])"
      ],
      "execution_count": 0,
      "outputs": [
        {
          "output_type": "execute_result",
          "data": {
            "text/html": [
              "<div>\n",
              "<style scoped>\n",
              "    .dataframe tbody tr th:only-of-type {\n",
              "        vertical-align: middle;\n",
              "    }\n",
              "\n",
              "    .dataframe tbody tr th {\n",
              "        vertical-align: top;\n",
              "    }\n",
              "\n",
              "    .dataframe thead th {\n",
              "        text-align: right;\n",
              "    }\n",
              "</style>\n",
              "<table border=\"1\" class=\"dataframe\">\n",
              "  <thead>\n",
              "    <tr style=\"text-align: right;\">\n",
              "      <th></th>\n",
              "      <th>cntry</th>\n",
              "      <th>idno</th>\n",
              "      <th>year</th>\n",
              "      <th>tvtot</th>\n",
              "      <th>ppltrst</th>\n",
              "      <th>pplfair</th>\n",
              "      <th>pplhlp</th>\n",
              "      <th>happy</th>\n",
              "      <th>sclmeet</th>\n",
              "      <th>sclact</th>\n",
              "      <th>gndr</th>\n",
              "      <th>agea</th>\n",
              "      <th>partner</th>\n",
              "    </tr>\n",
              "  </thead>\n",
              "  <tbody>\n",
              "    <tr>\n",
              "      <th>2694</th>\n",
              "      <td>DE</td>\n",
              "      <td>11001431</td>\n",
              "      <td>6</td>\n",
              "      <td>7</td>\n",
              "      <td>5</td>\n",
              "      <td>7</td>\n",
              "      <td>5</td>\n",
              "      <td>10</td>\n",
              "      <td>6</td>\n",
              "      <td>3</td>\n",
              "      <td>2</td>\n",
              "      <td>26</td>\n",
              "      <td>1</td>\n",
              "    </tr>\n",
              "    <tr>\n",
              "      <th>2690</th>\n",
              "      <td>DE</td>\n",
              "      <td>11000421</td>\n",
              "      <td>6</td>\n",
              "      <td>1</td>\n",
              "      <td>7</td>\n",
              "      <td>7</td>\n",
              "      <td>4</td>\n",
              "      <td>8</td>\n",
              "      <td>5</td>\n",
              "      <td>3</td>\n",
              "      <td>1</td>\n",
              "      <td>33</td>\n",
              "      <td>1</td>\n",
              "    </tr>\n",
              "    <tr>\n",
              "      <th>2686</th>\n",
              "      <td>DE</td>\n",
              "      <td>11000181</td>\n",
              "      <td>6</td>\n",
              "      <td>2</td>\n",
              "      <td>5</td>\n",
              "      <td>5</td>\n",
              "      <td>5</td>\n",
              "      <td>8</td>\n",
              "      <td>6</td>\n",
              "      <td>3</td>\n",
              "      <td>2</td>\n",
              "      <td>34</td>\n",
              "      <td>2</td>\n",
              "    </tr>\n",
              "    <tr>\n",
              "      <th>2703</th>\n",
              "      <td>DE</td>\n",
              "      <td>11000341</td>\n",
              "      <td>7</td>\n",
              "      <td>2</td>\n",
              "      <td>6</td>\n",
              "      <td>6</td>\n",
              "      <td>4</td>\n",
              "      <td>8</td>\n",
              "      <td>3</td>\n",
              "      <td>3</td>\n",
              "      <td>2</td>\n",
              "      <td>36</td>\n",
              "      <td>1</td>\n",
              "    </tr>\n",
              "    <tr>\n",
              "      <th>2700</th>\n",
              "      <td>DE</td>\n",
              "      <td>11000181</td>\n",
              "      <td>7</td>\n",
              "      <td>2</td>\n",
              "      <td>2</td>\n",
              "      <td>2</td>\n",
              "      <td>2</td>\n",
              "      <td>8</td>\n",
              "      <td>5</td>\n",
              "      <td>3</td>\n",
              "      <td>1</td>\n",
              "      <td>41</td>\n",
              "      <td>1</td>\n",
              "    </tr>\n",
              "    <tr>\n",
              "      <th>2695</th>\n",
              "      <td>DE</td>\n",
              "      <td>11000031</td>\n",
              "      <td>7</td>\n",
              "      <td>1</td>\n",
              "      <td>2</td>\n",
              "      <td>5</td>\n",
              "      <td>3</td>\n",
              "      <td>8</td>\n",
              "      <td>4</td>\n",
              "      <td>4</td>\n",
              "      <td>2</td>\n",
              "      <td>49</td>\n",
              "      <td>1</td>\n",
              "    </tr>\n",
              "    <tr>\n",
              "      <th>2707</th>\n",
              "      <td>DE</td>\n",
              "      <td>11001401</td>\n",
              "      <td>7</td>\n",
              "      <td>1</td>\n",
              "      <td>3</td>\n",
              "      <td>5</td>\n",
              "      <td>8</td>\n",
              "      <td>6</td>\n",
              "      <td>4</td>\n",
              "      <td>2</td>\n",
              "      <td>2</td>\n",
              "      <td>49</td>\n",
              "      <td>1</td>\n",
              "    </tr>\n",
              "    <tr>\n",
              "      <th>2684</th>\n",
              "      <td>DE</td>\n",
              "      <td>11000071</td>\n",
              "      <td>6</td>\n",
              "      <td>4</td>\n",
              "      <td>5</td>\n",
              "      <td>6</td>\n",
              "      <td>5</td>\n",
              "      <td>6</td>\n",
              "      <td>4</td>\n",
              "      <td>2</td>\n",
              "      <td>1</td>\n",
              "      <td>50</td>\n",
              "      <td>2</td>\n",
              "    </tr>\n",
              "    <tr>\n",
              "      <th>2682</th>\n",
              "      <td>DE</td>\n",
              "      <td>11000031</td>\n",
              "      <td>6</td>\n",
              "      <td>2</td>\n",
              "      <td>3</td>\n",
              "      <td>8</td>\n",
              "      <td>8</td>\n",
              "      <td>8</td>\n",
              "      <td>4</td>\n",
              "      <td>3</td>\n",
              "      <td>2</td>\n",
              "      <td>51</td>\n",
              "      <td>1</td>\n",
              "    </tr>\n",
              "    <tr>\n",
              "      <th>2697</th>\n",
              "      <td>DE</td>\n",
              "      <td>11000071</td>\n",
              "      <td>7</td>\n",
              "      <td>4</td>\n",
              "      <td>7</td>\n",
              "      <td>6</td>\n",
              "      <td>6</td>\n",
              "      <td>9</td>\n",
              "      <td>6</td>\n",
              "      <td>3</td>\n",
              "      <td>1</td>\n",
              "      <td>52</td>\n",
              "      <td>1</td>\n",
              "    </tr>\n",
              "    <tr>\n",
              "      <th>2693</th>\n",
              "      <td>DE</td>\n",
              "      <td>11001401</td>\n",
              "      <td>6</td>\n",
              "      <td>7</td>\n",
              "      <td>5</td>\n",
              "      <td>5</td>\n",
              "      <td>2</td>\n",
              "      <td>4</td>\n",
              "      <td>6</td>\n",
              "      <td>1</td>\n",
              "      <td>1</td>\n",
              "      <td>53</td>\n",
              "      <td>2</td>\n",
              "    </tr>\n",
              "    <tr>\n",
              "      <th>2702</th>\n",
              "      <td>DE</td>\n",
              "      <td>11000291</td>\n",
              "      <td>7</td>\n",
              "      <td>0</td>\n",
              "      <td>10</td>\n",
              "      <td>10</td>\n",
              "      <td>7</td>\n",
              "      <td>8</td>\n",
              "      <td>5</td>\n",
              "      <td>3</td>\n",
              "      <td>1</td>\n",
              "      <td>54</td>\n",
              "      <td>1</td>\n",
              "    </tr>\n",
              "    <tr>\n",
              "      <th>2687</th>\n",
              "      <td>DE</td>\n",
              "      <td>11000251</td>\n",
              "      <td>6</td>\n",
              "      <td>7</td>\n",
              "      <td>5</td>\n",
              "      <td>3</td>\n",
              "      <td>8</td>\n",
              "      <td>8</td>\n",
              "      <td>4</td>\n",
              "      <td>4</td>\n",
              "      <td>2</td>\n",
              "      <td>55</td>\n",
              "      <td>2</td>\n",
              "    </tr>\n",
              "    <tr>\n",
              "      <th>2704</th>\n",
              "      <td>DE</td>\n",
              "      <td>11000421</td>\n",
              "      <td>7</td>\n",
              "      <td>4</td>\n",
              "      <td>5</td>\n",
              "      <td>7</td>\n",
              "      <td>5</td>\n",
              "      <td>5</td>\n",
              "      <td>5</td>\n",
              "      <td>3</td>\n",
              "      <td>2</td>\n",
              "      <td>56</td>\n",
              "      <td>1</td>\n",
              "    </tr>\n",
              "    <tr>\n",
              "      <th>2696</th>\n",
              "      <td>DE</td>\n",
              "      <td>11000041</td>\n",
              "      <td>7</td>\n",
              "      <td>2</td>\n",
              "      <td>6</td>\n",
              "      <td>7</td>\n",
              "      <td>5</td>\n",
              "      <td>7</td>\n",
              "      <td>4</td>\n",
              "      <td>2</td>\n",
              "      <td>1</td>\n",
              "      <td>57</td>\n",
              "      <td>1</td>\n",
              "    </tr>\n",
              "    <tr>\n",
              "      <th>2692</th>\n",
              "      <td>DE</td>\n",
              "      <td>11001031</td>\n",
              "      <td>6</td>\n",
              "      <td>4</td>\n",
              "      <td>5</td>\n",
              "      <td>8</td>\n",
              "      <td>3</td>\n",
              "      <td>8</td>\n",
              "      <td>6</td>\n",
              "      <td>5</td>\n",
              "      <td>2</td>\n",
              "      <td>59</td>\n",
              "      <td>1</td>\n",
              "    </tr>\n",
              "    <tr>\n",
              "      <th>2688</th>\n",
              "      <td>DE</td>\n",
              "      <td>11000291</td>\n",
              "      <td>6</td>\n",
              "      <td>6</td>\n",
              "      <td>4</td>\n",
              "      <td>3</td>\n",
              "      <td>6</td>\n",
              "      <td>6</td>\n",
              "      <td>6</td>\n",
              "      <td>4</td>\n",
              "      <td>2</td>\n",
              "      <td>59</td>\n",
              "      <td>2</td>\n",
              "    </tr>\n",
              "    <tr>\n",
              "      <th>2691</th>\n",
              "      <td>DE</td>\n",
              "      <td>11000971</td>\n",
              "      <td>6</td>\n",
              "      <td>6</td>\n",
              "      <td>3</td>\n",
              "      <td>4</td>\n",
              "      <td>3</td>\n",
              "      <td>5</td>\n",
              "      <td>3</td>\n",
              "      <td>2</td>\n",
              "      <td>2</td>\n",
              "      <td>62</td>\n",
              "      <td>1</td>\n",
              "    </tr>\n",
              "    <tr>\n",
              "      <th>2705</th>\n",
              "      <td>DE</td>\n",
              "      <td>11000971</td>\n",
              "      <td>7</td>\n",
              "      <td>4</td>\n",
              "      <td>5</td>\n",
              "      <td>8</td>\n",
              "      <td>5</td>\n",
              "      <td>9</td>\n",
              "      <td>4</td>\n",
              "      <td>3</td>\n",
              "      <td>1</td>\n",
              "      <td>65</td>\n",
              "      <td>1</td>\n",
              "    </tr>\n",
              "    <tr>\n",
              "      <th>2701</th>\n",
              "      <td>DE</td>\n",
              "      <td>11000251</td>\n",
              "      <td>7</td>\n",
              "      <td>1</td>\n",
              "      <td>8</td>\n",
              "      <td>7</td>\n",
              "      <td>5</td>\n",
              "      <td>8</td>\n",
              "      <td>5</td>\n",
              "      <td>3</td>\n",
              "      <td>2</td>\n",
              "      <td>65</td>\n",
              "      <td>1</td>\n",
              "    </tr>\n",
              "    <tr>\n",
              "      <th>2699</th>\n",
              "      <td>DE</td>\n",
              "      <td>11000131</td>\n",
              "      <td>7</td>\n",
              "      <td>4</td>\n",
              "      <td>7</td>\n",
              "      <td>7</td>\n",
              "      <td>7</td>\n",
              "      <td>7</td>\n",
              "      <td>4</td>\n",
              "      <td>3</td>\n",
              "      <td>1</td>\n",
              "      <td>67</td>\n",
              "      <td>1</td>\n",
              "    </tr>\n",
              "    <tr>\n",
              "      <th>2698</th>\n",
              "      <td>DE</td>\n",
              "      <td>11000091</td>\n",
              "      <td>7</td>\n",
              "      <td>5</td>\n",
              "      <td>4</td>\n",
              "      <td>7</td>\n",
              "      <td>7</td>\n",
              "      <td>8</td>\n",
              "      <td>4</td>\n",
              "      <td>2</td>\n",
              "      <td>2</td>\n",
              "      <td>71</td>\n",
              "      <td>1</td>\n",
              "    </tr>\n",
              "    <tr>\n",
              "      <th>2685</th>\n",
              "      <td>DE</td>\n",
              "      <td>11000091</td>\n",
              "      <td>6</td>\n",
              "      <td>7</td>\n",
              "      <td>8</td>\n",
              "      <td>6</td>\n",
              "      <td>5</td>\n",
              "      <td>7</td>\n",
              "      <td>5</td>\n",
              "      <td>2</td>\n",
              "      <td>1</td>\n",
              "      <td>71</td>\n",
              "      <td>1</td>\n",
              "    </tr>\n",
              "    <tr>\n",
              "      <th>2689</th>\n",
              "      <td>DE</td>\n",
              "      <td>11000341</td>\n",
              "      <td>6</td>\n",
              "      <td>4</td>\n",
              "      <td>4</td>\n",
              "      <td>5</td>\n",
              "      <td>5</td>\n",
              "      <td>9</td>\n",
              "      <td>4</td>\n",
              "      <td>3</td>\n",
              "      <td>2</td>\n",
              "      <td>74</td>\n",
              "      <td>1</td>\n",
              "    </tr>\n",
              "    <tr>\n",
              "      <th>2683</th>\n",
              "      <td>DE</td>\n",
              "      <td>11000041</td>\n",
              "      <td>6</td>\n",
              "      <td>7</td>\n",
              "      <td>7</td>\n",
              "      <td>7</td>\n",
              "      <td>6</td>\n",
              "      <td>8</td>\n",
              "      <td>5</td>\n",
              "      <td>3</td>\n",
              "      <td>1</td>\n",
              "      <td>75</td>\n",
              "      <td>1</td>\n",
              "    </tr>\n",
              "    <tr>\n",
              "      <th>2706</th>\n",
              "      <td>DE</td>\n",
              "      <td>11001031</td>\n",
              "      <td>7</td>\n",
              "      <td>7</td>\n",
              "      <td>8</td>\n",
              "      <td>10</td>\n",
              "      <td>10</td>\n",
              "      <td>10</td>\n",
              "      <td>5</td>\n",
              "      <td>1</td>\n",
              "      <td>2</td>\n",
              "      <td>85</td>\n",
              "      <td>2</td>\n",
              "    </tr>\n",
              "    <tr>\n",
              "      <th>2708</th>\n",
              "      <td>DE</td>\n",
              "      <td>11001431</td>\n",
              "      <td>7</td>\n",
              "      <td>6</td>\n",
              "      <td>2</td>\n",
              "      <td>7</td>\n",
              "      <td>8</td>\n",
              "      <td>9</td>\n",
              "      <td>4</td>\n",
              "      <td>3</td>\n",
              "      <td>2</td>\n",
              "      <td>89</td>\n",
              "      <td>2</td>\n",
              "    </tr>\n",
              "  </tbody>\n",
              "</table>\n",
              "</div>"
            ],
            "text/plain": [
              "     cntry      idno  year  tvtot  ...  sclact  gndr  agea  partner\n",
              "2694    DE  11001431     6      7  ...       3     2    26        1\n",
              "2690    DE  11000421     6      1  ...       3     1    33        1\n",
              "2686    DE  11000181     6      2  ...       3     2    34        2\n",
              "2703    DE  11000341     7      2  ...       3     2    36        1\n",
              "2700    DE  11000181     7      2  ...       3     1    41        1\n",
              "2695    DE  11000031     7      1  ...       4     2    49        1\n",
              "2707    DE  11001401     7      1  ...       2     2    49        1\n",
              "2684    DE  11000071     6      4  ...       2     1    50        2\n",
              "2682    DE  11000031     6      2  ...       3     2    51        1\n",
              "2697    DE  11000071     7      4  ...       3     1    52        1\n",
              "2693    DE  11001401     6      7  ...       1     1    53        2\n",
              "2702    DE  11000291     7      0  ...       3     1    54        1\n",
              "2687    DE  11000251     6      7  ...       4     2    55        2\n",
              "2704    DE  11000421     7      4  ...       3     2    56        1\n",
              "2696    DE  11000041     7      2  ...       2     1    57        1\n",
              "2692    DE  11001031     6      4  ...       5     2    59        1\n",
              "2688    DE  11000291     6      6  ...       4     2    59        2\n",
              "2691    DE  11000971     6      6  ...       2     2    62        1\n",
              "2705    DE  11000971     7      4  ...       3     1    65        1\n",
              "2701    DE  11000251     7      1  ...       3     2    65        1\n",
              "2699    DE  11000131     7      4  ...       3     1    67        1\n",
              "2698    DE  11000091     7      5  ...       2     2    71        1\n",
              "2685    DE  11000091     6      7  ...       2     1    71        1\n",
              "2689    DE  11000341     6      4  ...       3     2    74        1\n",
              "2683    DE  11000041     6      7  ...       3     1    75        1\n",
              "2706    DE  11001031     7      7  ...       1     2    85        2\n",
              "2708    DE  11001431     7      6  ...       3     2    89        2\n",
              "\n",
              "[27 rows x 13 columns]"
            ]
          },
          "metadata": {
            "tags": []
          },
          "execution_count": 35
        }
      ]
    },
    {
      "cell_type": "code",
      "metadata": {
        "id": "yGV2DI3FvqzL",
        "colab_type": "code",
        "outputId": "6a13174e-d725-49de-96b6-7b38ad204bef",
        "colab": {
          "base_uri": "https://localhost:8080/",
          "height": 316
        }
      },
      "source": [
        "plt.hist(ch.sclact, alpha = .5,color='b')\n",
        "plt.hist(de.sclact, alpha = .5,color='r')\n",
        "plt.hist(no.sclact, alpha = .5,color='y')"
      ],
      "execution_count": 0,
      "outputs": [
        {
          "output_type": "execute_result",
          "data": {
            "text/plain": [
              "(array([ 51.,   0., 317.,   0.,   0., 794.,   0., 219.,   0.,  39.]),\n",
              " array([1. , 1.4, 1.8, 2.2, 2.6, 3. , 3.4, 3.8, 4.2, 4.6, 5. ]),\n",
              " <a list of 10 Patch objects>)"
            ]
          },
          "metadata": {
            "tags": []
          },
          "execution_count": 38
        },
        {
          "output_type": "display_data",
          "data": {
            "image/png": "[encoded data removed]",
            "text/plain": [
              "<Figure size 432x288 with 1 Axes>"
            ]
          },
          "metadata": {
            "tags": []
          }
        }
      ]
    },
    {
      "cell_type": "code",
      "metadata": {
        "id": "N7DIdNQWwEEi",
        "colab_type": "code",
        "outputId": "2ac51dde-9363-49a1-b4cf-f7736ab50bea",
        "colab": {
          "base_uri": "https://localhost:8080/",
          "height": 123
        }
      },
      "source": [
        "print(stats.describe(ch.sclact))\n",
        "print(' ')\n",
        "print(stats.describe(de.sclact))\n",
        "print(' ')\n",
        "print(stats.describe(no.sclact))"
      ],
      "execution_count": 0,
      "outputs": [
        {
          "output_type": "stream",
          "text": [
            "DescribeResult(nobs=1475, minmax=(1, 5), mean=2.7477966101694915, variance=0.7911671227836168, skewness=0.10415820138334714, kurtosis=-0.03917971739263537)\n",
            " \n",
            "DescribeResult(nobs=27, minmax=(1, 5), mean=2.814814814814815, variance=0.7720797720797719, skewness=0.018703077487576165, kurtosis=0.5563445486853413)\n",
            " \n",
            "DescribeResult(nobs=1420, minmax=(1, 5), mean=2.9140845070422534, variance=0.6240439111058175, skewness=0.05025123249975034, kurtosis=0.5290362959984956)\n"
          ],
          "name": "stdout"
        }
      ]
    },
    {
      "cell_type": "code",
      "metadata": {
        "id": "9lrDBolZwM4y",
        "colab_type": "code",
        "colab": {}
      },
      "source": [
        "ALL APPEAR NORMALLY DISTRIBUTED -- LET'S TRY TUKEY"
      ],
      "execution_count": 0,
      "outputs": []
    },
    {
      "cell_type": "code",
      "metadata": {
        "id": "WeRPVRdJwdrN",
        "colab_type": "code",
        "colab": {}
      },
      "source": [
        "tukey = pairwise_tukeyhsd(endog = triple['sclact'],      # Data\n",
        "                          groups = triple['cntry'],   # Groups\n",
        "                          alpha=0.05)"
      ],
      "execution_count": 0,
      "outputs": []
    },
    {
      "cell_type": "code",
      "metadata": {
        "id": "bVzwtmOHwspA",
        "colab_type": "code",
        "outputId": "76acfffd-0ee3-463f-ded5-790bc0c626fe",
        "colab": {
          "base_uri": "https://localhost:8080/",
          "height": 133
        }
      },
      "source": [
        "tukey.summary()"
      ],
      "execution_count": 0,
      "outputs": [
        {
          "output_type": "execute_result",
          "data": {
            "text/html": [
              "<table class=\"simpletable\">\n",
              "<caption>Multiple Comparison of Means - Tukey HSD, FWER=0.05</caption>\n",
              "<tr>\n",
              "  <th>group1</th> <th>group2</th> <th>meandiff</th>  <th>p-adj</th>  <th>lower</th>   <th>upper</th> <th>reject</th>\n",
              "</tr>\n",
              "<tr>\n",
              "    <td>CH</td>     <td>DE</td>     <td>0.067</td>    <td>0.9</td>  <td>-0.3166</td> <td>0.4507</td>  <td>False</td>\n",
              "</tr>\n",
              "<tr>\n",
              "    <td>CH</td>     <td>NO</td>    <td>0.1663</td>   <td>0.001</td> <td>0.0928</td>  <td>0.2397</td>  <td>True</td> \n",
              "</tr>\n",
              "<tr>\n",
              "    <td>DE</td>     <td>NO</td>    <td>0.0993</td>  <td>0.7966</td> <td>-0.2845</td> <td>0.4831</td>  <td>False</td>\n",
              "</tr>\n",
              "</table>"
            ],
            "text/plain": [
              "<class 'statsmodels.iolib.table.SimpleTable'>"
            ]
          },
          "metadata": {
            "tags": []
          },
          "execution_count": 43
        }
      ]
    },
    {
      "cell_type": "code",
      "metadata": {
        "id": "VenOaMRRz3be",
        "colab_type": "code",
        "colab": {}
      },
      "source": [
        "######################################"
      ],
      "execution_count": 0,
      "outputs": []
    },
    {
      "cell_type": "markdown",
      "metadata": {
        "id": "DdS-0hQCz5Df",
        "colab_type": "text"
      },
      "source": [
        "  Part two starts here"
      ]
    },
    {
      "cell_type": "code",
      "metadata": {
        "id": "IgrVeA2nxkxu",
        "colab_type": "code",
        "colab": {}
      },
      "source": [
        "rift=pd.read_csv('https://raw.githubusercontent.com/AlexBB999/Thinkful/master/rfft.csv')"
      ],
      "execution_count": 0,
      "outputs": []
    },
    {
      "cell_type": "code",
      "metadata": {
        "id": "lhmiuRNexw7V",
        "colab_type": "code",
        "outputId": "752177ba-3da7-4b2b-aaf2-6986b50e4631",
        "colab": {
          "base_uri": "https://localhost:8080/",
          "height": 326
        }
      },
      "source": [
        "rift.head(9)"
      ],
      "execution_count": 0,
      "outputs": [
        {
          "output_type": "execute_result",
          "data": {
            "text/html": [
              "<div>\n",
              "<style scoped>\n",
              "    .dataframe tbody tr th:only-of-type {\n",
              "        vertical-align: middle;\n",
              "    }\n",
              "\n",
              "    .dataframe tbody tr th {\n",
              "        vertical-align: top;\n",
              "    }\n",
              "\n",
              "    .dataframe thead th {\n",
              "        text-align: right;\n",
              "    }\n",
              "</style>\n",
              "<table border=\"1\" class=\"dataframe\">\n",
              "  <thead>\n",
              "    <tr style=\"text-align: right;\">\n",
              "      <th></th>\n",
              "      <th>Casenr</th>\n",
              "      <th>Age</th>\n",
              "      <th>Gender</th>\n",
              "      <th>Education</th>\n",
              "      <th>Measurement</th>\n",
              "      <th>Unique</th>\n",
              "      <th>Perseverative</th>\n",
              "      <th>Interval</th>\n",
              "    </tr>\n",
              "  </thead>\n",
              "  <tbody>\n",
              "    <tr>\n",
              "      <th>0</th>\n",
              "      <td>1</td>\n",
              "      <td>74</td>\n",
              "      <td>Male</td>\n",
              "      <td>Lower secondary school (ISCED 2)</td>\n",
              "      <td>Measurement 1 (2003-2006)</td>\n",
              "      <td>32.0</td>\n",
              "      <td>1.0</td>\n",
              "      <td>Not applicable</td>\n",
              "    </tr>\n",
              "    <tr>\n",
              "      <th>1</th>\n",
              "      <td>1</td>\n",
              "      <td>74</td>\n",
              "      <td>Male</td>\n",
              "      <td>Lower secondary school (ISCED 2)</td>\n",
              "      <td>Measurement 2 (2006-2008)</td>\n",
              "      <td>35.0</td>\n",
              "      <td>0.0</td>\n",
              "      <td>2.842122556</td>\n",
              "    </tr>\n",
              "    <tr>\n",
              "      <th>2</th>\n",
              "      <td>1</td>\n",
              "      <td>74</td>\n",
              "      <td>Male</td>\n",
              "      <td>Lower secondary school (ISCED 2)</td>\n",
              "      <td>Measurement 3 (2008-2012)</td>\n",
              "      <td>50.5</td>\n",
              "      <td>14.5</td>\n",
              "      <td>2.201232033</td>\n",
              "    </tr>\n",
              "    <tr>\n",
              "      <th>3</th>\n",
              "      <td>2</td>\n",
              "      <td>48</td>\n",
              "      <td>Male</td>\n",
              "      <td>Higher secondary school (ISCED 3-4)</td>\n",
              "      <td>Measurement 1 (2003-2006)</td>\n",
              "      <td>26.0</td>\n",
              "      <td>3.0</td>\n",
              "      <td>Not applicable</td>\n",
              "    </tr>\n",
              "    <tr>\n",
              "      <th>4</th>\n",
              "      <td>2</td>\n",
              "      <td>48</td>\n",
              "      <td>Male</td>\n",
              "      <td>Higher secondary school (ISCED 3-4)</td>\n",
              "      <td>Measurement 2 (2006-2008)</td>\n",
              "      <td>47.0</td>\n",
              "      <td>3.0</td>\n",
              "      <td>2.762718362</td>\n",
              "    </tr>\n",
              "    <tr>\n",
              "      <th>5</th>\n",
              "      <td>2</td>\n",
              "      <td>48</td>\n",
              "      <td>Male</td>\n",
              "      <td>Higher secondary school (ISCED 3-4)</td>\n",
              "      <td>Measurement 3 (2008-2012)</td>\n",
              "      <td>71.0</td>\n",
              "      <td>0.5</td>\n",
              "      <td>2.376454483</td>\n",
              "    </tr>\n",
              "    <tr>\n",
              "      <th>6</th>\n",
              "      <td>3</td>\n",
              "      <td>54</td>\n",
              "      <td>Male</td>\n",
              "      <td>Higher secondary school (ISCED 3-4)</td>\n",
              "      <td>Measurement 1 (2003-2006)</td>\n",
              "      <td>91.0</td>\n",
              "      <td>11.0</td>\n",
              "      <td>Not applicable</td>\n",
              "    </tr>\n",
              "    <tr>\n",
              "      <th>7</th>\n",
              "      <td>3</td>\n",
              "      <td>54</td>\n",
              "      <td>Male</td>\n",
              "      <td>Higher secondary school (ISCED 3-4)</td>\n",
              "      <td>Measurement 2 (2006-2008)</td>\n",
              "      <td>83.5</td>\n",
              "      <td>21.0</td>\n",
              "      <td>2.628552653</td>\n",
              "    </tr>\n",
              "    <tr>\n",
              "      <th>8</th>\n",
              "      <td>3</td>\n",
              "      <td>54</td>\n",
              "      <td>Male</td>\n",
              "      <td>Higher secondary school (ISCED 3-4)</td>\n",
              "      <td>Measurement 3 (2008-2012)</td>\n",
              "      <td>77.0</td>\n",
              "      <td>17.0</td>\n",
              "      <td>3.392197125</td>\n",
              "    </tr>\n",
              "  </tbody>\n",
              "</table>\n",
              "</div>"
            ],
            "text/plain": [
              "   Casenr  Age Gender  ... Unique Perseverative        Interval\n",
              "0       1   74   Male  ...   32.0           1.0  Not applicable\n",
              "1       1   74   Male  ...   35.0           0.0     2.842122556\n",
              "2       1   74   Male  ...   50.5          14.5     2.201232033\n",
              "3       2   48   Male  ...   26.0           3.0  Not applicable\n",
              "4       2   48   Male  ...   47.0           3.0     2.762718362\n",
              "5       2   48   Male  ...   71.0           0.5     2.376454483\n",
              "6       3   54   Male  ...   91.0          11.0  Not applicable\n",
              "7       3   54   Male  ...   83.5          21.0     2.628552653\n",
              "8       3   54   Male  ...   77.0          17.0     3.392197125\n",
              "\n",
              "[9 rows x 8 columns]"
            ]
          },
          "metadata": {
            "tags": []
          },
          "execution_count": 53
        }
      ]
    },
    {
      "cell_type": "code",
      "metadata": {
        "id": "3dBZAWLg2scO",
        "colab_type": "code",
        "colab": {}
      },
      "source": [
        "piv=rift.pivot(index='Casenr',columns='Measurement',values='Unique')"
      ],
      "execution_count": 0,
      "outputs": []
    },
    {
      "cell_type": "code",
      "metadata": {
        "id": "JTy-PTIk95-p",
        "colab_type": "code",
        "outputId": "7379e670-cff5-4a0a-bd25-60032c5d70d1",
        "colab": {
          "base_uri": "https://localhost:8080/",
          "height": 234
        }
      },
      "source": [
        "piv.head()"
      ],
      "execution_count": 0,
      "outputs": [
        {
          "output_type": "execute_result",
          "data": {
            "text/html": [
              "<div>\n",
              "<style scoped>\n",
              "    .dataframe tbody tr th:only-of-type {\n",
              "        vertical-align: middle;\n",
              "    }\n",
              "\n",
              "    .dataframe tbody tr th {\n",
              "        vertical-align: top;\n",
              "    }\n",
              "\n",
              "    .dataframe thead th {\n",
              "        text-align: right;\n",
              "    }\n",
              "</style>\n",
              "<table border=\"1\" class=\"dataframe\">\n",
              "  <thead>\n",
              "    <tr style=\"text-align: right;\">\n",
              "      <th>Measurement</th>\n",
              "      <th>Measurement 1 (2003-2006)</th>\n",
              "      <th>Measurement 2 (2006-2008)</th>\n",
              "      <th>Measurement 3 (2008-2012)</th>\n",
              "    </tr>\n",
              "    <tr>\n",
              "      <th>Casenr</th>\n",
              "      <th></th>\n",
              "      <th></th>\n",
              "      <th></th>\n",
              "    </tr>\n",
              "  </thead>\n",
              "  <tbody>\n",
              "    <tr>\n",
              "      <th>1</th>\n",
              "      <td>32.0</td>\n",
              "      <td>35.0</td>\n",
              "      <td>50.5</td>\n",
              "    </tr>\n",
              "    <tr>\n",
              "      <th>2</th>\n",
              "      <td>26.0</td>\n",
              "      <td>47.0</td>\n",
              "      <td>71.0</td>\n",
              "    </tr>\n",
              "    <tr>\n",
              "      <th>3</th>\n",
              "      <td>91.0</td>\n",
              "      <td>83.5</td>\n",
              "      <td>77.0</td>\n",
              "    </tr>\n",
              "    <tr>\n",
              "      <th>4</th>\n",
              "      <td>59.0</td>\n",
              "      <td>54.0</td>\n",
              "      <td>64.0</td>\n",
              "    </tr>\n",
              "    <tr>\n",
              "      <th>5</th>\n",
              "      <td>60.0</td>\n",
              "      <td>68.0</td>\n",
              "      <td>21.0</td>\n",
              "    </tr>\n",
              "  </tbody>\n",
              "</table>\n",
              "</div>"
            ],
            "text/plain": [
              "Measurement  Measurement 1 (2003-2006)  ...  Measurement 3 (2008-2012)\n",
              "Casenr                                  ...                           \n",
              "1                                 32.0  ...                       50.5\n",
              "2                                 26.0  ...                       71.0\n",
              "3                                 91.0  ...                       77.0\n",
              "4                                 59.0  ...                       64.0\n",
              "5                                 60.0  ...                       21.0\n",
              "\n",
              "[5 rows x 3 columns]"
            ]
          },
          "metadata": {
            "tags": []
          },
          "execution_count": 86
        }
      ]
    },
    {
      "cell_type": "code",
      "metadata": {
        "id": "5hbRpd4B5tK6",
        "colab_type": "code",
        "outputId": "61c9364a-3967-4fcc-c5a5-899362f4cd96",
        "colab": {
          "base_uri": "https://localhost:8080/",
          "height": 68
        }
      },
      "source": [
        "list(piv)"
      ],
      "execution_count": 0,
      "outputs": [
        {
          "output_type": "execute_result",
          "data": {
            "text/plain": [
              "['Measurement 1 (2003-2006)',\n",
              " 'Measurement 2 (2006-2008)',\n",
              " 'Measurement 3 (2008-2012)']"
            ]
          },
          "metadata": {
            "tags": []
          },
          "execution_count": 67
        }
      ]
    },
    {
      "cell_type": "code",
      "metadata": {
        "id": "gXF6Hi5Tx4X2",
        "colab_type": "code",
        "colab": {}
      },
      "source": [
        "#rift.info()"
      ],
      "execution_count": 0,
      "outputs": []
    },
    {
      "cell_type": "markdown",
      "metadata": {
        "id": "o12TNXHjyjcm",
        "colab_type": "text"
      },
      "source": [
        "IS THERE A SIGNIFICANT DIFFERENCE IN THE NUMBER OF UNIQUE DESIGNS DRAWN BY THE SAME PARTICIPANTS\n",
        "\n",
        " FROM MEASUREMENT 2 TO MEASUREMENT 3?\n",
        "\n"
      ]
    },
    {
      "cell_type": "code",
      "metadata": {
        "id": "ZeedOCWhyoLl",
        "colab_type": "code",
        "outputId": "17a4ef70-dd42-4d3f-ec79-5113e224474b",
        "colab": {
          "base_uri": "https://localhost:8080/",
          "height": 336
        }
      },
      "source": [
        "plt.hist(piv['Measurement 2 (2006-2008)'], alpha = .5,color='b')\n",
        "plt.hist(piv['Measurement 3 (2008-2012)'], alpha = .5,color='r')\n",
        "plt.show()\n",
        "print(stats.describe(piv['Measurement 2 (2006-2008)']))\n",
        "print('')\n",
        "print(stats.describe(piv['Measurement 3 (2008-2012)']))"
      ],
      "execution_count": 0,
      "outputs": [
        {
          "output_type": "display_data",
          "data": {
            "image/png": "[encoded data removed]",
            "text/plain": [
              "<Figure size 432x288 with 1 Axes>"
            ]
          },
          "metadata": {
            "tags": []
          }
        },
        {
          "output_type": "stream",
          "text": [
            "DescribeResult(nobs=2515, minmax=(13.0, 155.0), mean=78.69244532803181, variance=707.0341513370058, skewness=0.1471876477093264, kurtosis=-0.5467621966747225)\n",
            "\n",
            "DescribeResult(nobs=2515, minmax=(13.5, 161.5), mean=82.7079522862823, variance=808.8049884464099, skewness=0.020360395669875728, kurtosis=-0.5479245402887649)\n"
          ],
          "name": "stdout"
        }
      ]
    },
    {
      "cell_type": "markdown",
      "metadata": {
        "id": "X1bNrtxU9X1m",
        "colab_type": "text"
      },
      "source": [
        "both are normal"
      ]
    },
    {
      "cell_type": "code",
      "metadata": {
        "id": "YoLSDnLr6Uv5",
        "colab_type": "code",
        "outputId": "10993855-42c0-4160-82ff-26f21838ce3a",
        "colab": {
          "base_uri": "https://localhost:8080/",
          "height": 34
        }
      },
      "source": [
        "#stats.ttest_ind(control_group['is_signed_up'],test_group['is_signed_up'])\n",
        "stats.ttest_ind(piv['Measurement 2 (2006-2008)'],piv['Measurement 3 (2008-2012)'])"
      ],
      "execution_count": 0,
      "outputs": [
        {
          "output_type": "execute_result",
          "data": {
            "text/plain": [
              "Ttest_indResult(statistic=-5.172289431795646, pvalue=2.4021740879907784e-07)"
            ]
          },
          "metadata": {
            "tags": []
          },
          "execution_count": 85
        }
      ]
    },
    {
      "cell_type": "markdown",
      "metadata": {
        "id": "_Qc7YJbz9IuO",
        "colab_type": "text"
      },
      "source": [
        "pvalue ===> reject null  -- there is a significant difference"
      ]
    },
    {
      "cell_type": "markdown",
      "metadata": {
        "id": "d6hvfZwZ9ouG",
        "colab_type": "text"
      },
      "source": [
        "Is there a significant difference in the number of \n",
        "\n",
        "perseverative errors drawn by the same participants from \n",
        "\n",
        "Measurement 2 to Measurement 3?"
      ]
    },
    {
      "cell_type": "code",
      "metadata": {
        "id": "YJgJhMMi9svC",
        "colab_type": "code",
        "colab": {}
      },
      "source": [
        "piv_per=rift.pivot(index='Casenr',columns='Measurement',values='Perseverative')"
      ],
      "execution_count": 0,
      "outputs": []
    },
    {
      "cell_type": "code",
      "metadata": {
        "id": "tsq2M6d8-tAW",
        "colab_type": "code",
        "outputId": "d4e72525-86b0-426b-eea9-4e404e709a1e",
        "colab": {
          "base_uri": "https://localhost:8080/",
          "height": 234
        }
      },
      "source": [
        "piv_per.head()"
      ],
      "execution_count": 0,
      "outputs": [
        {
          "output_type": "execute_result",
          "data": {
            "text/html": [
              "<div>\n",
              "<style scoped>\n",
              "    .dataframe tbody tr th:only-of-type {\n",
              "        vertical-align: middle;\n",
              "    }\n",
              "\n",
              "    .dataframe tbody tr th {\n",
              "        vertical-align: top;\n",
              "    }\n",
              "\n",
              "    .dataframe thead th {\n",
              "        text-align: right;\n",
              "    }\n",
              "</style>\n",
              "<table border=\"1\" class=\"dataframe\">\n",
              "  <thead>\n",
              "    <tr style=\"text-align: right;\">\n",
              "      <th>Measurement</th>\n",
              "      <th>Measurement 1 (2003-2006)</th>\n",
              "      <th>Measurement 2 (2006-2008)</th>\n",
              "      <th>Measurement 3 (2008-2012)</th>\n",
              "    </tr>\n",
              "    <tr>\n",
              "      <th>Casenr</th>\n",
              "      <th></th>\n",
              "      <th></th>\n",
              "      <th></th>\n",
              "    </tr>\n",
              "  </thead>\n",
              "  <tbody>\n",
              "    <tr>\n",
              "      <th>1</th>\n",
              "      <td>1.0</td>\n",
              "      <td>0.0</td>\n",
              "      <td>14.5</td>\n",
              "    </tr>\n",
              "    <tr>\n",
              "      <th>2</th>\n",
              "      <td>3.0</td>\n",
              "      <td>3.0</td>\n",
              "      <td>0.5</td>\n",
              "    </tr>\n",
              "    <tr>\n",
              "      <th>3</th>\n",
              "      <td>11.0</td>\n",
              "      <td>21.0</td>\n",
              "      <td>17.0</td>\n",
              "    </tr>\n",
              "    <tr>\n",
              "      <th>4</th>\n",
              "      <td>49.0</td>\n",
              "      <td>39.0</td>\n",
              "      <td>11.0</td>\n",
              "    </tr>\n",
              "    <tr>\n",
              "      <th>5</th>\n",
              "      <td>14.0</td>\n",
              "      <td>16.0</td>\n",
              "      <td>0.0</td>\n",
              "    </tr>\n",
              "  </tbody>\n",
              "</table>\n",
              "</div>"
            ],
            "text/plain": [
              "Measurement  Measurement 1 (2003-2006)  ...  Measurement 3 (2008-2012)\n",
              "Casenr                                  ...                           \n",
              "1                                  1.0  ...                       14.5\n",
              "2                                  3.0  ...                        0.5\n",
              "3                                 11.0  ...                       17.0\n",
              "4                                 49.0  ...                       11.0\n",
              "5                                 14.0  ...                        0.0\n",
              "\n",
              "[5 rows x 3 columns]"
            ]
          },
          "metadata": {
            "tags": []
          },
          "execution_count": 93
        }
      ]
    },
    {
      "cell_type": "code",
      "metadata": {
        "id": "Q938-dKS_Mp4",
        "colab_type": "code",
        "outputId": "c255a443-0497-43a9-dfd1-b6fb2e5e3818",
        "colab": {
          "base_uri": "https://localhost:8080/",
          "height": 336
        }
      },
      "source": [
        "plt.hist(piv_per['Measurement 2 (2006-2008)'], alpha = .5,color='b')\n",
        "plt.hist(piv_per['Measurement 3 (2008-2012)'], alpha = .5,color='r')\n",
        "plt.show()\n",
        "print(stats.describe(piv_per['Measurement 2 (2006-2008)']))\n",
        "print('')\n",
        "print(stats.describe(piv_per['Measurement 3 (2008-2012)']))"
      ],
      "execution_count": 0,
      "outputs": [
        {
          "output_type": "display_data",
          "data": {
            "image/png": "[encoded data removed]",
            "text/plain": [
              "<Figure size 432x288 with 1 Axes>"
            ]
          },
          "metadata": {
            "tags": []
          }
        },
        {
          "output_type": "stream",
          "text": [
            "DescribeResult(nobs=2515, minmax=(0.0, 133.5), mean=11.769980119284295, variance=203.46626233055127, skewness=3.2001427277175862, kurtosis=13.913985994081123)\n",
            "\n",
            "DescribeResult(nobs=2515, minmax=(0.0, 124.0), mean=12.100198807157058, variance=187.75009940357853, skewness=3.03381078165085, kurtosis=13.347862924837408)\n"
          ],
          "name": "stdout"
        }
      ]
    },
    {
      "cell_type": "markdown",
      "metadata": {
        "id": "TtMQ7iBc_ZA0",
        "colab_type": "text"
      },
      "source": [
        "THESE ARE NOT NORMALLY DISTRIBUTED"
      ]
    },
    {
      "cell_type": "markdown",
      "metadata": {
        "id": "KqnIrinnAOFt",
        "colab_type": "text"
      },
      "source": [
        "KRUSKAL-WALLIS"
      ]
    },
    {
      "cell_type": "code",
      "metadata": {
        "id": "uuq2j_m7ARgc",
        "colab_type": "code",
        "outputId": "29a7b42c-7e95-4ad5-a473-e7a3dd5f72ec",
        "colab": {
          "base_uri": "https://localhost:8080/",
          "height": 34
        }
      },
      "source": [
        "stats.kruskal(piv_per['Measurement 2 (2006-2008)'],piv_per['Measurement 3 (2008-2012)'])"
      ],
      "execution_count": 0,
      "outputs": [
        {
          "output_type": "execute_result",
          "data": {
            "text/plain": [
              "KruskalResult(statistic=4.888785605096552, pvalue=0.027031693666595576)"
            ]
          },
          "metadata": {
            "tags": []
          },
          "execution_count": 96
        }
      ]
    },
    {
      "cell_type": "markdown",
      "metadata": {
        "id": "FI482h8DA7pv",
        "colab_type": "text"
      },
      "source": [
        "pvalue==> reject null  there is a signifcant difference"
      ]
    },
    {
      "cell_type": "markdown",
      "metadata": {
        "id": "XKHWghmdBG6p",
        "colab_type": "text"
      },
      "source": [
        "WILCOXON RANK-SIGN TEST"
      ]
    },
    {
      "cell_type": "code",
      "metadata": {
        "id": "K6qJD6N9BgZP",
        "colab_type": "code",
        "outputId": "e4c3fc83-c371-4e3a-bba6-15e8c094cad9",
        "colab": {
          "base_uri": "https://localhost:8080/",
          "height": 34
        }
      },
      "source": [
        "stats.wilcoxon(piv_per['Measurement 2 (2006-2008)']-piv_per['Measurement 3 (2008-2012)'])"
      ],
      "execution_count": 0,
      "outputs": [
        {
          "output_type": "execute_result",
          "data": {
            "text/plain": [
              "WilcoxonResult(statistic=1358373.0, pvalue=0.0006927535563546565)"
            ]
          },
          "metadata": {
            "tags": []
          },
          "execution_count": 97
        }
      ]
    },
    {
      "cell_type": "markdown",
      "metadata": {
        "id": "P3QaHMjOB1Tn",
        "colab_type": "text"
      },
      "source": [
        "MEDIAN STATISTIC IS HUGH ===>REJECT"
      ]
    }
  ]
}