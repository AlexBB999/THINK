{
  "nbformat": 4,
  "nbformat_minor": 0,
  "metadata": {
    "colab": {
      "name": "Web_Scraping.ipynb",
      "provenance": [],
      "collapsed_sections": [],
      "include_colab_link": true
    },
    "kernelspec": {
      "name": "python3",
      "display_name": "Python 3"
    }
  },
  "cells": [
    {
      "cell_type": "markdown",
      "metadata": {
        "id": "view-in-github",
        "colab_type": "text"
      },
      "source": [
        "<a href=\"https://colab.research.google.com/github/AlexBB999/THINK/blob/master/Web_Scraping.ipynb\" target=\"_parent\"><img src=\"https://colab.research.google.com/assets/colab-badge.svg\" alt=\"Open In Colab\"/></a>"
      ]
    },
    {
      "cell_type": "code",
      "metadata": {
        "id": "2WzCSScCSXzj",
        "colab_type": "code",
        "colab": {}
      },
      "source": [
        "import requests\n",
        "url = 'https://www.space.com/news'\n",
        "response = requests.get(url)\n",
        "\n",
        "# make sure we got a valid response\n",
        "if(response.ok):\n",
        "  # get the full data from the response\n",
        "  data = response.text\n",
        " # print(data)"
      ],
      "execution_count": 0,
      "outputs": []
    },
    {
      "cell_type": "code",
      "metadata": {
        "id": "mJ3hHvE0TG5d",
        "colab_type": "code",
        "colab": {}
      },
      "source": [
        "from bs4 import BeautifulSoup\n",
        "\n",
        "soup = BeautifulSoup(data, 'html.parser')"
      ],
      "execution_count": 0,
      "outputs": []
    },
    {
      "cell_type": "code",
      "metadata": {
        "id": "lWoctxnOdcr7",
        "colab_type": "code",
        "colab": {}
      },
      "source": [
        " #this gets a list of all divs on the page\n",
        " div=soup.find_all('div')"
      ],
      "execution_count": 0,
      "outputs": []
    },
    {
      "cell_type": "code",
      "metadata": {
        "id": "2wV-Msdk33Xt",
        "colab_type": "code",
        "colab": {}
      },
      "source": [
        "# FIND ALL CLASSES LABELED CONTENT\n",
        "conti = soup.find_all(class_=\"content\")\n"
      ],
      "execution_count": 0,
      "outputs": []
    },
    {
      "cell_type": "code",
      "metadata": {
        "id": "i3xDaBcadrq5",
        "colab_type": "code",
        "colab": {}
      },
      "source": [
        "#COUNT THE NUMBER OF ARTICLES\n",
        "article_count=len(conti)\n"
      ],
      "execution_count": 0,
      "outputs": []
    },
    {
      "cell_type": "markdown",
      "metadata": {
        "id": "KM5wQr8s7oxS",
        "colab_type": "text"
      },
      "source": [
        ""
      ]
    },
    {
      "cell_type": "markdown",
      "metadata": {
        "id": "T_jM8qlQ7Gro",
        "colab_type": "text"
      },
      "source": [
        "THIS NEXT SECTION SELECTS THE HEADLINE, AUTHOR, SYNOPSIS & DATETTIME FROM EACH ARTICLE -- AND DISPLAYS THE INFORMATION"
      ]
    },
    {
      "cell_type": "code",
      "metadata": {
        "id": "N7mknEh7d3mu",
        "colab_type": "code",
        "outputId": "32d5443a-8f2a-4c14-c443-df2979effeaf",
        "colab": {
          "base_uri": "https://localhost:8080/",
          "height": 1000
        }
      },
      "source": [
        "for i in range(article_count):\n",
        "  print(i)\n",
        "  story=conti[i]\n",
        "  headline=story.find(\"h3\",class_=\"article-name\").text\n",
        "  print(\"HEADLINE     \", headline)\n",
        "  author=story.find(style=\"white-space:nowrap\").text.strip()\n",
        "  print('AUTHOR       ',author)\n",
        "  synop=story.find(\"p\", class_=\"synopsis\").text.strip()\n",
        "  print('SYNOPSIS     ',synop)\n",
        "  time=story.find(\"time\")[\"datetime\"]\n",
        "  print(\"DATE & TIME  \",time)\n",
        "  print('   ')\n",
        "  i=i+1\n",
        "  \n"
      ],
      "execution_count": 9,
      "outputs": [
        {
          "output_type": "stream",
          "text": [
            "0\n",
            "HEADLINE       'The Mandalorian' Episode 4 is a Nod to a Classic Western Movie Trope\n",
            "AUTHOR        Scott Snowden\n",
            "SYNOPSIS      \"The Mandalorian\" defends a village against raiders in Episode 4. Here's a full review of the live action \"Star Wars\" series now showing on Disney Plus.\n",
            "DATE & TIME   2019-11-29T20:33:07Z\n",
            "   \n",
            "1\n",
            "HEADLINE      Lego UCS Millennium Falcon Drops to Lowest Price Ever 40% Off on Amazon for Black Friday\n",
            "AUTHOR        Tariq Malik\n",
            "SYNOPSIS      The $799.99 Lego Millennium Falcon is awesome, Amazon is knocking a whopping 40% off for Black Friday 2019.\n",
            "DATE & TIME   2019-11-29T19:23:15Z\n",
            "   \n",
            "2\n",
            "HEADLINE      Black Friday Star Wars Deals: The Best Star Wars Gift Ideas\n",
            "AUTHOR        Space.com Staff\n",
            "SYNOPSIS      This Black Friday, a swarm of Jedi-worthy deals is coming to a galaxy near you!\n",
            "DATE & TIME   2019-11-29T19:16:59Z\n",
            "   \n",
            "3\n",
            "HEADLINE      Black Friday Space Deals: The Best Gifts Ideas for Space Cadets\n",
            "AUTHOR        Space.com Staff\n",
            "SYNOPSIS      It's shopping season, space fans, so here's a round-up of the best deals online for out-of-this-world telescopes, toys and more.\n",
            "DATE & TIME   2019-11-29T18:10:43Z\n",
            "   \n",
            "4\n",
            "HEADLINE      It's 'Black Hole Friday'! Take a Break from Shopping to Celebrate with NASA (Video)\n",
            "AUTHOR        Mike Wall\n",
            "SYNOPSIS      NASA is trying to rebrand the spend-happy day after Thanksgiving, inspiring us to appreciate the wonders of the universe by contemplating its most extreme objects.\n",
            "DATE & TIME   2019-11-29T18:08:11Z\n",
            "   \n",
            "5\n",
            "HEADLINE      Lego's NASA Apollo Saturn V Is 30% Off for Black Friday \n",
            "AUTHOR        Tariq Malik\n",
            "SYNOPSIS      \n",
            "DATE & TIME   2019-11-29T17:51:52Z\n",
            "   \n",
            "6\n",
            "HEADLINE      Black Friday Lego Deals: The Best Lego Ideas for Space Fans\n",
            "AUTHOR        Space.com Staff\n",
            "SYNOPSIS      Attention, Lego fans! For this Black Friday, we've scoured the web for the best deals on Lego sets that are space or science-themed, as well as many science-fiction-themed sets.\n",
            "DATE & TIME   2019-11-29T17:08:56Z\n",
            "   \n",
            "7\n",
            "HEADLINE      Celestron's 114AZ Smartphone-Ready Telescope is $80 Off for Black Friday\n",
            "AUTHOR        Hanneke Weitering\n",
            "SYNOPSIS      This Black Friday, you can get a quality beginner telescope from Celestron for nearly half off.\n",
            "DATE & TIME   2019-11-29T16:56:48Z\n",
            "   \n",
            "8\n",
            "HEADLINE      Black Friday Telescope Deals: The Best Deals for Skywatchers\n",
            "AUTHOR        Space.com Staff\n",
            "SYNOPSIS      Inspire others to look up this Black Friday by giving the gift of a telescope or astronomy binoculars! We've rounded up some of the best deals for sale right now.\n",
            "DATE & TIME   2019-11-29T16:39:53Z\n",
            "   \n",
            "9\n",
            "HEADLINE      Pictures from Space! Our Image of the Day\n",
            "AUTHOR        Space.com Staff\n",
            "SYNOPSIS      While it's common for galaxies to coexist peacefully in the same cosmic neighborhood, these two galaxies are a bit too close for comfort.\n",
            "DATE & TIME   2019-11-29T15:03:24Z\n",
            "   \n",
            "10\n",
            "HEADLINE      Hallmark's Astronaut Snoopy Is 50% Off on Amazon (Timex Watches on Sale, Too!)\n",
            "AUTHOR        Tariq Malik\n",
            "SYNOPSIS      Hallmark's Astronaut Snoopy plush is 50% off for Black Friday, and it's joined by a Timex watch and ornament deals for the holidays.\n",
            "DATE & TIME   2019-11-29T14:49:39Z\n",
            "   \n",
            "11\n",
            "HEADLINE      Best Telescopes for Beginners (Easy to Use) — 2019 Guide\n",
            "AUTHOR        David Sky Brody\n",
            "SYNOPSIS      Here are the best beginner telescopes for the money; a computerized 'GoTo' scope driven by your smartphone or tablet, as well as a manually operated scope that comes fully assembled.\n",
            "DATE & TIME   2019-11-29T14:20:34Z\n",
            "   \n",
            "12\n",
            "HEADLINE      Best Telescopes for the Money - 2019 Reviews and Guide\n",
            "AUTHOR        David Sky Brody\n",
            "SYNOPSIS      \n",
            "DATE & TIME   2019-11-29T14:18:58Z\n",
            "   \n",
            "13\n",
            "HEADLINE      On This Day in Space! Nov. 29, 1967: Australia Launches Its 1st Satellite\n",
            "AUTHOR        Hanneke Weitering,\n",
            "SYNOPSIS      On Nov. 29, 1967, the first Australian satellite launched. It was called the Weapons Research Establishment Satellite. See how it happened in our On This Day in Space video series!\n",
            "DATE & TIME   2019-11-29T13:10:52Z\n",
            "   \n",
            "14\n",
            "HEADLINE      An Actor's 'Star Wars: Rise of Skywalker' Script Landed on eBay (But No, You Can't Bid On It)\n",
            "AUTHOR        Chris Arrant\n",
            "SYNOPSIS      Bothan spies? No, not in this case.\n",
            "DATE & TIME   2019-11-29T12:39:57Z\n",
            "   \n",
            "15\n",
            "HEADLINE      China's Big Ambitions for Space Are Riding on a December Launch\n",
            "AUTHOR        Andrew Jones\n",
            "SYNOPSIS      China recently staged a show test of its Mars lander looking ahead to the program's launch next summer. But an equally crucial mission component faces a different kind of test in December.\n",
            "DATE & TIME   2019-11-29T12:29:43Z\n",
            "   \n",
            "16\n",
            "HEADLINE      Astronaut Snoopy Floats on Space Station, Flies in Macy's Thanksgiving Day Parade\n",
            "AUTHOR        Robert Z. Pearlman\n",
            "SYNOPSIS      Snoopy, \"the world famous astronaut,\" has reached new heights — above the streets of New York City and aboard the International Space Station.\n",
            "DATE & TIME   2019-11-28T16:37:36Z\n",
            "   \n",
            "17\n",
            "HEADLINE      Watch Boeing's Starliner Meet Its Rocket for the 1st Time in This Awesome Drone Video\n",
            "AUTHOR        Elizabeth Howell\n",
            "SYNOPSIS      A drone flying around the Kennedy Space Center recently captured incredible footage of a small step forward for NASA's delayed commercial crew program.\n",
            "DATE & TIME   2019-11-28T13:51:45Z\n",
            "   \n",
            "18\n",
            "HEADLINE      Sphero's RVR Programmable Coding Robot Car Is $50 Off for Black Friday\n",
            "AUTHOR        Tariq Malik\n",
            "SYNOPSIS      Amazon has slashed the Sphere RVR price by 20% for Black Friday.\n",
            "DATE & TIME   2019-11-28T13:38:20Z\n",
            "   \n",
            "19\n",
            "HEADLINE      Thanksgiving Night Sky 2019: Venus, Jupiter and the Moon Gather for Skywatching Feast\n",
            "AUTHOR        Joe Rao\n",
            "SYNOPSIS      This week, Venus and Jupiter are very low in the southwest during the chilly November dusk.\n",
            "DATE & TIME   2019-11-28T12:39:31Z\n",
            "   \n"
          ],
          "name": "stdout"
        }
      ]
    },
    {
      "cell_type": "markdown",
      "metadata": {
        "id": "W0Xm4IQY60e1",
        "colab_type": "text"
      },
      "source": [
        "IGNORE EVERYTHING BELOW HERE\n",
        "================================================================================"
      ]
    },
    {
      "cell_type": "markdown",
      "metadata": {
        "id": "aX4aNTawTRPA",
        "colab_type": "text"
      },
      "source": [
        "The variable soup in this code now contains an object of type BeautfulSoup. This object represents the entire HTML document. We can see what it contains with the prettify() method."
      ]
    },
    {
      "cell_type": "code",
      "metadata": {
        "id": "ostpAnfxTS5N",
        "colab_type": "code",
        "colab": {}
      },
      "source": [
        "#print(soup.prettify())"
      ],
      "execution_count": 0,
      "outputs": []
    },
    {
      "cell_type": "code",
      "metadata": {
        "id": "RZc3VtkUTuU8",
        "colab_type": "code",
        "colab": {}
      },
      "source": [
        "#soup.find_all('ol') # make a list of all ol elements"
      ],
      "execution_count": 0,
      "outputs": []
    },
    {
      "cell_type": "code",
      "metadata": {
        "id": "rnXDEkvnvIAI",
        "colab_type": "code",
        "colab": {}
      },
      "source": [
        "lie=soup.find(\"li\")\n",
        "#ie.find(href=\"https://www.space.com/news\")\n",
        "k=lie.find(\"header\")\n",
        "k"
      ],
      "execution_count": 0,
      "outputs": []
    },
    {
      "cell_type": "code",
      "metadata": {
        "id": "jA_ahPHnT7dr",
        "colab_type": "code",
        "colab": {}
      },
      "source": [
        "# #get the list\n",
        "list = soup.find('ol')\n",
        "items = list.find_all('li')\n",
        "#print(items)"
      ],
      "execution_count": 0,
      "outputs": []
    },
    {
      "cell_type": "code",
      "metadata": {
        "id": "iIAdkcNMVMc-",
        "colab_type": "code",
        "colab": {}
      },
      "source": [
        "#=# this gets a list of all divs on the page\n",
        " soup.find_all('div')\n",
        "\n",
        "# get just the divs with class *poplar-listings*\n",
        "#div = soup.find_all('div', class_='popular-listings')\n",
        "div = soup.find_all('div', class_=\"content\")\n",
        "#name=div.find_all(\"div\",class_=\"article-name\")\n",
        "#name\n",
        "\n",
        "##items = div.find('a href')\n",
        "#print(\"now \",\"items\")\n",
        "#div = soup.find_all('div', class_=\"article-name\")\n",
        "#art=div.find(\"div\",class_='article-name')\n",
        "\n",
        "#story = [story.get_text() for story in div]\n",
        "#print(story)\n",
        "#div"
      ],
      "execution_count": 0,
      "outputs": []
    },
    {
      "cell_type": "code",
      "metadata": {
        "id": "itGJSENfb1gr",
        "colab_type": "code",
        "outputId": "82849603-0a6a-4c4a-a8e2-fedfe1bcc5a1",
        "colab": {
          "base_uri": "https://localhost:8080/",
          "height": 34
        }
      },
      "source": [
        "type(div)"
      ],
      "execution_count": 0,
      "outputs": [
        {
          "output_type": "execute_result",
          "data": {
            "text/plain": [
              "bs4.element.ResultSet"
            ]
          },
          "metadata": {
            "tags": []
          },
          "execution_count": 16
        }
      ]
    },
    {
      "cell_type": "markdown",
      "metadata": {
        "id": "gkz48P-aTH-n",
        "colab_type": "text"
      },
      "source": [
        "HEADLINE"
      ]
    },
    {
      "cell_type": "code",
      "metadata": {
        "id": "vLuU80Rc0WzD",
        "colab_type": "code",
        "outputId": "90bdb370-b0d5-4691-fa4d-62f2289d576a",
        "colab": {
          "base_uri": "https://localhost:8080/",
          "height": 34
        }
      },
      "source": [
        "n=soup.find(\"h3\",class_=\"article-name\")\n",
        "n.text\n",
        "\n",
        "\n"
      ],
      "execution_count": 0,
      "outputs": [
        {
          "output_type": "execute_result",
          "data": {
            "text/plain": [
              "'Pictures from Space! Our Image of the Day'"
            ]
          },
          "metadata": {
            "tags": []
          },
          "execution_count": 31
        }
      ]
    },
    {
      "cell_type": "code",
      "metadata": {
        "id": "nXMW4VmW0VpW",
        "colab_type": "code",
        "outputId": "11c51b90-d549-4443-9487-55e4e4f2a25f",
        "colab": {
          "base_uri": "https://localhost:8080/",
          "height": 34
        }
      },
      "source": [
        "n=soup.find(\"h3\",class_=\"article-name\").text\n",
        "\n",
        "n"
      ],
      "execution_count": 0,
      "outputs": [
        {
          "output_type": "execute_result",
          "data": {
            "text/plain": [
              "'Pictures from Space! Our Image of the Day'"
            ]
          },
          "metadata": {
            "tags": []
          },
          "execution_count": 32
        }
      ]
    },
    {
      "cell_type": "code",
      "metadata": {
        "id": "quSRWDJJb2nN",
        "colab_type": "code",
        "outputId": "81f99c9c-2e0a-406e-b247-260b0eb45b65",
        "colab": {
          "base_uri": "https://localhost:8080/",
          "height": 50
        }
      },
      "source": [
        "soup.p.span.span\n",
        "\n",
        "\n",
        "\n",
        "\n"
      ],
      "execution_count": 0,
      "outputs": [
        {
          "output_type": "execute_result",
          "data": {
            "text/plain": [
              "<span style=\"white-space:nowrap\">\n",
              "Robert Z. Pearlman </span>"
            ]
          },
          "metadata": {
            "tags": []
          },
          "execution_count": 97
        }
      ]
    },
    {
      "cell_type": "code",
      "metadata": {
        "id": "vzOrjSOyc9-z",
        "colab_type": "code",
        "outputId": "40acd459-39f7-480f-a75b-c210ce26c777",
        "colab": {
          "base_uri": "https://localhost:8080/",
          "height": 34
        }
      },
      "source": [
        "soup.p.span.span.text.strip()"
      ],
      "execution_count": 0,
      "outputs": [
        {
          "output_type": "execute_result",
          "data": {
            "text/plain": [
              "'Robert Z. Pearlman'"
            ]
          },
          "metadata": {
            "tags": []
          },
          "execution_count": 197
        }
      ]
    },
    {
      "cell_type": "code",
      "metadata": {
        "id": "wfkTfJMFjABe",
        "colab_type": "code",
        "outputId": "c8f3dda6-6510-46a3-b1f4-785aafdec3f4",
        "colab": {
          "base_uri": "https://localhost:8080/",
          "height": 34
        }
      },
      "source": [
        "soup.p.find_all(\"class\")"
      ],
      "execution_count": 0,
      "outputs": [
        {
          "output_type": "execute_result",
          "data": {
            "text/plain": [
              "[]"
            ]
          },
          "metadata": {
            "tags": []
          },
          "execution_count": 257
        }
      ]
    },
    {
      "cell_type": "code",
      "metadata": {
        "id": "kbHceeWY6obd",
        "colab_type": "code",
        "outputId": "4bb410ce-4427-4342-c584-54f320424e74",
        "colab": {
          "base_uri": "https://localhost:8080/",
          "height": 34
        }
      },
      "source": [
        ""
      ],
      "execution_count": 0,
      "outputs": [
        {
          "output_type": "execute_result",
          "data": {
            "text/plain": [
              "'Snoopy, \"the world famous astronaut,\" has reached new heights — above the streets of New York City and aboard the International Space Station.'"
            ]
          },
          "metadata": {
            "tags": []
          },
          "execution_count": 16
        }
      ]
    },
    {
      "cell_type": "code",
      "metadata": {
        "id": "aEeVqWf11eyN",
        "colab_type": "code",
        "outputId": "73030e39-9f6b-4578-9e7b-7454ede1c1af",
        "colab": {
          "base_uri": "https://localhost:8080/",
          "height": 34
        }
      },
      "source": [
        "soup.h3.string"
      ],
      "execution_count": 0,
      "outputs": [
        {
          "output_type": "execute_result",
          "data": {
            "text/plain": [
              "\"Astronaut Snoopy Floats on Space Station, Flies in Macy's Thanksgiving Day Parade\""
            ]
          },
          "metadata": {
            "tags": []
          },
          "execution_count": 5
        }
      ]
    },
    {
      "cell_type": "code",
      "metadata": {
        "id": "97SUeAB3hbQG",
        "colab_type": "code",
        "outputId": "c1fc4a76-e0ad-4bf7-e7e7-cff6cddd6fa2",
        "colab": {
          "base_uri": "https://localhost:8080/",
          "height": 34
        }
      },
      "source": [
        "name = soup.h3\n",
        "name"
      ],
      "execution_count": 0,
      "outputs": [
        {
          "output_type": "execute_result",
          "data": {
            "text/plain": [
              "<h3 class=\"article-name\">Astronaut Snoopy Floats on Space Station, Flies in Macy's Thanksgiving Day Parade</h3>"
            ]
          },
          "metadata": {
            "tags": []
          },
          "execution_count": 235
        }
      ]
    },
    {
      "cell_type": "code",
      "metadata": {
        "id": "sqvORpB8_DqT",
        "colab_type": "code",
        "colab": {}
      },
      "source": [
        "#FROM STACK OVERFLOW\n",
        "div = soup.find('div', {\"class\":\"wrapper\"})\n",
        "div.text"
      ],
      "execution_count": 0,
      "outputs": []
    },
    {
      "cell_type": "markdown",
      "metadata": {
        "id": "O_ZYclqPRwe5",
        "colab_type": "text"
      },
      "source": [
        "SYNOPSIS"
      ]
    },
    {
      "cell_type": "code",
      "metadata": {
        "id": "6JVc4W2Hi-r-",
        "colab_type": "code",
        "outputId": "9cf18e80-4bf6-4e32-eb5d-3f268f9d1311",
        "colab": {
          "base_uri": "https://localhost:8080/",
          "height": 54
        }
      },
      "source": [
        "synop=soup.find(\"p\", class_=\"synopsis\")\n",
        "synop.text.strip()"
      ],
      "execution_count": 0,
      "outputs": [
        {
          "output_type": "execute_result",
          "data": {
            "text/plain": [
              "'On Nov. 29, 1967, the first Australian satellite launched. It was called the Weapons Research Establishment Satellite. See how it happened in our On This Day in Space video series!'"
            ]
          },
          "metadata": {
            "tags": []
          },
          "execution_count": 5
        }
      ]
    },
    {
      "cell_type": "markdown",
      "metadata": {
        "id": "PSGQufxhRkDu",
        "colab_type": "text"
      },
      "source": [
        "AUTHOR"
      ]
    },
    {
      "cell_type": "code",
      "metadata": {
        "id": "bzYLHHk0_p4b",
        "colab_type": "code",
        "outputId": "9a6e8c8d-6fcd-460b-9f45-9d72353b1a88",
        "colab": {
          "base_uri": "https://localhost:8080/",
          "height": 34
        }
      },
      "source": [
        "author=soup.find(style=\"white-space:nowrap\")\n",
        "author.text.strip()"
      ],
      "execution_count": 0,
      "outputs": [
        {
          "output_type": "execute_result",
          "data": {
            "text/plain": [
              "'Space.com Staff'"
            ]
          },
          "metadata": {
            "tags": []
          },
          "execution_count": 34
        }
      ]
    },
    {
      "cell_type": "code",
      "metadata": {
        "id": "Cipjt1bF05nc",
        "colab_type": "code",
        "outputId": "fc97c240-ffb1-4d9a-d72f-be6ef5297c79",
        "colab": {
          "base_uri": "https://localhost:8080/",
          "height": 34
        }
      },
      "source": [
        "author=soup.find(style=\"white-space:nowrap\").text.strip()\n",
        "author"
      ],
      "execution_count": 0,
      "outputs": [
        {
          "output_type": "execute_result",
          "data": {
            "text/plain": [
              "'Space.com Staff'"
            ]
          },
          "metadata": {
            "tags": []
          },
          "execution_count": 35
        }
      ]
    },
    {
      "cell_type": "markdown",
      "metadata": {
        "id": "_lrZAkHYRool",
        "colab_type": "text"
      },
      "source": [
        "TIME"
      ]
    },
    {
      "cell_type": "code",
      "metadata": {
        "id": "cVOt3LqKC0Ee",
        "colab_type": "code",
        "outputId": "93b2372c-c53b-4022-93d3-ad58dba98239",
        "colab": {
          "base_uri": "https://localhost:8080/",
          "height": 34
        }
      },
      "source": [
        "time=soup.find(\"time\", class_=\"published-date relative-date\")\n",
        "time"
      ],
      "execution_count": 0,
      "outputs": [
        {
          "output_type": "execute_result",
          "data": {
            "text/plain": [
              "<time class=\"published-date relative-date\" data-published-date=\"2019-11-28T16:37:36Z\" datetime=\"2019-11-28T16:37:36Z\"></time>"
            ]
          },
          "metadata": {
            "tags": []
          },
          "execution_count": 88
        }
      ]
    },
    {
      "cell_type": "code",
      "metadata": {
        "id": "jeF3-ur-HZS-",
        "colab_type": "code",
        "outputId": "ebdc3224-6861-4893-9189-bd67ebde98c1",
        "colab": {
          "base_uri": "https://localhost:8080/",
          "height": 34
        }
      },
      "source": [
        "t=soup.find(\"time\")\n",
        "t"
      ],
      "execution_count": 0,
      "outputs": [
        {
          "output_type": "execute_result",
          "data": {
            "text/plain": [
              "<time class=\"published-date relative-date\" data-published-date=\"2019-11-29T13:10:52Z\" datetime=\"2019-11-29T13:10:52Z\"></time>"
            ]
          },
          "metadata": {
            "tags": []
          },
          "execution_count": 7
        }
      ]
    },
    {
      "cell_type": "code",
      "metadata": {
        "id": "5DlvWeXE1r2I",
        "colab_type": "code",
        "outputId": "902e8ea8-0782-447c-9379-f590a2b1977c",
        "colab": {
          "base_uri": "https://localhost:8080/",
          "height": 34
        }
      },
      "source": [
        "t=soup.find(\"time\")[\"datetime\"]\n",
        "t"
      ],
      "execution_count": 0,
      "outputs": [
        {
          "output_type": "execute_result",
          "data": {
            "text/plain": [
              "'2019-11-29T15:03:24Z'"
            ]
          },
          "metadata": {
            "tags": []
          },
          "execution_count": 36
        }
      ]
    },
    {
      "cell_type": "code",
      "metadata": {
        "id": "xNzNFbStPQCT",
        "colab_type": "code",
        "outputId": "69cb270e-89f6-4e72-f9ad-3c7222d1a03a",
        "colab": {
          "base_uri": "https://localhost:8080/",
          "height": 34
        }
      },
      "source": [
        "t.name"
      ],
      "execution_count": 0,
      "outputs": [
        {
          "output_type": "execute_result",
          "data": {
            "text/plain": [
              "'time'"
            ]
          },
          "metadata": {
            "tags": []
          },
          "execution_count": 95
        }
      ]
    },
    {
      "cell_type": "code",
      "metadata": {
        "id": "zxWWPnlVRLhz",
        "colab_type": "code",
        "outputId": "c5d9b90f-9ba6-41c6-de77-c3b51d8e9a21",
        "colab": {
          "base_uri": "https://localhost:8080/",
          "height": 34
        }
      },
      "source": [
        "t[\"datetime\"]"
      ],
      "execution_count": 0,
      "outputs": [
        {
          "output_type": "execute_result",
          "data": {
            "text/plain": [
              "'2019-11-29T13:10:52Z'"
            ]
          },
          "metadata": {
            "tags": []
          },
          "execution_count": 8
        }
      ]
    },
    {
      "cell_type": "code",
      "metadata": {
        "id": "1GEtjwp4gfFD",
        "colab_type": "code",
        "colab": {}
      },
      "source": [
        "import requests  \n",
        "r = requests.get('https://www.example.com')\n",
        "from bs4 import BeautifulSoup  \n",
        "soup = BeautifulSoup(r.text, 'html.parser')  \n",
        "results = soup.find_all('div', attrs={'class':'product-item item-template-0 alternative'})\n",
        "records = []  \n",
        "for result in results:  \n",
        "    name = result.find('div', attrs={'class':'name'}).text # result not results\n",
        "    price = result.find('div', attrs={'class':'price'}).text[13:-11]\n",
        "    records.append((name, price,))"
      ],
      "execution_count": 0,
      "outputs": []
    },
    {
      "cell_type": "code",
      "metadata": {
        "id": "0JHX_6EdbgLD",
        "colab_type": "code",
        "colab": {}
      },
      "source": [
        "soup.h3.p"
      ],
      "execution_count": 0,
      "outputs": []
    },
    {
      "cell_type": "code",
      "metadata": {
        "id": "aZvOqpyaWK7Q",
        "colab_type": "code",
        "outputId": "0d7e39d8-54bd-4fe4-f8f7-5a5c18373519",
        "colab": {
          "base_uri": "https://localhost:8080/",
          "height": 34
        }
      },
      "source": [
        "len(conti)"
      ],
      "execution_count": 0,
      "outputs": [
        {
          "output_type": "execute_result",
          "data": {
            "text/plain": [
              "20"
            ]
          },
          "metadata": {
            "tags": []
          },
          "execution_count": 18
        }
      ]
    },
    {
      "cell_type": "code",
      "metadata": {
        "id": "vQVciNzMcqVq",
        "colab_type": "code",
        "outputId": "7c632f40-91ed-42ff-d7d0-cc4270311582",
        "colab": {
          "base_uri": "https://localhost:8080/",
          "height": 34
        }
      },
      "source": [
        "type(conti)"
      ],
      "execution_count": 0,
      "outputs": [
        {
          "output_type": "execute_result",
          "data": {
            "text/plain": [
              "bs4.element.ResultSet"
            ]
          },
          "metadata": {
            "tags": []
          },
          "execution_count": 19
        }
      ]
    },
    {
      "cell_type": "code",
      "metadata": {
        "id": "6YVP0UjKc0PP",
        "colab_type": "code",
        "outputId": "cd3392b9-332b-469f-8937-004bdb3769be",
        "colab": {
          "base_uri": "https://localhost:8080/",
          "height": 319
        }
      },
      "source": [
        "conti[0]"
      ],
      "execution_count": 0,
      "outputs": [
        {
          "output_type": "execute_result",
          "data": {
            "text/plain": [
              "<div class=\"content\">\n",
              "<header>\n",
              "<h3 class=\"article-name\">On This Day in Space! Nov. 29, 1967: Australia Launches Its 1st Satellite</h3>\n",
              "<p class=\"byline\">\n",
              "<span class=\"by-author\">\n",
              "By\n",
              "<span style=\"white-space:nowrap\">\n",
              "Hanneke Weitering, </span>\n",
              "<span style=\"white-space:nowrap\">\n",
              "Elizabeth Howell </span>\n",
              "</span>\n",
              "<time class=\"published-date relative-date\" data-published-date=\"2019-11-29T13:10:52Z\" datetime=\"2019-11-29T13:10:52Z\"></time>\n",
              "</p>\n",
              "</header>\n",
              "<p class=\"synopsis\">\n",
              "On Nov. 29, 1967, the first Australian satellite launched. It was called the Weapons Research Establishment Satellite. See how it happened in our On This Day in Space video series!\n",
              "</p>\n",
              "</div>"
            ]
          },
          "metadata": {
            "tags": []
          },
          "execution_count": 20
        }
      ]
    },
    {
      "cell_type": "code",
      "metadata": {
        "id": "aLiz4sVTgfON",
        "colab_type": "code",
        "outputId": "0185b2b0-a367-4db3-fab4-6c20ba08a333",
        "colab": {
          "base_uri": "https://localhost:8080/",
          "height": 1000
        }
      },
      "source": [
        "conti = soup.find_all(class_=\"content\")\n",
        "#print(conti)\n",
        "for result in conti:\n",
        "  print(result)\n",
        " # art=result.find('aritcle-name')\n",
        " # print(art)\n",
        "  print(\" \")"
      ],
      "execution_count": 0,
      "outputs": [
        {
          "output_type": "stream",
          "text": [
            "<div class=\"content\">\n",
            "<header>\n",
            "<h3 class=\"article-name\">Pictures from Space! Our Image of the Day</h3>\n",
            "<p class=\"byline\">\n",
            "<span class=\"by-author\">\n",
            "By\n",
            "<span style=\"white-space:nowrap\">\n",
            "Space.com Staff </span>\n",
            "</span>\n",
            "<time class=\"published-date relative-date\" data-published-date=\"2019-11-29T15:03:24Z\" datetime=\"2019-11-29T15:03:24Z\"></time>\n",
            "</p>\n",
            "</header>\n",
            "<p class=\"synopsis\">\n",
            "While it's common for galaxies to coexist peacefully in the same cosmic neighborhood, these two galaxies are a bit too close for comfort.\n",
            "</p>\n",
            "</div>\n",
            " \n",
            "<div class=\"content\">\n",
            "<header>\n",
            "<h3 class=\"article-name\">Hallmark's Astronaut Snoopy Is 50% Off on Amazon (Timex Watches on Sale, Too!)</h3>\n",
            "<p class=\"byline\">\n",
            "<span class=\"by-author\">\n",
            "By\n",
            "<span style=\"white-space:nowrap\">\n",
            "Tariq Malik </span>\n",
            "</span>\n",
            "<time class=\"published-date relative-date\" data-published-date=\"2019-11-29T14:40:08Z\" datetime=\"2019-11-29T14:40:08Z\"></time>\n",
            "</p>\n",
            "</header>\n",
            "<p class=\"synopsis\">\n",
            "Hallmark's Astronaut Snoopy plush is 50% off for Black Friday, and it's joined by a Timex watch and ornament deals for the holidays.\n",
            "</p>\n",
            "</div>\n",
            " \n",
            "<div class=\"content\">\n",
            "<header>\n",
            "<h3 class=\"article-name\">Best Telescopes for Beginners (Easy to Use) — 2019 Guide</h3>\n",
            "<p class=\"byline\">\n",
            "<span class=\"by-author\">\n",
            "By\n",
            "<span style=\"white-space:nowrap\">\n",
            "David Sky Brody </span>\n",
            "</span>\n",
            "<time class=\"published-date relative-date\" data-published-date=\"2019-11-29T14:20:34Z\" datetime=\"2019-11-29T14:20:34Z\"></time>\n",
            "</p>\n",
            "</header>\n",
            "<p class=\"synopsis\">\n",
            "Here are the best beginner telescopes for the money; a computerized 'GoTo' scope driven by your smartphone or tablet, as well as a manually operated scope that comes fully assembled.\n",
            "</p>\n",
            "</div>\n",
            " \n",
            "<div class=\"content\">\n",
            "<header>\n",
            "<h3 class=\"article-name\">Best Telescopes for the Money - 2019 Reviews and Guide</h3>\n",
            "<p class=\"byline\">\n",
            "<span class=\"by-author\">\n",
            "By\n",
            "<span style=\"white-space:nowrap\">\n",
            "David Sky Brody </span>\n",
            "</span>\n",
            "<time class=\"published-date relative-date\" data-published-date=\"2019-11-29T14:18:58Z\" datetime=\"2019-11-29T14:18:58Z\"></time>\n",
            "</p>\n",
            "</header>\n",
            "<p class=\"synopsis\">\n",
            "</p>\n",
            "</div>\n",
            " \n",
            "<div class=\"content\">\n",
            "<header>\n",
            "<h3 class=\"article-name\">On This Day in Space! Nov. 29, 1967: Australia Launches Its 1st Satellite</h3>\n",
            "<p class=\"byline\">\n",
            "<span class=\"by-author\">\n",
            "By\n",
            "<span style=\"white-space:nowrap\">\n",
            "Hanneke Weitering, </span>\n",
            "<span style=\"white-space:nowrap\">\n",
            "Elizabeth Howell </span>\n",
            "</span>\n",
            "<time class=\"published-date relative-date\" data-published-date=\"2019-11-29T13:10:52Z\" datetime=\"2019-11-29T13:10:52Z\"></time>\n",
            "</p>\n",
            "</header>\n",
            "<p class=\"synopsis\">\n",
            "On Nov. 29, 1967, the first Australian satellite launched. It was called the Weapons Research Establishment Satellite. See how it happened in our On This Day in Space video series!\n",
            "</p>\n",
            "</div>\n",
            " \n",
            "<div class=\"content\">\n",
            "<header>\n",
            "<h3 class=\"article-name\">An Actor's 'Star Wars: Rise of Skywalker' Script Landed on eBay (But No, You Can't Bid On It)</h3>\n",
            "<p class=\"byline\">\n",
            "<span class=\"by-author\">\n",
            "By\n",
            "<span style=\"white-space:nowrap\">\n",
            "Chris Arrant </span>\n",
            "</span>\n",
            "<time class=\"published-date relative-date\" data-published-date=\"2019-11-29T12:39:57Z\" datetime=\"2019-11-29T12:39:57Z\"></time>\n",
            "</p>\n",
            "</header>\n",
            "<p class=\"synopsis\">\n",
            "Bothan spies? No, not in this case.\n",
            "</p>\n",
            "</div>\n",
            " \n",
            "<div class=\"content\">\n",
            "<header>\n",
            "<h3 class=\"article-name\">China's Big Ambitions for Space Are Riding on a December Launch</h3>\n",
            "<p class=\"byline\">\n",
            "<span class=\"by-author\">\n",
            "By\n",
            "<span style=\"white-space:nowrap\">\n",
            "Andrew Jones </span>\n",
            "</span>\n",
            "<time class=\"published-date relative-date\" data-published-date=\"2019-11-29T12:29:43Z\" datetime=\"2019-11-29T12:29:43Z\"></time>\n",
            "</p>\n",
            "</header>\n",
            "<p class=\"synopsis\">\n",
            "China recently staged a show test of its Mars lander looking ahead to the program's launch next summer. But an equally crucial mission component faces a different kind of test in December.\n",
            "</p>\n",
            "</div>\n",
            " \n",
            "<div class=\"content\">\n",
            "<header>\n",
            "<h3 class=\"article-name\">Astronaut Snoopy Floats on Space Station, Flies in Macy's Thanksgiving Day Parade</h3>\n",
            "<p class=\"byline\">\n",
            "<span class=\"by-author\">\n",
            "By\n",
            "<span style=\"white-space:nowrap\">\n",
            "Robert Z. Pearlman </span>\n",
            "</span>\n",
            "<time class=\"published-date relative-date\" data-published-date=\"2019-11-28T16:37:36Z\" datetime=\"2019-11-28T16:37:36Z\"></time>\n",
            "</p>\n",
            "</header>\n",
            "<p class=\"synopsis\">\n",
            "Snoopy, \"the world famous astronaut,\" has reached new heights — above the streets of New York City and aboard the International Space Station.\n",
            "</p>\n",
            "</div>\n",
            " \n",
            "<div class=\"content\">\n",
            "<header>\n",
            "<h3 class=\"article-name\">Watch Boeing's Starliner Meet Its Rocket for the 1st Time in This Awesome Drone Video</h3>\n",
            "<p class=\"byline\">\n",
            "<span class=\"by-author\">\n",
            "By\n",
            "<span style=\"white-space:nowrap\">\n",
            "Elizabeth Howell </span>\n",
            "</span>\n",
            "<time class=\"published-date relative-date\" data-published-date=\"2019-11-28T13:51:45Z\" datetime=\"2019-11-28T13:51:45Z\"></time>\n",
            "</p>\n",
            "</header>\n",
            "<p class=\"synopsis\">\n",
            "A drone flying around the Kennedy Space Center recently captured incredible footage of a small step forward for NASA's delayed commercial crew program.\n",
            "</p>\n",
            "</div>\n",
            " \n",
            "<div class=\"content\">\n",
            "<header>\n",
            "<h3 class=\"article-name\">Sphero's RVR Programmable Coding Robot Car Is $50 Off for Black Friday</h3>\n",
            "<p class=\"byline\">\n",
            "<span class=\"by-author\">\n",
            "By\n",
            "<span style=\"white-space:nowrap\">\n",
            "Tariq Malik </span>\n",
            "</span>\n",
            "<time class=\"published-date relative-date\" data-published-date=\"2019-11-28T13:38:20Z\" datetime=\"2019-11-28T13:38:20Z\"></time>\n",
            "</p>\n",
            "</header>\n",
            "<p class=\"synopsis\">\n",
            "Amazon has slashed the Sphere RVR price by 20% for Black Friday.\n",
            "</p>\n",
            "</div>\n",
            " \n",
            "<div class=\"content\">\n",
            "<header>\n",
            "<h3 class=\"article-name\">Thanksgiving Night Sky 2019: Venus, Jupiter and the Moon Gather for Skywatching Feast</h3>\n",
            "<p class=\"byline\">\n",
            "<span class=\"by-author\">\n",
            "By\n",
            "<span style=\"white-space:nowrap\">\n",
            "Joe Rao </span>\n",
            "</span>\n",
            "<time class=\"published-date relative-date\" data-published-date=\"2019-11-28T12:39:31Z\" datetime=\"2019-11-28T12:39:31Z\"></time>\n",
            "</p>\n",
            "</header>\n",
            "<p class=\"synopsis\">\n",
            "This week, Venus and Jupiter are very low in the southwest during the chilly November dusk.\n",
            "</p>\n",
            "</div>\n",
            " \n",
            "<div class=\"content\">\n",
            "<header>\n",
            "<h3 class=\"article-name\">Thanksgiving in Space: For Astronauts, It's a Cosmic Friendsgiving!</h3>\n",
            "<p class=\"byline\">\n",
            "<span class=\"by-author\">\n",
            "By\n",
            "<span style=\"white-space:nowrap\">\n",
            "Elizabeth Howell </span>\n",
            "</span>\n",
            "<time class=\"published-date relative-date\" data-published-date=\"2019-11-28T12:38:41Z\" datetime=\"2019-11-28T12:38:41Z\"></time>\n",
            "</p>\n",
            "</header>\n",
            "<p class=\"synopsis\">\n",
            "They may be circling hundreds of miles above the United States, but the three American residents of the International Space Station have a plan to celebrate Thanksgiving.\n",
            "</p>\n",
            "</div>\n",
            " \n",
            "<div class=\"content\">\n",
            "<header>\n",
            "<h3 class=\"article-name\">Explore Space in VR with $50 Off the Oculus Go This Black Friday</h3>\n",
            "<p class=\"byline\">\n",
            "<span class=\"by-author\">\n",
            "By\n",
            "<span style=\"white-space:nowrap\">\n",
            "Evan Kypreos </span>\n",
            "</span>\n",
            "<time class=\"published-date relative-date\" data-published-date=\"2019-11-28T10:01:40Z\" datetime=\"2019-11-28T10:01:40Z\"></time>\n",
            "</p>\n",
            "</header>\n",
            "<p class=\"synopsis\">\n",
            "Best Buy has slashed the price if the Oculus Go to by $50 for Black Friday.\n",
            "</p>\n",
            "</div>\n",
            " \n",
            "<div class=\"content\">\n",
            "<header>\n",
            "<h3 class=\"article-name\">NASA Wants to Book a Seat on a Short Private Mission to the Space Station </h3>\n",
            "<p class=\"byline\">\n",
            "<span class=\"by-author\">\n",
            "By\n",
            "<span style=\"white-space:nowrap\">\n",
            "Mike Wall </span>\n",
            "</span>\n",
            "<time class=\"published-date relative-date\" data-published-date=\"2019-11-27T23:04:07Z\" datetime=\"2019-11-27T23:04:07Z\"></time>\n",
            "</p>\n",
            "</header>\n",
            "<p class=\"synopsis\">\n",
            "The orbital jaunt would last just 15 to 30 days.\n",
            "</p>\n",
            "</div>\n",
            " \n",
            "<div class=\"content\">\n",
            "<header>\n",
            "<h3 class=\"article-name\">Cosmic Deal: You Can See Saturn with the Moon on Black Friday (It's Free!)</h3>\n",
            "<p class=\"byline\">\n",
            "<span class=\"by-author\">\n",
            "By\n",
            "<span style=\"white-space:nowrap\">\n",
            "Joe Rao </span>\n",
            "</span>\n",
            "<time class=\"published-date relative-date\" data-published-date=\"2019-11-27T20:45:38Z\" datetime=\"2019-11-27T20:45:38Z\"></time>\n",
            "</p>\n",
            "</header>\n",
            "<p class=\"synopsis\">\n",
            "After its Thanksgiving rendezvous with Jupiter and Venus, the moon will pay Saturn a visit on Black Friday (Nov. 29).\n",
            "</p>\n",
            "</div>\n",
            " \n",
            "<div class=\"content\">\n",
            "<header>\n",
            "<h3 class=\"article-name\">Astronaut Snoopy to Fly in Macy's 2019 Thanksgiving Day Parade, Pending Winds</h3>\n",
            "<p class=\"byline\">\n",
            "<span class=\"by-author\">\n",
            "By\n",
            "<span style=\"white-space:nowrap\">\n",
            "Robert Z. Pearlman </span>\n",
            "</span>\n",
            "<time class=\"published-date relative-date\" data-published-date=\"2019-11-27T20:33:45Z\" datetime=\"2019-11-27T20:33:45Z\"></time>\n",
            "</p>\n",
            "</header>\n",
            "<p class=\"synopsis\">\n",
            "Astronaut Snoopy is ready to fly, but like past spacesuited explorers, the weather may scrub his launch.\n",
            "</p>\n",
            "</div>\n",
            " \n",
            "<div class=\"content\">\n",
            "<header>\n",
            "<h3 class=\"article-name\">Happy Mars-iversary, InSight! NASA Lander Marks 1 Year on Red Planet</h3>\n",
            "<p class=\"byline\">\n",
            "<span class=\"by-author\">\n",
            "By\n",
            "<span style=\"white-space:nowrap\">\n",
            "Mike Wall </span>\n",
            "</span>\n",
            "<time class=\"published-date relative-date\" data-published-date=\"2019-11-27T18:45:55Z\" datetime=\"2019-11-27T18:45:55Z\"></time>\n",
            "</p>\n",
            "</header>\n",
            "<p class=\"synopsis\">\n",
            "How time does fly: NASA's InSight Mars lander has now been on the Red Planet for a full (Earth) year.\n",
            "</p>\n",
            "</div>\n",
            " \n",
            "<div class=\"content\">\n",
            "<header>\n",
            "<h3 class=\"article-name\">Rocket Lab to Take Big Step Toward Reusability with Launch Friday</h3>\n",
            "<p class=\"byline\">\n",
            "<span class=\"by-author\">\n",
            "By\n",
            "<span style=\"white-space:nowrap\">\n",
            "Mike Wall </span>\n",
            "</span>\n",
            "<time class=\"published-date relative-date\" data-published-date=\"2019-11-27T17:00:21Z\" datetime=\"2019-11-27T17:00:21Z\"></time>\n",
            "</p>\n",
            "</header>\n",
            "<p class=\"synopsis\">\n",
            "Rocket Lab will have a lot to be thankful for this Friday (Nov. 29), if all goes according to plan.\n",
            "</p>\n",
            "</div>\n",
            " \n",
            "<div class=\"content\">\n",
            "<header>\n",
            "<h3 class=\"article-name\">What If the Earth Was Flat?</h3>\n",
            "<p class=\"byline\">\n",
            "<span class=\"by-author\">\n",
            "By\n",
            "<span style=\"white-space:nowrap\">\n",
            "Stephanie Pappas </span>\n",
            "</span>\n",
            "<time class=\"published-date relative-date\" data-published-date=\"2019-11-27T17:00:02Z\" datetime=\"2019-11-27T17:00:02Z\"></time>\n",
            "</p>\n",
            "</header>\n",
            "<p class=\"synopsis\">\n",
            "A flat Earth would inhabit an entirely different physical reality than the one we know.\n",
            "</p>\n",
            "</div>\n",
            " \n",
            "<div class=\"content\">\n",
            "<header>\n",
            "<h3 class=\"article-name\">Astronomers Will Use Gravitational Waves to Observe a 'Black Hole Symphony'</h3>\n",
            "<p class=\"byline\">\n",
            "<span class=\"by-author\">\n",
            "By\n",
            "<span style=\"white-space:nowrap\">\n",
            "Samantha Mathewson </span>\n",
            "</span>\n",
            "<time class=\"published-date relative-date\" data-published-date=\"2019-11-27T16:00:44Z\" datetime=\"2019-11-27T16:00:44Z\"></time>\n",
            "</p>\n",
            "</header>\n",
            "<p class=\"synopsis\">\n",
            "Gravitational-wave astronomy may help researchers paint a more complete picture of black hole activity.\n",
            "</p>\n",
            "</div>\n",
            " \n"
          ],
          "name": "stdout"
        }
      ]
    },
    {
      "cell_type": "code",
      "metadata": {
        "id": "XnMRg4ms4ibP",
        "colab_type": "code",
        "outputId": "7abe04d6-d0ab-4f60-d260-038c8b4ef3d1",
        "colab": {
          "base_uri": "https://localhost:8080/",
          "height": 306
        }
      },
      "source": [
        "conti[2]"
      ],
      "execution_count": 0,
      "outputs": [
        {
          "output_type": "execute_result",
          "data": {
            "text/plain": [
              "<div class=\"content\">\n",
              "<header>\n",
              "<h3 class=\"article-name\">China's Big Ambitions for Space Are Riding on a December Launch</h3>\n",
              "<p class=\"byline\">\n",
              "<span class=\"by-author\">\n",
              "By\n",
              "<span style=\"white-space:nowrap\">\n",
              "Andrew Jones </span>\n",
              "</span>\n",
              "<time class=\"published-date relative-date\" data-published-date=\"2019-11-29T12:29:43Z\" datetime=\"2019-11-29T12:29:43Z\"></time>\n",
              "</p>\n",
              "</header>\n",
              "<p class=\"synopsis\">\n",
              "China recently staged a show test of its Mars lander looking ahead to the program's launch next summer. But an equally crucial mission component faces a different kind of test in December.\n",
              "</p>\n",
              "</div>"
            ]
          },
          "metadata": {
            "tags": []
          },
          "execution_count": 60
        }
      ]
    }
  ]
}