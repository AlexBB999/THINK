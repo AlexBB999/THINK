{
  "nbformat": 4,
  "nbformat_minor": 0,
  "metadata": {
    "colab": {
      "name": "EXP -1.ipynb",
      "provenance": [],
      "collapsed_sections": [],
      "include_colab_link": true
    },
    "kernelspec": {
      "name": "python3",
      "display_name": "Python 3"
    }
  },
  "cells": [
    {
      "cell_type": "markdown",
      "metadata": {
        "id": "view-in-github",
        "colab_type": "text"
      },
      "source": [
        "<a href=\"https://colab.research.google.com/github/AlexBB999/THINK/blob/master/EXP_1.ipynb\" target=\"_parent\"><img src=\"https://colab.research.google.com/assets/colab-badge.svg\" alt=\"Open In Colab\"/></a>"
      ]
    },
    {
      "cell_type": "code",
      "metadata": {
        "id": "wkvlvyGRi-7H",
        "colab_type": "code",
        "colab": {}
      },
      "source": [
        "import math\n",
        "import pandas as pd\n",
        "import numpy as np\n",
        "from scipy import stats\n",
        "import matplotlib.pyplot as plt"
      ],
      "execution_count": 0,
      "outputs": []
    },
    {
      "cell_type": "code",
      "metadata": {
        "id": "QX7YNSWsjJBS",
        "colab_type": "code",
        "colab": {}
      },
      "source": [
        "homes= pd.read_csv(\"https://raw.githubusercontent.com/AlexBB999/Thinkful/master/homeprices.applied.econ.csv\")"
      ],
      "execution_count": 0,
      "outputs": []
    },
    {
      "cell_type": "code",
      "metadata": {
        "id": "prRYrvtrjNzs",
        "colab_type": "code",
        "outputId": "ef23850c-bed8-4c3c-a741-65c5f804dea9",
        "colab": {
          "base_uri": "https://localhost:8080/",
          "height": 302
        }
      },
      "source": [
        "#homes.describe\n",
        "homes.info()"
      ],
      "execution_count": 3,
      "outputs": [
        {
          "output_type": "stream",
          "text": [
            "<class 'pandas.core.frame.DataFrame'>\n",
            "RangeIndex: 546 entries, 0 to 545\n",
            "Data columns (total 12 columns):\n",
            "price       546 non-null float64\n",
            "lotsize     546 non-null int64\n",
            "bedrooms    546 non-null int64\n",
            "bathrms     546 non-null int64\n",
            "stories     546 non-null int64\n",
            "driveway    546 non-null object\n",
            "recroom     546 non-null object\n",
            "fullbase    546 non-null object\n",
            "gashw       546 non-null object\n",
            "airco       546 non-null object\n",
            "garagepl    546 non-null int64\n",
            "prefarea    546 non-null object\n",
            "dtypes: float64(1), int64(5), object(6)\n",
            "memory usage: 51.3+ KB\n"
          ],
          "name": "stdout"
        }
      ]
    },
    {
      "cell_type": "code",
      "metadata": {
        "id": "HAGBB12Gjc3p",
        "colab_type": "code",
        "outputId": "2b1cf905-8031-46d9-a414-214034b76d1e",
        "colab": {
          "base_uri": "https://localhost:8080/",
          "height": 34
        }
      },
      "source": [
        "print(list(homes))"
      ],
      "execution_count": 4,
      "outputs": [
        {
          "output_type": "stream",
          "text": [
            "['price', 'lotsize', 'bedrooms', 'bathrms', 'stories', 'driveway', 'recroom', 'fullbase', 'gashw', 'airco', 'garagepl', 'prefarea']\n"
          ],
          "name": "stdout"
        }
      ]
    },
    {
      "cell_type": "code",
      "metadata": {
        "id": "QqhukQlPjlvx",
        "colab_type": "code",
        "colab": {}
      },
      "source": [
        "#[homes['price'][i] if homes['airco']=='yes' for i in range(546)]"
      ],
      "execution_count": 0,
      "outputs": []
    },
    {
      "cell_type": "markdown",
      "metadata": {
        "id": "blC5SKIIRu_7",
        "colab_type": "text"
      },
      "source": [
        "DO HOMES WITH AIR CONDITIONING HAVE A HIGHER SALES PRICE THAN HOMES WITHOUT AIR CONDITIONING?"
      ]
    },
    {
      "cell_type": "markdown",
      "metadata": {
        "id": "6igWsIN7RlQK",
        "colab_type": "text"
      },
      "source": [
        "ASSUMPTIONS:\n",
        "\n",
        "Test variables continuous\n",
        "\n",
        "No relationship between item\n",
        "\n",
        "Independent smaples drawn at random\n",
        "\n",
        "The test variable’s samples and populations are approximately normally distributed\n",
        "\n",
        "Reasonably large enough samples (>30)\n",
        "\n",
        "Variances are approximately equal in both the sample and population"
      ]
    },
    {
      "cell_type": "markdown",
      "metadata": {
        "id": "gvEzHnJqR3iO",
        "colab_type": "text"
      },
      "source": [
        "HYPOTHESIS (null hypothesis)\n",
        "\n",
        "Ho: u1-u2=0\n",
        "\n",
        "there is no difference in sample mean"
      ]
    },
    {
      "cell_type": "code",
      "metadata": {
        "id": "4B4nNopuj-yV",
        "colab_type": "code",
        "colab": {}
      },
      "source": [
        "air=[]\n",
        "no_air=[]\n",
        "for i in range(546):\n",
        "  if homes['airco'][i]=='yes': air.append(homes['price'][i])\n",
        "  if homes['airco'][i]=='no': no_air.append(homes['price'][i])"
      ],
      "execution_count": 0,
      "outputs": []
    },
    {
      "cell_type": "code",
      "metadata": {
        "id": "hmqMVKUvlOFC",
        "colab_type": "code",
        "outputId": "8d6e77d3-29a1-4e57-ed6a-b78d46d0ae01",
        "colab": {
          "base_uri": "https://localhost:8080/",
          "height": 34
        }
      },
      "source": [
        "len(air)"
      ],
      "execution_count": 6,
      "outputs": [
        {
          "output_type": "execute_result",
          "data": {
            "text/plain": [
              "173"
            ]
          },
          "metadata": {
            "tags": []
          },
          "execution_count": 6
        }
      ]
    },
    {
      "cell_type": "code",
      "metadata": {
        "id": "INvya5mGlXQt",
        "colab_type": "code",
        "outputId": "060af35b-a09e-42a5-e85c-fd284dffaf7b",
        "colab": {
          "base_uri": "https://localhost:8080/",
          "height": 34
        }
      },
      "source": [
        "len(no_air)"
      ],
      "execution_count": 7,
      "outputs": [
        {
          "output_type": "execute_result",
          "data": {
            "text/plain": [
              "373"
            ]
          },
          "metadata": {
            "tags": []
          },
          "execution_count": 7
        }
      ]
    },
    {
      "cell_type": "code",
      "metadata": {
        "id": "yTxTe-yNlnBx",
        "colab_type": "code",
        "outputId": "e81f9b04-097d-4db7-9126-07390a60f3b3",
        "colab": {
          "base_uri": "https://localhost:8080/",
          "height": 265
        }
      },
      "source": [
        "plt.hist(air, alpha = .5, color='r')\n",
        "plt.hist(no_air, alpha = .5)\n",
        "plt.show()"
      ],
      "execution_count": 8,
      "outputs": [
        {
          "output_type": "display_data",
          "data": {
            "image/png": "[encoded data removed]",
            "text/plain": [
              "<Figure size 432x288 with 1 Axes>"
            ]
          },
          "metadata": {
            "tags": []
          }
        }
      ]
    },
    {
      "cell_type": "code",
      "metadata": {
        "id": "W37XJUFdl2jh",
        "colab_type": "code",
        "outputId": "73b1d3e1-dc83-4fec-9052-a593d885edac",
        "colab": {
          "base_uri": "https://localhost:8080/",
          "height": 67
        }
      },
      "source": [
        "# skew and kurtosis\n",
        "print(stats.describe(air))\n",
        "print(' ')\n",
        "print(stats.describe(no_air))"
      ],
      "execution_count": 9,
      "outputs": [
        {
          "output_type": "stream",
          "text": [
            "DescribeResult(nobs=173, minmax=(31900.0, 190000.0), mean=85880.58959537573, variance=810167352.2317516, skewness=0.8558523643779228, kurtosis=0.9609338749117713)\n",
            " \n",
            "DescribeResult(nobs=373, minmax=(25000.0, 175000.0), mean=59884.85254691689, variance=455341800.98626363, skewness=1.4196100209360347, kurtosis=3.448225770991252)\n"
          ],
          "name": "stdout"
        }
      ]
    },
    {
      "cell_type": "markdown",
      "metadata": {
        "id": "z_yS4u6qUNdH",
        "colab_type": "text"
      },
      "source": [
        "SKEW AND KURTOSIS FOR AIR CONDITIONED HOMES WELL WITHIN VALUES FOR NORMALCY\n",
        "\n",
        "FOR NO AIR VALUES ARE BORDERLINE\n",
        "\n",
        "\n",
        "\n",
        "-1.5 to 1.5   FOR SKEW\n",
        "\n",
        "-2.5 to 2.5    FOR KURTOSIS"
      ]
    },
    {
      "cell_type": "code",
      "metadata": {
        "id": "NoQgvqNXmVm2",
        "colab_type": "code",
        "outputId": "df5931e0-03fb-4e8c-e153-eed8f392f93b",
        "colab": {
          "base_uri": "https://localhost:8080/",
          "height": 34
        }
      },
      "source": [
        "stats.ttest_ind(air, no_air)"
      ],
      "execution_count": 10,
      "outputs": [
        {
          "output_type": "execute_result",
          "data": {
            "text/plain": [
              "Ttest_indResult(statistic=11.862852780650169, pvalue=4.972721571759431e-29)"
            ]
          },
          "metadata": {
            "tags": []
          },
          "execution_count": 10
        }
      ]
    },
    {
      "cell_type": "code",
      "metadata": {
        "id": "XP67P2YBT8mN",
        "colab_type": "code",
        "colab": {}
      },
      "source": [
        ""
      ],
      "execution_count": 0,
      "outputs": []
    },
    {
      "cell_type": "markdown",
      "metadata": {
        "id": "zZU6dr1RmrRq",
        "colab_type": "text"
      },
      "source": [
        "EXTREMELY SMALL PVALUE AND TVALUE==> REJECT NULL"
      ]
    },
    {
      "cell_type": "code",
      "metadata": {
        "id": "W8rJFZ5IW4ng",
        "colab_type": "code",
        "colab": {}
      },
      "source": [
        "air_array=np.asarray(air)\n",
        "no_air_array=np.asarray(no_air)"
      ],
      "execution_count": 0,
      "outputs": []
    },
    {
      "cell_type": "markdown",
      "metadata": {
        "id": "78MvVZz0ViFv",
        "colab_type": "text"
      },
      "source": [
        "COMPUTE CONFIDENCE INTERVAL"
      ]
    },
    {
      "cell_type": "code",
      "metadata": {
        "id": "H7vTtZT8VgkH",
        "colab_type": "code",
        "colab": {}
      },
      "source": [
        "def get_95_ci(array_1, array_2):\n",
        "    sample_1_n = array_1.shape[0]\n",
        "    sample_2_n = array_2.shape[0]\n",
        "    sample_1_mean = array_1.mean()\n",
        "    sample_2_mean = array_2.mean()\n",
        "    sample_1_var = array_1.var()\n",
        "    sample_2_var = array_2.var()\n",
        "    mean_difference = sample_2_mean - sample_1_mean\n",
        "    std_err_difference = math.sqrt((sample_1_var/sample_1_n)+(sample_2_var/sample_2_n))\n",
        "    margin_of_error = 1.96 * std_err_difference\n",
        "    ci_lower = mean_difference - margin_of_error\n",
        "    ci_upper = mean_difference + margin_of_error\n",
        "    return(\"The difference in means at the 95% confidence interval (two-tail) is between \"+str(ci_lower)+\" and \"+str(ci_upper)+\".\")\n"
      ],
      "execution_count": 0,
      "outputs": []
    },
    {
      "cell_type": "code",
      "metadata": {
        "id": "Nzh5UVm-dTkr",
        "colab_type": "code",
        "colab": {
          "base_uri": "https://localhost:8080/",
          "height": 34
        },
        "outputId": "b29efd9f-4dd1-465e-fa09-a8878ca247e1"
      },
      "source": [
        "get_95_ci(no_air_array,air_array)"
      ],
      "execution_count": 26,
      "outputs": [
        {
          "output_type": "execute_result",
          "data": {
            "text/plain": [
              "'The difference in means at the 95% confidence interval (two-tail) is between 21245.632939062376 and 30745.841157855302.'"
            ]
          },
          "metadata": {
            "tags": []
          },
          "execution_count": 26
        }
      ]
    },
    {
      "cell_type": "markdown",
      "metadata": {
        "id": "6Zjn12nAoSxs",
        "colab_type": "text"
      },
      "source": [
        "POINTPLOT"
      ]
    },
    {
      "cell_type": "code",
      "metadata": {
        "id": "wU5iBOS5nkIe",
        "colab_type": "code",
        "outputId": "3f6a6bad-2dbb-4412-b4e2-0a647bdde6fd",
        "colab": {
          "base_uri": "https://localhost:8080/",
          "height": 283
        }
      },
      "source": [
        "import seaborn as sns\n",
        "\n",
        "g = sns.pointplot(data=[air,\n",
        "                        no_air], join=False)\n",
        "                        \n",
        "g.set(xticklabels = ['air_yes', 'air_no'])"
      ],
      "execution_count": 0,
      "outputs": [
        {
          "output_type": "execute_result",
          "data": {
            "text/plain": [
              "[[Text(0, 0, 'air_yes'), Text(0, 0, 'air_no')]]"
            ]
          },
          "metadata": {
            "tags": []
          },
          "execution_count": 30
        },
        {
          "output_type": "display_data",
          "data": {
            "image/png": "[encoded data removed]",
            "text/plain": [
              "<Figure size 432x288 with 1 Axes>"
            ]
          },
          "metadata": {
            "tags": []
          }
        }
      ]
    },
    {
      "cell_type": "markdown",
      "metadata": {
        "id": "9Muv6uqFX8EC",
        "colab_type": "text"
      },
      "source": [
        "======================================================\n",
        "\n",
        "======================================================\n",
        "\n",
        "DO HOMES WITH BASEMENTSHAVE A HIGHER SALES PRICE THAN HOMES WITHOUT BASEMENTS?"
      ]
    },
    {
      "cell_type": "code",
      "metadata": {
        "id": "HxC63692YBtP",
        "colab_type": "code",
        "colab": {}
      },
      "source": [
        "base=[]\n",
        "no_base=[]\n",
        "for i in range(546):\n",
        "  if homes['fullbase'][i]=='yes': base.append(homes['price'][i])\n",
        "  if homes['fullbase'][i]=='no': no_base.append(homes['price'][i])"
      ],
      "execution_count": 0,
      "outputs": []
    },
    {
      "cell_type": "code",
      "metadata": {
        "id": "qRHYT8mKYw0R",
        "colab_type": "code",
        "colab": {
          "base_uri": "https://localhost:8080/",
          "height": 265
        },
        "outputId": "f3bbb63e-99ca-4ef8-e812-ee4421563fb6"
      },
      "source": [
        "plt.hist(base, alpha = .5, color='r')\n",
        "plt.hist(no_base, alpha = .5)\n",
        "plt.show()"
      ],
      "execution_count": 17,
      "outputs": [
        {
          "output_type": "display_data",
          "data": {
            "image/png": "[encoded data removed]",
            "text/plain": [
              "<Figure size 432x288 with 1 Axes>"
            ]
          },
          "metadata": {
            "tags": []
          }
        }
      ]
    },
    {
      "cell_type": "code",
      "metadata": {
        "id": "4gp1mb0LY-1g",
        "colab_type": "code",
        "colab": {
          "base_uri": "https://localhost:8080/",
          "height": 67
        },
        "outputId": "f7bcf386-6ee0-4745-9105-68297bf4cde6"
      },
      "source": [
        "# skew and kurtosis\n",
        "print(stats.describe(base))\n",
        "print(' ')\n",
        "print(stats.describe(no_base))"
      ],
      "execution_count": 18,
      "outputs": [
        {
          "output_type": "stream",
          "text": [
            "DescribeResult(nobs=191, minmax=(26000.0, 175000.0), mean=74894.50261780104, variance=687483535.4092036, skewness=1.299439350765169, kurtosis=2.200944427832982)\n",
            " \n",
            "DescribeResult(nobs=355, minmax=(25000.0, 190000.0), mean=64477.58309859155, variance=690693014.1816344, skewness=1.2539001276811907, kurtosis=1.9898502593432044)\n"
          ],
          "name": "stdout"
        }
      ]
    },
    {
      "cell_type": "code",
      "metadata": {
        "id": "buXRgZP8ZLTE",
        "colab_type": "code",
        "colab": {
          "base_uri": "https://localhost:8080/",
          "height": 34
        },
        "outputId": "67fa7ddd-6605-426c-bd9d-a531d6721da3"
      },
      "source": [
        "stats.ttest_ind(base, no_base)"
      ],
      "execution_count": 19,
      "outputs": [
        {
          "output_type": "execute_result",
          "data": {
            "text/plain": [
              "Ttest_indResult(statistic=4.420628512286621, pvalue=1.1885626562866786e-05)"
            ]
          },
          "metadata": {
            "tags": []
          },
          "execution_count": 19
        }
      ]
    },
    {
      "cell_type": "code",
      "metadata": {
        "id": "K82Tv0uNa1N1",
        "colab_type": "code",
        "colab": {}
      },
      "source": [
        "LARGE PVALUE ==> ACCEPT NULL HYPOTHESES -- THERE IS NO SIGNIFICANT DIFFERENCE"
      ],
      "execution_count": 0,
      "outputs": []
    },
    {
      "cell_type": "markdown",
      "metadata": {
        "id": "5CgLj3G3ZxyM",
        "colab_type": "text"
      },
      "source": [
        "POINTPLOT"
      ]
    },
    {
      "cell_type": "code",
      "metadata": {
        "id": "tQ1IDZgEZ0Yw",
        "colab_type": "code",
        "colab": {
          "base_uri": "https://localhost:8080/",
          "height": 283
        },
        "outputId": "b0e325c4-ac40-4f20-b899-a160c360371d"
      },
      "source": [
        "import seaborn as sns\n",
        "\n",
        "g = sns.pointplot(data=[base,\n",
        "                        no_base], join=False)\n",
        "                        \n",
        "g.set(xticklabels = ['base_yes', 'base_no'])"
      ],
      "execution_count": 20,
      "outputs": [
        {
          "output_type": "execute_result",
          "data": {
            "text/plain": [
              "[[Text(0, 0, 'base_yes'), Text(0, 0, 'base_no')]]"
            ]
          },
          "metadata": {
            "tags": []
          },
          "execution_count": 20
        },
        {
          "output_type": "display_data",
          "data": {
            "image/png": "[encoded data removed]",
            "text/plain": [
              "<Figure size 432x288 with 1 Axes>"
            ]
          },
          "metadata": {
            "tags": []
          }
        }
      ]
    },
    {
      "cell_type": "code",
      "metadata": {
        "id": "_opjfC35aV-1",
        "colab_type": "code",
        "colab": {}
      },
      "source": [
        "base_array=np.asarray(base)\n",
        "no_base_array=np.asarray(no_base)"
      ],
      "execution_count": 0,
      "outputs": []
    },
    {
      "cell_type": "code",
      "metadata": {
        "id": "5VaDSILJasvC",
        "colab_type": "code",
        "colab": {
          "base_uri": "https://localhost:8080/",
          "height": 34
        },
        "outputId": "f264cb70-bbea-485a-97b7-c131efe213a1"
      },
      "source": [
        "get_95_ci(no_base_array,base_array)"
      ],
      "execution_count": 28,
      "outputs": [
        {
          "output_type": "execute_result",
          "data": {
            "text/plain": [
              "'The difference in means at the 95% confidence interval (two-tail) is between 5811.679067671446 and 15022.159970747538.'"
            ]
          },
          "metadata": {
            "tags": []
          },
          "execution_count": 28
        }
      ]
    }
  ]
}