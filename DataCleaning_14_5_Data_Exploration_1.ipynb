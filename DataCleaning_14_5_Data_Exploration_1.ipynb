{
  "nbformat": 4,
  "nbformat_minor": 0,
  "metadata": {
    "colab": {
      "name": "DataCleaning- 14.5 Data Exploration -1.ipynb",
      "provenance": [],
      "collapsed_sections": [],
      "authorship_tag": "ABX9TyOVRzJ7yGf/s1xJA1gml4Bt",
      "include_colab_link": true
    },
    "kernelspec": {
      "name": "python3",
      "display_name": "Python 3"
    }
  },
  "cells": [
    {
      "cell_type": "markdown",
      "metadata": {
        "id": "view-in-github",
        "colab_type": "text"
      },
      "source": [
        "<a href=\"https://colab.research.google.com/github/AlexBB999/THINK/blob/master/DataCleaning_14_5_Data_Exploration_1.ipynb\" target=\"_parent\"><img src=\"https://colab.research.google.com/assets/colab-badge.svg\" alt=\"Open In Colab\"/></a>"
      ]
    },
    {
      "cell_type": "code",
      "metadata": {
        "id": "3UoTyiqGSFka",
        "colab_type": "code",
        "colab": {}
      },
      "source": [
        "# Import the SQL ALchemy engine\n",
        "from sqlalchemy import create_engine"
      ],
      "execution_count": 0,
      "outputs": []
    },
    {
      "cell_type": "code",
      "metadata": {
        "id": "BSKHoV2sMrQV",
        "colab_type": "code",
        "colab": {}
      },
      "source": [
        "%matplotlib inline\n",
        "import pandas as pd\n",
        "import numpy as np\n",
        "import matplotlib.pyplot as plt\n",
        "from scipy import stats\n",
        "import scipy.stats as stats\n",
        "import statsmodels.stats.proportion as proportion\n",
        "from statsmodels.stats.weightstats import CompareMeans\n",
        "from scipy.stats.mstats import winsorize\n",
        "import seaborn as sns"
      ],
      "execution_count": 0,
      "outputs": []
    },
    {
      "cell_type": "code",
      "metadata": {
        "id": "S7ZaPb8BSJtT",
        "colab_type": "code",
        "colab": {}
      },
      "source": [
        "postgres_user = 'dsbc_student'\n",
        "postgres_pw = '7*.8G9QH21'\n",
        "postgres_host = '142.93.121.174'\n",
        "postgres_port = '5432'\n",
        "postgres_db = 'useducation'"
      ],
      "execution_count": 0,
      "outputs": []
    },
    {
      "cell_type": "code",
      "metadata": {
        "id": "ThQqq2agS2Vc",
        "colab_type": "code",
        "colab": {}
      },
      "source": [
        "# use the credentials to start a connection\n",
        "engine = create_engine('postgresql://{}:{}@{}:{}/{}'.format(\n",
        "    postgres_user, postgres_pw, postgres_host, postgres_port, postgres_db))"
      ],
      "execution_count": 0,
      "outputs": []
    },
    {
      "cell_type": "code",
      "metadata": {
        "id": "qK-boSHOTNsR",
        "colab_type": "code",
        "colab": {}
      },
      "source": [
        "ed0 = pd.read_sql_query('select * FROM useducation',con=engine)\n",
        "#educate= engine.execute('SELECT * FROM useducation' )\n",
        "engine.dispose()"
      ],
      "execution_count": 0,
      "outputs": []
    },
    {
      "cell_type": "code",
      "metadata": {
        "id": "IC2xC1n5TfNk",
        "colab_type": "code",
        "colab": {}
      },
      "source": [
        "# use fetchall() to get a list of rows from the results.\n",
        "#ed = educate.fetchall()"
      ],
      "execution_count": 0,
      "outputs": []
    },
    {
      "cell_type": "code",
      "metadata": {
        "id": "oMq9qU9_8s-D",
        "colab_type": "code",
        "colab": {}
      },
      "source": [
        "ed=ed0.copy()"
      ],
      "execution_count": 0,
      "outputs": []
    },
    {
      "cell_type": "code",
      "metadata": {
        "id": "C8AOb0aM0Epz",
        "colab_type": "code",
        "colab": {}
      },
      "source": [
        "ed1=ed0.copy()"
      ],
      "execution_count": 0,
      "outputs": []
    },
    {
      "cell_type": "code",
      "metadata": {
        "id": "_X9j2sr30w6h",
        "colab_type": "code",
        "colab": {
          "base_uri": "https://localhost:8080/",
          "height": 34
        },
        "outputId": "66f0b56e-3800-4734-d7bf-d6be2dbb2ff3"
      },
      "source": [
        "type(ed1)"
      ],
      "execution_count": 112,
      "outputs": [
        {
          "output_type": "execute_result",
          "data": {
            "text/plain": [
              "method"
            ]
          },
          "metadata": {
            "tags": []
          },
          "execution_count": 112
        }
      ]
    },
    {
      "cell_type": "code",
      "metadata": {
        "id": "s5Zkrfvp_qDO",
        "colab_type": "code",
        "colab": {}
      },
      "source": [
        "ed2=ed0.copy()"
      ],
      "execution_count": 0,
      "outputs": []
    },
    {
      "cell_type": "code",
      "metadata": {
        "id": "s_mRsBW90982",
        "colab_type": "code",
        "colab": {
          "base_uri": "https://localhost:8080/",
          "height": 34
        },
        "outputId": "c6d8a320-0af2-4e11-fa93-7b8279999720"
      },
      "source": [
        "type(ed2)"
      ],
      "execution_count": 117,
      "outputs": [
        {
          "output_type": "execute_result",
          "data": {
            "text/plain": [
              "pandas.core.frame.DataFrame"
            ]
          },
          "metadata": {
            "tags": []
          },
          "execution_count": 117
        }
      ]
    },
    {
      "cell_type": "code",
      "metadata": {
        "id": "x5EHGhzpz7td",
        "colab_type": "code",
        "outputId": "6686f2db-8a78-4421-d39f-6a56dccd15bd",
        "colab": {
          "base_uri": "https://localhost:8080/",
          "height": 156
        }
      },
      "source": [
        "ed2.head(3)"
      ],
      "execution_count": 8,
      "outputs": [
        {
          "output_type": "execute_result",
          "data": {
            "text/html": [
              "<div>\n",
              "<style scoped>\n",
              "    .dataframe tbody tr th:only-of-type {\n",
              "        vertical-align: middle;\n",
              "    }\n",
              "\n",
              "    .dataframe tbody tr th {\n",
              "        vertical-align: top;\n",
              "    }\n",
              "\n",
              "    .dataframe thead th {\n",
              "        text-align: right;\n",
              "    }\n",
              "</style>\n",
              "<table border=\"1\" class=\"dataframe\">\n",
              "  <thead>\n",
              "    <tr style=\"text-align: right;\">\n",
              "      <th></th>\n",
              "      <th>PRIMARY_KEY</th>\n",
              "      <th>STATE</th>\n",
              "      <th>YEAR</th>\n",
              "      <th>ENROLL</th>\n",
              "      <th>TOTAL_REVENUE</th>\n",
              "      <th>FEDERAL_REVENUE</th>\n",
              "      <th>STATE_REVENUE</th>\n",
              "      <th>LOCAL_REVENUE</th>\n",
              "      <th>TOTAL_EXPENDITURE</th>\n",
              "      <th>INSTRUCTION_EXPENDITURE</th>\n",
              "      <th>SUPPORT_SERVICES_EXPENDITURE</th>\n",
              "      <th>OTHER_EXPENDITURE</th>\n",
              "      <th>CAPITAL_OUTLAY_EXPENDITURE</th>\n",
              "      <th>GRADES_PK_G</th>\n",
              "      <th>GRADES_KG_G</th>\n",
              "      <th>GRADES_4_G</th>\n",
              "      <th>GRADES_8_G</th>\n",
              "      <th>GRADES_12_G</th>\n",
              "      <th>GRADES_1_8_G</th>\n",
              "      <th>GRADES_9_12_G</th>\n",
              "      <th>GRADES_ALL_G</th>\n",
              "      <th>AVG_MATH_4_SCORE</th>\n",
              "      <th>AVG_MATH_8_SCORE</th>\n",
              "      <th>AVG_READING_4_SCORE</th>\n",
              "      <th>AVG_READING_8_SCORE</th>\n",
              "    </tr>\n",
              "  </thead>\n",
              "  <tbody>\n",
              "    <tr>\n",
              "      <th>0</th>\n",
              "      <td>1992_ALABAMA</td>\n",
              "      <td>ALABAMA</td>\n",
              "      <td>1992</td>\n",
              "      <td>NaN</td>\n",
              "      <td>2678885.0</td>\n",
              "      <td>304177.0</td>\n",
              "      <td>1659028.0</td>\n",
              "      <td>715680.0</td>\n",
              "      <td>2653798.0</td>\n",
              "      <td>1481703.0</td>\n",
              "      <td>735036.0</td>\n",
              "      <td>NaN</td>\n",
              "      <td>174053.0</td>\n",
              "      <td>8224.0</td>\n",
              "      <td>55460.0</td>\n",
              "      <td>57948.0</td>\n",
              "      <td>58025.0</td>\n",
              "      <td>41167.0</td>\n",
              "      <td>471564.0</td>\n",
              "      <td>196386.0</td>\n",
              "      <td>676174.0</td>\n",
              "      <td>208.327876</td>\n",
              "      <td>252.187522</td>\n",
              "      <td>207.963517</td>\n",
              "      <td>NaN</td>\n",
              "    </tr>\n",
              "    <tr>\n",
              "      <th>1</th>\n",
              "      <td>1992_ALASKA</td>\n",
              "      <td>ALASKA</td>\n",
              "      <td>1992</td>\n",
              "      <td>NaN</td>\n",
              "      <td>1049591.0</td>\n",
              "      <td>106780.0</td>\n",
              "      <td>720711.0</td>\n",
              "      <td>222100.0</td>\n",
              "      <td>972488.0</td>\n",
              "      <td>498362.0</td>\n",
              "      <td>350902.0</td>\n",
              "      <td>NaN</td>\n",
              "      <td>37451.0</td>\n",
              "      <td>2371.0</td>\n",
              "      <td>10152.0</td>\n",
              "      <td>9748.0</td>\n",
              "      <td>8789.0</td>\n",
              "      <td>6714.0</td>\n",
              "      <td>79117.0</td>\n",
              "      <td>30847.0</td>\n",
              "      <td>112335.0</td>\n",
              "      <td>NaN</td>\n",
              "      <td>NaN</td>\n",
              "      <td>NaN</td>\n",
              "      <td>258.859712</td>\n",
              "    </tr>\n",
              "    <tr>\n",
              "      <th>2</th>\n",
              "      <td>1992_ARIZONA</td>\n",
              "      <td>ARIZONA</td>\n",
              "      <td>1992</td>\n",
              "      <td>NaN</td>\n",
              "      <td>3258079.0</td>\n",
              "      <td>297888.0</td>\n",
              "      <td>1369815.0</td>\n",
              "      <td>1590376.0</td>\n",
              "      <td>3401580.0</td>\n",
              "      <td>1435908.0</td>\n",
              "      <td>1007732.0</td>\n",
              "      <td>NaN</td>\n",
              "      <td>609114.0</td>\n",
              "      <td>2544.0</td>\n",
              "      <td>53497.0</td>\n",
              "      <td>55433.0</td>\n",
              "      <td>49081.0</td>\n",
              "      <td>37410.0</td>\n",
              "      <td>437127.0</td>\n",
              "      <td>175210.0</td>\n",
              "      <td>614881.0</td>\n",
              "      <td>215.253932</td>\n",
              "      <td>265.366278</td>\n",
              "      <td>206.212716</td>\n",
              "      <td>262.169895</td>\n",
              "    </tr>\n",
              "  </tbody>\n",
              "</table>\n",
              "</div>"
            ],
            "text/plain": [
              "    PRIMARY_KEY    STATE  ...  AVG_READING_4_SCORE  AVG_READING_8_SCORE\n",
              "0  1992_ALABAMA  ALABAMA  ...           207.963517                  NaN\n",
              "1   1992_ALASKA   ALASKA  ...                  NaN           258.859712\n",
              "2  1992_ARIZONA  ARIZONA  ...           206.212716           262.169895\n",
              "\n",
              "[3 rows x 25 columns]"
            ]
          },
          "metadata": {
            "tags": []
          },
          "execution_count": 8
        }
      ]
    },
    {
      "cell_type": "code",
      "metadata": {
        "id": "eHfBLmUD3gGC",
        "colab_type": "code",
        "outputId": "ec484d81-b526-4a16-e849-8f226431fedb",
        "colab": {
          "base_uri": "https://localhost:8080/",
          "height": 393
        }
      },
      "source": [
        "ed2.describe(include='all')"
      ],
      "execution_count": 0,
      "outputs": [
        {
          "output_type": "execute_result",
          "data": {
            "text/html": [
              "<div>\n",
              "<style scoped>\n",
              "    .dataframe tbody tr th:only-of-type {\n",
              "        vertical-align: middle;\n",
              "    }\n",
              "\n",
              "    .dataframe tbody tr th {\n",
              "        vertical-align: top;\n",
              "    }\n",
              "\n",
              "    .dataframe thead th {\n",
              "        text-align: right;\n",
              "    }\n",
              "</style>\n",
              "<table border=\"1\" class=\"dataframe\">\n",
              "  <thead>\n",
              "    <tr style=\"text-align: right;\">\n",
              "      <th></th>\n",
              "      <th>PRIMARY_KEY</th>\n",
              "      <th>STATE</th>\n",
              "      <th>YEAR</th>\n",
              "      <th>ENROLL</th>\n",
              "      <th>TOTAL_REVENUE</th>\n",
              "      <th>FEDERAL_REVENUE</th>\n",
              "      <th>STATE_REVENUE</th>\n",
              "      <th>LOCAL_REVENUE</th>\n",
              "      <th>TOTAL_EXPENDITURE</th>\n",
              "      <th>INSTRUCTION_EXPENDITURE</th>\n",
              "      <th>SUPPORT_SERVICES_EXPENDITURE</th>\n",
              "      <th>OTHER_EXPENDITURE</th>\n",
              "      <th>CAPITAL_OUTLAY_EXPENDITURE</th>\n",
              "      <th>GRADES_PK_G</th>\n",
              "      <th>GRADES_KG_G</th>\n",
              "      <th>GRADES_4_G</th>\n",
              "      <th>GRADES_8_G</th>\n",
              "      <th>GRADES_12_G</th>\n",
              "      <th>GRADES_1_8_G</th>\n",
              "      <th>GRADES_9_12_G</th>\n",
              "      <th>GRADES_ALL_G</th>\n",
              "      <th>AVG_MATH_4_SCORE</th>\n",
              "      <th>AVG_MATH_8_SCORE</th>\n",
              "      <th>AVG_READING_4_SCORE</th>\n",
              "      <th>AVG_READING_8_SCORE</th>\n",
              "    </tr>\n",
              "  </thead>\n",
              "  <tbody>\n",
              "    <tr>\n",
              "      <th>count</th>\n",
              "      <td>1492</td>\n",
              "      <td>1492</td>\n",
              "      <td>1492.000000</td>\n",
              "      <td>1.229000e+03</td>\n",
              "      <td>1.280000e+03</td>\n",
              "      <td>1.280000e+03</td>\n",
              "      <td>1.280000e+03</td>\n",
              "      <td>1.280000e+03</td>\n",
              "      <td>1.280000e+03</td>\n",
              "      <td>1.280000e+03</td>\n",
              "      <td>1.280000e+03</td>\n",
              "      <td>1.229000e+03</td>\n",
              "      <td>1.280000e+03</td>\n",
              "      <td>1319.000000</td>\n",
              "      <td>1360.000000</td>\n",
              "      <td>1361.000000</td>\n",
              "      <td>1361.000000</td>\n",
              "      <td>1361.00000</td>\n",
              "      <td>1.361000e+03</td>\n",
              "      <td>1.361000e+03</td>\n",
              "      <td>1.319000e+03</td>\n",
              "      <td>536.000000</td>\n",
              "      <td>532.000000</td>\n",
              "      <td>533.000000</td>\n",
              "      <td>498.000000</td>\n",
              "    </tr>\n",
              "    <tr>\n",
              "      <th>unique</th>\n",
              "      <td>1487</td>\n",
              "      <td>80</td>\n",
              "      <td>NaN</td>\n",
              "      <td>NaN</td>\n",
              "      <td>NaN</td>\n",
              "      <td>NaN</td>\n",
              "      <td>NaN</td>\n",
              "      <td>NaN</td>\n",
              "      <td>NaN</td>\n",
              "      <td>NaN</td>\n",
              "      <td>NaN</td>\n",
              "      <td>NaN</td>\n",
              "      <td>NaN</td>\n",
              "      <td>NaN</td>\n",
              "      <td>NaN</td>\n",
              "      <td>NaN</td>\n",
              "      <td>NaN</td>\n",
              "      <td>NaN</td>\n",
              "      <td>NaN</td>\n",
              "      <td>NaN</td>\n",
              "      <td>NaN</td>\n",
              "      <td>NaN</td>\n",
              "      <td>NaN</td>\n",
              "      <td>NaN</td>\n",
              "      <td>NaN</td>\n",
              "    </tr>\n",
              "    <tr>\n",
              "      <th>top</th>\n",
              "      <td>2008_VIRGINIA</td>\n",
              "      <td>DISTRICT_OF_COLUMBIA</td>\n",
              "      <td>NaN</td>\n",
              "      <td>NaN</td>\n",
              "      <td>NaN</td>\n",
              "      <td>NaN</td>\n",
              "      <td>NaN</td>\n",
              "      <td>NaN</td>\n",
              "      <td>NaN</td>\n",
              "      <td>NaN</td>\n",
              "      <td>NaN</td>\n",
              "      <td>NaN</td>\n",
              "      <td>NaN</td>\n",
              "      <td>NaN</td>\n",
              "      <td>NaN</td>\n",
              "      <td>NaN</td>\n",
              "      <td>NaN</td>\n",
              "      <td>NaN</td>\n",
              "      <td>NaN</td>\n",
              "      <td>NaN</td>\n",
              "      <td>NaN</td>\n",
              "      <td>NaN</td>\n",
              "      <td>NaN</td>\n",
              "      <td>NaN</td>\n",
              "      <td>NaN</td>\n",
              "    </tr>\n",
              "    <tr>\n",
              "      <th>freq</th>\n",
              "      <td>3</td>\n",
              "      <td>29</td>\n",
              "      <td>NaN</td>\n",
              "      <td>NaN</td>\n",
              "      <td>NaN</td>\n",
              "      <td>NaN</td>\n",
              "      <td>NaN</td>\n",
              "      <td>NaN</td>\n",
              "      <td>NaN</td>\n",
              "      <td>NaN</td>\n",
              "      <td>NaN</td>\n",
              "      <td>NaN</td>\n",
              "      <td>NaN</td>\n",
              "      <td>NaN</td>\n",
              "      <td>NaN</td>\n",
              "      <td>NaN</td>\n",
              "      <td>NaN</td>\n",
              "      <td>NaN</td>\n",
              "      <td>NaN</td>\n",
              "      <td>NaN</td>\n",
              "      <td>NaN</td>\n",
              "      <td>NaN</td>\n",
              "      <td>NaN</td>\n",
              "      <td>NaN</td>\n",
              "      <td>NaN</td>\n",
              "    </tr>\n",
              "    <tr>\n",
              "      <th>mean</th>\n",
              "      <td>NaN</td>\n",
              "      <td>NaN</td>\n",
              "      <td>2004.433646</td>\n",
              "      <td>9.159308e+05</td>\n",
              "      <td>9.092082e+06</td>\n",
              "      <td>7.663723e+05</td>\n",
              "      <td>4.216553e+06</td>\n",
              "      <td>4.109157e+06</td>\n",
              "      <td>9.196681e+06</td>\n",
              "      <td>4.762966e+06</td>\n",
              "      <td>2.680331e+06</td>\n",
              "      <td>4.292046e+05</td>\n",
              "      <td>9.027693e+05</td>\n",
              "      <td>17601.614102</td>\n",
              "      <td>63746.761029</td>\n",
              "      <td>64538.927259</td>\n",
              "      <td>64271.057311</td>\n",
              "      <td>54268.92432</td>\n",
              "      <td>5.192140e+05</td>\n",
              "      <td>2.470714e+05</td>\n",
              "      <td>8.024415e+05</td>\n",
              "      <td>234.768293</td>\n",
              "      <td>278.414711</td>\n",
              "      <td>218.866154</td>\n",
              "      <td>263.661132</td>\n",
              "    </tr>\n",
              "    <tr>\n",
              "      <th>std</th>\n",
              "      <td>NaN</td>\n",
              "      <td>NaN</td>\n",
              "      <td>7.393983</td>\n",
              "      <td>1.065280e+06</td>\n",
              "      <td>1.174519e+07</td>\n",
              "      <td>1.145242e+06</td>\n",
              "      <td>5.543072e+06</td>\n",
              "      <td>5.482971e+06</td>\n",
              "      <td>1.197813e+07</td>\n",
              "      <td>6.293004e+06</td>\n",
              "      <td>3.353349e+06</td>\n",
              "      <td>5.340693e+05</td>\n",
              "      <td>1.327562e+06</td>\n",
              "      <td>30016.166447</td>\n",
              "      <td>80205.138143</td>\n",
              "      <td>80293.387625</td>\n",
              "      <td>78910.545776</td>\n",
              "      <td>67889.27623</td>\n",
              "      <td>6.436384e+05</td>\n",
              "      <td>3.077056e+05</td>\n",
              "      <td>9.707031e+05</td>\n",
              "      <td>10.221511</td>\n",
              "      <td>10.159722</td>\n",
              "      <td>7.769616</td>\n",
              "      <td>6.803725</td>\n",
              "    </tr>\n",
              "    <tr>\n",
              "      <th>min</th>\n",
              "      <td>NaN</td>\n",
              "      <td>NaN</td>\n",
              "      <td>1992.000000</td>\n",
              "      <td>4.386600e+04</td>\n",
              "      <td>4.656500e+05</td>\n",
              "      <td>3.102000e+04</td>\n",
              "      <td>0.000000e+00</td>\n",
              "      <td>2.209300e+04</td>\n",
              "      <td>4.816650e+05</td>\n",
              "      <td>2.655490e+05</td>\n",
              "      <td>1.399630e+05</td>\n",
              "      <td>1.154100e+04</td>\n",
              "      <td>1.270800e+04</td>\n",
              "      <td>0.000000</td>\n",
              "      <td>544.000000</td>\n",
              "      <td>633.000000</td>\n",
              "      <td>437.000000</td>\n",
              "      <td>311.00000</td>\n",
              "      <td>4.878000e+03</td>\n",
              "      <td>1.808000e+03</td>\n",
              "      <td>7.254000e+03</td>\n",
              "      <td>187.134670</td>\n",
              "      <td>232.831510</td>\n",
              "      <td>178.557612</td>\n",
              "      <td>236.379102</td>\n",
              "    </tr>\n",
              "    <tr>\n",
              "      <th>25%</th>\n",
              "      <td>NaN</td>\n",
              "      <td>NaN</td>\n",
              "      <td>1998.000000</td>\n",
              "      <td>2.583140e+05</td>\n",
              "      <td>2.186305e+06</td>\n",
              "      <td>1.893540e+05</td>\n",
              "      <td>1.153097e+06</td>\n",
              "      <td>7.158345e+05</td>\n",
              "      <td>2.165404e+06</td>\n",
              "      <td>1.168032e+06</td>\n",
              "      <td>6.357900e+05</td>\n",
              "      <td>1.028310e+05</td>\n",
              "      <td>1.815645e+05</td>\n",
              "      <td>2021.000000</td>\n",
              "      <td>11745.000000</td>\n",
              "      <td>13739.000000</td>\n",
              "      <td>13342.000000</td>\n",
              "      <td>10919.00000</td>\n",
              "      <td>1.106260e+05</td>\n",
              "      <td>5.147100e+04</td>\n",
              "      <td>1.810650e+05</td>\n",
              "      <td>229.694352</td>\n",
              "      <td>272.761598</td>\n",
              "      <td>214.663401</td>\n",
              "      <td>259.533171</td>\n",
              "    </tr>\n",
              "    <tr>\n",
              "      <th>50%</th>\n",
              "      <td>NaN</td>\n",
              "      <td>NaN</td>\n",
              "      <td>2004.000000</td>\n",
              "      <td>6.483130e+05</td>\n",
              "      <td>5.079546e+06</td>\n",
              "      <td>4.033765e+05</td>\n",
              "      <td>2.537074e+06</td>\n",
              "      <td>2.055780e+06</td>\n",
              "      <td>5.234506e+06</td>\n",
              "      <td>2.657452e+06</td>\n",
              "      <td>1.525406e+06</td>\n",
              "      <td>2.715960e+05</td>\n",
              "      <td>5.102595e+05</td>\n",
              "      <td>8106.000000</td>\n",
              "      <td>41597.500000</td>\n",
              "      <td>43272.000000</td>\n",
              "      <td>43339.000000</td>\n",
              "      <td>36735.00000</td>\n",
              "      <td>3.457750e+05</td>\n",
              "      <td>1.642600e+05</td>\n",
              "      <td>5.503420e+05</td>\n",
              "      <td>237.238552</td>\n",
              "      <td>280.618803</td>\n",
              "      <td>220.416034</td>\n",
              "      <td>265.010912</td>\n",
              "    </tr>\n",
              "    <tr>\n",
              "      <th>75%</th>\n",
              "      <td>NaN</td>\n",
              "      <td>NaN</td>\n",
              "      <td>2011.000000</td>\n",
              "      <td>1.014528e+06</td>\n",
              "      <td>1.085985e+07</td>\n",
              "      <td>8.289660e+05</td>\n",
              "      <td>5.080939e+06</td>\n",
              "      <td>4.768680e+06</td>\n",
              "      <td>1.074519e+07</td>\n",
              "      <td>5.568028e+06</td>\n",
              "      <td>3.229651e+06</td>\n",
              "      <td>5.186000e+05</td>\n",
              "      <td>9.668515e+05</td>\n",
              "      <td>22295.000000</td>\n",
              "      <td>73865.250000</td>\n",
              "      <td>75481.000000</td>\n",
              "      <td>76566.000000</td>\n",
              "      <td>67460.00000</td>\n",
              "      <td>6.119050e+05</td>\n",
              "      <td>2.905020e+05</td>\n",
              "      <td>9.282755e+05</td>\n",
              "      <td>241.995486</td>\n",
              "      <td>285.347428</td>\n",
              "      <td>223.999337</td>\n",
              "      <td>268.190121</td>\n",
              "    </tr>\n",
              "    <tr>\n",
              "      <th>max</th>\n",
              "      <td>NaN</td>\n",
              "      <td>NaN</td>\n",
              "      <td>2017.000000</td>\n",
              "      <td>6.307022e+06</td>\n",
              "      <td>8.921726e+07</td>\n",
              "      <td>9.990221e+06</td>\n",
              "      <td>5.090457e+07</td>\n",
              "      <td>3.610526e+07</td>\n",
              "      <td>8.532013e+07</td>\n",
              "      <td>4.396452e+07</td>\n",
              "      <td>2.605802e+07</td>\n",
              "      <td>3.995951e+06</td>\n",
              "      <td>1.022366e+07</td>\n",
              "      <td>250911.000000</td>\n",
              "      <td>530531.000000</td>\n",
              "      <td>493415.000000</td>\n",
              "      <td>500143.000000</td>\n",
              "      <td>498403.00000</td>\n",
              "      <td>3.929869e+06</td>\n",
              "      <td>2.013687e+06</td>\n",
              "      <td>5.944746e+06</td>\n",
              "      <td>253.420961</td>\n",
              "      <td>300.568235</td>\n",
              "      <td>236.773867</td>\n",
              "      <td>280.499130</td>\n",
              "    </tr>\n",
              "  </tbody>\n",
              "</table>\n",
              "</div>"
            ],
            "text/plain": [
              "          PRIMARY_KEY  ... AVG_READING_8_SCORE\n",
              "count            1492  ...          498.000000\n",
              "unique           1487  ...                 NaN\n",
              "top     2008_VIRGINIA  ...                 NaN\n",
              "freq                3  ...                 NaN\n",
              "mean              NaN  ...          263.661132\n",
              "std               NaN  ...            6.803725\n",
              "min               NaN  ...          236.379102\n",
              "25%               NaN  ...          259.533171\n",
              "50%               NaN  ...          265.010912\n",
              "75%               NaN  ...          268.190121\n",
              "max               NaN  ...          280.499130\n",
              "\n",
              "[11 rows x 25 columns]"
            ]
          },
          "metadata": {
            "tags": []
          },
          "execution_count": 27
        }
      ]
    },
    {
      "cell_type": "code",
      "metadata": {
        "id": "ZEpqThn5muhQ",
        "colab_type": "code",
        "outputId": "ad79548b-9971-4246-c8ba-3eaa0b4d6754",
        "colab": {
          "base_uri": "https://localhost:8080/",
          "height": 166
        }
      },
      "source": [
        "ed2.describe(include=['O'])"
      ],
      "execution_count": 9,
      "outputs": [
        {
          "output_type": "execute_result",
          "data": {
            "text/html": [
              "<div>\n",
              "<style scoped>\n",
              "    .dataframe tbody tr th:only-of-type {\n",
              "        vertical-align: middle;\n",
              "    }\n",
              "\n",
              "    .dataframe tbody tr th {\n",
              "        vertical-align: top;\n",
              "    }\n",
              "\n",
              "    .dataframe thead th {\n",
              "        text-align: right;\n",
              "    }\n",
              "</style>\n",
              "<table border=\"1\" class=\"dataframe\">\n",
              "  <thead>\n",
              "    <tr style=\"text-align: right;\">\n",
              "      <th></th>\n",
              "      <th>PRIMARY_KEY</th>\n",
              "      <th>STATE</th>\n",
              "    </tr>\n",
              "  </thead>\n",
              "  <tbody>\n",
              "    <tr>\n",
              "      <th>count</th>\n",
              "      <td>1492</td>\n",
              "      <td>1492</td>\n",
              "    </tr>\n",
              "    <tr>\n",
              "      <th>unique</th>\n",
              "      <td>1487</td>\n",
              "      <td>80</td>\n",
              "    </tr>\n",
              "    <tr>\n",
              "      <th>top</th>\n",
              "      <td>2008_VIRGINIA</td>\n",
              "      <td>DISTRICT_OF_COLUMBIA</td>\n",
              "    </tr>\n",
              "    <tr>\n",
              "      <th>freq</th>\n",
              "      <td>3</td>\n",
              "      <td>29</td>\n",
              "    </tr>\n",
              "  </tbody>\n",
              "</table>\n",
              "</div>"
            ],
            "text/plain": [
              "          PRIMARY_KEY                 STATE\n",
              "count            1492                  1492\n",
              "unique           1487                    80\n",
              "top     2008_VIRGINIA  DISTRICT_OF_COLUMBIA\n",
              "freq                3                    29"
            ]
          },
          "metadata": {
            "tags": []
          },
          "execution_count": 9
        }
      ]
    },
    {
      "cell_type": "code",
      "metadata": {
        "id": "Gm_WRXh2aAYb",
        "colab_type": "code",
        "colab": {}
      },
      "source": [
        "#for column_name in ed.columns:\n",
        "    #print(\"Unique values in column {} are: {}\".format(column_name, ed[column_name].unique()))"
      ],
      "execution_count": 0,
      "outputs": []
    },
    {
      "cell_type": "markdown",
      "metadata": {
        "id": "CXnmzw1mZOoX",
        "colab_type": "text"
      },
      "source": [
        "GET A SENSE OF THE MAGNITUDE OF THE MSSING VALUES -- percentage missing for each column"
      ]
    },
    {
      "cell_type": "code",
      "metadata": {
        "id": "T2t-nHYJZVUL",
        "colab_type": "code",
        "colab": {}
      },
      "source": [
        "#ed2.isnull().sum()*100/ed.isnull().count()"
      ],
      "execution_count": 0,
      "outputs": []
    },
    {
      "cell_type": "code",
      "metadata": {
        "id": "atFkEO3gzSdr",
        "colab_type": "code",
        "colab": {}
      },
      "source": [
        "#ed2.isnull().sum()"
      ],
      "execution_count": 0,
      "outputs": []
    },
    {
      "cell_type": "code",
      "metadata": {
        "id": "TusgY7tUK-pz",
        "colab_type": "code",
        "colab": {}
      },
      "source": [
        "#ed2.drop(columns=['AVG_MATH_4_SCORE','AVG_MATH_8_SCORE','AVG_READING_4_SCORE','AVG_READING_8_SCORE'], inplace=True)"
      ],
      "execution_count": 0,
      "outputs": []
    },
    {
      "cell_type": "markdown",
      "metadata": {
        "id": "jGeHIXN52KkF",
        "colab_type": "text"
      },
      "source": [
        "AVG MATH AND READING GRADES 4 AND 8 ARE MISSING ALMOST 2/3 OF ENTRIES"
      ]
    },
    {
      "cell_type": "code",
      "metadata": {
        "colab_type": "code",
        "id": "fFWUizbQ0LtQ",
        "colab": {}
      },
      "source": [
        "fill_list = [\"ENROLL\", \"TOTAL_REVENUE\", \"FEDERAL_REVENUE\",\n",
        "\"STATE_REVENUE\", \"LOCAL_REVENUE\", \"TOTAL_EXPENDITURE\",\n",
        "\"INSTRUCTION_EXPENDITURE\", \"SUPPORT_SERVICES_EXPENDITURE\",\n",
        "\"OTHER_EXPENDITURE\", \"CAPITAL_OUTLAY_EXPENDITURE\", \"GRADES_PK_G\",\"GRADES_KG_G\", \n",
        "\"GRADES_4_G\", \"GRADES_8_G\", \"GRADES_12_G\", \"GRADES_1_8_G\", \"GRADES_9_12_G\", \"GRADES_ALL_G\"]"
      ],
      "execution_count": 0,
      "outputs": []
    },
    {
      "cell_type": "markdown",
      "metadata": {
        "id": "Aya2HPBZgvth",
        "colab_type": "text"
      },
      "source": [
        "**working through part of posted solution to understand what they did -- very slick**"
      ]
    },
    {
      "cell_type": "markdown",
      "metadata": {
        "id": "dLQmPbVBhAPf",
        "colab_type": "text"
      },
      "source": [
        "states = education_df[\"STATE\"].unique()\n",
        "\n",
        "for state in states:\n",
        "    education_df.loc[education_df[\"STATE\"] == state, fill_list] = education_df.loc[education_df[\"STATE\"] == state, fill_list].interpolate()"
      ]
    },
    {
      "cell_type": "code",
      "metadata": {
        "id": "VpUkoMGZjct6",
        "colab_type": "code",
        "colab": {}
      },
      "source": [
        "states = ed2[\"STATE\"].unique()\n",
        "\n",
        "for state in states:\n",
        "    ed2.loc[ed2[\"STATE\"] == state, fill_list] = ed2.loc[ed2[\"STATE\"] == state, fill_list].interpolate()"
      ],
      "execution_count": 0,
      "outputs": []
    },
    {
      "cell_type": "code",
      "metadata": {
        "id": "qHO31iJTjui2",
        "colab_type": "code",
        "outputId": "c85061af-ff5a-4263-e2f0-97ecc0581c8c",
        "colab": {
          "base_uri": "https://localhost:8080/",
          "height": 304
        }
      },
      "source": [
        "ed2.describe()"
      ],
      "execution_count": 12,
      "outputs": [
        {
          "output_type": "execute_result",
          "data": {
            "text/html": [
              "<div>\n",
              "<style scoped>\n",
              "    .dataframe tbody tr th:only-of-type {\n",
              "        vertical-align: middle;\n",
              "    }\n",
              "\n",
              "    .dataframe tbody tr th {\n",
              "        vertical-align: top;\n",
              "    }\n",
              "\n",
              "    .dataframe thead th {\n",
              "        text-align: right;\n",
              "    }\n",
              "</style>\n",
              "<table border=\"1\" class=\"dataframe\">\n",
              "  <thead>\n",
              "    <tr style=\"text-align: right;\">\n",
              "      <th></th>\n",
              "      <th>YEAR</th>\n",
              "      <th>ENROLL</th>\n",
              "      <th>TOTAL_REVENUE</th>\n",
              "      <th>FEDERAL_REVENUE</th>\n",
              "      <th>STATE_REVENUE</th>\n",
              "      <th>LOCAL_REVENUE</th>\n",
              "      <th>TOTAL_EXPENDITURE</th>\n",
              "      <th>INSTRUCTION_EXPENDITURE</th>\n",
              "      <th>SUPPORT_SERVICES_EXPENDITURE</th>\n",
              "      <th>OTHER_EXPENDITURE</th>\n",
              "      <th>CAPITAL_OUTLAY_EXPENDITURE</th>\n",
              "      <th>GRADES_PK_G</th>\n",
              "      <th>GRADES_KG_G</th>\n",
              "      <th>GRADES_4_G</th>\n",
              "      <th>GRADES_8_G</th>\n",
              "      <th>GRADES_12_G</th>\n",
              "      <th>GRADES_1_8_G</th>\n",
              "      <th>GRADES_9_12_G</th>\n",
              "      <th>GRADES_ALL_G</th>\n",
              "      <th>AVG_MATH_4_SCORE</th>\n",
              "      <th>AVG_MATH_8_SCORE</th>\n",
              "      <th>AVG_READING_4_SCORE</th>\n",
              "      <th>AVG_READING_8_SCORE</th>\n",
              "    </tr>\n",
              "  </thead>\n",
              "  <tbody>\n",
              "    <tr>\n",
              "      <th>count</th>\n",
              "      <td>1492.000000</td>\n",
              "      <td>1.281000e+03</td>\n",
              "      <td>1.331000e+03</td>\n",
              "      <td>1.331000e+03</td>\n",
              "      <td>1.331000e+03</td>\n",
              "      <td>1.331000e+03</td>\n",
              "      <td>1.331000e+03</td>\n",
              "      <td>1.331000e+03</td>\n",
              "      <td>1.331000e+03</td>\n",
              "      <td>1.281000e+03</td>\n",
              "      <td>1.331000e+03</td>\n",
              "      <td>1443.000000</td>\n",
              "      <td>1485.000000</td>\n",
              "      <td>1485.000000</td>\n",
              "      <td>1485.000000</td>\n",
              "      <td>1485.000000</td>\n",
              "      <td>1.485000e+03</td>\n",
              "      <td>1.485000e+03</td>\n",
              "      <td>1.443000e+03</td>\n",
              "      <td>536.000000</td>\n",
              "      <td>532.000000</td>\n",
              "      <td>533.000000</td>\n",
              "      <td>498.000000</td>\n",
              "    </tr>\n",
              "    <tr>\n",
              "      <th>mean</th>\n",
              "      <td>2004.433646</td>\n",
              "      <td>9.166431e+05</td>\n",
              "      <td>9.246804e+06</td>\n",
              "      <td>7.772786e+05</td>\n",
              "      <td>4.289618e+06</td>\n",
              "      <td>4.179907e+06</td>\n",
              "      <td>9.342417e+06</td>\n",
              "      <td>4.844756e+06</td>\n",
              "      <td>2.725092e+06</td>\n",
              "      <td>4.348513e+05</td>\n",
              "      <td>9.086405e+05</td>\n",
              "      <td>17941.337838</td>\n",
              "      <td>63355.545791</td>\n",
              "      <td>64216.228283</td>\n",
              "      <td>63883.304040</td>\n",
              "      <td>54378.534680</td>\n",
              "      <td>5.161999e+05</td>\n",
              "      <td>2.463631e+05</td>\n",
              "      <td>8.016962e+05</td>\n",
              "      <td>234.768293</td>\n",
              "      <td>278.414711</td>\n",
              "      <td>218.866154</td>\n",
              "      <td>263.661132</td>\n",
              "    </tr>\n",
              "    <tr>\n",
              "      <th>std</th>\n",
              "      <td>7.393983</td>\n",
              "      <td>1.067856e+06</td>\n",
              "      <td>1.200350e+07</td>\n",
              "      <td>1.155857e+06</td>\n",
              "      <td>5.674137e+06</td>\n",
              "      <td>5.608607e+06</td>\n",
              "      <td>1.220752e+07</td>\n",
              "      <td>6.433283e+06</td>\n",
              "      <td>3.420267e+06</td>\n",
              "      <td>5.426507e+05</td>\n",
              "      <td>1.330097e+06</td>\n",
              "      <td>30147.098502</td>\n",
              "      <td>80564.817911</td>\n",
              "      <td>80504.894652</td>\n",
              "      <td>79037.699179</td>\n",
              "      <td>68781.870366</td>\n",
              "      <td>6.442378e+05</td>\n",
              "      <td>3.092694e+05</td>\n",
              "      <td>9.820252e+05</td>\n",
              "      <td>10.221511</td>\n",
              "      <td>10.159722</td>\n",
              "      <td>7.769616</td>\n",
              "      <td>6.803725</td>\n",
              "    </tr>\n",
              "    <tr>\n",
              "      <th>min</th>\n",
              "      <td>1992.000000</td>\n",
              "      <td>4.386600e+04</td>\n",
              "      <td>4.656500e+05</td>\n",
              "      <td>3.102000e+04</td>\n",
              "      <td>0.000000e+00</td>\n",
              "      <td>2.209300e+04</td>\n",
              "      <td>4.816650e+05</td>\n",
              "      <td>2.655490e+05</td>\n",
              "      <td>1.399630e+05</td>\n",
              "      <td>1.154100e+04</td>\n",
              "      <td>1.270800e+04</td>\n",
              "      <td>0.000000</td>\n",
              "      <td>544.000000</td>\n",
              "      <td>633.000000</td>\n",
              "      <td>437.000000</td>\n",
              "      <td>311.000000</td>\n",
              "      <td>4.878000e+03</td>\n",
              "      <td>1.808000e+03</td>\n",
              "      <td>7.254000e+03</td>\n",
              "      <td>187.134670</td>\n",
              "      <td>232.831510</td>\n",
              "      <td>178.557612</td>\n",
              "      <td>236.379102</td>\n",
              "    </tr>\n",
              "    <tr>\n",
              "      <th>25%</th>\n",
              "      <td>1998.000000</td>\n",
              "      <td>2.583140e+05</td>\n",
              "      <td>2.200842e+06</td>\n",
              "      <td>1.910190e+05</td>\n",
              "      <td>1.172219e+06</td>\n",
              "      <td>7.254095e+05</td>\n",
              "      <td>2.176975e+06</td>\n",
              "      <td>1.177296e+06</td>\n",
              "      <td>6.447875e+05</td>\n",
              "      <td>1.043740e+05</td>\n",
              "      <td>1.840940e+05</td>\n",
              "      <td>2021.000000</td>\n",
              "      <td>11502.000000</td>\n",
              "      <td>13311.000000</td>\n",
              "      <td>13018.000000</td>\n",
              "      <td>10741.000000</td>\n",
              "      <td>1.071090e+05</td>\n",
              "      <td>5.008300e+04</td>\n",
              "      <td>1.727145e+05</td>\n",
              "      <td>229.694352</td>\n",
              "      <td>272.761598</td>\n",
              "      <td>214.663401</td>\n",
              "      <td>259.533171</td>\n",
              "    </tr>\n",
              "    <tr>\n",
              "      <th>50%</th>\n",
              "      <td>2004.000000</td>\n",
              "      <td>6.515540e+05</td>\n",
              "      <td>5.169926e+06</td>\n",
              "      <td>4.100510e+05</td>\n",
              "      <td>2.578149e+06</td>\n",
              "      <td>2.089445e+06</td>\n",
              "      <td>5.298267e+06</td>\n",
              "      <td>2.688963e+06</td>\n",
              "      <td>1.545738e+06</td>\n",
              "      <td>2.741430e+05</td>\n",
              "      <td>5.161160e+05</td>\n",
              "      <td>8282.000000</td>\n",
              "      <td>41224.000000</td>\n",
              "      <td>42784.000000</td>\n",
              "      <td>43018.000000</td>\n",
              "      <td>36469.000000</td>\n",
              "      <td>3.425700e+05</td>\n",
              "      <td>1.622720e+05</td>\n",
              "      <td>5.449220e+05</td>\n",
              "      <td>237.238552</td>\n",
              "      <td>280.618803</td>\n",
              "      <td>220.416034</td>\n",
              "      <td>265.010912</td>\n",
              "    </tr>\n",
              "    <tr>\n",
              "      <th>75%</th>\n",
              "      <td>2011.000000</td>\n",
              "      <td>1.014528e+06</td>\n",
              "      <td>1.109900e+07</td>\n",
              "      <td>8.440360e+05</td>\n",
              "      <td>5.185174e+06</td>\n",
              "      <td>4.808003e+06</td>\n",
              "      <td>1.087317e+07</td>\n",
              "      <td>5.641158e+06</td>\n",
              "      <td>3.307162e+06</td>\n",
              "      <td>5.261780e+05</td>\n",
              "      <td>9.739965e+05</td>\n",
              "      <td>23087.500000</td>\n",
              "      <td>73831.000000</td>\n",
              "      <td>75322.000000</td>\n",
              "      <td>76376.000000</td>\n",
              "      <td>67716.000000</td>\n",
              "      <td>6.102640e+05</td>\n",
              "      <td>2.913940e+05</td>\n",
              "      <td>9.282755e+05</td>\n",
              "      <td>241.995486</td>\n",
              "      <td>285.347428</td>\n",
              "      <td>223.999337</td>\n",
              "      <td>268.190121</td>\n",
              "    </tr>\n",
              "    <tr>\n",
              "      <th>max</th>\n",
              "      <td>2017.000000</td>\n",
              "      <td>6.307022e+06</td>\n",
              "      <td>8.921726e+07</td>\n",
              "      <td>9.990221e+06</td>\n",
              "      <td>5.090457e+07</td>\n",
              "      <td>3.610526e+07</td>\n",
              "      <td>8.532013e+07</td>\n",
              "      <td>4.396452e+07</td>\n",
              "      <td>2.605802e+07</td>\n",
              "      <td>3.995951e+06</td>\n",
              "      <td>1.022366e+07</td>\n",
              "      <td>250911.000000</td>\n",
              "      <td>530531.000000</td>\n",
              "      <td>493415.000000</td>\n",
              "      <td>500143.000000</td>\n",
              "      <td>498403.000000</td>\n",
              "      <td>3.929869e+06</td>\n",
              "      <td>2.013687e+06</td>\n",
              "      <td>5.944746e+06</td>\n",
              "      <td>253.420961</td>\n",
              "      <td>300.568235</td>\n",
              "      <td>236.773867</td>\n",
              "      <td>280.499130</td>\n",
              "    </tr>\n",
              "  </tbody>\n",
              "</table>\n",
              "</div>"
            ],
            "text/plain": [
              "              YEAR        ENROLL  ...  AVG_READING_4_SCORE  AVG_READING_8_SCORE\n",
              "count  1492.000000  1.281000e+03  ...           533.000000           498.000000\n",
              "mean   2004.433646  9.166431e+05  ...           218.866154           263.661132\n",
              "std       7.393983  1.067856e+06  ...             7.769616             6.803725\n",
              "min    1992.000000  4.386600e+04  ...           178.557612           236.379102\n",
              "25%    1998.000000  2.583140e+05  ...           214.663401           259.533171\n",
              "50%    2004.000000  6.515540e+05  ...           220.416034           265.010912\n",
              "75%    2011.000000  1.014528e+06  ...           223.999337           268.190121\n",
              "max    2017.000000  6.307022e+06  ...           236.773867           280.499130\n",
              "\n",
              "[8 rows x 23 columns]"
            ]
          },
          "metadata": {
            "tags": []
          },
          "execution_count": 12
        }
      ]
    },
    {
      "cell_type": "code",
      "metadata": {
        "id": "l8u1DgtK0VWR",
        "colab_type": "code",
        "colab": {}
      },
      "source": [
        "#for col in fill_list:\n",
        " # ed2[col]=ed2[col].interpolate()"
      ],
      "execution_count": 0,
      "outputs": []
    },
    {
      "cell_type": "code",
      "metadata": {
        "id": "cg1-JOEXaZuK",
        "colab_type": "code",
        "colab": {}
      },
      "source": [
        "ed2.dropna(inplace=True)\n"
      ],
      "execution_count": 0,
      "outputs": []
    },
    {
      "cell_type": "code",
      "metadata": {
        "id": "vMmcgX8ZH8cZ",
        "colab_type": "code",
        "outputId": "e41c9649-6f62-44e1-ad14-ab13154ac471",
        "colab": {
          "base_uri": "https://localhost:8080/",
          "height": 393
        }
      },
      "source": [
        "ed2.describe(include='all')"
      ],
      "execution_count": 15,
      "outputs": [
        {
          "output_type": "execute_result",
          "data": {
            "text/html": [
              "<div>\n",
              "<style scoped>\n",
              "    .dataframe tbody tr th:only-of-type {\n",
              "        vertical-align: middle;\n",
              "    }\n",
              "\n",
              "    .dataframe tbody tr th {\n",
              "        vertical-align: top;\n",
              "    }\n",
              "\n",
              "    .dataframe thead th {\n",
              "        text-align: right;\n",
              "    }\n",
              "</style>\n",
              "<table border=\"1\" class=\"dataframe\">\n",
              "  <thead>\n",
              "    <tr style=\"text-align: right;\">\n",
              "      <th></th>\n",
              "      <th>PRIMARY_KEY</th>\n",
              "      <th>STATE</th>\n",
              "      <th>YEAR</th>\n",
              "      <th>ENROLL</th>\n",
              "      <th>TOTAL_REVENUE</th>\n",
              "      <th>FEDERAL_REVENUE</th>\n",
              "      <th>STATE_REVENUE</th>\n",
              "      <th>LOCAL_REVENUE</th>\n",
              "      <th>TOTAL_EXPENDITURE</th>\n",
              "      <th>INSTRUCTION_EXPENDITURE</th>\n",
              "      <th>SUPPORT_SERVICES_EXPENDITURE</th>\n",
              "      <th>OTHER_EXPENDITURE</th>\n",
              "      <th>CAPITAL_OUTLAY_EXPENDITURE</th>\n",
              "      <th>GRADES_PK_G</th>\n",
              "      <th>GRADES_KG_G</th>\n",
              "      <th>GRADES_4_G</th>\n",
              "      <th>GRADES_8_G</th>\n",
              "      <th>GRADES_12_G</th>\n",
              "      <th>GRADES_1_8_G</th>\n",
              "      <th>GRADES_9_12_G</th>\n",
              "      <th>GRADES_ALL_G</th>\n",
              "      <th>AVG_MATH_4_SCORE</th>\n",
              "      <th>AVG_MATH_8_SCORE</th>\n",
              "      <th>AVG_READING_4_SCORE</th>\n",
              "      <th>AVG_READING_8_SCORE</th>\n",
              "    </tr>\n",
              "  </thead>\n",
              "  <tbody>\n",
              "    <tr>\n",
              "      <th>count</th>\n",
              "      <td>466</td>\n",
              "      <td>466</td>\n",
              "      <td>466.000000</td>\n",
              "      <td>4.660000e+02</td>\n",
              "      <td>4.660000e+02</td>\n",
              "      <td>4.660000e+02</td>\n",
              "      <td>4.660000e+02</td>\n",
              "      <td>4.660000e+02</td>\n",
              "      <td>4.660000e+02</td>\n",
              "      <td>4.660000e+02</td>\n",
              "      <td>4.660000e+02</td>\n",
              "      <td>4.660000e+02</td>\n",
              "      <td>4.660000e+02</td>\n",
              "      <td>466.000000</td>\n",
              "      <td>466.000000</td>\n",
              "      <td>466.00000</td>\n",
              "      <td>466.00000</td>\n",
              "      <td>466.000000</td>\n",
              "      <td>4.660000e+02</td>\n",
              "      <td>4.660000e+02</td>\n",
              "      <td>4.660000e+02</td>\n",
              "      <td>466.000000</td>\n",
              "      <td>466.000000</td>\n",
              "      <td>466.000000</td>\n",
              "      <td>466.000000</td>\n",
              "    </tr>\n",
              "    <tr>\n",
              "      <th>unique</th>\n",
              "      <td>465</td>\n",
              "      <td>51</td>\n",
              "      <td>NaN</td>\n",
              "      <td>NaN</td>\n",
              "      <td>NaN</td>\n",
              "      <td>NaN</td>\n",
              "      <td>NaN</td>\n",
              "      <td>NaN</td>\n",
              "      <td>NaN</td>\n",
              "      <td>NaN</td>\n",
              "      <td>NaN</td>\n",
              "      <td>NaN</td>\n",
              "      <td>NaN</td>\n",
              "      <td>NaN</td>\n",
              "      <td>NaN</td>\n",
              "      <td>NaN</td>\n",
              "      <td>NaN</td>\n",
              "      <td>NaN</td>\n",
              "      <td>NaN</td>\n",
              "      <td>NaN</td>\n",
              "      <td>NaN</td>\n",
              "      <td>NaN</td>\n",
              "      <td>NaN</td>\n",
              "      <td>NaN</td>\n",
              "      <td>NaN</td>\n",
              "    </tr>\n",
              "    <tr>\n",
              "      <th>top</th>\n",
              "      <td>2009_DISTRICT_OF_COLUMBIA</td>\n",
              "      <td>DISTRICT_OF_COLUMBIA</td>\n",
              "      <td>NaN</td>\n",
              "      <td>NaN</td>\n",
              "      <td>NaN</td>\n",
              "      <td>NaN</td>\n",
              "      <td>NaN</td>\n",
              "      <td>NaN</td>\n",
              "      <td>NaN</td>\n",
              "      <td>NaN</td>\n",
              "      <td>NaN</td>\n",
              "      <td>NaN</td>\n",
              "      <td>NaN</td>\n",
              "      <td>NaN</td>\n",
              "      <td>NaN</td>\n",
              "      <td>NaN</td>\n",
              "      <td>NaN</td>\n",
              "      <td>NaN</td>\n",
              "      <td>NaN</td>\n",
              "      <td>NaN</td>\n",
              "      <td>NaN</td>\n",
              "      <td>NaN</td>\n",
              "      <td>NaN</td>\n",
              "      <td>NaN</td>\n",
              "      <td>NaN</td>\n",
              "    </tr>\n",
              "    <tr>\n",
              "      <th>freq</th>\n",
              "      <td>2</td>\n",
              "      <td>11</td>\n",
              "      <td>NaN</td>\n",
              "      <td>NaN</td>\n",
              "      <td>NaN</td>\n",
              "      <td>NaN</td>\n",
              "      <td>NaN</td>\n",
              "      <td>NaN</td>\n",
              "      <td>NaN</td>\n",
              "      <td>NaN</td>\n",
              "      <td>NaN</td>\n",
              "      <td>NaN</td>\n",
              "      <td>NaN</td>\n",
              "      <td>NaN</td>\n",
              "      <td>NaN</td>\n",
              "      <td>NaN</td>\n",
              "      <td>NaN</td>\n",
              "      <td>NaN</td>\n",
              "      <td>NaN</td>\n",
              "      <td>NaN</td>\n",
              "      <td>NaN</td>\n",
              "      <td>NaN</td>\n",
              "      <td>NaN</td>\n",
              "      <td>NaN</td>\n",
              "      <td>NaN</td>\n",
              "    </tr>\n",
              "    <tr>\n",
              "      <th>mean</th>\n",
              "      <td>NaN</td>\n",
              "      <td>NaN</td>\n",
              "      <td>2008.577253</td>\n",
              "      <td>9.442125e+05</td>\n",
              "      <td>1.078853e+07</td>\n",
              "      <td>9.568659e+05</td>\n",
              "      <td>4.999548e+06</td>\n",
              "      <td>4.832112e+06</td>\n",
              "      <td>1.086947e+07</td>\n",
              "      <td>5.638251e+06</td>\n",
              "      <td>3.181222e+06</td>\n",
              "      <td>4.913261e+05</td>\n",
              "      <td>1.038843e+06</td>\n",
              "      <td>22874.634120</td>\n",
              "      <td>72083.415236</td>\n",
              "      <td>72515.82618</td>\n",
              "      <td>72917.07618</td>\n",
              "      <td>64773.880901</td>\n",
              "      <td>5.836186e+05</td>\n",
              "      <td>2.867026e+05</td>\n",
              "      <td>8.933042e+05</td>\n",
              "      <td>236.909728</td>\n",
              "      <td>279.802668</td>\n",
              "      <td>219.508638</td>\n",
              "      <td>263.789943</td>\n",
              "    </tr>\n",
              "    <tr>\n",
              "      <th>std</th>\n",
              "      <td>NaN</td>\n",
              "      <td>NaN</td>\n",
              "      <td>5.779779</td>\n",
              "      <td>1.122051e+06</td>\n",
              "      <td>1.356335e+07</td>\n",
              "      <td>1.330702e+06</td>\n",
              "      <td>6.405481e+06</td>\n",
              "      <td>6.325995e+06</td>\n",
              "      <td>1.373667e+07</td>\n",
              "      <td>7.255903e+06</td>\n",
              "      <td>3.840941e+06</td>\n",
              "      <td>6.009649e+05</td>\n",
              "      <td>1.482245e+06</td>\n",
              "      <td>34605.068547</td>\n",
              "      <td>87006.137056</td>\n",
              "      <td>86463.95300</td>\n",
              "      <td>85835.16237</td>\n",
              "      <td>77557.604833</td>\n",
              "      <td>6.925615e+05</td>\n",
              "      <td>3.408161e+05</td>\n",
              "      <td>1.060080e+06</td>\n",
              "      <td>8.695903</td>\n",
              "      <td>9.381511</td>\n",
              "      <td>7.426546</td>\n",
              "      <td>6.875627</td>\n",
              "    </tr>\n",
              "    <tr>\n",
              "      <th>min</th>\n",
              "      <td>NaN</td>\n",
              "      <td>NaN</td>\n",
              "      <td>1996.000000</td>\n",
              "      <td>4.417900e+04</td>\n",
              "      <td>6.788740e+05</td>\n",
              "      <td>5.787000e+04</td>\n",
              "      <td>0.000000e+00</td>\n",
              "      <td>2.853100e+04</td>\n",
              "      <td>7.032450e+05</td>\n",
              "      <td>3.182600e+05</td>\n",
              "      <td>2.041170e+05</td>\n",
              "      <td>2.310700e+04</td>\n",
              "      <td>1.545200e+04</td>\n",
              "      <td>91.000000</td>\n",
              "      <td>4528.000000</td>\n",
              "      <td>3423.00000</td>\n",
              "      <td>2860.00000</td>\n",
              "      <td>2188.000000</td>\n",
              "      <td>2.676200e+04</td>\n",
              "      <td>9.970000e+03</td>\n",
              "      <td>3.682300e+04</td>\n",
              "      <td>187.134670</td>\n",
              "      <td>232.831510</td>\n",
              "      <td>181.626990</td>\n",
              "      <td>236.379102</td>\n",
              "    </tr>\n",
              "    <tr>\n",
              "      <th>25%</th>\n",
              "      <td>NaN</td>\n",
              "      <td>NaN</td>\n",
              "      <td>2005.000000</td>\n",
              "      <td>2.794832e+05</td>\n",
              "      <td>2.712660e+06</td>\n",
              "      <td>2.614470e+05</td>\n",
              "      <td>1.491747e+06</td>\n",
              "      <td>9.513430e+05</td>\n",
              "      <td>2.670300e+06</td>\n",
              "      <td>1.416288e+06</td>\n",
              "      <td>8.472295e+05</td>\n",
              "      <td>1.296515e+05</td>\n",
              "      <td>2.443388e+05</td>\n",
              "      <td>3753.000000</td>\n",
              "      <td>20988.000000</td>\n",
              "      <td>20489.75000</td>\n",
              "      <td>20880.25000</td>\n",
              "      <td>18527.750000</td>\n",
              "      <td>1.666395e+05</td>\n",
              "      <td>8.194400e+04</td>\n",
              "      <td>2.596278e+05</td>\n",
              "      <td>232.760641</td>\n",
              "      <td>274.707118</td>\n",
              "      <td>215.338956</td>\n",
              "      <td>259.661771</td>\n",
              "    </tr>\n",
              "    <tr>\n",
              "      <th>50%</th>\n",
              "      <td>NaN</td>\n",
              "      <td>NaN</td>\n",
              "      <td>2009.000000</td>\n",
              "      <td>6.639415e+05</td>\n",
              "      <td>6.106834e+06</td>\n",
              "      <td>5.544340e+05</td>\n",
              "      <td>3.021544e+06</td>\n",
              "      <td>2.442983e+06</td>\n",
              "      <td>6.249671e+06</td>\n",
              "      <td>3.186679e+06</td>\n",
              "      <td>1.899310e+06</td>\n",
              "      <td>3.271845e+05</td>\n",
              "      <td>6.059525e+05</td>\n",
              "      <td>13068.500000</td>\n",
              "      <td>51156.500000</td>\n",
              "      <td>50918.00000</td>\n",
              "      <td>50114.50000</td>\n",
              "      <td>41543.000000</td>\n",
              "      <td>4.067475e+05</td>\n",
              "      <td>1.868900e+05</td>\n",
              "      <td>6.264775e+05</td>\n",
              "      <td>238.394124</td>\n",
              "      <td>281.531587</td>\n",
              "      <td>221.130461</td>\n",
              "      <td>265.217081</td>\n",
              "    </tr>\n",
              "    <tr>\n",
              "      <th>75%</th>\n",
              "      <td>NaN</td>\n",
              "      <td>NaN</td>\n",
              "      <td>2013.000000</td>\n",
              "      <td>1.018588e+06</td>\n",
              "      <td>1.222407e+07</td>\n",
              "      <td>1.033414e+06</td>\n",
              "      <td>6.240349e+06</td>\n",
              "      <td>5.488079e+06</td>\n",
              "      <td>1.195951e+07</td>\n",
              "      <td>6.154768e+06</td>\n",
              "      <td>3.667420e+06</td>\n",
              "      <td>5.609385e+05</td>\n",
              "      <td>1.046753e+06</td>\n",
              "      <td>28808.500000</td>\n",
              "      <td>79618.000000</td>\n",
              "      <td>79929.50000</td>\n",
              "      <td>80949.75000</td>\n",
              "      <td>75641.250000</td>\n",
              "      <td>6.424952e+05</td>\n",
              "      <td>3.234915e+05</td>\n",
              "      <td>9.758625e+05</td>\n",
              "      <td>242.602566</td>\n",
              "      <td>286.197041</td>\n",
              "      <td>224.531280</td>\n",
              "      <td>268.307884</td>\n",
              "    </tr>\n",
              "    <tr>\n",
              "      <th>max</th>\n",
              "      <td>NaN</td>\n",
              "      <td>NaN</td>\n",
              "      <td>2017.000000</td>\n",
              "      <td>6.307022e+06</td>\n",
              "      <td>8.921726e+07</td>\n",
              "      <td>9.990221e+06</td>\n",
              "      <td>5.090457e+07</td>\n",
              "      <td>3.610526e+07</td>\n",
              "      <td>8.532013e+07</td>\n",
              "      <td>4.396452e+07</td>\n",
              "      <td>2.605802e+07</td>\n",
              "      <td>3.995951e+06</td>\n",
              "      <td>1.022366e+07</td>\n",
              "      <td>249524.000000</td>\n",
              "      <td>530531.000000</td>\n",
              "      <td>493415.00000</td>\n",
              "      <td>500143.00000</td>\n",
              "      <td>498403.000000</td>\n",
              "      <td>3.929869e+06</td>\n",
              "      <td>2.011865e+06</td>\n",
              "      <td>5.926631e+06</td>\n",
              "      <td>253.420961</td>\n",
              "      <td>300.568235</td>\n",
              "      <td>236.773867</td>\n",
              "      <td>280.499130</td>\n",
              "    </tr>\n",
              "  </tbody>\n",
              "</table>\n",
              "</div>"
            ],
            "text/plain": [
              "                      PRIMARY_KEY  ... AVG_READING_8_SCORE\n",
              "count                         466  ...          466.000000\n",
              "unique                        465  ...                 NaN\n",
              "top     2009_DISTRICT_OF_COLUMBIA  ...                 NaN\n",
              "freq                            2  ...                 NaN\n",
              "mean                          NaN  ...          263.789943\n",
              "std                           NaN  ...            6.875627\n",
              "min                           NaN  ...          236.379102\n",
              "25%                           NaN  ...          259.661771\n",
              "50%                           NaN  ...          265.217081\n",
              "75%                           NaN  ...          268.307884\n",
              "max                           NaN  ...          280.499130\n",
              "\n",
              "[11 rows x 25 columns]"
            ]
          },
          "metadata": {
            "tags": []
          },
          "execution_count": 15
        }
      ]
    },
    {
      "cell_type": "code",
      "metadata": {
        "id": "CM624qQPIaNx",
        "colab_type": "code",
        "outputId": "cab9a372-9715-4b7f-afc6-188b2e96dd91",
        "colab": {
          "base_uri": "https://localhost:8080/",
          "height": 521
        }
      },
      "source": [
        "ed2.info()"
      ],
      "execution_count": 16,
      "outputs": [
        {
          "output_type": "stream",
          "text": [
            "<class 'pandas.core.frame.DataFrame'>\n",
            "Int64Index: 466 entries, 209 to 1491\n",
            "Data columns (total 25 columns):\n",
            "PRIMARY_KEY                     466 non-null object\n",
            "STATE                           466 non-null object\n",
            "YEAR                            466 non-null int64\n",
            "ENROLL                          466 non-null float64\n",
            "TOTAL_REVENUE                   466 non-null float64\n",
            "FEDERAL_REVENUE                 466 non-null float64\n",
            "STATE_REVENUE                   466 non-null float64\n",
            "LOCAL_REVENUE                   466 non-null float64\n",
            "TOTAL_EXPENDITURE               466 non-null float64\n",
            "INSTRUCTION_EXPENDITURE         466 non-null float64\n",
            "SUPPORT_SERVICES_EXPENDITURE    466 non-null float64\n",
            "OTHER_EXPENDITURE               466 non-null float64\n",
            "CAPITAL_OUTLAY_EXPENDITURE      466 non-null float64\n",
            "GRADES_PK_G                     466 non-null float64\n",
            "GRADES_KG_G                     466 non-null float64\n",
            "GRADES_4_G                      466 non-null float64\n",
            "GRADES_8_G                      466 non-null float64\n",
            "GRADES_12_G                     466 non-null float64\n",
            "GRADES_1_8_G                    466 non-null float64\n",
            "GRADES_9_12_G                   466 non-null float64\n",
            "GRADES_ALL_G                    466 non-null float64\n",
            "AVG_MATH_4_SCORE                466 non-null float64\n",
            "AVG_MATH_8_SCORE                466 non-null float64\n",
            "AVG_READING_4_SCORE             466 non-null float64\n",
            "AVG_READING_8_SCORE             466 non-null float64\n",
            "dtypes: float64(22), int64(1), object(2)\n",
            "memory usage: 94.7+ KB\n"
          ],
          "name": "stdout"
        }
      ]
    },
    {
      "cell_type": "code",
      "metadata": {
        "id": "wd0P4hLDIkYy",
        "colab_type": "code",
        "outputId": "6d778083-eaec-47af-b1d7-8b288f8382c5",
        "colab": {
          "base_uri": "https://localhost:8080/",
          "height": 454
        }
      },
      "source": [
        "ed2.isnull().sum()"
      ],
      "execution_count": 18,
      "outputs": [
        {
          "output_type": "execute_result",
          "data": {
            "text/plain": [
              "PRIMARY_KEY                     0\n",
              "STATE                           0\n",
              "YEAR                            0\n",
              "ENROLL                          0\n",
              "TOTAL_REVENUE                   0\n",
              "FEDERAL_REVENUE                 0\n",
              "STATE_REVENUE                   0\n",
              "LOCAL_REVENUE                   0\n",
              "TOTAL_EXPENDITURE               0\n",
              "INSTRUCTION_EXPENDITURE         0\n",
              "SUPPORT_SERVICES_EXPENDITURE    0\n",
              "OTHER_EXPENDITURE               0\n",
              "CAPITAL_OUTLAY_EXPENDITURE      0\n",
              "GRADES_PK_G                     0\n",
              "GRADES_KG_G                     0\n",
              "GRADES_4_G                      0\n",
              "GRADES_8_G                      0\n",
              "GRADES_12_G                     0\n",
              "GRADES_1_8_G                    0\n",
              "GRADES_9_12_G                   0\n",
              "GRADES_ALL_G                    0\n",
              "AVG_MATH_4_SCORE                0\n",
              "AVG_MATH_8_SCORE                0\n",
              "AVG_READING_4_SCORE             0\n",
              "AVG_READING_8_SCORE             0\n",
              "dtype: int64"
            ]
          },
          "metadata": {
            "tags": []
          },
          "execution_count": 18
        }
      ]
    },
    {
      "cell_type": "code",
      "metadata": {
        "id": "xYrIvuvxMa3M",
        "colab_type": "code",
        "outputId": "168f386a-f2a4-4ba4-c3f7-5db3fc3641a3",
        "colab": {
          "base_uri": "https://localhost:8080/",
          "height": 34
        }
      },
      "source": [
        "len(fill_list)"
      ],
      "execution_count": 19,
      "outputs": [
        {
          "output_type": "execute_result",
          "data": {
            "text/plain": [
              "18"
            ]
          },
          "metadata": {
            "tags": []
          },
          "execution_count": 19
        }
      ]
    },
    {
      "cell_type": "markdown",
      "metadata": {
        "id": "lw5tltYIM86c",
        "colab_type": "text"
      },
      "source": [
        "Univariate visualization"
      ]
    },
    {
      "cell_type": "markdown",
      "metadata": {
        "id": "Owj0u4IqMO3R",
        "colab_type": "text"
      },
      "source": [
        "**so do i need to check 18 column for outliers or just winsorize the whole thing??????**\n",
        "\n"
      ]
    },
    {
      "cell_type": "markdown",
      "metadata": {
        "id": "vagqDaffPu3-",
        "colab_type": "text"
      },
      "source": [
        "///////////////////////////////////////////////////////////////////////////////////////////////////////////\n"
      ]
    },
    {
      "cell_type": "code",
      "metadata": {
        "id": "7Slw1xciIAfS",
        "colab_type": "code",
        "colab": {}
      },
      "source": [
        "#plt.subplot(3, 3, 9)\n",
        "#plt.hist(np.log(youtube_df[\"Video views\"]))\n",
        "#plt.title(\"histogram of video views (log transformed)\")\n"
      ],
      "execution_count": 0,
      "outputs": []
    },
    {
      "cell_type": "code",
      "metadata": {
        "id": "uAxZ0DO-LG10",
        "colab_type": "code",
        "outputId": "e98d8997-b975-48e1-d331-95e7f60d3671",
        "colab": {
          "base_uri": "https://localhost:8080/",
          "height": 1000
        }
      },
      "source": [
        "plt.figure(figsize=(15,20))\n",
        "i=0\n",
        "while i<17:\n",
        "  for col in fill_list:\n",
        "    i=i+1\n",
        "    plt.subplot(6,3,i)\n",
        "    plt.boxplot(ed2[col])\n",
        "    plt.title(col)\n",
        "plt.show()"
      ],
      "execution_count": 20,
      "outputs": [
        {
          "output_type": "display_data",
          "data": {
            "image/png": "[encoded data removed]",
            "text/plain": [
              "<Figure size 1080x1440 with 18 Axes>"
            ]
          },
          "metadata": {
            "tags": []
          }
        }
      ]
    },
    {
      "cell_type": "markdown",
      "metadata": {
        "id": "qcEm4jyF1VMt",
        "colab_type": "text"
      },
      "source": [
        "//////////////////////////////////////////////////////////////////////////////////////////////////////////////////////////////////////////////"
      ]
    },
    {
      "cell_type": "markdown",
      "metadata": {
        "id": "HeWZ2DJE7Xep",
        "colab_type": "text"
      },
      "source": [
        "**WINSORIZE ALL NUMERIC COLUMNS**\n",
        "\n",
        "\n"
      ]
    },
    {
      "cell_type": "code",
      "metadata": {
        "id": "qUMEpFJXq0WG",
        "colab_type": "code",
        "colab": {}
      },
      "source": [
        "for col in fill_list:\n",
        "  ed2[col] = winsorize(ed2[col], (0.0, 0.12))"
      ],
      "execution_count": 0,
      "outputs": []
    },
    {
      "cell_type": "code",
      "metadata": {
        "id": "v_7u8EitOFk0",
        "colab_type": "code",
        "outputId": "c11fc1c7-e716-4476-e0d0-29c3357dfb60",
        "colab": {
          "base_uri": "https://localhost:8080/",
          "height": 1000
        }
      },
      "source": [
        "plt.figure(figsize=(15,20))\n",
        "i=0\n",
        "while i<18:\n",
        "  for col in fill_list:\n",
        "    i=i+1\n",
        "    plt.subplot(6,3,i)\n",
        "    #plt.boxplot(ed2[col])\n",
        "    plt.hist(ed2[col])\n",
        "    plt.title(col)\n",
        "plt.show()"
      ],
      "execution_count": 0,
      "outputs": [
        {
          "output_type": "display_data",
          "data": {
            "image/png": "[encoded data removed]",
            "text/plain": [
              "<Figure size 1080x1440 with 18 Axes>"
            ]
          },
          "metadata": {
            "tags": []
          }
        }
      ]
    },
    {
      "cell_type": "markdown",
      "metadata": {
        "id": "4bWJPK5xsFmc",
        "colab_type": "text"
      },
      "source": [
        "for col in fill_list:\n",
        "  plt.boxplot(ed2[col],whis=1.5)\n",
        "  plt.title( col)\n",
        "  plt.show()"
      ]
    },
    {
      "cell_type": "code",
      "metadata": {
        "id": "u1lyovqLsYRM",
        "colab_type": "code",
        "outputId": "ea7066f2-d8e0-472f-b503-875d37de4666",
        "colab": {
          "base_uri": "https://localhost:8080/",
          "height": 393
        }
      },
      "source": [
        "ed2.describe(include='all')"
      ],
      "execution_count": 22,
      "outputs": [
        {
          "output_type": "execute_result",
          "data": {
            "text/html": [
              "<div>\n",
              "<style scoped>\n",
              "    .dataframe tbody tr th:only-of-type {\n",
              "        vertical-align: middle;\n",
              "    }\n",
              "\n",
              "    .dataframe tbody tr th {\n",
              "        vertical-align: top;\n",
              "    }\n",
              "\n",
              "    .dataframe thead th {\n",
              "        text-align: right;\n",
              "    }\n",
              "</style>\n",
              "<table border=\"1\" class=\"dataframe\">\n",
              "  <thead>\n",
              "    <tr style=\"text-align: right;\">\n",
              "      <th></th>\n",
              "      <th>PRIMARY_KEY</th>\n",
              "      <th>STATE</th>\n",
              "      <th>YEAR</th>\n",
              "      <th>ENROLL</th>\n",
              "      <th>TOTAL_REVENUE</th>\n",
              "      <th>FEDERAL_REVENUE</th>\n",
              "      <th>STATE_REVENUE</th>\n",
              "      <th>LOCAL_REVENUE</th>\n",
              "      <th>TOTAL_EXPENDITURE</th>\n",
              "      <th>INSTRUCTION_EXPENDITURE</th>\n",
              "      <th>SUPPORT_SERVICES_EXPENDITURE</th>\n",
              "      <th>OTHER_EXPENDITURE</th>\n",
              "      <th>CAPITAL_OUTLAY_EXPENDITURE</th>\n",
              "      <th>GRADES_PK_G</th>\n",
              "      <th>GRADES_KG_G</th>\n",
              "      <th>GRADES_4_G</th>\n",
              "      <th>GRADES_8_G</th>\n",
              "      <th>GRADES_12_G</th>\n",
              "      <th>GRADES_1_8_G</th>\n",
              "      <th>GRADES_9_12_G</th>\n",
              "      <th>GRADES_ALL_G</th>\n",
              "      <th>AVG_MATH_4_SCORE</th>\n",
              "      <th>AVG_MATH_8_SCORE</th>\n",
              "      <th>AVG_READING_4_SCORE</th>\n",
              "      <th>AVG_READING_8_SCORE</th>\n",
              "    </tr>\n",
              "  </thead>\n",
              "  <tbody>\n",
              "    <tr>\n",
              "      <th>count</th>\n",
              "      <td>466</td>\n",
              "      <td>466</td>\n",
              "      <td>466.000000</td>\n",
              "      <td>4.660000e+02</td>\n",
              "      <td>4.660000e+02</td>\n",
              "      <td>4.660000e+02</td>\n",
              "      <td>4.660000e+02</td>\n",
              "      <td>4.660000e+02</td>\n",
              "      <td>4.660000e+02</td>\n",
              "      <td>4.660000e+02</td>\n",
              "      <td>4.660000e+02</td>\n",
              "      <td>466.000000</td>\n",
              "      <td>4.660000e+02</td>\n",
              "      <td>466.000000</td>\n",
              "      <td>466.000000</td>\n",
              "      <td>466.000000</td>\n",
              "      <td>466.000000</td>\n",
              "      <td>466.000000</td>\n",
              "      <td>4.660000e+02</td>\n",
              "      <td>466.000000</td>\n",
              "      <td>4.660000e+02</td>\n",
              "      <td>466.000000</td>\n",
              "      <td>466.000000</td>\n",
              "      <td>466.000000</td>\n",
              "      <td>466.000000</td>\n",
              "    </tr>\n",
              "    <tr>\n",
              "      <th>unique</th>\n",
              "      <td>465</td>\n",
              "      <td>51</td>\n",
              "      <td>NaN</td>\n",
              "      <td>NaN</td>\n",
              "      <td>NaN</td>\n",
              "      <td>NaN</td>\n",
              "      <td>NaN</td>\n",
              "      <td>NaN</td>\n",
              "      <td>NaN</td>\n",
              "      <td>NaN</td>\n",
              "      <td>NaN</td>\n",
              "      <td>NaN</td>\n",
              "      <td>NaN</td>\n",
              "      <td>NaN</td>\n",
              "      <td>NaN</td>\n",
              "      <td>NaN</td>\n",
              "      <td>NaN</td>\n",
              "      <td>NaN</td>\n",
              "      <td>NaN</td>\n",
              "      <td>NaN</td>\n",
              "      <td>NaN</td>\n",
              "      <td>NaN</td>\n",
              "      <td>NaN</td>\n",
              "      <td>NaN</td>\n",
              "      <td>NaN</td>\n",
              "    </tr>\n",
              "    <tr>\n",
              "      <th>top</th>\n",
              "      <td>2009_DISTRICT_OF_COLUMBIA</td>\n",
              "      <td>DISTRICT_OF_COLUMBIA</td>\n",
              "      <td>NaN</td>\n",
              "      <td>NaN</td>\n",
              "      <td>NaN</td>\n",
              "      <td>NaN</td>\n",
              "      <td>NaN</td>\n",
              "      <td>NaN</td>\n",
              "      <td>NaN</td>\n",
              "      <td>NaN</td>\n",
              "      <td>NaN</td>\n",
              "      <td>NaN</td>\n",
              "      <td>NaN</td>\n",
              "      <td>NaN</td>\n",
              "      <td>NaN</td>\n",
              "      <td>NaN</td>\n",
              "      <td>NaN</td>\n",
              "      <td>NaN</td>\n",
              "      <td>NaN</td>\n",
              "      <td>NaN</td>\n",
              "      <td>NaN</td>\n",
              "      <td>NaN</td>\n",
              "      <td>NaN</td>\n",
              "      <td>NaN</td>\n",
              "      <td>NaN</td>\n",
              "    </tr>\n",
              "    <tr>\n",
              "      <th>freq</th>\n",
              "      <td>2</td>\n",
              "      <td>11</td>\n",
              "      <td>NaN</td>\n",
              "      <td>NaN</td>\n",
              "      <td>NaN</td>\n",
              "      <td>NaN</td>\n",
              "      <td>NaN</td>\n",
              "      <td>NaN</td>\n",
              "      <td>NaN</td>\n",
              "      <td>NaN</td>\n",
              "      <td>NaN</td>\n",
              "      <td>NaN</td>\n",
              "      <td>NaN</td>\n",
              "      <td>NaN</td>\n",
              "      <td>NaN</td>\n",
              "      <td>NaN</td>\n",
              "      <td>NaN</td>\n",
              "      <td>NaN</td>\n",
              "      <td>NaN</td>\n",
              "      <td>NaN</td>\n",
              "      <td>NaN</td>\n",
              "      <td>NaN</td>\n",
              "      <td>NaN</td>\n",
              "      <td>NaN</td>\n",
              "      <td>NaN</td>\n",
              "    </tr>\n",
              "    <tr>\n",
              "      <th>mean</th>\n",
              "      <td>NaN</td>\n",
              "      <td>NaN</td>\n",
              "      <td>2008.577253</td>\n",
              "      <td>7.486501e+05</td>\n",
              "      <td>8.650241e+06</td>\n",
              "      <td>7.213195e+05</td>\n",
              "      <td>4.007082e+06</td>\n",
              "      <td>3.908149e+06</td>\n",
              "      <td>8.658840e+06</td>\n",
              "      <td>4.395837e+06</td>\n",
              "      <td>2.657020e+06</td>\n",
              "      <td>391393.156652</td>\n",
              "      <td>7.626774e+05</td>\n",
              "      <td>17453.574034</td>\n",
              "      <td>57155.505365</td>\n",
              "      <td>57568.637339</td>\n",
              "      <td>58383.187768</td>\n",
              "      <td>52606.067597</td>\n",
              "      <td>4.641965e+05</td>\n",
              "      <td>229745.225322</td>\n",
              "      <td>7.096912e+05</td>\n",
              "      <td>236.909728</td>\n",
              "      <td>279.802668</td>\n",
              "      <td>219.508638</td>\n",
              "      <td>263.789943</td>\n",
              "    </tr>\n",
              "    <tr>\n",
              "      <th>std</th>\n",
              "      <td>NaN</td>\n",
              "      <td>NaN</td>\n",
              "      <td>5.779779</td>\n",
              "      <td>5.389859e+05</td>\n",
              "      <td>7.213080e+06</td>\n",
              "      <td>5.543482e+05</td>\n",
              "      <td>3.057173e+06</td>\n",
              "      <td>3.795198e+06</td>\n",
              "      <td>7.199244e+06</td>\n",
              "      <td>3.578092e+06</td>\n",
              "      <td>2.281080e+06</td>\n",
              "      <td>298921.971174</td>\n",
              "      <td>6.123743e+05</td>\n",
              "      <td>14942.757180</td>\n",
              "      <td>41066.731064</td>\n",
              "      <td>41450.499912</td>\n",
              "      <td>42595.860056</td>\n",
              "      <td>39302.208999</td>\n",
              "      <td>3.354470e+05</td>\n",
              "      <td>169817.496434</td>\n",
              "      <td>5.130425e+05</td>\n",
              "      <td>8.695903</td>\n",
              "      <td>9.381511</td>\n",
              "      <td>7.426546</td>\n",
              "      <td>6.875627</td>\n",
              "    </tr>\n",
              "    <tr>\n",
              "      <th>min</th>\n",
              "      <td>NaN</td>\n",
              "      <td>NaN</td>\n",
              "      <td>1996.000000</td>\n",
              "      <td>4.417900e+04</td>\n",
              "      <td>6.788740e+05</td>\n",
              "      <td>5.787000e+04</td>\n",
              "      <td>0.000000e+00</td>\n",
              "      <td>2.853100e+04</td>\n",
              "      <td>7.032450e+05</td>\n",
              "      <td>3.182600e+05</td>\n",
              "      <td>2.041170e+05</td>\n",
              "      <td>23107.000000</td>\n",
              "      <td>1.545200e+04</td>\n",
              "      <td>91.000000</td>\n",
              "      <td>4528.000000</td>\n",
              "      <td>3423.000000</td>\n",
              "      <td>2860.000000</td>\n",
              "      <td>2188.000000</td>\n",
              "      <td>2.676200e+04</td>\n",
              "      <td>9970.000000</td>\n",
              "      <td>3.682300e+04</td>\n",
              "      <td>187.134670</td>\n",
              "      <td>232.831510</td>\n",
              "      <td>181.626990</td>\n",
              "      <td>236.379102</td>\n",
              "    </tr>\n",
              "    <tr>\n",
              "      <th>25%</th>\n",
              "      <td>NaN</td>\n",
              "      <td>NaN</td>\n",
              "      <td>2005.000000</td>\n",
              "      <td>2.794832e+05</td>\n",
              "      <td>2.712660e+06</td>\n",
              "      <td>2.614470e+05</td>\n",
              "      <td>1.491747e+06</td>\n",
              "      <td>9.513430e+05</td>\n",
              "      <td>2.670300e+06</td>\n",
              "      <td>1.416288e+06</td>\n",
              "      <td>8.472295e+05</td>\n",
              "      <td>129651.500000</td>\n",
              "      <td>2.443388e+05</td>\n",
              "      <td>3753.000000</td>\n",
              "      <td>20988.000000</td>\n",
              "      <td>20489.750000</td>\n",
              "      <td>20880.250000</td>\n",
              "      <td>18527.750000</td>\n",
              "      <td>1.666395e+05</td>\n",
              "      <td>81944.000000</td>\n",
              "      <td>2.596278e+05</td>\n",
              "      <td>232.760641</td>\n",
              "      <td>274.707118</td>\n",
              "      <td>215.338956</td>\n",
              "      <td>259.661771</td>\n",
              "    </tr>\n",
              "    <tr>\n",
              "      <th>50%</th>\n",
              "      <td>NaN</td>\n",
              "      <td>NaN</td>\n",
              "      <td>2009.000000</td>\n",
              "      <td>6.639415e+05</td>\n",
              "      <td>6.106834e+06</td>\n",
              "      <td>5.544340e+05</td>\n",
              "      <td>3.021544e+06</td>\n",
              "      <td>2.442983e+06</td>\n",
              "      <td>6.249671e+06</td>\n",
              "      <td>3.186679e+06</td>\n",
              "      <td>1.899310e+06</td>\n",
              "      <td>327184.500000</td>\n",
              "      <td>6.059525e+05</td>\n",
              "      <td>13068.500000</td>\n",
              "      <td>51156.500000</td>\n",
              "      <td>50918.000000</td>\n",
              "      <td>50114.500000</td>\n",
              "      <td>41543.000000</td>\n",
              "      <td>4.067475e+05</td>\n",
              "      <td>186890.000000</td>\n",
              "      <td>6.264775e+05</td>\n",
              "      <td>238.394124</td>\n",
              "      <td>281.531587</td>\n",
              "      <td>221.130461</td>\n",
              "      <td>265.217081</td>\n",
              "    </tr>\n",
              "    <tr>\n",
              "      <th>75%</th>\n",
              "      <td>NaN</td>\n",
              "      <td>NaN</td>\n",
              "      <td>2013.000000</td>\n",
              "      <td>1.018588e+06</td>\n",
              "      <td>1.222407e+07</td>\n",
              "      <td>1.033414e+06</td>\n",
              "      <td>6.240349e+06</td>\n",
              "      <td>5.488079e+06</td>\n",
              "      <td>1.195951e+07</td>\n",
              "      <td>6.154768e+06</td>\n",
              "      <td>3.667420e+06</td>\n",
              "      <td>560938.500000</td>\n",
              "      <td>1.046753e+06</td>\n",
              "      <td>28808.500000</td>\n",
              "      <td>79618.000000</td>\n",
              "      <td>79929.500000</td>\n",
              "      <td>80949.750000</td>\n",
              "      <td>75641.250000</td>\n",
              "      <td>6.424952e+05</td>\n",
              "      <td>323491.500000</td>\n",
              "      <td>9.758625e+05</td>\n",
              "      <td>242.602566</td>\n",
              "      <td>286.197041</td>\n",
              "      <td>224.531280</td>\n",
              "      <td>268.307884</td>\n",
              "    </tr>\n",
              "    <tr>\n",
              "      <th>max</th>\n",
              "      <td>NaN</td>\n",
              "      <td>NaN</td>\n",
              "      <td>2017.000000</td>\n",
              "      <td>1.721351e+06</td>\n",
              "      <td>2.302633e+07</td>\n",
              "      <td>1.805878e+06</td>\n",
              "      <td>9.764558e+06</td>\n",
              "      <td>1.182479e+07</td>\n",
              "      <td>2.301040e+07</td>\n",
              "      <td>1.128472e+07</td>\n",
              "      <td>7.333616e+06</td>\n",
              "      <td>932950.000000</td>\n",
              "      <td>1.942608e+06</td>\n",
              "      <td>45353.000000</td>\n",
              "      <td>130527.000000</td>\n",
              "      <td>131236.000000</td>\n",
              "      <td>135598.000000</td>\n",
              "      <td>126380.000000</td>\n",
              "      <td>1.063310e+06</td>\n",
              "      <td>541403.000000</td>\n",
              "      <td>1.628449e+06</td>\n",
              "      <td>253.420961</td>\n",
              "      <td>300.568235</td>\n",
              "      <td>236.773867</td>\n",
              "      <td>280.499130</td>\n",
              "    </tr>\n",
              "  </tbody>\n",
              "</table>\n",
              "</div>"
            ],
            "text/plain": [
              "                      PRIMARY_KEY  ... AVG_READING_8_SCORE\n",
              "count                         466  ...          466.000000\n",
              "unique                        465  ...                 NaN\n",
              "top     2009_DISTRICT_OF_COLUMBIA  ...                 NaN\n",
              "freq                            2  ...                 NaN\n",
              "mean                          NaN  ...          263.789943\n",
              "std                           NaN  ...            6.875627\n",
              "min                           NaN  ...          236.379102\n",
              "25%                           NaN  ...          259.661771\n",
              "50%                           NaN  ...          265.217081\n",
              "75%                           NaN  ...          268.307884\n",
              "max                           NaN  ...          280.499130\n",
              "\n",
              "[11 rows x 25 columns]"
            ]
          },
          "metadata": {
            "tags": []
          },
          "execution_count": 22
        }
      ]
    },
    {
      "cell_type": "markdown",
      "metadata": {
        "id": "-yOph29VUENB",
        "colab_type": "text"
      },
      "source": [
        "////////////////////////////////////////////////////////////////////////////////////////////////////////"
      ]
    },
    {
      "cell_type": "markdown",
      "metadata": {
        "id": "ghs33hAfUp20",
        "colab_type": "text"
      },
      "source": [
        "**USE LOG TRANSFORM**\n",
        "\n"
      ]
    },
    {
      "cell_type": "code",
      "metadata": {
        "id": "WSPIueh3ZyeX",
        "colab_type": "code",
        "colab": {}
      },
      "source": [
        "ed2=ed0.copy()"
      ],
      "execution_count": 0,
      "outputs": []
    },
    {
      "cell_type": "code",
      "metadata": {
        "id": "SpDWihnAV6N9",
        "colab_type": "code",
        "colab": {}
      },
      "source": [
        "states = ed2[\"STATE\"].unique()\n",
        "\n",
        "for state in states:\n",
        "    ed2.loc[ed2[\"STATE\"] == state, fill_list] = ed2.loc[ed2[\"STATE\"] == state, fill_list].interpolate()"
      ],
      "execution_count": 0,
      "outputs": []
    },
    {
      "cell_type": "code",
      "metadata": {
        "id": "Ak21fW_2ZwXt",
        "colab_type": "code",
        "colab": {}
      },
      "source": [
        ""
      ],
      "execution_count": 0,
      "outputs": []
    },
    {
      "cell_type": "code",
      "metadata": {
        "id": "beo1HwmwWF4J",
        "colab_type": "code",
        "colab": {}
      },
      "source": [
        "ed2.dropna(inplace=True)\n"
      ],
      "execution_count": 0,
      "outputs": []
    },
    {
      "cell_type": "code",
      "metadata": {
        "id": "7uO1QcpET7MW",
        "colab_type": "code",
        "colab": {
          "base_uri": "https://localhost:8080/",
          "height": 1000
        },
        "outputId": "11d070d4-993a-4347-d000-f51be80f0787"
      },
      "source": [
        "plt.figure(figsize=(15,20))\n",
        "i=0\n",
        "while i<18:\n",
        "  for col in fill_list:\n",
        "    i=i+1\n",
        "    plt.subplot(6,3,i)\n",
        "    #plt.boxplot(np.log(ed2[col]))\n",
        "    #plt.hist(np.log(ed2[col]))\n",
        "    plt.title(col)\n",
        "plt.show()"
      ],
      "execution_count": 28,
      "outputs": [
        {
          "output_type": "display_data",
          "data": {
            "image/png": "[encoded data removed]",
            "text/plain": [
              "<Figure size 1080x1440 with 18 Axes>"
            ]
          },
          "metadata": {
            "tags": []
          }
        }
      ]
    },
    {
      "cell_type": "markdown",
      "metadata": {
        "id": "E4KeD-uWswMG",
        "colab_type": "text"
      },
      "source": [
        "1 - Derive the descriptive statistics of the data and discuss the points you find remarkable."
      ]
    },
    {
      "cell_type": "code",
      "metadata": {
        "id": "DgmbBtJfWQys",
        "colab_type": "code",
        "colab": {
          "base_uri": "https://localhost:8080/",
          "height": 304
        },
        "outputId": "d17ea71d-665a-42af-c26b-d268fd1c1fb5"
      },
      "source": [
        "ed2.describe()"
      ],
      "execution_count": 29,
      "outputs": [
        {
          "output_type": "execute_result",
          "data": {
            "text/html": [
              "<div>\n",
              "<style scoped>\n",
              "    .dataframe tbody tr th:only-of-type {\n",
              "        vertical-align: middle;\n",
              "    }\n",
              "\n",
              "    .dataframe tbody tr th {\n",
              "        vertical-align: top;\n",
              "    }\n",
              "\n",
              "    .dataframe thead th {\n",
              "        text-align: right;\n",
              "    }\n",
              "</style>\n",
              "<table border=\"1\" class=\"dataframe\">\n",
              "  <thead>\n",
              "    <tr style=\"text-align: right;\">\n",
              "      <th></th>\n",
              "      <th>YEAR</th>\n",
              "      <th>ENROLL</th>\n",
              "      <th>TOTAL_REVENUE</th>\n",
              "      <th>FEDERAL_REVENUE</th>\n",
              "      <th>STATE_REVENUE</th>\n",
              "      <th>LOCAL_REVENUE</th>\n",
              "      <th>TOTAL_EXPENDITURE</th>\n",
              "      <th>INSTRUCTION_EXPENDITURE</th>\n",
              "      <th>SUPPORT_SERVICES_EXPENDITURE</th>\n",
              "      <th>OTHER_EXPENDITURE</th>\n",
              "      <th>CAPITAL_OUTLAY_EXPENDITURE</th>\n",
              "      <th>GRADES_PK_G</th>\n",
              "      <th>GRADES_KG_G</th>\n",
              "      <th>GRADES_4_G</th>\n",
              "      <th>GRADES_8_G</th>\n",
              "      <th>GRADES_12_G</th>\n",
              "      <th>GRADES_1_8_G</th>\n",
              "      <th>GRADES_9_12_G</th>\n",
              "      <th>GRADES_ALL_G</th>\n",
              "      <th>AVG_MATH_4_SCORE</th>\n",
              "      <th>AVG_MATH_8_SCORE</th>\n",
              "      <th>AVG_READING_4_SCORE</th>\n",
              "      <th>AVG_READING_8_SCORE</th>\n",
              "    </tr>\n",
              "  </thead>\n",
              "  <tbody>\n",
              "    <tr>\n",
              "      <th>count</th>\n",
              "      <td>466.000000</td>\n",
              "      <td>4.660000e+02</td>\n",
              "      <td>4.660000e+02</td>\n",
              "      <td>4.660000e+02</td>\n",
              "      <td>4.660000e+02</td>\n",
              "      <td>4.660000e+02</td>\n",
              "      <td>4.660000e+02</td>\n",
              "      <td>4.660000e+02</td>\n",
              "      <td>4.660000e+02</td>\n",
              "      <td>466.000000</td>\n",
              "      <td>4.660000e+02</td>\n",
              "      <td>466.000000</td>\n",
              "      <td>466.000000</td>\n",
              "      <td>466.000000</td>\n",
              "      <td>466.000000</td>\n",
              "      <td>466.000000</td>\n",
              "      <td>4.660000e+02</td>\n",
              "      <td>466.000000</td>\n",
              "      <td>4.660000e+02</td>\n",
              "      <td>466.000000</td>\n",
              "      <td>466.000000</td>\n",
              "      <td>466.000000</td>\n",
              "      <td>466.000000</td>\n",
              "    </tr>\n",
              "    <tr>\n",
              "      <th>mean</th>\n",
              "      <td>2008.577253</td>\n",
              "      <td>7.486501e+05</td>\n",
              "      <td>8.650241e+06</td>\n",
              "      <td>7.213195e+05</td>\n",
              "      <td>4.007082e+06</td>\n",
              "      <td>3.908149e+06</td>\n",
              "      <td>8.658840e+06</td>\n",
              "      <td>4.395837e+06</td>\n",
              "      <td>2.657020e+06</td>\n",
              "      <td>391393.156652</td>\n",
              "      <td>7.626774e+05</td>\n",
              "      <td>17453.574034</td>\n",
              "      <td>57155.505365</td>\n",
              "      <td>57568.637339</td>\n",
              "      <td>58383.187768</td>\n",
              "      <td>52606.067597</td>\n",
              "      <td>4.641965e+05</td>\n",
              "      <td>229745.225322</td>\n",
              "      <td>7.096912e+05</td>\n",
              "      <td>236.909728</td>\n",
              "      <td>279.802668</td>\n",
              "      <td>219.508638</td>\n",
              "      <td>263.789943</td>\n",
              "    </tr>\n",
              "    <tr>\n",
              "      <th>std</th>\n",
              "      <td>5.779779</td>\n",
              "      <td>5.389859e+05</td>\n",
              "      <td>7.213080e+06</td>\n",
              "      <td>5.543482e+05</td>\n",
              "      <td>3.057173e+06</td>\n",
              "      <td>3.795198e+06</td>\n",
              "      <td>7.199244e+06</td>\n",
              "      <td>3.578092e+06</td>\n",
              "      <td>2.281080e+06</td>\n",
              "      <td>298921.971174</td>\n",
              "      <td>6.123743e+05</td>\n",
              "      <td>14942.757180</td>\n",
              "      <td>41066.731064</td>\n",
              "      <td>41450.499912</td>\n",
              "      <td>42595.860056</td>\n",
              "      <td>39302.208999</td>\n",
              "      <td>3.354470e+05</td>\n",
              "      <td>169817.496434</td>\n",
              "      <td>5.130425e+05</td>\n",
              "      <td>8.695903</td>\n",
              "      <td>9.381511</td>\n",
              "      <td>7.426546</td>\n",
              "      <td>6.875627</td>\n",
              "    </tr>\n",
              "    <tr>\n",
              "      <th>min</th>\n",
              "      <td>1996.000000</td>\n",
              "      <td>4.417900e+04</td>\n",
              "      <td>6.788740e+05</td>\n",
              "      <td>5.787000e+04</td>\n",
              "      <td>0.000000e+00</td>\n",
              "      <td>2.853100e+04</td>\n",
              "      <td>7.032450e+05</td>\n",
              "      <td>3.182600e+05</td>\n",
              "      <td>2.041170e+05</td>\n",
              "      <td>23107.000000</td>\n",
              "      <td>1.545200e+04</td>\n",
              "      <td>91.000000</td>\n",
              "      <td>4528.000000</td>\n",
              "      <td>3423.000000</td>\n",
              "      <td>2860.000000</td>\n",
              "      <td>2188.000000</td>\n",
              "      <td>2.676200e+04</td>\n",
              "      <td>9970.000000</td>\n",
              "      <td>3.682300e+04</td>\n",
              "      <td>187.134670</td>\n",
              "      <td>232.831510</td>\n",
              "      <td>181.626990</td>\n",
              "      <td>236.379102</td>\n",
              "    </tr>\n",
              "    <tr>\n",
              "      <th>25%</th>\n",
              "      <td>2005.000000</td>\n",
              "      <td>2.794832e+05</td>\n",
              "      <td>2.712660e+06</td>\n",
              "      <td>2.614470e+05</td>\n",
              "      <td>1.491747e+06</td>\n",
              "      <td>9.513430e+05</td>\n",
              "      <td>2.670300e+06</td>\n",
              "      <td>1.416288e+06</td>\n",
              "      <td>8.472295e+05</td>\n",
              "      <td>129651.500000</td>\n",
              "      <td>2.443388e+05</td>\n",
              "      <td>3753.000000</td>\n",
              "      <td>20988.000000</td>\n",
              "      <td>20489.750000</td>\n",
              "      <td>20880.250000</td>\n",
              "      <td>18527.750000</td>\n",
              "      <td>1.666395e+05</td>\n",
              "      <td>81944.000000</td>\n",
              "      <td>2.596278e+05</td>\n",
              "      <td>232.760641</td>\n",
              "      <td>274.707118</td>\n",
              "      <td>215.338956</td>\n",
              "      <td>259.661771</td>\n",
              "    </tr>\n",
              "    <tr>\n",
              "      <th>50%</th>\n",
              "      <td>2009.000000</td>\n",
              "      <td>6.639415e+05</td>\n",
              "      <td>6.106834e+06</td>\n",
              "      <td>5.544340e+05</td>\n",
              "      <td>3.021544e+06</td>\n",
              "      <td>2.442983e+06</td>\n",
              "      <td>6.249671e+06</td>\n",
              "      <td>3.186679e+06</td>\n",
              "      <td>1.899310e+06</td>\n",
              "      <td>327184.500000</td>\n",
              "      <td>6.059525e+05</td>\n",
              "      <td>13068.500000</td>\n",
              "      <td>51156.500000</td>\n",
              "      <td>50918.000000</td>\n",
              "      <td>50114.500000</td>\n",
              "      <td>41543.000000</td>\n",
              "      <td>4.067475e+05</td>\n",
              "      <td>186890.000000</td>\n",
              "      <td>6.264775e+05</td>\n",
              "      <td>238.394124</td>\n",
              "      <td>281.531587</td>\n",
              "      <td>221.130461</td>\n",
              "      <td>265.217081</td>\n",
              "    </tr>\n",
              "    <tr>\n",
              "      <th>75%</th>\n",
              "      <td>2013.000000</td>\n",
              "      <td>1.018588e+06</td>\n",
              "      <td>1.222407e+07</td>\n",
              "      <td>1.033414e+06</td>\n",
              "      <td>6.240349e+06</td>\n",
              "      <td>5.488079e+06</td>\n",
              "      <td>1.195951e+07</td>\n",
              "      <td>6.154768e+06</td>\n",
              "      <td>3.667420e+06</td>\n",
              "      <td>560938.500000</td>\n",
              "      <td>1.046753e+06</td>\n",
              "      <td>28808.500000</td>\n",
              "      <td>79618.000000</td>\n",
              "      <td>79929.500000</td>\n",
              "      <td>80949.750000</td>\n",
              "      <td>75641.250000</td>\n",
              "      <td>6.424952e+05</td>\n",
              "      <td>323491.500000</td>\n",
              "      <td>9.758625e+05</td>\n",
              "      <td>242.602566</td>\n",
              "      <td>286.197041</td>\n",
              "      <td>224.531280</td>\n",
              "      <td>268.307884</td>\n",
              "    </tr>\n",
              "    <tr>\n",
              "      <th>max</th>\n",
              "      <td>2017.000000</td>\n",
              "      <td>1.721351e+06</td>\n",
              "      <td>2.302633e+07</td>\n",
              "      <td>1.805878e+06</td>\n",
              "      <td>9.764558e+06</td>\n",
              "      <td>1.182479e+07</td>\n",
              "      <td>2.301040e+07</td>\n",
              "      <td>1.128472e+07</td>\n",
              "      <td>7.333616e+06</td>\n",
              "      <td>932950.000000</td>\n",
              "      <td>1.942608e+06</td>\n",
              "      <td>45353.000000</td>\n",
              "      <td>130527.000000</td>\n",
              "      <td>131236.000000</td>\n",
              "      <td>135598.000000</td>\n",
              "      <td>126380.000000</td>\n",
              "      <td>1.063310e+06</td>\n",
              "      <td>541403.000000</td>\n",
              "      <td>1.628449e+06</td>\n",
              "      <td>253.420961</td>\n",
              "      <td>300.568235</td>\n",
              "      <td>236.773867</td>\n",
              "      <td>280.499130</td>\n",
              "    </tr>\n",
              "  </tbody>\n",
              "</table>\n",
              "</div>"
            ],
            "text/plain": [
              "              YEAR        ENROLL  ...  AVG_READING_4_SCORE  AVG_READING_8_SCORE\n",
              "count   466.000000  4.660000e+02  ...           466.000000           466.000000\n",
              "mean   2008.577253  7.486501e+05  ...           219.508638           263.789943\n",
              "std       5.779779  5.389859e+05  ...             7.426546             6.875627\n",
              "min    1996.000000  4.417900e+04  ...           181.626990           236.379102\n",
              "25%    2005.000000  2.794832e+05  ...           215.338956           259.661771\n",
              "50%    2009.000000  6.639415e+05  ...           221.130461           265.217081\n",
              "75%    2013.000000  1.018588e+06  ...           224.531280           268.307884\n",
              "max    2017.000000  1.721351e+06  ...           236.773867           280.499130\n",
              "\n",
              "[8 rows x 23 columns]"
            ]
          },
          "metadata": {
            "tags": []
          },
          "execution_count": 29
        }
      ]
    },
    {
      "cell_type": "markdown",
      "metadata": {
        "id": "VcIxwnu7tB8C",
        "colab_type": "text"
      },
      "source": [
        "//////////////////////////////////////////////////////////////////////////////////////////////\n"
      ]
    },
    {
      "cell_type": "markdown",
      "metadata": {
        "id": "GdxloW3GtG_B",
        "colab_type": "text"
      },
      "source": [
        "2 - Choose a state (e.g. California) and draw a line graph of its total revenues and total expenditures along the years. \n",
        "\n",
        "How do these 2 variables evolve during the years? \n",
        "\n",
        "Try to explain the peaks and troughs with some state-wise news and information around those dates."
      ]
    },
    {
      "cell_type": "markdown",
      "metadata": {
        "id": "keXKKY4_tUfh",
        "colab_type": "text"
      },
      "source": [
        "CREATE CALIFORNIA ONLY SUBSET"
      ]
    },
    {
      "cell_type": "code",
      "metadata": {
        "id": "pNY-yIwvthda",
        "colab_type": "code",
        "colab": {}
      },
      "source": [
        "ed2_cal=ed2[ed2['STATE']=='CALIFORNIA']"
      ],
      "execution_count": 0,
      "outputs": []
    },
    {
      "cell_type": "code",
      "metadata": {
        "colab_type": "code",
        "outputId": "e3c5d8c3-5f39-420a-fda4-4f4072d68230",
        "id": "cIkH9nEa7oMY",
        "colab": {
          "base_uri": "https://localhost:8080/",
          "height": 290
        }
      },
      "source": [
        "sns.lineplot(ed2_cal['YEAR'],ed2_cal['TOTAL_EXPENDITURE'])\n",
        "sns.lineplot(ed2_cal['YEAR'],ed2_cal['TOTAL_REVENUE'],dashes=True) \n",
        "plt.show()"
      ],
      "execution_count": 0,
      "outputs": [
        {
          "output_type": "display_data",
          "data": {
            "image/png": "[encoded data removed]",
            "text/plain": [
              "<Figure size 432x288 with 1 Axes>"
            ]
          },
          "metadata": {
            "tags": []
          }
        }
      ]
    },
    {
      "cell_type": "code",
      "metadata": {
        "id": "fTarYzID9L_0",
        "colab_type": "code",
        "outputId": "381f5c6e-585f-4f10-c17e-ce1a76b8bf5b",
        "colab": {
          "base_uri": "https://localhost:8080/",
          "height": 290
        }
      },
      "source": [
        "ax = sns.lineplot(x=\"YEAR\", y='TOTAL_EXPENDITURE',\n",
        "                  hue=\"TOTAL_REVENUE\",data=ed2_cal)"
      ],
      "execution_count": 31,
      "outputs": [
        {
          "output_type": "display_data",
          "data": {
            "image/png": "[encoded data removed]",
            "text/plain": [
              "<Figure size 432x288 with 1 Axes>"
            ]
          },
          "metadata": {
            "tags": []
          }
        }
      ]
    },
    {
      "cell_type": "code",
      "metadata": {
        "id": "WIjngs95-UBb",
        "colab_type": "code",
        "outputId": "0b3f247e-eb65-4f9a-8ffe-e8ddbbf4f4c4",
        "colab": {
          "base_uri": "https://localhost:8080/",
          "height": 290
        }
      },
      "source": [
        "ax = sns.lineplot(x=\"YEAR\", y='TOTAL_EXPENDITURE',\n",
        "        style='TOTAL_REVENUE',data=ed2_cal)"
      ],
      "execution_count": 0,
      "outputs": [
        {
          "output_type": "display_data",
          "data": {
            "image/png": "[encoded data removed]",
            "text/plain": [
              "<Figure size 432x288 with 1 Axes>"
            ]
          },
          "metadata": {
            "tags": []
          }
        }
      ]
    },
    {
      "cell_type": "code",
      "metadata": {
        "id": "yTEj9zov9rJv",
        "colab_type": "code",
        "outputId": "8da388e4-5623-40d1-a055-3ec4e2e4d003",
        "colab": {
          "base_uri": "https://localhost:8080/",
          "height": 178
        }
      },
      "source": [
        "ax = sns.lineplot(x=\"timepoint\", y=\"signal\",\n",
        "                  hue=\"event\", style=\"event\", data=fmri)"
      ],
      "execution_count": 0,
      "outputs": [
        {
          "output_type": "error",
          "ename": "NameError",
          "evalue": "ignored",
          "traceback": [
            "\u001b[0;31m---------------------------------------------------------------------------\u001b[0m",
            "\u001b[0;31mNameError\u001b[0m                                 Traceback (most recent call last)",
            "\u001b[0;32m<ipython-input-113-289b194f19b4>\u001b[0m in \u001b[0;36m<module>\u001b[0;34m()\u001b[0m\n\u001b[1;32m      1\u001b[0m ax = sns.lineplot(x=\"timepoint\", y=\"signal\",\n\u001b[0;32m----> 2\u001b[0;31m                   hue=\"event\", style=\"event\", data=fmri)\n\u001b[0m",
            "\u001b[0;31mNameError\u001b[0m: name 'fmri' is not defined"
          ]
        }
      ]
    },
    {
      "cell_type": "code",
      "metadata": {
        "id": "EmnSF0NG-2nD",
        "colab_type": "code",
        "outputId": "bcb3204c-8c07-49df-840c-7b6a4ae3ba57",
        "colab": {
          "base_uri": "https://localhost:8080/",
          "height": 308
        }
      },
      "source": [
        "sns.lineplot(x='TOTAL_REVENUE', y='TOTAL_EXPENDITURE', data=ed2_cal)"
      ],
      "execution_count": 32,
      "outputs": [
        {
          "output_type": "execute_result",
          "data": {
            "text/plain": [
              "<matplotlib.axes._subplots.AxesSubplot at 0x7f5b43fa1f28>"
            ]
          },
          "metadata": {
            "tags": []
          },
          "execution_count": 32
        },
        {
          "output_type": "display_data",
          "data": {
            "image/png": "[encoded data removed]",
            "text/plain": [
              "<Figure size 432x288 with 1 Axes>"
            ]
          },
          "metadata": {
            "tags": []
          }
        }
      ]
    },
    {
      "cell_type": "markdown",
      "metadata": {
        "id": "U8fMWdlPnQ_V",
        "colab_type": "text"
      },
      "source": [
        ""
      ]
    },
    {
      "cell_type": "markdown",
      "metadata": {
        "id": "6ICUmuSrtd6-",
        "colab_type": "text"
      },
      "source": [
        "3- **In your chosen state, which of the lessons are the students more successful, math or reading?**\n",
        "\n",
        "\n",
        "---\n",
        "\n"
      ]
    },
    {
      "cell_type": "code",
      "metadata": {
        "id": "SjDTXrpm_aad",
        "colab_type": "code",
        "outputId": "2d2a0a7b-016f-49cc-9e3b-c1710b7aa745",
        "colab": {
          "base_uri": "https://localhost:8080/",
          "height": 34
        }
      },
      "source": [
        "ed2_cal['AVG_MATH_4_SCORE'].mean()"
      ],
      "execution_count": 33,
      "outputs": [
        {
          "output_type": "execute_result",
          "data": {
            "text/plain": [
              "227.385690930793"
            ]
          },
          "metadata": {
            "tags": []
          },
          "execution_count": 33
        }
      ]
    },
    {
      "cell_type": "code",
      "metadata": {
        "id": "wNk4K5opCria",
        "colab_type": "code",
        "outputId": "e3b8c32d-87ee-4ce5-87b9-d347eccf564e",
        "colab": {
          "base_uri": "https://localhost:8080/",
          "height": 34
        }
      },
      "source": [
        "ed2_cal['AVG_MATH_8_SCORE'].mean()"
      ],
      "execution_count": 34,
      "outputs": [
        {
          "output_type": "execute_result",
          "data": {
            "text/plain": [
              "270.201543317025"
            ]
          },
          "metadata": {
            "tags": []
          },
          "execution_count": 34
        }
      ]
    },
    {
      "cell_type": "code",
      "metadata": {
        "id": "3rX9n2A9CxE7",
        "colab_type": "code",
        "outputId": "00ea1bae-c980-46c2-bb8e-bdb3a073b8ad",
        "colab": {
          "base_uri": "https://localhost:8080/",
          "height": 34
        }
      },
      "source": [
        "ed2['AVG_READING_4_SCORE'].mean()"
      ],
      "execution_count": 35,
      "outputs": [
        {
          "output_type": "execute_result",
          "data": {
            "text/plain": [
              "219.5086378831396"
            ]
          },
          "metadata": {
            "tags": []
          },
          "execution_count": 35
        }
      ]
    },
    {
      "cell_type": "code",
      "metadata": {
        "id": "-t-hDmZsC3aL",
        "colab_type": "code",
        "outputId": "7531373f-27c7-484f-ecf2-11e1d1a4a985",
        "colab": {
          "base_uri": "https://localhost:8080/",
          "height": 34
        }
      },
      "source": [
        "ed2['AVG_READING_8_SCORE'].mean()"
      ],
      "execution_count": 36,
      "outputs": [
        {
          "output_type": "execute_result",
          "data": {
            "text/plain": [
              "263.78994305217884"
            ]
          },
          "metadata": {
            "tags": []
          },
          "execution_count": 36
        }
      ]
    },
    {
      "cell_type": "markdown",
      "metadata": {
        "id": "BbtT69rtC9r3",
        "colab_type": "text"
      },
      "source": [
        "MATH WAS MORE SUCCESSFUL"
      ]
    },
    {
      "cell_type": "markdown",
      "metadata": {
        "id": "4OCLNicHtet_",
        "colab_type": "text"
      },
      "source": [
        ""
      ]
    },
    {
      "cell_type": "markdown",
      "metadata": {
        "id": "oTBgXRvz_uRr",
        "colab_type": "text"
      },
      "source": [
        "4 -**What are the distributions of the math and reading scores in the sample?**"
      ]
    },
    {
      "cell_type": "code",
      "metadata": {
        "id": "MeVtkF1TDLjj",
        "colab_type": "code",
        "outputId": "01d6affc-f570-40ad-b542-d015c9ce8e3a",
        "colab": {
          "base_uri": "https://localhost:8080/",
          "height": 168
        }
      },
      "source": [
        "ed2['AVG_READING_4_SCORE'].describe()"
      ],
      "execution_count": 37,
      "outputs": [
        {
          "output_type": "execute_result",
          "data": {
            "text/plain": [
              "count    466.000000\n",
              "mean     219.508638\n",
              "std        7.426546\n",
              "min      181.626990\n",
              "25%      215.338956\n",
              "50%      221.130461\n",
              "75%      224.531280\n",
              "max      236.773867\n",
              "Name: AVG_READING_4_SCORE, dtype: float64"
            ]
          },
          "metadata": {
            "tags": []
          },
          "execution_count": 37
        }
      ]
    },
    {
      "cell_type": "code",
      "metadata": {
        "id": "FFG6YILQYVO6",
        "colab_type": "code",
        "colab": {
          "base_uri": "https://localhost:8080/",
          "height": 349
        },
        "outputId": "de862993-bc4f-4f10-a302-b877bf90266a"
      },
      "source": [
        "plt.hist(np.log(ed2['AVG_READING_4_SCORE']))"
      ],
      "execution_count": 43,
      "outputs": [
        {
          "output_type": "execute_result",
          "data": {
            "text/plain": [
              "(array([  1.,   3.,   0.,   4.,  25.,  45.,  99., 174.,  99.,  16.]),\n",
              " array([5.20195508, 5.22847013, 5.25498517, 5.28150022, 5.30801526,\n",
              "        5.33453031, 5.36104535, 5.3875604 , 5.41407545, 5.44059049,\n",
              "        5.46710554]),\n",
              " <a list of 10 Patch objects>)"
            ]
          },
          "metadata": {
            "tags": []
          },
          "execution_count": 43
        },
        {
          "output_type": "display_data",
          "data": {
            "image/png": "[encoded data removed]",
            "text/plain": [
              "<Figure size 432x288 with 1 Axes>"
            ]
          },
          "metadata": {
            "tags": []
          }
        }
      ]
    },
    {
      "cell_type": "code",
      "metadata": {
        "id": "IartLwEFYwSl",
        "colab_type": "code",
        "colab": {
          "base_uri": "https://localhost:8080/",
          "height": 349
        },
        "outputId": "6149caa5-bc6b-48c9-d092-6b41e0095875"
      },
      "source": [
        "plt.hist(ed2['AVG_READING_4_SCORE'])"
      ],
      "execution_count": 44,
      "outputs": [
        {
          "output_type": "execute_result",
          "data": {
            "text/plain": [
              "(array([  1.,   3.,   1.,   6.,  40.,  52., 110., 176.,  64.,  13.]),\n",
              " array([181.62699047, 187.14167808, 192.65636569, 198.1710533 ,\n",
              "        203.68574091, 209.20042853, 214.71511614, 220.22980375,\n",
              "        225.74449136, 231.25917897, 236.77386658]),\n",
              " <a list of 10 Patch objects>)"
            ]
          },
          "metadata": {
            "tags": []
          },
          "execution_count": 44
        },
        {
          "output_type": "display_data",
          "data": {
            "image/png": "[encoded data removed]",
            "text/plain": [
              "<Figure size 432x288 with 1 Axes>"
            ]
          },
          "metadata": {
            "tags": []
          }
        }
      ]
    },
    {
      "cell_type": "code",
      "metadata": {
        "id": "gNIcAZsGDW3a",
        "colab_type": "code",
        "outputId": "5f6f03cf-76a5-4ba0-a656-14d79a36123b",
        "colab": {
          "base_uri": "https://localhost:8080/",
          "height": 168
        }
      },
      "source": [
        "ed2['AVG_READING_8_SCORE'].describe()"
      ],
      "execution_count": 38,
      "outputs": [
        {
          "output_type": "execute_result",
          "data": {
            "text/plain": [
              "count    466.000000\n",
              "mean     263.789943\n",
              "std        6.875627\n",
              "min      236.379102\n",
              "25%      259.661771\n",
              "50%      265.217081\n",
              "75%      268.307884\n",
              "max      280.499130\n",
              "Name: AVG_READING_8_SCORE, dtype: float64"
            ]
          },
          "metadata": {
            "tags": []
          },
          "execution_count": 38
        }
      ]
    },
    {
      "cell_type": "code",
      "metadata": {
        "id": "FshCrPy2Wz1R",
        "colab_type": "code",
        "colab": {
          "base_uri": "https://localhost:8080/",
          "height": 168
        },
        "outputId": "00431ec6-ee89-4d02-e998-38f144d7c94b"
      },
      "source": [
        "ed2['AVG_MATH_4_SCORE'].describe()"
      ],
      "execution_count": 39,
      "outputs": [
        {
          "output_type": "execute_result",
          "data": {
            "text/plain": [
              "count    466.000000\n",
              "mean     236.909728\n",
              "std        8.695903\n",
              "min      187.134670\n",
              "25%      232.760641\n",
              "50%      238.394124\n",
              "75%      242.602566\n",
              "max      253.420961\n",
              "Name: AVG_MATH_4_SCORE, dtype: float64"
            ]
          },
          "metadata": {
            "tags": []
          },
          "execution_count": 39
        }
      ]
    },
    {
      "cell_type": "code",
      "metadata": {
        "id": "9iN_eKp-W53q",
        "colab_type": "code",
        "colab": {
          "base_uri": "https://localhost:8080/",
          "height": 168
        },
        "outputId": "35e57fdb-4f03-47e7-c68d-6e84bd319c67"
      },
      "source": [
        "ed2['AVG_MATH_4_SCORE'].describe()"
      ],
      "execution_count": 40,
      "outputs": [
        {
          "output_type": "execute_result",
          "data": {
            "text/plain": [
              "count    466.000000\n",
              "mean     236.909728\n",
              "std        8.695903\n",
              "min      187.134670\n",
              "25%      232.760641\n",
              "50%      238.394124\n",
              "75%      242.602566\n",
              "max      253.420961\n",
              "Name: AVG_MATH_4_SCORE, dtype: float64"
            ]
          },
          "metadata": {
            "tags": []
          },
          "execution_count": 40
        }
      ]
    },
    {
      "cell_type": "markdown",
      "metadata": {
        "id": "b6lDCIzv__qS",
        "colab_type": "text"
      },
      "source": [
        ""
      ]
    },
    {
      "cell_type": "markdown",
      "metadata": {
        "id": "7rcsbIu4__2H",
        "colab_type": "text"
      },
      "source": [
        "5- **Notice there are too many missing values for math and reading scores. Fill out the missing values using mean, median, and linear interpolation. Then compare the effects of these techniques on the distributions of the score variables.**"
      ]
    },
    {
      "cell_type": "code",
      "metadata": {
        "id": "WGMl6H_iaJka",
        "colab_type": "code",
        "colab": {}
      },
      "source": [
        "ed['AVG_MATH_4_SCORE']=ed['AVG_MATH_4_SCORE'].interpolate()"
      ],
      "execution_count": 0,
      "outputs": []
    },
    {
      "cell_type": "code",
      "metadata": {
        "id": "Bq0krYrDbfUv",
        "colab_type": "code",
        "colab": {
          "base_uri": "https://localhost:8080/",
          "height": 456
        },
        "outputId": "3c7a23f6-ec28-47f8-be34-1886681e35ea"
      },
      "source": [
        "plt.figure(figsize=(5,7.5))\n",
        "plt.hist(ed['AVG_MATH_4_SCORE'])\n",
        "#plt.title('INTERPOLATED MATH 4')\n",
        "plt.show()"
      ],
      "execution_count": 86,
      "outputs": [
        {
          "output_type": "display_data",
          "data": {
            "image/png": "[encoded data removed]",
            "text/plain": [
              "<Figure size 360x540 with 1 Axes>"
            ]
          },
          "metadata": {
            "tags": []
          }
        }
      ]
    },
    {
      "cell_type": "code",
      "metadata": {
        "id": "gJ1P3jOteM87",
        "colab_type": "code",
        "colab": {}
      },
      "source": [
        "ed['AVG_MATH_4_SCORE']=ed['AVG_MATH_4_SCORE'].interpolate()"
      ],
      "execution_count": 0,
      "outputs": []
    },
    {
      "cell_type": "code",
      "metadata": {
        "id": "5pR_XCW2eFwY",
        "colab_type": "code",
        "colab": {
          "base_uri": "https://localhost:8080/",
          "height": 472
        },
        "outputId": "92a8fb7d-068c-42b8-cf8c-a724c5ee550d"
      },
      "source": [
        "plt.figure(figsize=(5,7.5))\n",
        "plt.hist(ed['AVG_MATH_4_SCORE'])\n",
        "plt.title('INTERPOLATED MATH 4')\n",
        "plt.show()"
      ],
      "execution_count": 91,
      "outputs": [
        {
          "output_type": "display_data",
          "data": {
            "image/png": "[encoded data removed]",
            "text/plain": [
              "<Figure size 360x540 with 1 Axes>"
            ]
          },
          "metadata": {
            "tags": []
          }
        }
      ]
    },
    {
      "cell_type": "code",
      "metadata": {
        "id": "24dS7GM_gDYC",
        "colab_type": "code",
        "colab": {}
      },
      "source": [
        "ed=ed0.copy()"
      ],
      "execution_count": 0,
      "outputs": []
    },
    {
      "cell_type": "code",
      "metadata": {
        "id": "OJbSPUjNmUAu",
        "colab_type": "code",
        "colab": {}
      },
      "source": [
        "ed1[\"GRADES_12_G\"]=ed1.groupby(['YEAR'])[\"GRADES_12_G\"].apply(lambda x: x.fillna(x.median()))"
      ],
      "execution_count": 0,
      "outputs": []
    },
    {
      "cell_type": "code",
      "metadata": {
        "id": "2elrpCIH4jim",
        "colab_type": "code",
        "colab": {
          "base_uri": "https://localhost:8080/",
          "height": 34
        },
        "outputId": "341ffcb9-1377-4a9b-bcb8-be8e0012eb50"
      },
      "source": [
        "type(ed1.groupby(['YEAR'])[\"GRADES_12_G\"])"
      ],
      "execution_count": 128,
      "outputs": [
        {
          "output_type": "execute_result",
          "data": {
            "text/plain": [
              "pandas.core.groupby.generic.SeriesGroupBy"
            ]
          },
          "metadata": {
            "tags": []
          },
          "execution_count": 128
        }
      ]
    },
    {
      "cell_type": "code",
      "metadata": {
        "id": "5eTkisoQkfFV",
        "colab_type": "code",
        "colab": {
          "base_uri": "https://localhost:8080/",
          "height": 270
        },
        "outputId": "a5a9bc28-7501-4949-986d-30c0a82666b6"
      },
      "source": [
        "ed['AVG_MATH_4_SCORE']=ed['AVG_MATH_4_SCORE'].apply(lambda x: x.fillna(x.median()))"
      ],
      "execution_count": 130,
      "outputs": [
        {
          "output_type": "error",
          "ename": "AttributeError",
          "evalue": "ignored",
          "traceback": [
            "\u001b[0;31m---------------------------------------------------------------------------\u001b[0m",
            "\u001b[0;31mAttributeError\u001b[0m                            Traceback (most recent call last)",
            "\u001b[0;32m<ipython-input-130-e29f357568d3>\u001b[0m in \u001b[0;36m<module>\u001b[0;34m()\u001b[0m\n\u001b[0;32m----> 1\u001b[0;31m \u001b[0med\u001b[0m\u001b[0;34m[\u001b[0m\u001b[0;34m'AVG_MATH_4_SCORE'\u001b[0m\u001b[0;34m]\u001b[0m\u001b[0;34m=\u001b[0m\u001b[0med\u001b[0m\u001b[0;34m[\u001b[0m\u001b[0;34m'AVG_MATH_4_SCORE'\u001b[0m\u001b[0;34m]\u001b[0m\u001b[0;34m.\u001b[0m\u001b[0mapply\u001b[0m\u001b[0;34m(\u001b[0m\u001b[0;32mlambda\u001b[0m \u001b[0mx\u001b[0m\u001b[0;34m:\u001b[0m \u001b[0mx\u001b[0m\u001b[0;34m.\u001b[0m\u001b[0mfillna\u001b[0m\u001b[0;34m(\u001b[0m\u001b[0mx\u001b[0m\u001b[0;34m.\u001b[0m\u001b[0mmedian\u001b[0m\u001b[0;34m(\u001b[0m\u001b[0;34m)\u001b[0m\u001b[0;34m)\u001b[0m\u001b[0;34m)\u001b[0m\u001b[0;34m\u001b[0m\u001b[0;34m\u001b[0m\u001b[0m\n\u001b[0m",
            "\u001b[0;32m/usr/local/lib/python3.6/dist-packages/pandas/core/series.py\u001b[0m in \u001b[0;36mapply\u001b[0;34m(self, func, convert_dtype, args, **kwds)\u001b[0m\n\u001b[1;32m   4043\u001b[0m             \u001b[0;32melse\u001b[0m\u001b[0;34m:\u001b[0m\u001b[0;34m\u001b[0m\u001b[0;34m\u001b[0m\u001b[0m\n\u001b[1;32m   4044\u001b[0m                 \u001b[0mvalues\u001b[0m \u001b[0;34m=\u001b[0m \u001b[0mself\u001b[0m\u001b[0;34m.\u001b[0m\u001b[0mastype\u001b[0m\u001b[0;34m(\u001b[0m\u001b[0mobject\u001b[0m\u001b[0;34m)\u001b[0m\u001b[0;34m.\u001b[0m\u001b[0mvalues\u001b[0m\u001b[0;34m\u001b[0m\u001b[0;34m\u001b[0m\u001b[0m\n\u001b[0;32m-> 4045\u001b[0;31m                 \u001b[0mmapped\u001b[0m \u001b[0;34m=\u001b[0m \u001b[0mlib\u001b[0m\u001b[0;34m.\u001b[0m\u001b[0mmap_infer\u001b[0m\u001b[0;34m(\u001b[0m\u001b[0mvalues\u001b[0m\u001b[0;34m,\u001b[0m \u001b[0mf\u001b[0m\u001b[0;34m,\u001b[0m \u001b[0mconvert\u001b[0m\u001b[0;34m=\u001b[0m\u001b[0mconvert_dtype\u001b[0m\u001b[0;34m)\u001b[0m\u001b[0;34m\u001b[0m\u001b[0;34m\u001b[0m\u001b[0m\n\u001b[0m\u001b[1;32m   4046\u001b[0m \u001b[0;34m\u001b[0m\u001b[0m\n\u001b[1;32m   4047\u001b[0m         \u001b[0;32mif\u001b[0m \u001b[0mlen\u001b[0m\u001b[0;34m(\u001b[0m\u001b[0mmapped\u001b[0m\u001b[0;34m)\u001b[0m \u001b[0;32mand\u001b[0m \u001b[0misinstance\u001b[0m\u001b[0;34m(\u001b[0m\u001b[0mmapped\u001b[0m\u001b[0;34m[\u001b[0m\u001b[0;36m0\u001b[0m\u001b[0;34m]\u001b[0m\u001b[0;34m,\u001b[0m \u001b[0mSeries\u001b[0m\u001b[0;34m)\u001b[0m\u001b[0;34m:\u001b[0m\u001b[0;34m\u001b[0m\u001b[0;34m\u001b[0m\u001b[0m\n",
            "\u001b[0;32mpandas/_libs/lib.pyx\u001b[0m in \u001b[0;36mpandas._libs.lib.map_infer\u001b[0;34m()\u001b[0m\n",
            "\u001b[0;32m<ipython-input-130-e29f357568d3>\u001b[0m in \u001b[0;36m<lambda>\u001b[0;34m(x)\u001b[0m\n\u001b[0;32m----> 1\u001b[0;31m \u001b[0med\u001b[0m\u001b[0;34m[\u001b[0m\u001b[0;34m'AVG_MATH_4_SCORE'\u001b[0m\u001b[0;34m]\u001b[0m\u001b[0;34m=\u001b[0m\u001b[0med\u001b[0m\u001b[0;34m[\u001b[0m\u001b[0;34m'AVG_MATH_4_SCORE'\u001b[0m\u001b[0;34m]\u001b[0m\u001b[0;34m.\u001b[0m\u001b[0mapply\u001b[0m\u001b[0;34m(\u001b[0m\u001b[0;32mlambda\u001b[0m \u001b[0mx\u001b[0m\u001b[0;34m:\u001b[0m \u001b[0mx\u001b[0m\u001b[0;34m.\u001b[0m\u001b[0mfillna\u001b[0m\u001b[0;34m(\u001b[0m\u001b[0mx\u001b[0m\u001b[0;34m.\u001b[0m\u001b[0mmedian\u001b[0m\u001b[0;34m(\u001b[0m\u001b[0;34m)\u001b[0m\u001b[0;34m)\u001b[0m\u001b[0;34m)\u001b[0m\u001b[0;34m\u001b[0m\u001b[0;34m\u001b[0m\u001b[0m\n\u001b[0m",
            "\u001b[0;31mAttributeError\u001b[0m: 'float' object has no attribute 'fillna'"
          ]
        }
      ]
    },
    {
      "cell_type": "code",
      "metadata": {
        "id": "4xJ4gB3O5BxA",
        "colab_type": "code",
        "colab": {}
      },
      "source": [
        "ed['AVG_MATH_4_SCORE']=ed['AVG_MATH_4_SCORE'].fillna(ed['AVG_MATH_4_SCORE'].median())"
      ],
      "execution_count": 0,
      "outputs": []
    },
    {
      "cell_type": "code",
      "metadata": {
        "id": "53gsX8U_1uBh",
        "colab_type": "code",
        "colab": {
          "base_uri": "https://localhost:8080/",
          "height": 34
        },
        "outputId": "1ef446de-1da6-40f4-ae0f-11c2d75e3e28"
      },
      "source": [
        "type(ed['AVG_MATH_4_SCORE'])"
      ],
      "execution_count": 135,
      "outputs": [
        {
          "output_type": "execute_result",
          "data": {
            "text/plain": [
              "pandas.core.series.Series"
            ]
          },
          "metadata": {
            "tags": []
          },
          "execution_count": 135
        }
      ]
    },
    {
      "cell_type": "code",
      "metadata": {
        "id": "90MC69L8j-cW",
        "colab_type": "code",
        "colab": {
          "base_uri": "https://localhost:8080/",
          "height": 472
        },
        "outputId": "05e48245-b7c7-4fbb-e6c3-13d4f5bf1b66"
      },
      "source": [
        "plt.figure(figsize=(5,7.5))\n",
        "plt.hist(ed['AVG_MATH_4_SCORE'])\n",
        "plt.title('MEDIAN  MATH 4')\n",
        "plt.show()"
      ],
      "execution_count": 138,
      "outputs": [
        {
          "output_type": "display_data",
          "data": {
            "image/png": "[encoded data removed]",
            "text/plain": [
              "<Figure size 360x540 with 1 Axes>"
            ]
          },
          "metadata": {
            "tags": []
          }
        }
      ]
    },
    {
      "cell_type": "markdown",
      "metadata": {
        "id": "KpiubvCHDmCr",
        "colab_type": "text"
      },
      "source": [
        ""
      ]
    },
    {
      "cell_type": "markdown",
      "metadata": {
        "id": "pZ_91ZpgDmLS",
        "colab_type": "text"
      },
      "source": [
        "\n",
        "/////////////////////////////////////////////////////////////////////////////////////////////////////////////////////////////////////////////////"
      ]
    },
    {
      "cell_type": "markdown",
      "metadata": {
        "id": "bSdZe54J2lE5",
        "colab_type": "text"
      },
      "source": [
        "BASED ON HISTOGRAMS THERE ARE OUTLIERS\n",
        "\n",
        "LET'S EXPLORE FURTHER"
      ]
    },
    {
      "cell_type": "markdown",
      "metadata": {
        "id": "KGsDseZUwGOK",
        "colab_type": "text"
      },
      "source": [
        "Z SCORE"
      ]
    },
    {
      "cell_type": "code",
      "metadata": {
        "id": "AAJVpjizuhzB",
        "colab_type": "code",
        "outputId": "dcc3d1d0-92e8-493d-c979-900e7d24cd96",
        "colab": {
          "base_uri": "https://localhost:8080/",
          "height": 370
        }
      },
      "source": [
        "from scipy.stats import zscore\n",
        "\n",
        "z_scores = zscore(ed2[\"TOTAL_REVENUE\"])\n",
        "for threshold in range(1,5):\n",
        "    print(\"The score threshold is: {}\".format(threshold))\n",
        "    print(\"The indices of the outliers:\")\n",
        "    print(np.where(z_scores > threshold))\n",
        "    print(\"Number of outliers is: {}\".format(len((np.where(z_scores > threshold)[0]))))"
      ],
      "execution_count": 0,
      "outputs": [
        {
          "output_type": "stream",
          "text": [
            "The score threshold is: 1\n",
            "The indices of the outliers:\n",
            "(array([  3,  28,  54,  63,  92, 103, 115, 143, 154, 166, 171, 192, 194,\n",
            "       200, 205, 217, 223, 227, 245, 247, 253, 258, 270, 275, 279, 296,\n",
            "       298, 304, 309, 323, 332, 349, 351, 357, 362, 374, 379, 383, 400,\n",
            "       402, 408, 413]),)\n",
            "Number of outliers is: 42\n",
            "The score threshold is: 2\n",
            "The indices of the outliers:\n",
            "(array([ 28,  63,  92, 115, 143, 154, 166, 194, 205, 217, 247, 258, 270,\n",
            "       298, 309, 323, 351, 362, 374, 402, 413]),)\n",
            "Number of outliers is: 21\n",
            "The score threshold is: 3\n",
            "The indices of the outliers:\n",
            "(array([ 63, 115, 166, 194, 217, 247, 270, 298, 309, 323, 351, 374, 402,\n",
            "       413]),)\n",
            "Number of outliers is: 14\n",
            "The score threshold is: 4\n",
            "The indices of the outliers:\n",
            "(array([166, 217, 270, 323, 374, 402]),)\n",
            "Number of outliers is: 6\n"
          ],
          "name": "stdout"
        }
      ]
    },
    {
      "cell_type": "markdown",
      "metadata": {
        "id": "cvydxJoKvRQB",
        "colab_type": "text"
      },
      "source": [
        "TUKEY'S METHOD -- also known as the Interquartile Range (IQR) method"
      ]
    },
    {
      "cell_type": "code",
      "metadata": {
        "id": "hHCH3AnRvej8",
        "colab_type": "code",
        "outputId": "9b76c0b1-5aab-4de2-8baf-c88599e244e7",
        "colab": {
          "base_uri": "https://localhost:8080/",
          "height": 286
        }
      },
      "source": [
        "# NumPy's percentile() method returns the \n",
        "# values of the given percentiles. In our case,\n",
        "# we give 75 and 25 as parameters which corresponds \n",
        "# to the third and the first quartile.\n",
        "q75, q25 = np.percentile(ed2[\"TOTAL_REVENUE\"], [75 ,25])\n",
        "iqr = q75 - q25\n",
        "\n",
        "for threshold in np.arange(1,5,0.5):\n",
        "    min_val = q25 - (iqr*threshold)\n",
        "    max_val = q75 + (iqr*threshold)\n",
        "    print(\"The score threshold is: {}\".format(threshold))\n",
        "    print(\"Number of outliers is: {}\".format(\n",
        "        len((np.where((ed2[\"TOTAL_REVENUE\"] > max_val) \n",
        "                      | (ed2[\"TOTAL_REVENUE\"] < min_val))[0]))\n",
        "    ))"
      ],
      "execution_count": 0,
      "outputs": [
        {
          "output_type": "stream",
          "text": [
            "The score threshold is: 1.0\n",
            "Number of outliers is: 22\n",
            "The score threshold is: 1.5\n",
            "Number of outliers is: 19\n",
            "The score threshold is: 2.0\n",
            "Number of outliers is: 16\n",
            "The score threshold is: 2.5\n",
            "Number of outliers is: 12\n",
            "The score threshold is: 3.0\n",
            "Number of outliers is: 7\n",
            "The score threshold is: 3.5\n",
            "Number of outliers is: 4\n",
            "The score threshold is: 4.0\n",
            "Number of outliers is: 1\n",
            "The score threshold is: 4.5\n",
            "Number of outliers is: 0\n"
          ],
          "name": "stdout"
        }
      ]
    },
    {
      "cell_type": "markdown",
      "metadata": {
        "id": "OsNG6AGuwcpS",
        "colab_type": "text"
      },
      "source": [
        "2 - If you detect outliers in the TOTAL_REVENUE and TOTAL_EXPENDITURE variables,\n",
        "\n",
        " apply the techniques you learned in this checkpoint to eliminate them and validate that there's no outlier values after you handled them."
      ]
    },
    {
      "cell_type": "markdown",
      "metadata": {
        "id": "S0tWMChLxvZn",
        "colab_type": "text"
      },
      "source": [
        "WINSORIZATION"
      ]
    },
    {
      "cell_type": "code",
      "metadata": {
        "id": "pm8mziidwi8C",
        "colab_type": "code",
        "outputId": "ce412cf5-a71d-462a-e06e-b379c4b05d0b",
        "colab": {
          "base_uri": "https://localhost:8080/",
          "height": 229
        }
      },
      "source": [
        "from scipy.stats.mstats import winsorize\n",
        "\n",
        "# We apply one-way winsorization to the highest end\n",
        "# of the value distribution. As we have a lot of extreme\n",
        "# values, we set the values of the outliers to the \n",
        "# value of the 90th percentile. \n",
        "winsorized_views = winsorize(ed2[\"TOTAL_REVENUE\"], (0, 0.10))\n",
        "winsorized_views2 = winsorize(ed2[\"TOTAL_EXPENDITURE\"], (0, 0.10))\n",
        "winsorized_views"
      ],
      "execution_count": 0,
      "outputs": [
        {
          "output_type": "error",
          "ename": "TypeError",
          "evalue": "ignored",
          "traceback": [
            "\u001b[0;31m---------------------------------------------------------------------------\u001b[0m",
            "\u001b[0;31mTypeError\u001b[0m                                 Traceback (most recent call last)",
            "\u001b[0;32m<ipython-input-85-5c03d23ef302>\u001b[0m in \u001b[0;36m<module>\u001b[0;34m()\u001b[0m\n\u001b[1;32m      5\u001b[0m \u001b[0;31m# values, we set the values of the outliers to the\u001b[0m\u001b[0;34m\u001b[0m\u001b[0;34m\u001b[0m\u001b[0;34m\u001b[0m\u001b[0m\n\u001b[1;32m      6\u001b[0m \u001b[0;31m# value of the 90th percentile.\u001b[0m\u001b[0;34m\u001b[0m\u001b[0;34m\u001b[0m\u001b[0;34m\u001b[0m\u001b[0m\n\u001b[0;32m----> 7\u001b[0;31m \u001b[0mwinsorized_views\u001b[0m \u001b[0;34m=\u001b[0m \u001b[0mwinsorize\u001b[0m\u001b[0;34m(\u001b[0m\u001b[0med2\u001b[0m\u001b[0;34m[\u001b[0m\u001b[0;34m\"TOTAL_REVENUE\"\u001b[0m\u001b[0;34m]\u001b[0m\u001b[0;34m,\u001b[0m \u001b[0;34m(\u001b[0m\u001b[0;36m0\u001b[0m\u001b[0;34m,\u001b[0m \u001b[0;36m0.10\u001b[0m\u001b[0;34m)\u001b[0m\u001b[0;34m,\u001b[0m\u001b[0mmask\u001b[0m\u001b[0;34m=\u001b[0m\u001b[0;32mTrue\u001b[0m\u001b[0;34m)\u001b[0m\u001b[0;34m\u001b[0m\u001b[0;34m\u001b[0m\u001b[0m\n\u001b[0m\u001b[1;32m      8\u001b[0m \u001b[0mwinsorized_views2\u001b[0m \u001b[0;34m=\u001b[0m \u001b[0mwinsorize\u001b[0m\u001b[0;34m(\u001b[0m\u001b[0med2\u001b[0m\u001b[0;34m[\u001b[0m\u001b[0;34m\"TOTAL_EXPENDITURE\"\u001b[0m\u001b[0;34m]\u001b[0m\u001b[0;34m,\u001b[0m \u001b[0;34m(\u001b[0m\u001b[0;36m0\u001b[0m\u001b[0;34m,\u001b[0m \u001b[0;36m0.10\u001b[0m\u001b[0;34m)\u001b[0m\u001b[0;34m)\u001b[0m\u001b[0;34m\u001b[0m\u001b[0;34m\u001b[0m\u001b[0m\n\u001b[1;32m      9\u001b[0m \u001b[0mwinsorized_views\u001b[0m\u001b[0;34m\u001b[0m\u001b[0;34m\u001b[0m\u001b[0m\n",
            "\u001b[0;31mTypeError\u001b[0m: winsorize() got an unexpected keyword argument 'mask'"
          ]
        }
      ]
    },
    {
      "cell_type": "code",
      "metadata": {
        "id": "Fzkkoid2yO6S",
        "colab_type": "code",
        "outputId": "2a8debe6-de46-45ab-9bfe-69aa45c26d63",
        "colab": {
          "base_uri": "https://localhost:8080/",
          "height": 281
        }
      },
      "source": [
        "plt.boxplot(winsorized_views)\n",
        "plt.title(\"Box plot of Total Revenue(whis=1.5)\")\n",
        "plt.show()"
      ],
      "execution_count": 0,
      "outputs": [
        {
          "output_type": "display_data",
          "data": {
            "image/png": "[encoded data removed]",
            "text/plain": [
              "<Figure size 432x288 with 1 Axes>"
            ]
          },
          "metadata": {
            "tags": []
          }
        }
      ]
    },
    {
      "cell_type": "code",
      "metadata": {
        "id": "uNRilRe3u-_e",
        "colab_type": "code",
        "colab": {}
      },
      "source": [
        "#winsorized_views2"
      ],
      "execution_count": 0,
      "outputs": []
    },
    {
      "cell_type": "code",
      "metadata": {
        "id": "r5hrrL0evFJ2",
        "colab_type": "code",
        "outputId": "1431d6e3-842b-4222-977c-49524f0dddf2",
        "colab": {
          "base_uri": "https://localhost:8080/",
          "height": 281
        }
      },
      "source": [
        "plt.boxplot(winsorized_views2)\n",
        "plt.title(\"Box plot of Total Expenditure(whis=1.5)\")\n",
        "plt.show()"
      ],
      "execution_count": 0,
      "outputs": [
        {
          "output_type": "display_data",
          "data": {
            "image/png": "[encoded data removed]",
            "text/plain": [
              "<Figure size 432x288 with 1 Axes>"
            ]
          },
          "metadata": {
            "tags": []
          }
        }
      ]
    },
    {
      "cell_type": "markdown",
      "metadata": {
        "id": "i2h4uMqJylZC",
        "colab_type": "text"
      },
      "source": [
        " LOG TRANSFORMATIONS"
      ]
    },
    {
      "cell_type": "code",
      "metadata": {
        "id": "7wHOmwi2VnVj",
        "colab_type": "code",
        "colab": {}
      },
      "source": [
        "ed2=ed0.copy()"
      ],
      "execution_count": 0,
      "outputs": []
    },
    {
      "cell_type": "code",
      "metadata": {
        "id": "5NOyqb5dynKX",
        "colab_type": "code",
        "outputId": "e422c33e-62d9-43e4-d873-ece235ad2931",
        "colab": {
          "base_uri": "https://localhost:8080/",
          "height": 349
        }
      },
      "source": [
        "plt.figure(figsize = (15,5))\n",
        "\n",
        "plt.subplot(1,2,1)\n",
        "plt.hist(ed2[\"TOTAL_REVENUE\"])\n",
        "plt.title(\"Histogram of Total Revenue\")\n",
        "\n",
        "plt.subplot(1,2,2)\n",
        "plt.hist(np.log(ed2[\"TOTAL_REVENUE\"]))\n",
        "plt.title(\"Histogram of log transformed Total Revenue\")\n",
        "plt.show()"
      ],
      "execution_count": 0,
      "outputs": [
        {
          "output_type": "display_data",
          "data": {
            "image/png": "[encoded data removed]",
            "text/plain": [
              "<Figure size 1080x360 with 2 Axes>"
            ]
          },
          "metadata": {
            "tags": []
          }
        }
      ]
    },
    {
      "cell_type": "markdown",
      "metadata": {
        "id": "J7dH2aMQ0gnO",
        "colab_type": "text"
      },
      "source": [
        "Let's look at the box plots of the original variable and its log transformed variant to see whether log transformation has an effect on the outliers:"
      ]
    },
    {
      "cell_type": "code",
      "metadata": {
        "id": "pVgzStXC0F_i",
        "colab_type": "code",
        "outputId": "5cf72c94-253e-45b2-829f-31bc14ae9c2b",
        "colab": {
          "base_uri": "https://localhost:8080/",
          "height": 336
        }
      },
      "source": [
        "plt.figure(figsize = (15,5))\n",
        "\n",
        "plt.subplot(1,2,1)\n",
        "plt.boxplot(ed2[\"TOTAL_REVENUE\"])\n",
        "plt.title(\"Box plot of TOTAL_REVENUE\")\n",
        "\n",
        "plt.subplot(1,2,2)\n",
        "plt.boxplot(np.log(ed2[\"TOTAL_REVENUE\"]))\n",
        "plt.title(\"Box plot of log transformed TOTAL_REVENUE\")\n",
        "plt.show()"
      ],
      "execution_count": 0,
      "outputs": [
        {
          "output_type": "display_data",
          "data": {
            "image/png": "[encoded data removed]",
            "text/plain": [
              "<Figure size 1080x360 with 2 Axes>"
            ]
          },
          "metadata": {
            "tags": []
          }
        }
      ]
    },
    {
      "cell_type": "markdown",
      "metadata": {
        "id": "-wpXbhELwr4T",
        "colab_type": "text"
      },
      "source": [
        "TUKEY'S"
      ]
    },
    {
      "cell_type": "code",
      "metadata": {
        "id": "iDu54JI00041",
        "colab_type": "code",
        "outputId": "0065b12f-de12-4dd5-9daf-eec54bbd3577",
        "colab": {
          "base_uri": "https://localhost:8080/",
          "height": 286
        }
      },
      "source": [
        "q75, q25 = np.percentile(ed2[\"TOTAL_REVENUE\"], [75 ,25])\n",
        "iqr = q75 - q25\n",
        "\n",
        "for threshold in np.arange(1,5,0.5):\n",
        "    min_val = q25 - (iqr*threshold)\n",
        "    max_val = q75 + (iqr*threshold)\n",
        "    print(\"The score threshold is: {}\".format(threshold))\n",
        "    print(\"Number of outliers is: {}\".format(\n",
        "        len((np.where((ed2[\"TOTAL_REVENUE\"] > max_val) \n",
        "                      | (ed2[\"TOTAL_REVENUE\"] < min_val))[0]))\n",
        "    ))"
      ],
      "execution_count": 0,
      "outputs": [
        {
          "output_type": "stream",
          "text": [
            "The score threshold is: 1.0\n",
            "Number of outliers is: 50\n",
            "The score threshold is: 1.5\n",
            "Number of outliers is: 40\n",
            "The score threshold is: 2.0\n",
            "Number of outliers is: 33\n",
            "The score threshold is: 2.5\n",
            "Number of outliers is: 21\n",
            "The score threshold is: 3.0\n",
            "Number of outliers is: 12\n",
            "The score threshold is: 3.5\n",
            "Number of outliers is: 6\n",
            "The score threshold is: 4.0\n",
            "Number of outliers is: 1\n",
            "The score threshold is: 4.5\n",
            "Number of outliers is: 1\n"
          ],
          "name": "stdout"
        }
      ]
    },
    {
      "cell_type": "markdown",
      "metadata": {
        "id": "hvTqs5lcvv_M",
        "colab_type": "text"
      },
      "source": [
        "NOW REPEAT FOR TOTAL EXPENDITURES"
      ]
    },
    {
      "cell_type": "code",
      "metadata": {
        "id": "4ckEO6hBv8E0",
        "colab_type": "code",
        "outputId": "f8dd06e3-82e2-415b-d639-909b2fe9e2df",
        "colab": {
          "base_uri": "https://localhost:8080/",
          "height": 349
        }
      },
      "source": [
        "plt.figure(figsize = (15,5))\n",
        "\n",
        "plt.subplot(1,2,1)\n",
        "plt.hist(ed2[\"TOTAL_EXPENDITURE\"])\n",
        "plt.title(\"Histogram of Total Expenditure\")\n",
        "\n",
        "plt.subplot(1,2,2)\n",
        "plt.hist(np.log(ed2[\"TOTAL_REVENUE\"]))\n",
        "plt.title(\"Histogram of log transformed Total Expenditure\")\n",
        "plt.show()"
      ],
      "execution_count": 0,
      "outputs": [
        {
          "output_type": "display_data",
          "data": {
            "image/png": "[encoded data removed]",
            "text/plain": [
              "<Figure size 1080x360 with 2 Axes>"
            ]
          },
          "metadata": {
            "tags": []
          }
        }
      ]
    },
    {
      "cell_type": "code",
      "metadata": {
        "id": "0Kk89qY6wc1p",
        "colab_type": "code",
        "outputId": "74dcbf3a-41b0-4a2f-93e4-7570aff69908",
        "colab": {
          "base_uri": "https://localhost:8080/",
          "height": 336
        }
      },
      "source": [
        "plt.figure(figsize = (15,5))\n",
        "\n",
        "plt.subplot(1,2,1)\n",
        "plt.boxplot(ed2[\"TOTAL_EXPENDITURE\"])\n",
        "plt.title(\"Box plot of TOTAL_REVENUE\")\n",
        "\n",
        "plt.subplot(1,2,2)\n",
        "plt.boxplot(np.log(ed2[\"TOTAL_EXPENDITURE\"]))\n",
        "plt.title(\"Box plot of log transformed TOTAL_EXPENDITURE\")\n",
        "plt.show()"
      ],
      "execution_count": 0,
      "outputs": [
        {
          "output_type": "display_data",
          "data": {
            "image/png": "[encoded data removed]",
            "text/plain": [
              "<Figure size 1080x360 with 2 Axes>"
            ]
          },
          "metadata": {
            "tags": []
          }
        }
      ]
    },
    {
      "cell_type": "markdown",
      "metadata": {
        "id": "ybFvBKLsw4ik",
        "colab_type": "text"
      },
      "source": [
        "TUKEY'S"
      ]
    },
    {
      "cell_type": "code",
      "metadata": {
        "id": "N4v7DpkPxAP3",
        "colab_type": "code",
        "outputId": "8f345253-5460-42e4-bfdb-3dad5dd80920",
        "colab": {
          "base_uri": "https://localhost:8080/",
          "height": 286
        }
      },
      "source": [
        "q75, q25 = np.percentile(ed2[\"TOTAL_EXPENDITURE\"], [75 ,25])\n",
        "iqr = q75 - q25\n",
        "\n",
        "for threshold in np.arange(1,5,0.5):\n",
        "    min_val = q25 - (iqr*threshold)\n",
        "    max_val = q75 + (iqr*threshold)\n",
        "    print(\"The score threshold is: {}\".format(threshold))\n",
        "    print(\"Number of outliers is: {}\".format(\n",
        "        len((np.where((ed2[\"TOTAL_EXPENDITURE\"] > max_val) \n",
        "                      | (ed2[\"TOTAL_EXPENDITURE\"] < min_val))[0]))\n",
        "    ))"
      ],
      "execution_count": 0,
      "outputs": [
        {
          "output_type": "stream",
          "text": [
            "The score threshold is: 1.0\n",
            "Number of outliers is: 24\n",
            "The score threshold is: 1.5\n",
            "Number of outliers is: 21\n",
            "The score threshold is: 2.0\n",
            "Number of outliers is: 18\n",
            "The score threshold is: 2.5\n",
            "Number of outliers is: 13\n",
            "The score threshold is: 3.0\n",
            "Number of outliers is: 8\n",
            "The score threshold is: 3.5\n",
            "Number of outliers is: 5\n",
            "The score threshold is: 4.0\n",
            "Number of outliers is: 2\n",
            "The score threshold is: 4.5\n",
            "Number of outliers is: 0\n"
          ],
          "name": "stdout"
        }
      ]
    },
    {
      "cell_type": "code",
      "metadata": {
        "id": "Bs3n8r2fX4Hn",
        "colab_type": "code",
        "outputId": "e83c8bcc-810c-4eba-e514-c3cf0f3f9f3e",
        "colab": {
          "base_uri": "https://localhost:8080/",
          "height": 218
        }
      },
      "source": [
        "ed2['TOTAL_EXPENDITURE'].isnull()"
      ],
      "execution_count": 0,
      "outputs": [
        {
          "output_type": "execute_result",
          "data": {
            "text/plain": [
              "0       False\n",
              "1       False\n",
              "2       False\n",
              "3       False\n",
              "4       False\n",
              "        ...  \n",
              "1487    False\n",
              "1488    False\n",
              "1489    False\n",
              "1490    False\n",
              "1491    False\n",
              "Name: TOTAL_EXPENDITURE, Length: 1492, dtype: bool"
            ]
          },
          "metadata": {
            "tags": []
          },
          "execution_count": 31
        }
      ]
    },
    {
      "cell_type": "code",
      "metadata": {
        "id": "PpDa4Y41XpyL",
        "colab_type": "code",
        "outputId": "d4f6f684-f46d-487c-c148-d31a79af953b",
        "colab": {
          "base_uri": "https://localhost:8080/",
          "height": 34
        }
      },
      "source": [
        "ed2['TOTAL_EXPENDITURE'].isnull().sum()"
      ],
      "execution_count": 0,
      "outputs": [
        {
          "output_type": "execute_result",
          "data": {
            "text/plain": [
              "0"
            ]
          },
          "metadata": {
            "tags": []
          },
          "execution_count": 68
        }
      ]
    },
    {
      "cell_type": "markdown",
      "metadata": {
        "id": "OLzZbGXKxlsw",
        "colab_type": "text"
      },
      "source": [
        "3- Create another variable by subtracting the original TOTAL_EXPENDITURE from TOTAL_REVENUE (before you eliminated the outliers).\n",
        "\n",
        " You can think of it as a kind of budget deficit in education.\n",
        " \n",
        "  Do you find any outlier values in this new variable? \n",
        "  \n",
        "  If so, eliminate them using the technique you think most suitable."
      ]
    },
    {
      "cell_type": "code",
      "metadata": {
        "id": "9h56WkuLxq1g",
        "colab_type": "code",
        "colab": {}
      },
      "source": [
        "ed2['TOTAL_DIFF']=ed2['TOTAL_REVENUE']-ed2['TOTAL_EXPENDITURE']"
      ],
      "execution_count": 0,
      "outputs": []
    },
    {
      "cell_type": "code",
      "metadata": {
        "id": "C2bJRhbtyCBS",
        "colab_type": "code",
        "outputId": "383a5044-cc03-4b5b-daa8-53896afde055",
        "colab": {
          "base_uri": "https://localhost:8080/",
          "height": 118
        }
      },
      "source": [
        "ed2['TOTAL_DIFF'].head()"
      ],
      "execution_count": 0,
      "outputs": [
        {
          "output_type": "execute_result",
          "data": {
            "text/plain": [
              "209   -207170.0\n",
              "211   -248251.0\n",
              "212   -113997.0\n",
              "213   -278711.0\n",
              "214   -183962.0\n",
              "Name: TOTAL_DIFF, dtype: float64"
            ]
          },
          "metadata": {
            "tags": []
          },
          "execution_count": 70
        }
      ]
    },
    {
      "cell_type": "code",
      "metadata": {
        "id": "EWrhwF0Ey9ej",
        "colab_type": "code",
        "outputId": "8c0bd74f-e4ac-4b7c-b7dc-fafd01d8fda9",
        "colab": {
          "base_uri": "https://localhost:8080/",
          "height": 265
        }
      },
      "source": [
        "plt.hist(ed2['TOTAL_DIFF'],bins=50)\n",
        "plt.show()"
      ],
      "execution_count": 0,
      "outputs": [
        {
          "output_type": "display_data",
          "data": {
            "image/png": "[encoded data removed]",
            "text/plain": [
              "<Figure size 432x288 with 1 Axes>"
            ]
          },
          "metadata": {
            "tags": []
          }
        }
      ]
    },
    {
      "cell_type": "code",
      "metadata": {
        "id": "N4KxA7AlzKlc",
        "colab_type": "code",
        "outputId": "29972da6-3b87-409c-97f0-4da9bcd50490",
        "colab": {
          "base_uri": "https://localhost:8080/",
          "height": 281
        }
      },
      "source": [
        "plt.boxplot(ed2[\"TOTAL_DIFF\"],whis=1.5)\n",
        "plt.title(\"Box plot of TOTAL DIFF(whis=1.5)\")\n",
        "plt.show()"
      ],
      "execution_count": 0,
      "outputs": [
        {
          "output_type": "display_data",
          "data": {
            "image/png": "[encoded data removed]",
            "text/plain": [
              "<Figure size 432x288 with 1 Axes>"
            ]
          },
          "metadata": {
            "tags": []
          }
        }
      ]
    },
    {
      "cell_type": "code",
      "metadata": {
        "id": "gP280W3SzTRs",
        "colab_type": "code",
        "outputId": "016197b8-cd08-455a-ebc2-8ff57ffa257a",
        "colab": {
          "base_uri": "https://localhost:8080/",
          "height": 281
        }
      },
      "source": [
        "plt.boxplot(ed2[\"TOTAL_DIFF\"],whis=5.0)\n",
        "plt.title(\"Box plot of TOTAL DIFF(whis=5.0)\")\n",
        "plt.show()"
      ],
      "execution_count": 0,
      "outputs": [
        {
          "output_type": "display_data",
          "data": {
            "image/png": "[encoded data removed]",
            "text/plain": [
              "<Figure size 432x288 with 1 Axes>"
            ]
          },
          "metadata": {
            "tags": []
          }
        }
      ]
    },
    {
      "cell_type": "markdown",
      "metadata": {
        "id": "SfPE9FKU127w",
        "colab_type": "text"
      },
      "source": [
        "Z SCORE"
      ]
    },
    {
      "cell_type": "code",
      "metadata": {
        "id": "jSpZsxnE14zP",
        "colab_type": "code",
        "outputId": "adf16332-ebec-4edb-cba6-f77902af6862",
        "colab": {
          "base_uri": "https://localhost:8080/",
          "height": 302
        }
      },
      "source": [
        "from scipy.stats import zscore\n",
        "\n",
        "z_scores = zscore(ed2[\"TOTAL_DIFF\"])\n",
        "for threshold in range(1,5):\n",
        "    print(\"The score threshold is: {}\".format(threshold))\n",
        "    print(\"The indices of the outliers:\")\n",
        "    print(np.where(z_scores > threshold))\n",
        "    print(\"Number of outliers is: {}\".format(len((np.where(z_scores > threshold)[0]))))"
      ],
      "execution_count": 0,
      "outputs": [
        {
          "output_type": "stream",
          "text": [
            "The score threshold is: 1\n",
            "The indices of the outliers:\n",
            "(array([ 28, 125, 173, 184, 197, 228, 248, 270, 276, 279, 280, 288, 299,\n",
            "       321, 325, 332, 333, 341, 376, 384, 390, 392, 405]),)\n",
            "Number of outliers is: 23\n",
            "The score threshold is: 2\n",
            "The indices of the outliers:\n",
            "(array([228, 392, 405]),)\n",
            "Number of outliers is: 3\n",
            "The score threshold is: 3\n",
            "The indices of the outliers:\n",
            "(array([228, 405]),)\n",
            "Number of outliers is: 2\n",
            "The score threshold is: 4\n",
            "The indices of the outliers:\n",
            "(array([], dtype=int64),)\n",
            "Number of outliers is: 0\n"
          ],
          "name": "stdout"
        }
      ]
    },
    {
      "cell_type": "markdown",
      "metadata": {
        "id": "w5m_QIiczrNQ",
        "colab_type": "text"
      },
      "source": [
        "LOG TRANSFORMATION"
      ]
    },
    {
      "cell_type": "code",
      "metadata": {
        "id": "NE1PrLGXzuAs",
        "colab_type": "code",
        "outputId": "665b0de8-de41-42c6-89a7-dcaad6439e2b",
        "colab": {
          "base_uri": "https://localhost:8080/",
          "height": 437
        }
      },
      "source": [
        "plt.figure(figsize = (15,5))\n",
        "\n",
        "plt.subplot(1,2,1)\n",
        "plt.hist(ed2[\"TOTAL_DIFF\"])\n",
        "plt.title(\"Histogram of Total Diff\")\n",
        "\n",
        "plt.subplot(1,2,2)\n",
        "plt.hist(np.log(ed2[\"TOTAL_DIFF\"]))\n",
        "plt.title(\"Histogram of log transformed Total Diff\")\n",
        "plt.show()"
      ],
      "execution_count": 0,
      "outputs": [
        {
          "output_type": "stream",
          "text": [
            "/usr/local/lib/python3.6/dist-packages/pandas/core/series.py:856: RuntimeWarning: invalid value encountered in log\n",
            "  result = getattr(ufunc, method)(*inputs, **kwargs)\n",
            "/usr/local/lib/python3.6/dist-packages/numpy/lib/histograms.py:839: RuntimeWarning: invalid value encountered in greater_equal\n",
            "  keep = (tmp_a >= first_edge)\n",
            "/usr/local/lib/python3.6/dist-packages/numpy/lib/histograms.py:840: RuntimeWarning: invalid value encountered in less_equal\n",
            "  keep &= (tmp_a <= last_edge)\n"
          ],
          "name": "stderr"
        },
        {
          "output_type": "display_data",
          "data": {
            "image/png": "[encoded data removed]",
            "text/plain": [
              "<Figure size 1080x360 with 2 Axes>"
            ]
          },
          "metadata": {
            "tags": []
          }
        }
      ]
    },
    {
      "cell_type": "code",
      "metadata": {
        "id": "LWJEvpZP0E0p",
        "colab_type": "code",
        "outputId": "639a391d-bb00-48ec-a480-7a50647901c8",
        "colab": {
          "base_uri": "https://localhost:8080/",
          "height": 504
        }
      },
      "source": [
        "plt.figure(figsize = (15,5))\n",
        "\n",
        "plt.subplot(1,2,1)\n",
        "plt.boxplot(ed2[\"TOTAL_DIFF\"])\n",
        "plt.title(\"Box plot of TOTAL_DIFF\")\n",
        "\n",
        "plt.subplot(1,2,2)\n",
        "plt.boxplot(np.log(ed2[\"TOTAL_DIFF\"]))\n",
        "plt.title(\"Box plot of log transformed TOTAL_DIFF\")\n",
        "plt.show()"
      ],
      "execution_count": 0,
      "outputs": [
        {
          "output_type": "stream",
          "text": [
            "/usr/local/lib/python3.6/dist-packages/pandas/core/series.py:856: RuntimeWarning: invalid value encountered in log\n",
            "  result = getattr(ufunc, method)(*inputs, **kwargs)\n",
            "/usr/local/lib/python3.6/dist-packages/matplotlib/cbook/__init__.py:1316: RuntimeWarning: invalid value encountered in less_equal\n",
            "  wiskhi = x[x <= hival]\n",
            "/usr/local/lib/python3.6/dist-packages/matplotlib/cbook/__init__.py:1323: RuntimeWarning: invalid value encountered in greater_equal\n",
            "  wisklo = x[x >= loval]\n",
            "/usr/local/lib/python3.6/dist-packages/matplotlib/cbook/__init__.py:1331: RuntimeWarning: invalid value encountered in less\n",
            "  x[x < stats['whislo']],\n",
            "/usr/local/lib/python3.6/dist-packages/matplotlib/cbook/__init__.py:1332: RuntimeWarning: invalid value encountered in greater\n",
            "  x[x > stats['whishi']],\n"
          ],
          "name": "stderr"
        },
        {
          "output_type": "display_data",
          "data": {
            "image/png": "[encoded data removed]",
            "text/plain": [
              "<Figure size 1080x360 with 2 Axes>"
            ]
          },
          "metadata": {
            "tags": []
          }
        }
      ]
    },
    {
      "cell_type": "markdown",
      "metadata": {
        "id": "TQK8hRsD0Yez",
        "colab_type": "text"
      },
      "source": [
        "EMOTY BOX PLOT OF LOG TRANSFORMED TOTAL DIFF MEANS LOG TRANSFORM TOOK CARE OF ALL OUTLIERS\n",
        "\n",
        "WE CAN DOUBLE CHECK WITH Z SCORE"
      ]
    },
    {
      "cell_type": "code",
      "metadata": {
        "id": "Qyyh9rqI0uPF",
        "colab_type": "code",
        "outputId": "400a7502-5161-413b-ac42-fd0fe1bc2163",
        "colab": {
          "base_uri": "https://localhost:8080/",
          "height": 386
        }
      },
      "source": [
        "from scipy.stats import zscore\n",
        "\n",
        "z_scores = zscore(np.log(ed2[\"TOTAL_DIFF\"]))\n",
        "for threshold in range(1,5):\n",
        "    print(\"The score threshold is: {}\".format(threshold))\n",
        "    print(\"The indices of the outliers:\")\n",
        "    print(np.where(z_scores > threshold))\n",
        "    print(\"Number of outliers is: {}\".format(len((np.where(z_scores > threshold)[0]))))"
      ],
      "execution_count": 0,
      "outputs": [
        {
          "output_type": "stream",
          "text": [
            "The score threshold is: 1\n",
            "The indices of the outliers:\n",
            "(array([], dtype=int64),)\n",
            "Number of outliers is: 0\n",
            "The score threshold is: 2\n",
            "The indices of the outliers:\n",
            "(array([], dtype=int64),)\n",
            "Number of outliers is: 0\n",
            "The score threshold is: 3\n",
            "The indices of the outliers:\n",
            "(array([], dtype=int64),)\n",
            "Number of outliers is: 0\n",
            "The score threshold is: 4\n",
            "The indices of the outliers:\n",
            "(array([], dtype=int64),)\n",
            "Number of outliers is: 0\n"
          ],
          "name": "stdout"
        },
        {
          "output_type": "stream",
          "text": [
            "/usr/local/lib/python3.6/dist-packages/pandas/core/series.py:856: RuntimeWarning: invalid value encountered in log\n",
            "  result = getattr(ufunc, method)(*inputs, **kwargs)\n",
            "/usr/local/lib/python3.6/dist-packages/ipykernel_launcher.py:7: RuntimeWarning: invalid value encountered in greater\n",
            "  import sys\n",
            "/usr/local/lib/python3.6/dist-packages/ipykernel_launcher.py:8: RuntimeWarning: invalid value encountered in greater\n",
            "  \n"
          ],
          "name": "stderr"
        }
      ]
    },
    {
      "cell_type": "markdown",
      "metadata": {
        "id": "NcKwqn9n1J5p",
        "colab_type": "text"
      },
      "source": [
        "TUKEYS WITH LOG TRANSFORM"
      ]
    },
    {
      "cell_type": "code",
      "metadata": {
        "id": "m-_jvQsl25lE",
        "colab_type": "code",
        "outputId": "c2fd7b0a-423b-4c47-e548-4fbd44dc6c36",
        "colab": {
          "base_uri": "https://localhost:8080/",
          "height": 319
        }
      },
      "source": [
        "# now we take the log of TOTAL_DIFF and calculate\n",
        "# the quartiles accordingly.\n",
        "q75, q25 = np.percentile(np.log(ed2[\"TOTAL_DIFF\"]), [75 ,25])\n",
        "iqr = q75 - q25\n",
        "\n",
        "for threshold in np.arange(1,5,0.5):\n",
        "    min_val = q25 - (iqr*threshold)\n",
        "    max_val = q75 + (iqr*threshold)\n",
        "    print(\"The score threshold is: {}\".format(threshold))\n",
        "    print(\"Number of outliers is: {}\".format(\n",
        "        len((np.where((np.log(ed2[\"TOTAL_DIFF\"]) > max_val) \n",
        "                      | (np.log(ed2[\"TOTAL_DIFF\"]) < min_val))[0]))\n",
        "    ))"
      ],
      "execution_count": 0,
      "outputs": [
        {
          "output_type": "stream",
          "text": [
            "The score threshold is: 1.0\n",
            "Number of outliers is: 0\n",
            "The score threshold is: 1.5\n",
            "Number of outliers is: 0\n",
            "The score threshold is: 2.0\n",
            "Number of outliers is: 0\n",
            "The score threshold is: 2.5\n",
            "Number of outliers is: 0\n",
            "The score threshold is: 3.0\n",
            "Number of outliers is: 0\n",
            "The score threshold is: 3.5\n",
            "Number of outliers is: 0\n",
            "The score threshold is: 4.0\n",
            "Number of outliers is: 0\n",
            "The score threshold is: 4.5\n",
            "Number of outliers is: 0\n"
          ],
          "name": "stdout"
        },
        {
          "output_type": "stream",
          "text": [
            "/usr/local/lib/python3.6/dist-packages/pandas/core/series.py:856: RuntimeWarning: invalid value encountered in log\n",
            "  result = getattr(ufunc, method)(*inputs, **kwargs)\n"
          ],
          "name": "stderr"
        }
      ]
    },
    {
      "cell_type": "markdown",
      "metadata": {
        "id": "GO8--fIT3jv9",
        "colab_type": "text"
      },
      "source": [
        "SO TUKEY'S CONFIRMS THAT LOG TRANSFORM ELIMINATED OUTLIERS"
      ]
    },
    {
      "cell_type": "markdown",
      "metadata": {
        "id": "mIl_TQv04NBf",
        "colab_type": "text"
      },
      "source": [
        "4 - Now create another variable by subtracting the TOTAL_EXPENDITURE from TOTAL_REVENUE.\n",
        "\n",
        " This time, use the **outlier eliminated** versions of TOTAL_EXPENDITURE from TOTAL_REVENUE. \n",
        " \n",
        " In this newly created variable, can you find any outliers?\n",
        " \n",
        "  If so, **eliminate them.**"
      ]
    },
    {
      "cell_type": "code",
      "metadata": {
        "id": "Ot6MNhPa4aT-",
        "colab_type": "code",
        "colab": {}
      },
      "source": [
        "v=np.log(ed2['TOTAL_REVENUE'])-np.log(ed2['TOTAL_EXPENDITURE'])"
      ],
      "execution_count": 0,
      "outputs": []
    },
    {
      "cell_type": "code",
      "metadata": {
        "id": "9HiwgpaC7r4j",
        "colab_type": "code",
        "outputId": "ef50e62a-b14a-47fd-d56b-4568a612e68b",
        "colab": {
          "base_uri": "https://localhost:8080/",
          "height": 265
        }
      },
      "source": [
        "plt.hist(v,bins=50)\n",
        "plt.show()\n"
      ],
      "execution_count": 0,
      "outputs": [
        {
          "output_type": "display_data",
          "data": {
            "image/png": "[encoded data removed]",
            "text/plain": [
              "<Figure size 432x288 with 1 Axes>"
            ]
          },
          "metadata": {
            "tags": []
          }
        }
      ]
    },
    {
      "cell_type": "code",
      "metadata": {
        "id": "xVJThvzM8aNJ",
        "colab_type": "code",
        "outputId": "685cab9a-c3d2-44e2-87fc-1716193b690c",
        "colab": {
          "base_uri": "https://localhost:8080/",
          "height": 281
        }
      },
      "source": [
        "plt.boxplot(v,whis=1.5)\n",
        "plt.title(\"Box plot of v (whis=1.5)\")\n",
        "plt.show()"
      ],
      "execution_count": 0,
      "outputs": [
        {
          "output_type": "display_data",
          "data": {
            "image/png": "[encoded data removed]",
            "text/plain": [
              "<Figure size 432x288 with 1 Axes>"
            ]
          },
          "metadata": {
            "tags": []
          }
        }
      ]
    },
    {
      "cell_type": "markdown",
      "metadata": {
        "id": "D7d2TnpQQ-MG",
        "colab_type": "text"
      },
      "source": [
        "MANY OUTLIERS\n"
      ]
    },
    {
      "cell_type": "markdown",
      "metadata": {
        "id": "YhStzvodMDS2",
        "colab_type": "text"
      },
      "source": [
        "5 - Compare some basic descriptive statistics of the budget variables you end up with in the 3rd and the 4th questions.\n",
        "\n",
        " Do you see any differences?"
      ]
    },
    {
      "cell_type": "code",
      "metadata": {
        "id": "y8WY6gStMOkL",
        "colab_type": "code",
        "outputId": "39256fa8-7fe8-4784-e1c6-81e89c676b16",
        "colab": {
          "base_uri": "https://localhost:8080/",
          "height": 168
        }
      },
      "source": [
        "v.describe()"
      ],
      "execution_count": 0,
      "outputs": [
        {
          "output_type": "execute_result",
          "data": {
            "text/plain": [
              "count    467.000000\n",
              "mean      -0.001865\n",
              "std        0.044397\n",
              "min       -0.170369\n",
              "25%       -0.025170\n",
              "50%       -0.000375\n",
              "75%        0.017574\n",
              "max        0.305521\n",
              "dtype: float64"
            ]
          },
          "metadata": {
            "tags": []
          },
          "execution_count": 81
        }
      ]
    },
    {
      "cell_type": "code",
      "metadata": {
        "id": "Xct9QLRxMdd-",
        "colab_type": "code",
        "outputId": "902f9433-bd73-4c21-db9f-b51abb582581",
        "colab": {
          "base_uri": "https://localhost:8080/",
          "height": 168
        }
      },
      "source": [
        "ed2['TOTAL_DIFF'].describe()\n"
      ],
      "execution_count": 0,
      "outputs": [
        {
          "output_type": "execute_result",
          "data": {
            "text/plain": [
              "count    4.670000e+02\n",
              "mean    -5.245817e+04\n",
              "std      5.888767e+05\n",
              "min     -5.487742e+06\n",
              "25%     -1.825965e+05\n",
              "50%     -1.524000e+03\n",
              "75%      1.712450e+05\n",
              "max      1.816932e+06\n",
              "Name: TOTAL_DIFF, dtype: float64"
            ]
          },
          "metadata": {
            "tags": []
          },
          "execution_count": 82
        }
      ]
    },
    {
      "cell_type": "code",
      "metadata": {
        "id": "NnyBcrjxNihj",
        "colab_type": "code",
        "outputId": "1a8339cf-59d8-4a9e-ff64-151dd4884f92",
        "colab": {
          "base_uri": "https://localhost:8080/",
          "height": 202
        }
      },
      "source": [
        "np.log(ed2['TOTAL_DIFF']).describe()"
      ],
      "execution_count": 0,
      "outputs": [
        {
          "output_type": "stream",
          "text": [
            "/usr/local/lib/python3.6/dist-packages/pandas/core/series.py:856: RuntimeWarning: invalid value encountered in log\n",
            "  result = getattr(ufunc, method)(*inputs, **kwargs)\n"
          ],
          "name": "stderr"
        },
        {
          "output_type": "execute_result",
          "data": {
            "text/plain": [
              "count    226.000000\n",
              "mean      11.835200\n",
              "std        1.438688\n",
              "min        4.890349\n",
              "25%       10.939465\n",
              "50%       12.126811\n",
              "75%       12.933653\n",
              "max       14.412660\n",
              "Name: TOTAL_DIFF, dtype: float64"
            ]
          },
          "metadata": {
            "tags": []
          },
          "execution_count": 84
        }
      ]
    },
    {
      "cell_type": "markdown",
      "metadata": {
        "id": "f_sRly0_bp79",
        "colab_type": "text"
      },
      "source": [
        "yes -- many values are different\n",
        "\n",
        "thinkful solution used winzorization -- i used log"
      ]
    },
    {
      "cell_type": "markdown",
      "metadata": {
        "id": "OK4W1OBncWT8",
        "colab_type": "text"
      },
      "source": [
        "6- our variable of interest is the budget deficit variable, which method do you think is the appropriate in dealing with the outliers in this variable:\n",
        "\n",
        " the method in the 3rd question or the one in the 4th question?"
      ]
    },
    {
      "cell_type": "markdown",
      "metadata": {
        "id": "kxd8HS6Hcad_",
        "colab_type": "text"
      },
      "source": [
        ""
      ]
    }
  ]
}