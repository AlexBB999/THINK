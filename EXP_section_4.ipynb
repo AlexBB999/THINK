{
  "nbformat": 4,
  "nbformat_minor": 0,
  "metadata": {
    "colab": {
      "name": "EXP -section 4.ipynb",
      "provenance": [],
      "collapsed_sections": [],
      "include_colab_link": true
    },
    "kernelspec": {
      "name": "python3",
      "display_name": "Python 3"
    }
  },
  "cells": [
    {
      "cell_type": "markdown",
      "metadata": {
        "id": "view-in-github",
        "colab_type": "text"
      },
      "source": [
        "<a href=\"https://colab.research.google.com/github/AlexBB999/THINK/blob/master/EXP_section_4.ipynb\" target=\"_parent\"><img src=\"https://colab.research.google.com/assets/colab-badge.svg\" alt=\"Open In Colab\"/></a>"
      ]
    },
    {
      "cell_type": "markdown",
      "metadata": {
        "id": "y1v6c0wDKeKA",
        "colab_type": "text"
      },
      "source": [
        "Check for adequate sample sizes.\n",
        "\n",
        "Check for changes over time in results.\n",
        "\n",
        "Formally test for a significant difference in conversions between treatment and control groups."
      ]
    },
    {
      "cell_type": "code",
      "metadata": {
        "id": "WFLGgeQw_e2i",
        "colab_type": "code",
        "colab": {}
      },
      "source": [
        "%matplotlib inline\n",
        "import pandas as pd\n",
        "import numpy as np\n",
        "import seaborn as sns\n",
        "from matplotlib import pyplot as plt\n",
        "from scipy import stats"
      ],
      "execution_count": 0,
      "outputs": []
    },
    {
      "cell_type": "code",
      "metadata": {
        "id": "tQ1795dJB-ui",
        "colab_type": "code",
        "colab": {}
      },
      "source": [
        "ab=pd.read_csv('https://raw.githubusercontent.com/AlexBB999/Thinkful/master/ab_edited.csv')"
      ],
      "execution_count": 0,
      "outputs": []
    },
    {
      "cell_type": "code",
      "metadata": {
        "id": "wOZV2-Bk_kHv",
        "colab_type": "code",
        "colab": {}
      },
      "source": [
        "PATH = 'https://raw.githubusercontent.com/nirupamaprv/Analyze-AB-test-Results/master/ab_edited.csv'\n",
        "ab = pd.read_csv(PATH)"
      ],
      "execution_count": 0,
      "outputs": []
    },
    {
      "cell_type": "code",
      "metadata": {
        "id": "_1owgHwVCkf5",
        "colab_type": "code",
        "outputId": "16b9f949-88d2-4070-bea0-1ef6ae0ad488",
        "colab": {
          "base_uri": "https://localhost:8080/",
          "height": 188
        }
      },
      "source": [
        "ab.info()"
      ],
      "execution_count": 4,
      "outputs": [
        {
          "output_type": "stream",
          "text": [
            "<class 'pandas.core.frame.DataFrame'>\n",
            "RangeIndex: 290585 entries, 0 to 290584\n",
            "Data columns (total 5 columns):\n",
            "user_id         290585 non-null int64\n",
            "timestamp       290585 non-null object\n",
            "group           290585 non-null object\n",
            "landing_page    290585 non-null object\n",
            "converted       290585 non-null int64\n",
            "dtypes: int64(2), object(3)\n",
            "memory usage: 11.1+ MB\n"
          ],
          "name": "stdout"
        }
      ]
    },
    {
      "cell_type": "code",
      "metadata": {
        "id": "dmKso2iCCxJl",
        "colab_type": "code",
        "outputId": "28000c0f-944d-46ca-c0a5-4ac4dd37e765",
        "colab": {
          "base_uri": "https://localhost:8080/",
          "height": 357
        }
      },
      "source": [
        "ab.head(10)"
      ],
      "execution_count": 5,
      "outputs": [
        {
          "output_type": "execute_result",
          "data": {
            "text/html": [
              "<div>\n",
              "<style scoped>\n",
              "    .dataframe tbody tr th:only-of-type {\n",
              "        vertical-align: middle;\n",
              "    }\n",
              "\n",
              "    .dataframe tbody tr th {\n",
              "        vertical-align: top;\n",
              "    }\n",
              "\n",
              "    .dataframe thead th {\n",
              "        text-align: right;\n",
              "    }\n",
              "</style>\n",
              "<table border=\"1\" class=\"dataframe\">\n",
              "  <thead>\n",
              "    <tr style=\"text-align: right;\">\n",
              "      <th></th>\n",
              "      <th>user_id</th>\n",
              "      <th>timestamp</th>\n",
              "      <th>group</th>\n",
              "      <th>landing_page</th>\n",
              "      <th>converted</th>\n",
              "    </tr>\n",
              "  </thead>\n",
              "  <tbody>\n",
              "    <tr>\n",
              "      <th>0</th>\n",
              "      <td>851104</td>\n",
              "      <td>2017-01-21 22:11:48.556739</td>\n",
              "      <td>control</td>\n",
              "      <td>old_page</td>\n",
              "      <td>0</td>\n",
              "    </tr>\n",
              "    <tr>\n",
              "      <th>1</th>\n",
              "      <td>804228</td>\n",
              "      <td>2017-01-12 08:01:45.159739</td>\n",
              "      <td>control</td>\n",
              "      <td>old_page</td>\n",
              "      <td>0</td>\n",
              "    </tr>\n",
              "    <tr>\n",
              "      <th>2</th>\n",
              "      <td>661590</td>\n",
              "      <td>2017-01-11 16:55:06.154213</td>\n",
              "      <td>treatment</td>\n",
              "      <td>new_page</td>\n",
              "      <td>0</td>\n",
              "    </tr>\n",
              "    <tr>\n",
              "      <th>3</th>\n",
              "      <td>853541</td>\n",
              "      <td>2017-01-08 18:28:03.143765</td>\n",
              "      <td>treatment</td>\n",
              "      <td>new_page</td>\n",
              "      <td>0</td>\n",
              "    </tr>\n",
              "    <tr>\n",
              "      <th>4</th>\n",
              "      <td>864975</td>\n",
              "      <td>2017-01-21 01:52:26.210827</td>\n",
              "      <td>control</td>\n",
              "      <td>old_page</td>\n",
              "      <td>1</td>\n",
              "    </tr>\n",
              "    <tr>\n",
              "      <th>5</th>\n",
              "      <td>936923</td>\n",
              "      <td>2017-01-10 15:20:49.083499</td>\n",
              "      <td>control</td>\n",
              "      <td>old_page</td>\n",
              "      <td>0</td>\n",
              "    </tr>\n",
              "    <tr>\n",
              "      <th>6</th>\n",
              "      <td>679687</td>\n",
              "      <td>2017-01-19 03:26:46.940749</td>\n",
              "      <td>treatment</td>\n",
              "      <td>new_page</td>\n",
              "      <td>1</td>\n",
              "    </tr>\n",
              "    <tr>\n",
              "      <th>7</th>\n",
              "      <td>719014</td>\n",
              "      <td>2017-01-17 01:48:29.539573</td>\n",
              "      <td>control</td>\n",
              "      <td>old_page</td>\n",
              "      <td>0</td>\n",
              "    </tr>\n",
              "    <tr>\n",
              "      <th>8</th>\n",
              "      <td>817355</td>\n",
              "      <td>2017-01-04 17:58:08.979471</td>\n",
              "      <td>treatment</td>\n",
              "      <td>new_page</td>\n",
              "      <td>1</td>\n",
              "    </tr>\n",
              "    <tr>\n",
              "      <th>9</th>\n",
              "      <td>839785</td>\n",
              "      <td>2017-01-15 18:11:06.610965</td>\n",
              "      <td>treatment</td>\n",
              "      <td>new_page</td>\n",
              "      <td>1</td>\n",
              "    </tr>\n",
              "  </tbody>\n",
              "</table>\n",
              "</div>"
            ],
            "text/plain": [
              "   user_id                   timestamp      group landing_page  converted\n",
              "0   851104  2017-01-21 22:11:48.556739    control     old_page          0\n",
              "1   804228  2017-01-12 08:01:45.159739    control     old_page          0\n",
              "2   661590  2017-01-11 16:55:06.154213  treatment     new_page          0\n",
              "3   853541  2017-01-08 18:28:03.143765  treatment     new_page          0\n",
              "4   864975  2017-01-21 01:52:26.210827    control     old_page          1\n",
              "5   936923  2017-01-10 15:20:49.083499    control     old_page          0\n",
              "6   679687  2017-01-19 03:26:46.940749  treatment     new_page          1\n",
              "7   719014  2017-01-17 01:48:29.539573    control     old_page          0\n",
              "8   817355  2017-01-04 17:58:08.979471  treatment     new_page          1\n",
              "9   839785  2017-01-15 18:11:06.610965  treatment     new_page          1"
            ]
          },
          "metadata": {
            "tags": []
          },
          "execution_count": 5
        }
      ]
    },
    {
      "cell_type": "code",
      "metadata": {
        "id": "jr9dBhHy33p2",
        "colab_type": "code",
        "outputId": "d6b31170-280c-46ae-d273-93343a1200b9",
        "colab": {
          "base_uri": "https://localhost:8080/",
          "height": 34
        }
      },
      "source": [
        "ab['converted'].sum()"
      ],
      "execution_count": 8,
      "outputs": [
        {
          "output_type": "execute_result",
          "data": {
            "text/plain": [
              "34753"
            ]
          },
          "metadata": {
            "tags": []
          },
          "execution_count": 8
        }
      ]
    },
    {
      "cell_type": "code",
      "metadata": {
        "id": "eEFdqNExj93X",
        "colab_type": "code",
        "outputId": "0912a4c3-3f65-44ac-d21a-1f9f984f67e0",
        "colab": {
          "base_uri": "https://localhost:8080/",
          "height": 223
        }
      },
      "source": [
        "ab[ab.group=='control'].converted"
      ],
      "execution_count": 0,
      "outputs": [
        {
          "output_type": "execute_result",
          "data": {
            "text/plain": [
              "0         0\n",
              "1         0\n",
              "4         1\n",
              "5         0\n",
              "7         0\n",
              "         ..\n",
              "290578    0\n",
              "290580    0\n",
              "290581    0\n",
              "290582    0\n",
              "290583    0\n",
              "Name: converted, Length: 145274, dtype: int64"
            ]
          },
          "metadata": {
            "tags": []
          },
          "execution_count": 72
        }
      ]
    },
    {
      "cell_type": "code",
      "metadata": {
        "id": "pBBOwGYcvvSJ",
        "colab_type": "code",
        "colab": {}
      },
      "source": [
        "control=ab[ab['group']=='control']"
      ],
      "execution_count": 0,
      "outputs": []
    },
    {
      "cell_type": "code",
      "metadata": {
        "id": "R3dr2wObsvJU",
        "colab_type": "code",
        "colab": {
          "base_uri": "https://localhost:8080/",
          "height": 34
        },
        "outputId": "230a6a57-92b6-4501-be8c-40ef01997880"
      },
      "source": [
        "control.converted.sum()"
      ],
      "execution_count": 7,
      "outputs": [
        {
          "output_type": "execute_result",
          "data": {
            "text/plain": [
              "17489"
            ]
          },
          "metadata": {
            "tags": []
          },
          "execution_count": 7
        }
      ]
    },
    {
      "cell_type": "code",
      "metadata": {
        "id": "xLWfEsNswCjI",
        "colab_type": "code",
        "outputId": "079501de-55c6-4cfe-a19a-b24c073c5b5a",
        "colab": {
          "base_uri": "https://localhost:8080/",
          "height": 34
        }
      },
      "source": [
        "control.shape"
      ],
      "execution_count": 8,
      "outputs": [
        {
          "output_type": "execute_result",
          "data": {
            "text/plain": [
              "(145274, 5)"
            ]
          },
          "metadata": {
            "tags": []
          },
          "execution_count": 8
        }
      ]
    },
    {
      "cell_type": "code",
      "metadata": {
        "id": "a9yaodhGwJ8r",
        "colab_type": "code",
        "colab": {}
      },
      "source": [
        "treat=ab[ab['group']=='treatment']"
      ],
      "execution_count": 0,
      "outputs": []
    },
    {
      "cell_type": "code",
      "metadata": {
        "id": "FvVxXmcawSvg",
        "colab_type": "code",
        "outputId": "9df091f6-23f8-4897-ca0d-62f238c0904b",
        "colab": {
          "base_uri": "https://localhost:8080/",
          "height": 34
        }
      },
      "source": [
        "treat.shape"
      ],
      "execution_count": 10,
      "outputs": [
        {
          "output_type": "execute_result",
          "data": {
            "text/plain": [
              "(145311, 5)"
            ]
          },
          "metadata": {
            "tags": []
          },
          "execution_count": 10
        }
      ]
    },
    {
      "cell_type": "markdown",
      "metadata": {
        "id": "5lD5cmSJ0eyH",
        "colab_type": "text"
      },
      "source": [
        "WHAT IS CONVERSION RATE FOR EACH GROUP?"
      ]
    },
    {
      "cell_type": "code",
      "metadata": {
        "id": "FMksu7CX0iMt",
        "colab_type": "code",
        "outputId": "364edac1-099c-40ad-9bbc-95516b60f24b",
        "colab": {
          "base_uri": "https://localhost:8080/",
          "height": 34
        }
      },
      "source": [
        "control_convert=control[control['converted']==1]\n",
        "control_convert.shape"
      ],
      "execution_count": 11,
      "outputs": [
        {
          "output_type": "execute_result",
          "data": {
            "text/plain": [
              "(17489, 5)"
            ]
          },
          "metadata": {
            "tags": []
          },
          "execution_count": 11
        }
      ]
    },
    {
      "cell_type": "markdown",
      "metadata": {
        "id": "JhiP-gwh1sLw",
        "colab_type": "text"
      },
      "source": [
        "PERCENTAGE FOR CONTROL"
      ]
    },
    {
      "cell_type": "code",
      "metadata": {
        "id": "xpQdNWFz1x6-",
        "colab_type": "code",
        "outputId": "ad6b467d-784c-42ea-b468-fdc1cccad992",
        "colab": {
          "base_uri": "https://localhost:8080/",
          "height": 34
        }
      },
      "source": [
        "pc=control_convert.shape[0]/control.shape[0]\n",
        "print ('Conversions rate for control group = ',100*pc, '%')"
      ],
      "execution_count": 12,
      "outputs": [
        {
          "output_type": "stream",
          "text": [
            "Conversions rate for control group =  12.03863045004612 %\n"
          ],
          "name": "stdout"
        }
      ]
    },
    {
      "cell_type": "code",
      "metadata": {
        "id": "EdmnfEem2oQt",
        "colab_type": "code",
        "outputId": "9a8b688b-b2f1-4076-cf26-7e269819fed4",
        "colab": {
          "base_uri": "https://localhost:8080/",
          "height": 34
        }
      },
      "source": [
        "treat_convert=treat[treat['converted']==1]\n",
        "treat_convert.shape"
      ],
      "execution_count": 13,
      "outputs": [
        {
          "output_type": "execute_result",
          "data": {
            "text/plain": [
              "(17264, 5)"
            ]
          },
          "metadata": {
            "tags": []
          },
          "execution_count": 13
        }
      ]
    },
    {
      "cell_type": "markdown",
      "metadata": {
        "id": "M1Z-H0Ek2_K-",
        "colab_type": "text"
      },
      "source": [
        "PERCENTAGE FOR TREATMENT"
      ]
    },
    {
      "cell_type": "code",
      "metadata": {
        "id": "s91REZib3HBu",
        "colab_type": "code",
        "outputId": "fee81bb9-7a69-4fce-afb4-0d3ceee78b86",
        "colab": {
          "base_uri": "https://localhost:8080/",
          "height": 34
        }
      },
      "source": [
        "pt=treat_convert.shape[0]/treat.shape[0]\n",
        "print ('Conversions rate for treatment group = ',100*pt, '%')"
      ],
      "execution_count": 14,
      "outputs": [
        {
          "output_type": "stream",
          "text": [
            "Conversions rate for treatment group =  11.880724790277405 %\n"
          ],
          "name": "stdout"
        }
      ]
    },
    {
      "cell_type": "code",
      "metadata": {
        "id": "6KN8D85f4pLO",
        "colab_type": "code",
        "outputId": "fbace688-4dfb-4d42-ed0d-5e08a0124354",
        "colab": {
          "base_uri": "https://localhost:8080/",
          "height": 265
        }
      },
      "source": [
        "plt.hist(control['converted'], alpha = .5, color='r')\n",
        "plt.hist(treat['converted'], alpha = .5,color='b')\n",
        "plt.show()"
      ],
      "execution_count": 15,
      "outputs": [
        {
          "output_type": "display_data",
          "data": {
            "image/png": "[encoded data removed]",
            "text/plain": [
              "<Figure size 432x288 with 1 Axes>"
            ]
          },
          "metadata": {
            "tags": []
          }
        }
      ]
    },
    {
      "cell_type": "code",
      "metadata": {
        "id": "DPvtXpIr6uYB",
        "colab_type": "code",
        "outputId": "9e8fdb83-7348-417f-babc-17ea50154dd7",
        "colab": {
          "base_uri": "https://localhost:8080/",
          "height": 34
        }
      },
      "source": [
        "stats.ttest_ind(control['converted'],treat['converted'])"
      ],
      "execution_count": 16,
      "outputs": [
        {
          "output_type": "execute_result",
          "data": {
            "text/plain": [
              "Ttest_indResult(statistic=1.3116069027036805, pvalue=0.18965383906859376)"
            ]
          },
          "metadata": {
            "tags": []
          },
          "execution_count": 16
        }
      ]
    },
    {
      "cell_type": "markdown",
      "metadata": {
        "id": "I9t3NRJR7Tkh",
        "colab_type": "text"
      },
      "source": [
        "THIS IS WHERE I WENT WRONG\n",
        "\n",
        "I TRIED TO ANALYZE BAsed ON TIMESTAMP\n",
        "\n",
        "FINDING TWO ENETRIES WITH THE EXACT SAME TIMESTAMP IS ALMOST IMPOSSIBLE\n",
        "\n",
        "I AM NOW FOLLOWING THE EXAMPLE AND PULLING JUST THE DATE OUT OF THE TIMESTAMP AS BELOW"
      ]
    },
    {
      "cell_type": "code",
      "metadata": {
        "id": "eBkvNHyl8DSJ",
        "colab_type": "code",
        "colab": {}
      },
      "source": [
        "ab['date'] = pd.DatetimeIndex(ab['timestamp']).date"
      ],
      "execution_count": 0,
      "outputs": []
    },
    {
      "cell_type": "code",
      "metadata": {
        "id": "JFpg343N8t2c",
        "colab_type": "code",
        "colab": {
          "base_uri": "https://localhost:8080/",
          "height": 203
        },
        "outputId": "3c7b9957-fc7b-405b-e802-36a4c5537670"
      },
      "source": [
        "ab.head()"
      ],
      "execution_count": 20,
      "outputs": [
        {
          "output_type": "execute_result",
          "data": {
            "text/html": [
              "<div>\n",
              "<style scoped>\n",
              "    .dataframe tbody tr th:only-of-type {\n",
              "        vertical-align: middle;\n",
              "    }\n",
              "\n",
              "    .dataframe tbody tr th {\n",
              "        vertical-align: top;\n",
              "    }\n",
              "\n",
              "    .dataframe thead th {\n",
              "        text-align: right;\n",
              "    }\n",
              "</style>\n",
              "<table border=\"1\" class=\"dataframe\">\n",
              "  <thead>\n",
              "    <tr style=\"text-align: right;\">\n",
              "      <th></th>\n",
              "      <th>user_id</th>\n",
              "      <th>timestamp</th>\n",
              "      <th>group</th>\n",
              "      <th>landing_page</th>\n",
              "      <th>converted</th>\n",
              "      <th>date</th>\n",
              "    </tr>\n",
              "  </thead>\n",
              "  <tbody>\n",
              "    <tr>\n",
              "      <th>0</th>\n",
              "      <td>851104</td>\n",
              "      <td>2017-01-21 22:11:48.556739</td>\n",
              "      <td>control</td>\n",
              "      <td>old_page</td>\n",
              "      <td>0</td>\n",
              "      <td>2017-01-21</td>\n",
              "    </tr>\n",
              "    <tr>\n",
              "      <th>1</th>\n",
              "      <td>804228</td>\n",
              "      <td>2017-01-12 08:01:45.159739</td>\n",
              "      <td>control</td>\n",
              "      <td>old_page</td>\n",
              "      <td>0</td>\n",
              "      <td>2017-01-12</td>\n",
              "    </tr>\n",
              "    <tr>\n",
              "      <th>2</th>\n",
              "      <td>661590</td>\n",
              "      <td>2017-01-11 16:55:06.154213</td>\n",
              "      <td>treatment</td>\n",
              "      <td>new_page</td>\n",
              "      <td>0</td>\n",
              "      <td>2017-01-11</td>\n",
              "    </tr>\n",
              "    <tr>\n",
              "      <th>3</th>\n",
              "      <td>853541</td>\n",
              "      <td>2017-01-08 18:28:03.143765</td>\n",
              "      <td>treatment</td>\n",
              "      <td>new_page</td>\n",
              "      <td>0</td>\n",
              "      <td>2017-01-08</td>\n",
              "    </tr>\n",
              "    <tr>\n",
              "      <th>4</th>\n",
              "      <td>864975</td>\n",
              "      <td>2017-01-21 01:52:26.210827</td>\n",
              "      <td>control</td>\n",
              "      <td>old_page</td>\n",
              "      <td>1</td>\n",
              "      <td>2017-01-21</td>\n",
              "    </tr>\n",
              "  </tbody>\n",
              "</table>\n",
              "</div>"
            ],
            "text/plain": [
              "   user_id                   timestamp  ... converted        date\n",
              "0   851104  2017-01-21 22:11:48.556739  ...         0  2017-01-21\n",
              "1   804228  2017-01-12 08:01:45.159739  ...         0  2017-01-12\n",
              "2   661590  2017-01-11 16:55:06.154213  ...         0  2017-01-11\n",
              "3   853541  2017-01-08 18:28:03.143765  ...         0  2017-01-08\n",
              "4   864975  2017-01-21 01:52:26.210827  ...         1  2017-01-21\n",
              "\n",
              "[5 rows x 6 columns]"
            ]
          },
          "metadata": {
            "tags": []
          },
          "execution_count": 20
        }
      ]
    },
    {
      "cell_type": "code",
      "metadata": {
        "id": "tBswghM0txk4",
        "colab_type": "code",
        "colab": {
          "base_uri": "https://localhost:8080/",
          "height": 706
        },
        "outputId": "a2abf2a5-bbe8-4048-ec3d-8963adff8851"
      },
      "source": [
        "fig = ab[ab.group=='control'][\n",
        "['date','converted']].groupby('date').mean().plot()\n",
        "\n",
        "ab[ab.group=='treatment'][\n",
        "['date','converted']].groupby('date').mean().plot(ax=fig)\n",
        "\n",
        "plt.legend(['control', 'test'])\n",
        "plt.title('Comparing Signup Rates by Treatment Date')\n",
        "plt.show()\n",
        "\n",
        "# Generate a test statistic comparing test and control on treatment date\n",
        "print('T-Test Results by Date')\n",
        "\n",
        "#for date in experiment_data.treatment_date.unique():\n",
        "\n",
        "\n",
        "for date in ab.date.unique():\n",
        "    dated_data = ab[ab.date == date]\n",
        "    print(stats.ttest_ind(dated_data[dated_data.group == 'control'].converted,\n",
        "                          dated_data[dated_data.group == 'treatment'].converted))\n",
        "                        \n",
        "    "
      ],
      "execution_count": 40,
      "outputs": [
        {
          "output_type": "display_data",
          "data": {
            "image/png": "[encoded data removed]",
            "text/plain": [
              "<Figure size 432x288 with 1 Axes>"
            ]
          },
          "metadata": {
            "tags": []
          }
        },
        {
          "output_type": "stream",
          "text": [
            "T-Test Results by Date\n",
            "Ttest_indResult(statistic=1.8123288054674913, pvalue=0.0699579338988825)\n",
            "Ttest_indResult(statistic=-0.05182821974845549, pvalue=0.9586663564605943)\n",
            "Ttest_indResult(statistic=0.6795024407954999, pvalue=0.49683133482307695)\n",
            "Ttest_indResult(statistic=-0.33111903181744556, pvalue=0.7405597598504309)\n",
            "Ttest_indResult(statistic=-2.3999515991310387, pvalue=0.01641085244784032)\n",
            "Ttest_indResult(statistic=0.4836129647924235, pvalue=0.628668638020595)\n",
            "Ttest_indResult(statistic=-0.7611804663738991, pvalue=0.446562930057432)\n",
            "Ttest_indResult(statistic=0.9315635899845935, pvalue=0.3515792521983202)\n",
            "Ttest_indResult(statistic=1.261388402374626, pvalue=0.20719113309271808)\n",
            "Ttest_indResult(statistic=0.0026642818202597274, pvalue=0.9978742538059032)\n",
            "Ttest_indResult(statistic=0.28071255594768935, pvalue=0.7789352633524722)\n",
            "Ttest_indResult(statistic=0.2056136446252576, pvalue=0.837095874040602)\n",
            "Ttest_indResult(statistic=-0.4909032980527966, pvalue=0.6235093367111435)\n",
            "Ttest_indResult(statistic=0.8094922831773846, pvalue=0.41824647028626705)\n",
            "Ttest_indResult(statistic=-0.4369071658956722, pvalue=0.6621858156795764)\n",
            "Ttest_indResult(statistic=1.4468255388280735, pvalue=0.14797003344175097)\n",
            "Ttest_indResult(statistic=-1.445201350915974, pvalue=0.14842480715695958)\n",
            "Ttest_indResult(statistic=1.0178087858982594, pvalue=0.3087876929639064)\n",
            "Ttest_indResult(statistic=0.8500557494800433, pvalue=0.3953094968293003)\n",
            "Ttest_indResult(statistic=0.005102928348269819, pvalue=0.9959285470042827)\n",
            "Ttest_indResult(statistic=0.6557398855583756, pvalue=0.5120179205036728)\n",
            "Ttest_indResult(statistic=0.4678178596106672, pvalue=0.6399226098635871)\n",
            "Ttest_indResult(statistic=1.311670708102873, pvalue=0.18965417024438827)\n"
          ],
          "name": "stdout"
        }
      ]
    },
    {
      "cell_type": "markdown",
      "metadata": {
        "id": "id2QcdmStPq_",
        "colab_type": "text"
      },
      "source": [
        "pvalue and tvalue ==> reject null"
      ]
    },
    {
      "cell_type": "code",
      "metadata": {
        "id": "L6fiI7D_jLDN",
        "colab_type": "code",
        "colab": {}
      },
      "source": [
        "fig = experiment_data[experiment_data.test==1][\n",
        "    ['treatment_date', 'is_signed_up']].groupby('treatment_date').mean().plot()\n",
        "experiment_data[experiment_data.test==0][\n",
        "    ['treatment_date', 'is_signed_up']].groupby('treatment_date').mean().plot(ax=fig)\n",
        "plt.legend(['test','control'])\n",
        "plt.title('Comparing Signup Rates by Treatment Date')\n",
        "plt.show()\n",
        "\n",
        "\n",
        "# Generate a test statistic comparing test and control on treatment date\n",
        "print('T-Test Results by Date')\n",
        "for date in experiment_data.treatment_date.unique():\n",
        "    dated_data = experiment_data[experiment_data.treatment_date == date]\n",
        "    print(stats.ttest_ind(dated_data[dated_data.test == 1].is_signed_up,\n",
        "                          dated_data[dated_data.test == 0].is_signed_up))\n"
      ],
      "execution_count": 0,
      "outputs": []
    },
    {
      "cell_type": "markdown",
      "metadata": {
        "id": "vakEzYzJDB-S",
        "colab_type": "text"
      },
      "source": [
        "IGNORE STUFF BELOW LINE"
      ]
    },
    {
      "cell_type": "markdown",
      "metadata": {
        "id": "vFwnS5wNtlOO",
        "colab_type": "text"
      },
      "source": [
        "=============================================================================="
      ]
    },
    {
      "cell_type": "code",
      "metadata": {
        "id": "uiJdl40geSzP",
        "colab_type": "code",
        "colab": {}
      },
      "source": [
        "stats.ttest_ind(experiment_data[experiment_data.test == 1].is_signed_up,\n",
        "                experiment_data[experiment_data.test == 0].is_signed_up"
      ],
      "execution_count": 0,
      "outputs": []
    },
    {
      "cell_type": "code",
      "metadata": {
        "id": "9ODQNUiYeU3p",
        "colab_type": "code",
        "colab": {}
      },
      "source": [
        "stats.ttest_ind([experiment_data.group == 'control'].is_signed_up,\n",
        "                experiment_data[experiment_data.test == 0].is_signed_up"
      ],
      "execution_count": 0,
      "outputs": []
    },
    {
      "cell_type": "code",
      "metadata": {
        "id": "Bl3rN-QdesId",
        "colab_type": "code",
        "colab": {}
      },
      "source": [
        "#ab[ab.group == 'control'].converted"
      ],
      "execution_count": 0,
      "outputs": []
    },
    {
      "cell_type": "code",
      "metadata": {
        "id": "OC3ykAQ713eq",
        "colab_type": "code",
        "colab": {
          "base_uri": "https://localhost:8080/",
          "height": 417
        },
        "outputId": "0ec5565a-0ff5-4144-a5f8-214767b95e18"
      },
      "source": [
        "ab[ab.group=='control'][['timestamp','converted']]\n"
      ],
      "execution_count": 23,
      "outputs": [
        {
          "output_type": "execute_result",
          "data": {
            "text/html": [
              "<div>\n",
              "<style scoped>\n",
              "    .dataframe tbody tr th:only-of-type {\n",
              "        vertical-align: middle;\n",
              "    }\n",
              "\n",
              "    .dataframe tbody tr th {\n",
              "        vertical-align: top;\n",
              "    }\n",
              "\n",
              "    .dataframe thead th {\n",
              "        text-align: right;\n",
              "    }\n",
              "</style>\n",
              "<table border=\"1\" class=\"dataframe\">\n",
              "  <thead>\n",
              "    <tr style=\"text-align: right;\">\n",
              "      <th></th>\n",
              "      <th>timestamp</th>\n",
              "      <th>converted</th>\n",
              "    </tr>\n",
              "  </thead>\n",
              "  <tbody>\n",
              "    <tr>\n",
              "      <th>0</th>\n",
              "      <td>2017-01-21 22:11:48.556739</td>\n",
              "      <td>0</td>\n",
              "    </tr>\n",
              "    <tr>\n",
              "      <th>1</th>\n",
              "      <td>2017-01-12 08:01:45.159739</td>\n",
              "      <td>0</td>\n",
              "    </tr>\n",
              "    <tr>\n",
              "      <th>4</th>\n",
              "      <td>2017-01-21 01:52:26.210827</td>\n",
              "      <td>1</td>\n",
              "    </tr>\n",
              "    <tr>\n",
              "      <th>5</th>\n",
              "      <td>2017-01-10 15:20:49.083499</td>\n",
              "      <td>0</td>\n",
              "    </tr>\n",
              "    <tr>\n",
              "      <th>7</th>\n",
              "      <td>2017-01-17 01:48:29.539573</td>\n",
              "      <td>0</td>\n",
              "    </tr>\n",
              "    <tr>\n",
              "      <th>...</th>\n",
              "      <td>...</td>\n",
              "      <td>...</td>\n",
              "    </tr>\n",
              "    <tr>\n",
              "      <th>290578</th>\n",
              "      <td>2017-01-21 22:44:20.378320</td>\n",
              "      <td>0</td>\n",
              "    </tr>\n",
              "    <tr>\n",
              "      <th>290580</th>\n",
              "      <td>2017-01-03 22:28:38.630509</td>\n",
              "      <td>0</td>\n",
              "    </tr>\n",
              "    <tr>\n",
              "      <th>290581</th>\n",
              "      <td>2017-01-12 00:51:57.078372</td>\n",
              "      <td>0</td>\n",
              "    </tr>\n",
              "    <tr>\n",
              "      <th>290582</th>\n",
              "      <td>2017-01-22 11:45:03.439544</td>\n",
              "      <td>0</td>\n",
              "    </tr>\n",
              "    <tr>\n",
              "      <th>290583</th>\n",
              "      <td>2017-01-15 01:20:28.957438</td>\n",
              "      <td>0</td>\n",
              "    </tr>\n",
              "  </tbody>\n",
              "</table>\n",
              "<p>145274 rows × 2 columns</p>\n",
              "</div>"
            ],
            "text/plain": [
              "                         timestamp  converted\n",
              "0       2017-01-21 22:11:48.556739          0\n",
              "1       2017-01-12 08:01:45.159739          0\n",
              "4       2017-01-21 01:52:26.210827          1\n",
              "5       2017-01-10 15:20:49.083499          0\n",
              "7       2017-01-17 01:48:29.539573          0\n",
              "...                            ...        ...\n",
              "290578  2017-01-21 22:44:20.378320          0\n",
              "290580  2017-01-03 22:28:38.630509          0\n",
              "290581  2017-01-12 00:51:57.078372          0\n",
              "290582  2017-01-22 11:45:03.439544          0\n",
              "290583  2017-01-15 01:20:28.957438          0\n",
              "\n",
              "[145274 rows x 2 columns]"
            ]
          },
          "metadata": {
            "tags": []
          },
          "execution_count": 23
        }
      ]
    }
  ]
}